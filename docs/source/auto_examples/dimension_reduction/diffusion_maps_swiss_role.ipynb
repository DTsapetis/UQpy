{
 "cells": [
  {
   "cell_type": "markdown",
   "source": [
    "Diffusion maps - Swiss role"
   ],
   "metadata": {
    "collapsed": false
   }
  },
  {
   "cell_type": "code",
   "execution_count": null,
   "metadata": {
    "collapsed": false
   },
   "outputs": [],
   "source": [
    "\"\"\"\n",
    "\n",
    "This example shows how to use the UQpy DiffusionMaps class to\n",
    "reveal the embedded structure of noisy Swiss role data.\n",
    "\"\"\""
   ]
  },
  {
   "cell_type": "code",
   "execution_count": null,
   "outputs": [],
   "source": [
    "import numpy as np\n",
    "import matplotlib.pyplot as plt\n",
    "from UQpy.dimension_reduction import DiffusionMaps, GaussianKernel\n",
    "#%pip install sklearn\n",
    "from sklearn.datasets import make_s_curve\n",
    "%matplotlib inline\n",
    "\n",
    "n = 4000  # number of samples\n",
    "\n",
    "np.random.seed(123)\n",
    "phi = 10 * np.random.rand(n)\n",
    "xi = np.random.rand(n)\n",
    "\n",
    "z = 10 * np.random.rand(n)\n",
    "x = 1. / 6 * (phi + 0.1 * xi) * np.sin(phi)\n",
    "y = 1. / 6 * (phi + 0.1 * xi) * np.cos(phi)\n",
    "\n",
    "swiss_roll = np.array([x, y, z]).transpose()\n",
    "\n",
    "# generate point cloud\n",
    "X, X_color = make_s_curve(n, random_state=1, noise=0)\n",
    "\n",
    "# plot\n",
    "fig = plt.figure(figsize=(8, 8))\n",
    "ax = fig.add_subplot(111, projection=\"3d\")\n",
    "ax.scatter(\n",
    "    X[:, 0],\n",
    "    X[:, 1],\n",
    "    X[:, 2],\n",
    "    c=X_color,\n",
    "    cmap=plt.cm.Spectral,\n",
    ")\n",
    "ax.set_xlabel(\"x\")\n",
    "ax.set_ylabel(\"y\")\n",
    "ax.set_zlabel(\"z\")\n",
    "ax.set_title(\"Swiss role data\")\n",
    "ax.view_init(10, 70)\n",
    "\n",
    "# instantiate a diffusion maps object.\n",
    "# Use a Gaussian kernel\n",
    "kernel = GaussianKernel()\n",
    "\n",
    "# ------------------------------------------------------------------------------------------\n",
    "# Case 1: Find the optimal parameter of the Gaussian kernel scale epsilon\n",
    "\n",
    "dmaps_object = DiffusionMaps.create_from_data(data=X, alpha=1.0, eigenvectors_number=9,\n",
    "                                              optimize_parameters=True,\n",
    "                                              kernel=kernel)\n",
    "\n",
    "print('epsilon', kernel.epsilon)\n",
    "\n",
    "# Fit the data and calculate the embedding, the eigenvectors and eigenvalues\n",
    "diff_coords, eigenvalues, eigenvectors = dmaps_object.fit()\n",
    "\n",
    "# ------------------------------------------------------------------------------------------\n",
    "# Case 2: Use a default value for the scale parameter of the kernel\n",
    "\n",
    "# dmaps_object = DiffusionMaps.create_from_data(data=X, alpha=1.0, eigenvectors_number=9,\n",
    "#                                               kernel=kernel(epsilon=0.05))\n",
    "\n",
    "# diff_coords, eigenvalues, eigenvectors = dmaps_object.fit()\n",
    "\n",
    "# ------------------------------------------------------------------------------------------\n",
    "# Case 3: Use sparse matrix for the calculations\n",
    "\n",
    "# dmaps_object = DiffusionMaps.create_from_data(data=X, alpha=1.0, eigenvectors_number=9,\n",
    "#                                                  optimize_parameters=True, is_sparse=True,\n",
    "#                                                  kernel=kernel(epsilon=0.05))\n",
    "\n",
    "# diff_coords, eigenvalues, eigenvectors = dmaps_object.fit()\n",
    "\n",
    "#\n",
    "# Plot the diffusion coordinates\n",
    "\n",
    "figure_params = dict(figsize=[10, 10])\n",
    "n_eigenvectors = eigenvectors.shape[1] - 1\n",
    "\n",
    "f, ax = plt.subplots(\n",
    "    nrows=int(np.ceil(n_eigenvectors / 2)), ncols=2, sharex=True, sharey=True, **figure_params)\n",
    "enum = 0\n",
    "\n",
    "for i, idx in enumerate(range(n_eigenvectors + 1)):\n",
    "    if i == 1:\n",
    "        enum = 1\n",
    "    else:\n",
    "        i = i - enum\n",
    "\n",
    "    _ax = ax[i // 2, i - (i // 2) * 2]\n",
    "    _ax.scatter( diff_coords[:, 1], diff_coords[:, idx], cmap=plt.cm.Spectral, c=X_color)\n",
    "\n",
    "    _ax.set_title(r\"$\\Psi_{{{}}}$ vs. $\\Psi_{{{}}}$\".format(1, idx))"
   ],
   "metadata": {
    "collapsed": false,
    "pycharm": {
     "name": "#%%\n"
    }
   }
  },
  {
   "cell_type": "markdown",
   "source": [
    "# Parsimonious representation.\n",
    "\n",
    "index, residuals = DiffusionMaps.parsimonious(eigenvectors, 2)\n",
    "\n",
    "print('most informative eigenvectors:', index)"
   ],
   "metadata": {
    "collapsed": false
   }
  }
 ],
 "metadata": {
  "kernelspec": {
   "display_name": "Python 3",
   "language": "python",
   "name": "python3"
  },
  "language_info": {
   "codemirror_mode": {
    "name": "ipython",
    "version": 3
   },
   "file_extension": ".py",
   "mimetype": "text/x-python",
   "name": "python",
   "nbconvert_exporter": "python",
   "pygments_lexer": "ipython3",
   "version": "3.9.7"
  }
 },
 "nbformat": 4,
 "nbformat_minor": 0
}