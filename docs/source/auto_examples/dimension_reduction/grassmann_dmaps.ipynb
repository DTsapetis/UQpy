{
  "cells": [
    {
      "cell_type": "code",
      "execution_count": null,
      "metadata": {
        "collapsed": false
      },
      "outputs": [],
      "source": [
        "%matplotlib inline"
      ]
    },
    {
      "cell_type": "markdown",
      "metadata": {},
      "source": [
        "\n# Grassmannian diffusion maps\n\nThis example shows how to use the UQpy DiffusionMaps class for points on the Grassmann\nmanifold. Reference [gdmaps]\n"
      ]
    },
    {
      "cell_type": "code",
      "execution_count": null,
      "metadata": {
        "collapsed": false
      },
      "outputs": [],
      "source": [
        "import numpy as np\nimport matplotlib.pyplot as plt\nfrom UQpy.dimension_reduction import DiffusionMaps, ProjectionKernel, SvdProjection"
      ]
    },
    {
      "cell_type": "markdown",
      "metadata": {},
      "source": [
        "Sample points randomly following a parametric curve and plot the 3D graphic.\n\n"
      ]
    },
    {
      "cell_type": "code",
      "execution_count": null,
      "metadata": {
        "collapsed": false
      },
      "outputs": [],
      "source": [
        "n = 4000  # number of samples\n\n\n# instantiate a diffusion maps object.\n# Use a Gaussian kernel\nkernel = ProjectionKernel()\n\n# ------------------------------------------------------------------------------------------\n# Case 1: Find the optimal parameter of the Gaussian kernel scale epsilon\n\ngdmaps_object = DiffusionMaps(alpha=1.0, eigenvectors_number=9,\n                              kernel=kernel)\n\n\n# Fit the data and calculate the embedding, the eigenvectors and eigenvalues\ndiff_coords, eigenvalues, eigenvectors = gdmaps_object.fit(X)"
      ]
    },
    {
      "cell_type": "markdown",
      "metadata": {},
      "source": [
        "Plot the Grassmannian diffusion coordinates\n\n"
      ]
    },
    {
      "cell_type": "code",
      "execution_count": null,
      "metadata": {
        "collapsed": false
      },
      "outputs": [],
      "source": [
        "figure_params = dict(figsize=[10, 10])\nn_eigenvectors = eigenvectors.shape[1] - 1\n\nf, ax = plt.subplots(\n    nrows=int(np.ceil(n_eigenvectors / 2)), ncols=2, sharex=True, sharey=True, **figure_params)\nenum = 0\n\nfor i, idx in enumerate(range(n_eigenvectors + 1)):\n    if i == 1:\n        enum = 1\n    else:\n        i = i - enum\n\n    _ax = ax[i // 2, i - (i // 2) * 2]\n    _ax.scatter( diff_coords[:, 1], diff_coords[:, idx], cmap=plt.cm.Spectral, c=X_color)\n\n    _ax.set_title(r\"$\\Psi_{{{}}}$ vs. $\\Psi_{{{}}}$\".format(1, idx))"
      ]
    },
    {
      "cell_type": "markdown",
      "metadata": {},
      "source": [
        "Find the parsimonious representation of the eigenvectors. Identify the two most informative\neigenvectors.\n\n"
      ]
    },
    {
      "cell_type": "code",
      "execution_count": null,
      "metadata": {
        "collapsed": false
      },
      "outputs": [],
      "source": [
        "index, residuals = DiffusionMaps.parsimonious(eigenvectors, 2)\n\nprint('most informative eigenvectors:', index)\n\nplt.show()"
      ]
    }
  ],
  "metadata": {
    "kernelspec": {
      "display_name": "Python 3",
      "language": "python",
      "name": "python3"
    },
    "language_info": {
      "codemirror_mode": {
        "name": "ipython",
        "version": 3
      },
      "file_extension": ".py",
      "mimetype": "text/x-python",
      "name": "python",
      "nbconvert_exporter": "python",
      "pygments_lexer": "ipython3",
      "version": "3.9.7"
    }
  },
  "nbformat": 4,
  "nbformat_minor": 0
}