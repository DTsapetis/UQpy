{
  "cells": [
    {
      "cell_type": "code",
      "execution_count": null,
      "metadata": {
        "collapsed": false
      },
      "outputs": [],
      "source": [
        "%matplotlib inline"
      ]
    },
    {
      "cell_type": "markdown",
      "metadata": {},
      "source": [
        "\n# Diffusion Maps Circle\n\nThis example shows how to use the UQpy DiffusionMaps class to\n* reveal the embedded structure of noisy data\n"
      ]
    },
    {
      "cell_type": "markdown",
      "metadata": {},
      "source": [
        "Diffusion Maps\n\nAuthor: Ketson R. M. dos Santos,\nDate: June 3rd, 2020\n\nThis example shows how to use the UQpy DiffusionMaps class to\n* reveal the embedded structure of noisy data;\n\n"
      ]
    },
    {
      "cell_type": "markdown",
      "metadata": {},
      "source": [
        "Import the necessary libraries. Here we import standard libraries such as numpy and matplotlib, but also need to import the DiffusionMaps class from UQpy implemented in the DimensionReduction module.\n\n"
      ]
    },
    {
      "cell_type": "code",
      "execution_count": null,
      "metadata": {
        "collapsed": false
      },
      "outputs": [],
      "source": [
        "import numpy as np\nfrom mpl_toolkits.mplot3d import Axes3D\nimport matplotlib.pyplot as plt\nfrom UQpy.dimension_reduction import DiffusionMaps, GaussianKernel"
      ]
    },
    {
      "cell_type": "markdown",
      "metadata": {},
      "source": [
        "Sample points randomly following a parametric curve and plot the 3D graphic.\n\n"
      ]
    },
    {
      "cell_type": "code",
      "execution_count": null,
      "metadata": {
        "collapsed": false
      },
      "outputs": [],
      "source": [
        "a = 6\nb = 1\nk = 10\nu = np.linspace(0, 2 * np.pi, 1000)\n\nv = k * u\n\nx0 = (a + b * np.cos(0.8 * v)) * (np.cos(u))\ny0 = (a + b * np.cos(0.8 * v)) * (np.sin(u))\nz0 = b * np.sin(0.8 * v)\n\nrox = 0.2\nroy = 0.2\nroz = 0.2\nx = x0 + rox * np.random.normal(0, 1, len(x0))\ny = y0 + roy * np.random.normal(0, 1, len(y0))\nz = z0 + roz * np.random.normal(0, 1, len(z0))\n\nX = np.array([x, y, z]).transpose()\n\nfig = plt.figure()\nax = fig.gca(projection='3d')\nax.scatter(x, y, z, c='b', cmap=plt.cm.Spectral, s=8)\nax.plot(x0, y0, z0, 'r', label='parametric curve')\nplt.show()"
      ]
    },
    {
      "cell_type": "markdown",
      "metadata": {},
      "source": [
        "Instantiate the class `DiffusionMaps` using `alpha=1`; `n_evecs=3`, because the first eigenvector is non-informative. Moreover, a Gaussian is used in the kernel construction.\n\n"
      ]
    },
    {
      "cell_type": "code",
      "execution_count": null,
      "metadata": {
        "collapsed": false
      },
      "outputs": [],
      "source": [
        "dmaps = DiffusionMaps.create_from_data(data=X,\n                                       alpha=0.5, eigenvectors_number=3,\n                                       is_sparse=True, neighbors_number=100,\n                                       kernel=GaussianKernel(epsilon=0.3))"
      ]
    },
    {
      "cell_type": "markdown",
      "metadata": {},
      "source": [
        "Use the method `mapping` to compute the diffusion coordinates assuming `epsilon=0.3`.\n\n"
      ]
    },
    {
      "cell_type": "code",
      "execution_count": null,
      "metadata": {
        "collapsed": false
      },
      "outputs": [],
      "source": [
        "diff_coords, evals, evecs = dmaps.fit()"
      ]
    },
    {
      "cell_type": "markdown",
      "metadata": {},
      "source": [
        "Plot the second and third diffusion coordinates to reveal the embedded structure of the data.\n\n"
      ]
    },
    {
      "cell_type": "code",
      "execution_count": null,
      "metadata": {
        "collapsed": false
      },
      "outputs": [],
      "source": [
        "color = evecs[:, 1]\nplt.scatter(diff_coords[:, 1], diff_coords[:, 2], c=color, cmap=plt.cm.Spectral, s=8)\nplt.axis('equal')\nplt.show()"
      ]
    },
    {
      "cell_type": "markdown",
      "metadata": {},
      "source": [
        "Use the colormap to observe how the embedded structure is distributed in the original set.\n\n"
      ]
    },
    {
      "cell_type": "code",
      "execution_count": null,
      "metadata": {
        "collapsed": false
      },
      "outputs": [],
      "source": [
        "fig = plt.figure()\nax = fig.gca(projection='3d')\nax.scatter(x, y, z, c=color, cmap=plt.cm.Spectral, s=8)\nplt.show()"
      ]
    },
    {
      "cell_type": "markdown",
      "metadata": {},
      "source": [
        "Now, use an user defined kernel capable to handle this kind of data.\n\n"
      ]
    },
    {
      "cell_type": "code",
      "execution_count": null,
      "metadata": {
        "collapsed": false
      },
      "outputs": [],
      "source": [
        "import scipy.spatial.distance as sd\nimport itertools\nfrom UQpy import Kernel\nclass UserKernelDmaps(Kernel):\n    def __init__(self, epsilon: float = None):\n        self.epsilon = epsilon\n\n    def pointwise_operator(self, point1, point2):\n        pass\n\n    def compute_default_epsilon(self, epsilon):\n        if epsilon is None:\n            # Compute a suitable epsilon when it is not provided by the user.\n            # Compute epsilon as the median of the square of the euclidean distances\n            epsilon = np.median(np.array(self.distance_pairs) ** 2)\n        return epsilon\n\n    def apply_method(self, data):\n        self.distance_pairs = []\n        if len(np.shape(data)) == 2:\n            # Set of 1-D arrays\n            self.distance_pairs = sd.pdist(data, 'euclidean')\n        elif len(np.shape(data)) == 3:\n            # Set of 2-D arrays\n            # Check arguments: verify the consistency of input arguments.\n            nargs = len(data)\n            indices = range(nargs)\n            pairs = list(itertools.combinations(indices, 2))\n\n            self.distance_pairs = []\n            for id_pair in range(np.shape(pairs)[0]):\n                ii = pairs[id_pair][0]  # Point i\n                jj = pairs[id_pair][1]  # Point j\n\n                x0 = data[ii]\n                x1 = data[jj]\n\n                distance = np.linalg.norm(x0 - x1, 'fro')\n\n                self.distance_pairs.append(distance)\n        else:\n            raise TypeError('UQpy: The size of the input data is not consistent with this method.')\n\n        self.epsilon = self.compute_default_epsilon(self.epsilon)\n\n        return np.exp(-sd.squareform(self.distance_pairs) ** 2 / (4 * self.epsilon))"
      ]
    },
    {
      "cell_type": "markdown",
      "metadata": {},
      "source": [
        "Use the method `mapping` to compute the diffusion coordinates assuming `epsilon=0.3`.\n\n"
      ]
    },
    {
      "cell_type": "code",
      "execution_count": null,
      "metadata": {
        "collapsed": false
      },
      "outputs": [],
      "source": [
        "dfm = DiffusionMaps.create_from_data(data=X,\n                                     alpha=1, eigenvectors_number=3,\n                                     kernel=UserKernelDmaps(epsilon=0.3))"
      ]
    },
    {
      "cell_type": "code",
      "execution_count": null,
      "metadata": {
        "collapsed": false
      },
      "outputs": [],
      "source": [
        "diff_coord_new, evals, evecs = dfm.mapping()\n\ncolor = evecs[:, 1]\nplt.scatter(diff_coords[:, 1], diff_coords[:, 2], c=color, cmap=plt.cm.Spectral, s=8)\nplt.axis('equal')\nplt.show()\n\nfig = plt.figure()\nax = fig.gca(projection='3d')\nax.scatter(x, y, z, c=color, cmap=plt.cm.Spectral, s=8)\nplt.show()"
      ]
    }
  ],
  "metadata": {
    "kernelspec": {
      "display_name": "Python 3",
      "language": "python",
      "name": "python3"
    },
    "language_info": {
      "codemirror_mode": {
        "name": "ipython",
        "version": 3
      },
      "file_extension": ".py",
      "mimetype": "text/x-python",
      "name": "python",
      "nbconvert_exporter": "python",
      "pygments_lexer": "ipython3",
      "version": "3.9.7"
    }
  },
  "nbformat": 4,
  "nbformat_minor": 0
}