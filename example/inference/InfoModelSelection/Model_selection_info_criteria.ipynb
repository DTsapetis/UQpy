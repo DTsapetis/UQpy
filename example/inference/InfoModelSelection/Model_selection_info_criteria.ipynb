{
 "cells": [
  {
   "cell_type": "markdown",
   "metadata": {},
   "source": [
    "# Model selection using information criteria\n",
    "\n",
    "author: Audrey Olivier\n",
    "\n",
    "Theory background: model selection refers to the task of selecting a statistical model from a set of candidate models, given some data. A good model is amodel that is able to explain the data well (high model evidence). Given models of same explanatory power, the simplest model should be chosen (Ockam razor). Several simple criteria can be used to compute a model's quality and thus perform model selection. UQpy implements three citeria: \n",
    "<br>\n",
    "Bayesian information criterion (BIC)\n",
    "$$ BIC = ln(n) k - 2 ln(\\hat{L}) $$\n",
    "\n",
    "Akaike information criterion (AIC)\n",
    "$$ AIC = 2 k - 2 ln (\\hat{L})  $$\n",
    "\n",
    "Corrected formula for AIC (AICc), for small data sets \n",
    "$$ AICc = AIC + \\frac{2k(k+1)}{n-k-1} $$\n",
    "\n",
    "For all formula above, $k$ is the number of parameters characterizing the model, $\\hat{L}$ is the maximum value of the likelihood function and $n$ the number of data points. The best model is the one that minimizes the cirterion. All three formulas have a model fit term (find the model that minimizes the negative log likelihood) and a penalty term that increases as the number of model parameters (model complexity) increases.\n",
    "\n",
    "Reference: *Burnham, K. P.; Anderson, D. R. (2002), Model Selection and Multimodel Inference: A Practical Information-Theoretic Approach (2nd ed.), Springer-Verlag, ISBN 0-387-95364-7*"
   ]
  },
  {
   "cell_type": "markdown",
   "metadata": {},
   "source": [
    "## Example 1: selection between different univariate distributions from iid data"
   ]
  },
  {
   "cell_type": "code",
   "execution_count": 1,
   "metadata": {},
   "outputs": [
    {
     "name": "stderr",
     "output_type": "stream",
     "text": [
      "/opt/anaconda3/envs/UQpy_39/lib/python3.9/site-packages/beartype/_util/hint/pep/utilpeptest.py:396: BeartypeDecorHintPepDeprecatedWarning: Type hint typing.Callable deprecated by PEP 585. To resolve this, globally replace this hint by the equivalent PEP 585 type hint (e.g., \"typing.List[int]\" by \"list[int]\"). See also:\n",
      "    https://www.python.org/dev/peps/pep-0585\n",
      "  warn(warning_message, BeartypeDecorHintPepDeprecatedWarning)\n",
      "/opt/anaconda3/envs/UQpy_39/lib/python3.9/site-packages/beartype/_util/hint/pep/utilpeptest.py:396: BeartypeDecorHintPepDeprecatedWarning: Type hint typing.Callable deprecated by PEP 585. To resolve this, globally replace this hint by the equivalent PEP 585 type hint (e.g., \"typing.List[int]\" by \"list[int]\"). See also:\n",
      "    https://www.python.org/dev/peps/pep-0585\n",
      "  warn(warning_message, BeartypeDecorHintPepDeprecatedWarning)\n",
      "The selected optimizer method does not support bounds and thus will be ignored.\n"
     ]
    }
   ],
   "source": [
    "from UQpy.inference import DistributionModel, InformationModelSelection, MLE\n",
    "from UQpy.RunModel import RunModel\n",
    "import numpy as np\n",
    "import matplotlib.pyplot as plt\n",
    "from UQpy.distributions import Gamma, Exponential, ChiSquare, Normal\n",
    "from UQpy.inference import ComputationalModel"
   ]
  },
  {
   "cell_type": "markdown",
   "metadata": {},
   "source": [
    "Generate data using a gamma distribution."
   ]
  },
  {
   "cell_type": "code",
   "execution_count": 2,
   "metadata": {},
   "outputs": [
    {
     "name": "stdout",
     "output_type": "stream",
     "text": [
      "(500, 1)\n"
     ]
    }
   ],
   "source": [
    "data = Gamma(a=2, loc=0, scale=2).rvs(nsamples=500, random_state=12)\n",
    "print(data.shape)"
   ]
  },
  {
   "cell_type": "markdown",
   "metadata": {},
   "source": [
    "Define the models to be compared, then call InfoModelSelection to perform model selection. By default, InfoModelSelection returns its outputs, fitted parameters, value of the chosen criteria, model probabilities and so on, in a sorted order, i.e., starting with the most probable model. However, if setting sorted_ouputs=False, the class output attributes are given in the same order as the candidate_models."
   ]
  },
  {
   "cell_type": "code",
   "execution_count": 3,
   "metadata": {},
   "outputs": [],
   "source": [
    "# Define the models to be compared, for each model one must create an instance of the model class\n",
    "\n",
    "m0 = DistributionModel(distributions=Gamma(a=None, loc=None, scale=None), n_parameters=3, name='gamma')\n",
    "m1 = DistributionModel(distributions=Exponential(loc=None, scale=None), n_parameters=2, name='exponential')\n",
    "m2 = DistributionModel(distributions=ChiSquare(df=None, loc=None, scale=None), n_parameters=3, name='chi-square')\n",
    "\n",
    "candidate_models = [m0, m1, m2]\n",
    "\n",
    "mle1 = MLE(inference_model=m0, n_optimizations=5, random_state=0)\n",
    "mle2 = MLE(inference_model=m1, n_optimizations=5, random_state=0)\n",
    "mle3 = MLE(inference_model=m2, n_optimizations=5, random_state=0)"
   ]
  },
  {
   "cell_type": "code",
   "execution_count": 4,
   "metadata": {},
   "outputs": [
    {
     "name": "stdout",
     "output_type": "stream",
     "text": [
      "Sorted model using <UQpy.inference.information_criteria.BIC.BIC object at 0x17a076910> criterion: chi-square, gamma, exponential\n",
      "Sorted model using <UQpy.inference.information_criteria.AIC.AIC object at 0x17a0769d0> criterion: chi-square, gamma, exponential\n",
      "Sorted model using <UQpy.inference.information_criteria.AICc.AICc object at 0x17a076d60> criterion: chi-square, gamma, exponential\n"
     ]
    },
    {
     "data": {
      "image/png": "[encoded data removed]",
      "text/plain": [
       "<Figure size 432x288 with 1 Axes>"
      ]
     },
     "metadata": {
      "needs_background": "light"
     },
     "output_type": "display_data"
    },
    {
     "name": "stdout",
     "output_type": "stream",
     "text": [
      "Shape parameter of the gamma distribution: 1.9361264420032065\n",
      "DoF of the chisquare distribution: 3.8721461807686275\n"
     ]
    }
   ],
   "source": [
    "# Perform model selection using different information criteria\n",
    "from UQpy.inference import BIC, AIC, AICc\n",
    "\n",
    "criteria = [BIC(), AIC(), AICc()]\n",
    "sorted_names =[]\n",
    "criterion_value = []\n",
    "param =[]\n",
    "for criterion in criteria:\n",
    "    selector = InformationModelSelection(mle_estimators=[mle1, mle2, mle3], data=data, criterion=criterion)\n",
    "    selector.sort_models()\n",
    "    print('Sorted model using ' + str(criterion) + ' criterion: ' + ', '.join(\n",
    "        m.name for m in selector.candidate_models))\n",
    "    if isinstance(criterion, BIC):\n",
    "        criterion_value = selector.criterion_values\n",
    "        sorted_names = [m.name for m in selector.candidate_models]\n",
    "        param = [m.mle for m in selector.ml_estimators]\n",
    "\n",
    "width = 0.5\n",
    "ind = np.arange(len(sorted_names))\n",
    "p1 = plt.bar(ind, criterion_value, width=width)\n",
    "# p2 = plt.bar(ind, criterion_value-data_fit_value, bottom=data_fit_value, width = width)\n",
    "\n",
    "plt.ylabel('BIC criterion')\n",
    "plt.title('Model selection using BIC criterion: model fit vs. Ockam razor')\n",
    "plt.xticks(ind, sorted_names)\n",
    "\n",
    "plt.show()\n",
    "\n",
    "print('Shape parameter of the gamma distribution: {}'.format(param[sorted_names.index('gamma')][0]))\n",
    "print('DoF of the chisquare distribution: {}'.format(param[sorted_names.index('chi-square')][0]))"
   ]
  },
  {
   "cell_type": "markdown",
   "metadata": {},
   "source": [
    "Note that here both the chisquare and gamma are capable of explaining the data, with $a = \\nu/2$, $a$ is gamma's shape parameter and $\\nu$ is the number of DOFs in chi-square distribution."
   ]
  },
  {
   "cell_type": "markdown",
   "metadata": {},
   "source": [
    "## Example 2: Regression model\n",
    "\n",
    "Here candidate models are defined as\n",
    "\n",
    "$$y=f(\\theta) + \\epsilon$$\n",
    "\n",
    "where f consists in running RunModel. The three models considered are:\n",
    "- $f(\\theta)=\\theta_{0} x$\n",
    "- $f(\\theta)=\\theta_{0} x + \\theta_{1} x^{2}$\n",
    "- $f(\\theta)=\\theta_{0} x + \\theta_{1} x^{2} + \\theta_{2} x^{3}$\n",
    "\n",
    "First we generate synthetic data using the quadratic model, and add some noise to it."
   ]
  },
  {
   "cell_type": "code",
   "execution_count": 5,
   "metadata": {
    "scrolled": true
   },
   "outputs": [
    {
     "name": "stdout",
     "output_type": "stream",
     "text": [
      "Shape of true parameter vector: (1, 2)\n",
      "Shape of data: (50,)\n"
     ]
    }
   ],
   "source": [
    "param_true = np.array([1.0, 2.0]).reshape((1, -1))\n",
    "print('Shape of true parameter vector: {}'.format(param_true.shape))\n",
    "\n",
    "h_func = RunModel(model_script='pfn_models.py', model_object_name='model_quadratic', vec=False,\n",
    "                  var_names=['theta_0', 'theta_1'])\n",
    "h_func.run(samples=param_true)\n",
    "\n",
    "# Add noise\n",
    "error_covariance = 1.\n",
    "data_clean = np.array(h_func.qoi_list[0])\n",
    "noise = Normal(loc=0., scale=np.sqrt(error_covariance)).rvs(nsamples=50).reshape((50,))\n",
    "data_1 = data_clean + noise\n",
    "print('Shape of data: {}'.format(data_1.shape))"
   ]
  },
  {
   "cell_type": "code",
   "execution_count": 6,
   "metadata": {},
   "outputs": [],
   "source": [
    "# Create instances of the Model class for three models: linear, quadratic and cubic\n",
    "names = ['linear', 'quadratic', 'cubic']\n",
    "estimators = []\n",
    "for i in range(3):\n",
    "    h_func = RunModel(model_script='pfn_models.py', model_object_name='model_' + names[i], vec=False,\n",
    "                      var_names=['theta_{}'.format(j) for j in range(i + 1)])\n",
    "    M = ComputationalModel(runmodel_object=h_func, n_parameters=i + 1,\n",
    "                           name=names[i], error_covariance=error_covariance)\n",
    "    estimators.append(MLE(inference_model=M))"
   ]
  },
  {
   "cell_type": "markdown",
   "metadata": {},
   "source": [
    "Apart from the data, candidate models and method (BIC, AIC...), InfoModelSelection also takes as inputs lists of inputs to the maximum likelihood class (iter_optim, method_optim, ...). Those inputs should be lists of length len(candidate_models)."
   ]
  },
  {
   "cell_type": "code",
   "execution_count": 7,
   "metadata": {},
   "outputs": [
    {
     "name": "stdout",
     "output_type": "stream",
     "text": [
      "Optimization terminated successfully.\n",
      "         Current function value: 12964.997388\n",
      "         Iterations: 4\n",
      "         Function evaluations: 12\n",
      "         Gradient evaluations: 6\n"
     ]
    },
    {
     "name": "stderr",
     "output_type": "stream",
     "text": [
      "/Users/dimitris/PycharmProjects/dimtsap/UQpy/src/UQpy/optimization/MinimizeOptimizer.py:30: OptimizeWarning: Unknown solver options: catol\n",
      "  return minimize(function, initial_guess, args=args,\n"
     ]
    },
    {
     "name": "stdout",
     "output_type": "stream",
     "text": [
      "Optimization terminated successfully.\n",
      "         Current function value: 74.121102\n",
      "         Iterations: 6\n",
      "         Function evaluations: 24\n",
      "         Gradient evaluations: 8\n",
      "Warning: Desired error not necessarily achieved due to precision loss.\n",
      "         Current function value: 73.869630\n",
      "         Iterations: 3\n",
      "         Function evaluations: 132\n",
      "         Gradient evaluations: 30\n",
      "Sorted models:  ['quadratic', 'cubic', 'linear']\n",
      "Values of criterion:  [156.06625046379625, 159.47532864083854, 25933.906798538603]\n",
      "Values of data fit: [148.24220445293997, 147.7392596245541, 25929.994775533174]\n",
      "Values of penalty term (complexity): [7.824046010856292, 11.736069016284437, 3.912023005428146]\n",
      "Values of model probabilities: [0.8461266366009057, 0.15387336339909438, 0.0]\n"
     ]
    }
   ],
   "source": [
    "# Perform model selection using BIC criterion\n",
    "from UQpy.optimization.MinimizeOptimizer import MinimizeOptimizer\n",
    "optimizer = MinimizeOptimizer(method='nelder-mead')\n",
    "selector = InformationModelSelection(mle_estimators=estimators, data=data_1,\n",
    "                                     criterion=BIC())\n",
    "selector.sort_models()\n",
    "print('Sorted models: ', [m.name for m in selector.candidate_models])\n",
    "print('Values of criterion: ', selector.criterion_values)\n",
    "print('Values of data fit:', [cr - pe for (cr, pe) in zip(selector.criterion_values, selector.penalty_terms)])\n",
    "print('Values of penalty term (complexity):', selector.penalty_terms)\n",
    "print('Values of model probabilities:', selector.probabilities)"
   ]
  },
  {
   "cell_type": "code",
   "execution_count": 8,
   "metadata": {},
   "outputs": [
    {
     "data": {
      "image/png": "[encoded data removed]",
      "text/plain": [
       "<Figure size 576x432 with 1 Axes>"
      ]
     },
     "metadata": {
      "needs_background": "light"
     },
     "output_type": "display_data"
    }
   ],
   "source": [
    "# Plot the results\n",
    "domain = np.linspace(0, 10, 50)\n",
    "fig, ax = plt.subplots(figsize=(8, 6))\n",
    "\n",
    "for i, (model, estim) in enumerate(zip(selector.candidate_models, selector.ml_estimators)):\n",
    "    model.runmodel_object.run(samples=estim.mle.reshape((1, -1)), append_samples=False)\n",
    "    y = model.runmodel_object.qoi_list[-1].reshape((-1,))\n",
    "    ax.plot(domain, y, label=selector.candidate_models[i].name)\n",
    "\n",
    "plt.plot(domain, data_1, linestyle='none', marker='.', label='data')\n",
    "plt.xlabel('x')\n",
    "plt.ylabel('y')\n",
    "\n",
    "plt.legend()\n",
    "plt.show()"
   ]
  },
  {
   "cell_type": "markdown",
   "metadata": {},
   "source": [
    "For this case, one can observe that both the quadratic and cubic model are capable of explaining the data. The cubic model is penalized due to its higher complexity (penalty_term) and thus the quadratic model is preferred."
   ]
  }
 ],
 "metadata": {
  "kernelspec": {
   "display_name": "Python 3 (ipykernel)",
   "language": "python",
   "name": "python3"
  },
  "language_info": {
   "codemirror_mode": {
    "name": "ipython",
    "version": 3
   },
   "file_extension": ".py",
   "mimetype": "text/x-python",
   "name": "python",
   "nbconvert_exporter": "python",
   "pygments_lexer": "ipython3",
   "version": "3.9.6"
  }
 },
 "nbformat": 4,
 "nbformat_minor": 2
}
