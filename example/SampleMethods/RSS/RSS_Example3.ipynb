{
 "cells": [
  {
   "cell_type": "markdown",
   "metadata": {},
   "source": [
    "# Refined Stratified Sampling Example 3"
   ]
  },
  {
   "cell_type": "markdown",
   "metadata": {},
   "source": [
    "- Author: Mohit S. Chauhan \n",
    "- Date: June 30, 2020"
   ]
  },
  {
   "cell_type": "markdown",
   "metadata": {},
   "source": [
    "In this example, Stratified sampling is used to generate samples from Uniform distribution and sample expnsion is done adaptively using Refined Stratified Sampling."
   ]
  },
  {
   "cell_type": "markdown",
   "metadata": {},
   "source": [
    "Import the necessary libraries. Here we import standard libraries such as numpy, matplotlib and other necessary library for plots, but also need to import the STS, RSS and Krig class from UQpy.\n"
   ]
  },
  {
   "cell_type": "code",
   "execution_count": 1,
   "metadata": {},
   "outputs": [
    {
     "ename": "ModuleNotFoundError",
     "evalue": "No module named 'UQpy.SampleMethods.Utilities'",
     "output_type": "error",
     "traceback": [
      "\u001b[0;31m---------------------------------------------------------------------------\u001b[0m",
      "\u001b[0;31mModuleNotFoundError\u001b[0m                       Traceback (most recent call last)",
      "\u001b[0;32m<ipython-input-1-26652d966648>\u001b[0m in \u001b[0;36m<module>\u001b[0;34m\u001b[0m\n\u001b[0;32m----> 1\u001b[0;31m \u001b[0;32mfrom\u001b[0m \u001b[0mUQpy\u001b[0m\u001b[0;34m.\u001b[0m\u001b[0mSampleMethods\u001b[0m \u001b[0;32mimport\u001b[0m \u001b[0mRectangularStrata\u001b[0m\u001b[0;34m,\u001b[0m \u001b[0mRectangularSTS\u001b[0m\u001b[0;34m,\u001b[0m \u001b[0mRectangularRSS\u001b[0m\u001b[0;34m\u001b[0m\u001b[0;34m\u001b[0m\u001b[0m\n\u001b[0m\u001b[1;32m      2\u001b[0m \u001b[0;32mfrom\u001b[0m \u001b[0mUQpy\u001b[0m\u001b[0;34m.\u001b[0m\u001b[0mSurrogates\u001b[0m \u001b[0;32mimport\u001b[0m \u001b[0mKriging\u001b[0m\u001b[0;34m\u001b[0m\u001b[0;34m\u001b[0m\u001b[0m\n\u001b[1;32m      3\u001b[0m \u001b[0;32mfrom\u001b[0m \u001b[0mUQpy\u001b[0m\u001b[0;34m.\u001b[0m\u001b[0mRunModel\u001b[0m \u001b[0;32mimport\u001b[0m \u001b[0mRunModel\u001b[0m\u001b[0;34m\u001b[0m\u001b[0;34m\u001b[0m\u001b[0m\n\u001b[1;32m      4\u001b[0m \u001b[0;32mfrom\u001b[0m \u001b[0mUQpy\u001b[0m\u001b[0;34m.\u001b[0m\u001b[0mDistributions\u001b[0m \u001b[0;32mimport\u001b[0m \u001b[0mUniform\u001b[0m\u001b[0;34m\u001b[0m\u001b[0;34m\u001b[0m\u001b[0m\n\u001b[1;32m      5\u001b[0m \u001b[0;32mimport\u001b[0m \u001b[0mmatplotlib\u001b[0m\u001b[0;34m.\u001b[0m\u001b[0mpyplot\u001b[0m \u001b[0;32mas\u001b[0m \u001b[0mplt\u001b[0m\u001b[0;34m\u001b[0m\u001b[0;34m\u001b[0m\u001b[0m\n",
      "\u001b[0;32m~/PythonProjects/UQpy/src/UQpy/__init__.py\u001b[0m in \u001b[0;36m<module>\u001b[0;34m\u001b[0m\n\u001b[1;32m      7\u001b[0m \u001b[0;34m\u001b[0m\u001b[0m\n\u001b[1;32m      8\u001b[0m \u001b[0;32mimport\u001b[0m \u001b[0mUQpy\u001b[0m\u001b[0;34m.\u001b[0m\u001b[0mDistributions\u001b[0m\u001b[0;34m\u001b[0m\u001b[0;34m\u001b[0m\u001b[0m\n\u001b[0;32m----> 9\u001b[0;31m \u001b[0;32mimport\u001b[0m \u001b[0mUQpy\u001b[0m\u001b[0;34m.\u001b[0m\u001b[0mSampleMethods\u001b[0m\u001b[0;34m\u001b[0m\u001b[0;34m\u001b[0m\u001b[0m\n\u001b[0m\u001b[1;32m     10\u001b[0m \u001b[0;31m#import UQpy.Inference\u001b[0m\u001b[0;34m\u001b[0m\u001b[0;34m\u001b[0m\u001b[0;34m\u001b[0m\u001b[0m\n\u001b[1;32m     11\u001b[0m \u001b[0;31m#import UQpy.Reliability\u001b[0m\u001b[0;34m\u001b[0m\u001b[0;34m\u001b[0m\u001b[0;34m\u001b[0m\u001b[0m\n",
      "\u001b[0;32m~/PythonProjects/UQpy/src/UQpy/SampleMethods/__init__.py\u001b[0m in \u001b[0;36m<module>\u001b[0;34m\u001b[0m\n\u001b[1;32m     39\u001b[0m \u001b[0;32mfrom\u001b[0m \u001b[0;34m.\u001b[0m\u001b[0mSimplex\u001b[0m \u001b[0;32mimport\u001b[0m \u001b[0mSimplex\u001b[0m\u001b[0;34m\u001b[0m\u001b[0;34m\u001b[0m\u001b[0m\n\u001b[1;32m     40\u001b[0m \u001b[0;34m\u001b[0m\u001b[0m\n\u001b[0;32m---> 41\u001b[0;31m \u001b[0;32mfrom\u001b[0m \u001b[0;34m.\u001b[0m\u001b[0mRefinedStratifiedSampling\u001b[0m \u001b[0;32mimport\u001b[0m \u001b[0;34m*\u001b[0m\u001b[0;34m\u001b[0m\u001b[0;34m\u001b[0m\u001b[0m\n\u001b[0m\u001b[1;32m     42\u001b[0m \u001b[0;32mfrom\u001b[0m \u001b[0;34m.\u001b[0m\u001b[0mStratifiedSampling\u001b[0m \u001b[0;32mimport\u001b[0m \u001b[0;34m*\u001b[0m\u001b[0;34m\u001b[0m\u001b[0;34m\u001b[0m\u001b[0m\n\u001b[1;32m     43\u001b[0m \u001b[0;32mfrom\u001b[0m \u001b[0;34m.\u001b[0m\u001b[0mMarcovChainMonteCarlo\u001b[0m \u001b[0;32mimport\u001b[0m \u001b[0;34m*\u001b[0m\u001b[0;34m\u001b[0m\u001b[0;34m\u001b[0m\u001b[0m\n",
      "\u001b[0;32m~/PythonProjects/UQpy/src/UQpy/SampleMethods/RefinedStratifiedSampling/__init__.py\u001b[0m in \u001b[0;36m<module>\u001b[0;34m\u001b[0m\n\u001b[0;32m----> 1\u001b[0;31m \u001b[0;32mfrom\u001b[0m \u001b[0;34m.\u001b[0m\u001b[0mrectangular\u001b[0m \u001b[0;32mimport\u001b[0m \u001b[0mRectangularRSS\u001b[0m\u001b[0;34m\u001b[0m\u001b[0;34m\u001b[0m\u001b[0m\n\u001b[0m\u001b[1;32m      2\u001b[0m \u001b[0;32mfrom\u001b[0m \u001b[0;34m.\u001b[0m\u001b[0mvoronoi\u001b[0m \u001b[0;32mimport\u001b[0m \u001b[0mVoronoiRSS\u001b[0m\u001b[0;34m\u001b[0m\u001b[0;34m\u001b[0m\u001b[0m\n\u001b[1;32m      3\u001b[0m \u001b[0;34m\u001b[0m\u001b[0m\n",
      "\u001b[0;32m~/PythonProjects/UQpy/src/UQpy/SampleMethods/RefinedStratifiedSampling/rectangular.py\u001b[0m in \u001b[0;36m<module>\u001b[0;34m\u001b[0m\n\u001b[0;32m----> 1\u001b[0;31m \u001b[0;32mfrom\u001b[0m \u001b[0;34m.\u001b[0m\u001b[0;34m.\u001b[0m\u001b[0mbaseclass\u001b[0m \u001b[0;32mimport\u001b[0m \u001b[0mRSS\u001b[0m\u001b[0;34m\u001b[0m\u001b[0;34m\u001b[0m\u001b[0m\n\u001b[0m\u001b[1;32m      2\u001b[0m \u001b[0;32mfrom\u001b[0m \u001b[0;34m.\u001b[0m\u001b[0;34m.\u001b[0m\u001b[0mStratifiedSampling\u001b[0m \u001b[0;32mimport\u001b[0m \u001b[0mRectangularSTS\u001b[0m\u001b[0;34m\u001b[0m\u001b[0;34m\u001b[0m\u001b[0m\n\u001b[1;32m      3\u001b[0m \u001b[0;32mimport\u001b[0m \u001b[0mnumpy\u001b[0m \u001b[0;32mas\u001b[0m \u001b[0mnp\u001b[0m\u001b[0;34m\u001b[0m\u001b[0;34m\u001b[0m\u001b[0m\n\u001b[1;32m      4\u001b[0m \u001b[0;32mimport\u001b[0m \u001b[0mscipy\u001b[0m\u001b[0;34m.\u001b[0m\u001b[0mstats\u001b[0m \u001b[0;32mas\u001b[0m \u001b[0mstats\u001b[0m\u001b[0;34m\u001b[0m\u001b[0;34m\u001b[0m\u001b[0m\n\u001b[1;32m      5\u001b[0m \u001b[0;32mimport\u001b[0m \u001b[0mcopy\u001b[0m\u001b[0;34m\u001b[0m\u001b[0;34m\u001b[0m\u001b[0m\n",
      "\u001b[0;32m~/PythonProjects/UQpy/src/UQpy/SampleMethods/baseclass/__init__.py\u001b[0m in \u001b[0;36m<module>\u001b[0;34m\u001b[0m\n\u001b[0;32m----> 1\u001b[0;31m \u001b[0;32mfrom\u001b[0m \u001b[0;34m.\u001b[0m\u001b[0mrss\u001b[0m \u001b[0;32mimport\u001b[0m \u001b[0mRSS\u001b[0m\u001b[0;34m\u001b[0m\u001b[0;34m\u001b[0m\u001b[0m\n\u001b[0m\u001b[1;32m      2\u001b[0m \u001b[0;32mfrom\u001b[0m \u001b[0;34m.\u001b[0m\u001b[0mstrata\u001b[0m \u001b[0;32mimport\u001b[0m \u001b[0mStrata\u001b[0m\u001b[0;34m\u001b[0m\u001b[0;34m\u001b[0m\u001b[0m\n\u001b[1;32m      3\u001b[0m \u001b[0;32mfrom\u001b[0m \u001b[0;34m.\u001b[0m\u001b[0msts\u001b[0m \u001b[0;32mimport\u001b[0m \u001b[0mSTS\u001b[0m\u001b[0;34m\u001b[0m\u001b[0;34m\u001b[0m\u001b[0m\n\u001b[1;32m      4\u001b[0m \u001b[0;32mfrom\u001b[0m \u001b[0;34m.\u001b[0m\u001b[0mmcmc\u001b[0m \u001b[0;32mimport\u001b[0m \u001b[0mMCMC\u001b[0m\u001b[0;34m\u001b[0m\u001b[0;34m\u001b[0m\u001b[0m\n\u001b[1;32m      5\u001b[0m \u001b[0;34m\u001b[0m\u001b[0m\n",
      "\u001b[0;32m~/PythonProjects/UQpy/src/UQpy/SampleMethods/baseclass/rss.py\u001b[0m in \u001b[0;36m<module>\u001b[0;34m\u001b[0m\n\u001b[1;32m      1\u001b[0m \u001b[0;32mimport\u001b[0m \u001b[0mnumpy\u001b[0m \u001b[0;32mas\u001b[0m \u001b[0mnp\u001b[0m\u001b[0;34m\u001b[0m\u001b[0;34m\u001b[0m\u001b[0m\n\u001b[0;32m----> 2\u001b[0;31m \u001b[0;32mfrom\u001b[0m \u001b[0;34m.\u001b[0m\u001b[0;34m.\u001b[0m\u001b[0mUtilities\u001b[0m \u001b[0;32mimport\u001b[0m \u001b[0mgradient\u001b[0m\u001b[0;34m\u001b[0m\u001b[0;34m\u001b[0m\u001b[0m\n\u001b[0m\u001b[1;32m      3\u001b[0m \u001b[0;34m\u001b[0m\u001b[0m\n\u001b[1;32m      4\u001b[0m \u001b[0;32mclass\u001b[0m \u001b[0mRSS\u001b[0m\u001b[0;34m:\u001b[0m\u001b[0;34m\u001b[0m\u001b[0;34m\u001b[0m\u001b[0m\n\u001b[1;32m      5\u001b[0m     \"\"\"\n",
      "\u001b[0;31mModuleNotFoundError\u001b[0m: No module named 'UQpy.SampleMethods.Utilities'"
     ]
    }
   ],
   "source": [
    "from UQpy.SampleMethods import RectangularStrata, RectangularSTS, RectangularRSS\n",
    "from UQpy.Surrogates import Kriging\n",
    "from UQpy.RunModel import RunModel\n",
    "from UQpy.Distributions import Uniform\n",
    "import matplotlib.pyplot as plt\n",
    "from matplotlib import cm\n",
    "from mpl_toolkits import mplot3d\n",
    "from matplotlib.ticker import LinearLocator, FormatStrFormatter\n",
    "import matplotlib.patches as patches\n",
    "import numpy as np"
   ]
  },
  {
   "cell_type": "markdown",
   "metadata": {},
   "source": [
    "Create a distribution object."
   ]
  },
  {
   "cell_type": "code",
   "execution_count": null,
   "metadata": {},
   "outputs": [],
   "source": [
    "marginals = [Uniform(loc=0., scale=1.), Uniform(loc=0., scale=1.)]"
   ]
  },
  {
   "cell_type": "markdown",
   "metadata": {},
   "source": [
    "Create a strata object."
   ]
  },
  {
   "cell_type": "code",
   "execution_count": null,
   "metadata": {},
   "outputs": [],
   "source": [
    "strata = RectangularStrata(nstrata=[4, 4])"
   ]
  },
  {
   "cell_type": "markdown",
   "metadata": {},
   "source": [
    "Run stratified sampling."
   ]
  },
  {
   "cell_type": "code",
   "execution_count": null,
   "metadata": {},
   "outputs": [],
   "source": [
    "x = RectangularSTS(dist_object=marginals, strata_object=strata, nsamples_per_stratum=1, random_state=1)\n",
    "initial_samples=x.samples.copy()"
   ]
  },
  {
   "cell_type": "markdown",
   "metadata": {},
   "source": [
    "This plot shows the samples and stratas generated by the STS class."
   ]
  },
  {
   "cell_type": "code",
   "execution_count": null,
   "metadata": {},
   "outputs": [],
   "source": [
    "fig1 = x.strata_object.plot_2d()\n",
    "plt.title(\"STS samples U(0,1) and space stratification\")\n",
    "plt.plot(x.samples[:16, 0], x.samples[:16, 1], 'ro')\n",
    "plt.xlim([0, 1])\n",
    "plt.ylim([0, 1])\n",
    "plt.show()"
   ]
  },
  {
   "cell_type": "markdown",
   "metadata": {},
   "source": [
    "RunModel class is used to estimate the function value at sample points generated using STS class."
   ]
  },
  {
   "cell_type": "code",
   "execution_count": null,
   "metadata": {},
   "outputs": [],
   "source": [
    "rmodel = RunModel(model_script='python_model_function.py', vec='False')"
   ]
  },
  {
   "cell_type": "markdown",
   "metadata": {},
   "source": [
    "This figure shows the actual function defined in python model script."
   ]
  },
  {
   "cell_type": "code",
   "execution_count": null,
   "metadata": {},
   "outputs": [],
   "source": [
    "rmodel1 = RunModel(model_script='python_model_function.py', vec='False')\n",
    "rmodel1.run(samples=x.samples)\n",
    "num = 50\n",
    "x1 = np.linspace(0, 1, num)\n",
    "x2 = np.linspace(0, 1, num)\n",
    "x1v, x2v = np.meshgrid(x1, x2)\n",
    "y_act = np.zeros([num, num])\n",
    "r1model = RunModel(model_script='python_model_function.py')\n",
    "for i in range(num):\n",
    "    for j in range(num):\n",
    "        r1model.run(samples=np.array([[x1v[i, j], x2v[i, j]]]), append_samples=False)\n",
    "        y_act[i, j] = r1model.qoi_list[0]\n",
    "        \n",
    "fig1 = plt.figure()\n",
    "ax1 = fig1.gca(projection='3d')\n",
    "# Plot for estimated values\n",
    "surf = ax1.plot_surface(x1v, x2v, y_act, cmap=cm.coolwarm, linewidth=0, antialiased=False)\n",
    "# Customize the z axis.\n",
    "ax1.set_zlim(-1, 15)\n",
    "ax1.zaxis.set_major_locator(LinearLocator(10))\n",
    "ax1.zaxis.set_major_formatter(FormatStrFormatter('%.02f'))\n",
    "# Add a color bar which maps values to colors.\n",
    "fig1.colorbar(surf, shrink=0.5, aspect=5)\n",
    "plt.show()"
   ]
  },
  {
   "cell_type": "markdown",
   "metadata": {},
   "source": [
    "Krig class generated a surrogate model using STS samples and function value at those points."
   ]
  },
  {
   "cell_type": "code",
   "execution_count": null,
   "metadata": {},
   "outputs": [],
   "source": [
    "K = Kriging(reg_model='Linear', corr_model='Exponential', nopt=20, corr_model_params=[1, 1])\n",
    "K.fit(samples=x.samples, values=rmodel1.qoi_list)\n",
    "print(K.corr_model_params)"
   ]
  },
  {
   "cell_type": "markdown",
   "metadata": {},
   "source": [
    "This figure shows the surrogate model generated using Krig class from initial samples."
   ]
  },
  {
   "cell_type": "code",
   "execution_count": null,
   "metadata": {},
   "outputs": [],
   "source": [
    "num = 25\n",
    "x1 = np.linspace(0, 1, num)\n",
    "x2 = np.linspace(0, 1, num)\n",
    "x1v, x2v = np.meshgrid(x1, x2)\n",
    "y = np.zeros([num, num])\n",
    "for i in range(num):\n",
    "    for j in range(num):\n",
    "        y[i, j] = K.predict(np.array([x1v[i, j], x2v[i, j]]))\n",
    "\n",
    "fig2 = plt.figure()\n",
    "ax2 = fig2.gca(projection='3d')\n",
    "# Plot for estimated values\n",
    "kr = ax2.plot_wireframe(x1v, x2v, y, color='Green', label='Kriging interpolate')\n",
    "\n",
    "# Plot for scattered data\n",
    "ID = ax2.scatter3D(x.samples[:, 0], x.samples[:, 1], rmodel1.qoi_list, color='Red', label='Input data')\n",
    "plt.legend(handles=[kr, ID])\n",
    "plt.show()"
   ]
  },
  {
   "cell_type": "markdown",
   "metadata": {},
   "source": [
    "A RSS class object is initiated by using the STS, RunModel and Krig object."
   ]
  },
  {
   "cell_type": "code",
   "execution_count": null,
   "metadata": {},
   "outputs": [],
   "source": [
    "z = RectangularRSS(sample_object=x, runmodel_object=rmodel, krig_object=K, random_state=2)"
   ]
  },
  {
   "cell_type": "markdown",
   "metadata": {},
   "source": [
    "After initiating the RSS class object, new samples are generated using the RSS.sample method."
   ]
  },
  {
   "cell_type": "code",
   "execution_count": null,
   "metadata": {},
   "outputs": [],
   "source": [
    "z.run(nsamples=200)"
   ]
  },
  {
   "cell_type": "markdown",
   "metadata": {},
   "source": [
    "This figure shows the final samples generated using RSS class, where red dots shows the initial samples."
   ]
  },
  {
   "cell_type": "code",
   "execution_count": null,
   "metadata": {},
   "outputs": [],
   "source": [
    "fig3 = z.strata_object.plot_2d()\n",
    "plt.xlim([0, 1])\n",
    "plt.ylim([0, 1])\n",
    "plt.plot(initial_samples[:, 0], initial_samples[:, 1], 'ro')\n",
    "plt.plot(z.samplesU01[:, 0], z.samplesU01[:, 1], 'gx')\n",
    "plt.show()"
   ]
  },
  {
   "cell_type": "markdown",
   "metadata": {},
   "source": [
    "Krig class is used to generate a surrogate model using final samples from RSS class."
   ]
  },
  {
   "cell_type": "code",
   "execution_count": null,
   "metadata": {},
   "outputs": [],
   "source": [
    "K2 = Kriging(reg_model='Linear', corr_model='Exponential', corr_model_params=z.krig_object.corr_model_params, dimension=2)\n",
    "K2.fit(samples=z.samples, values=z.runmodel_object.qoi_list)"
   ]
  },
  {
   "cell_type": "markdown",
   "metadata": {},
   "source": [
    "This figure shows the final surrogate model, generated using 200 samples."
   ]
  },
  {
   "cell_type": "code",
   "execution_count": null,
   "metadata": {},
   "outputs": [],
   "source": [
    "y = np.zeros([num, num])\n",
    "for i in range(num):\n",
    "    for j in range(num):\n",
    "        y[i, j] = K2.predict(np.array([x1v[i, j], x2v[i, j]]))\n",
    "\n",
    "plt.clf()\n",
    "fig4 = plt.figure()\n",
    "a4 = fig4.gca(projection='3d')\n",
    "# Plot for estimated values\n",
    "kr = a4.plot_wireframe(x1v, x2v, y, color='Green', label='Kriging interpolate')\n",
    "\n",
    "# Plot for scattered data\n",
    "ID = a4.scatter3D(z.samples[:, 0], z.samples[:, 1], z.runmodel_object.qoi_list, color='Red', label='Input data')\n",
    "plt.legend(handles=[kr, ID])\n",
    "plt.show()"
   ]
  }
 ],
 "metadata": {
  "kernelspec": {
   "display_name": "Python 3",
   "language": "python",
   "name": "python3"
  },
  "language_info": {
   "codemirror_mode": {
    "name": "ipython",
    "version": 3
   },
   "file_extension": ".py",
   "mimetype": "text/x-python",
   "name": "python",
   "nbconvert_exporter": "python",
   "pygments_lexer": "ipython3",
   "version": "3.7.4"
  }
 },
 "nbformat": 4,
 "nbformat_minor": 2
}
