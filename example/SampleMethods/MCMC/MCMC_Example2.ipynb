{
 "cells": [
  {
   "cell_type": "markdown",
   "metadata": {},
   "source": [
    "# MCMC: comparison of various algorithms\n",
    "\n",
    "This script illustrates performance of various MCMC algorithms currently integrated in UQpy:\n",
    "- Metropolis Hastings (MH)\n",
    "- Modified Metropolis Hastings (MMH)\n",
    "- Affine Invariant with Stretch moves (Stretch)\n",
    "- Adaptive Metropolis with delayed rejection (DRAM)"
   ]
  },
  {
   "cell_type": "code",
   "execution_count": null,
   "metadata": {},
   "outputs": [],
   "source": [
    "import numpy as np\n",
    "import matplotlib.pyplot as plt\n",
    "import time\n",
    "\n",
    "from UQpy.sampling import MetropolisHastings, Stretch, ModifiedMetropolisHastings, DREAM, DRAM\n",
    "from UQpy.sampling.input_data import MhInput, StretchInput, MmhInput, DreamInput, DramInput"
   ]
  },
  {
   "cell_type": "markdown",
   "metadata": {},
   "source": [
    "## Affine invariant with Stretch moves\n",
    "\n",
    "This algorithm requires as seed a few samples near the region of interest. Here MH is first run to obtain few samples, used as seed within the Stretch algorithm."
   ]
  },
  {
   "cell_type": "code",
   "execution_count": null,
   "metadata": {},
   "outputs": [],
   "source": [
    "def log_Rosenbrock(x):\n",
    "     return (-(100*(x[:, 1]-x[:, 0]**2)**2+(1-x[:, 0])**2)/20)"
   ]
  },
  {
   "cell_type": "code",
   "execution_count": null,
   "metadata": {},
   "outputs": [],
   "source": [
    "mh_input = MhInput()\n",
    "mh_input.dimension=2\n",
    "mh_input.burn_length=0\n",
    "mh_input.jump=10\n",
    "mh_input.chains_number=1\n",
    "mh_input.log_pdf_target=log_Rosenbrock\n",
    "\n",
    "x = MetropolisHastings(mh_input=mh_input, samples_number=5000)\n",
    "print(x.samples.shape)\n",
    "plt.plot(x.samples[:, 0], x.samples[:, 1], 'o')\n",
    "plt.show()"
   ]
  },
  {
   "cell_type": "code",
   "execution_count": null,
   "metadata": {},
   "outputs": [],
   "source": [
    "stretch_input = StretchInput()\n",
    "stretch_input.burn_length=0\n",
    "stretch_input.jump=10\n",
    "stretch_input.log_pdf_target=log_Rosenbrock\n",
    "stretch_input.seed=x.samples[:10]\n",
    "stretch_input.scale=2.\n",
    "\n",
    "x = Stretch(stretch_input=stretch_input, samples_number=5000)\n",
    "print(x.samples.shape)\n",
    "plt.plot(x.samples[:, 0], x.samples[:, 1], 'o')\n",
    "plt.show()"
   ]
  },
  {
   "cell_type": "markdown",
   "metadata": {},
   "source": [
    "## DREAM algorithm: compare with MH (inputs parameters are set as their default values)"
   ]
  },
  {
   "cell_type": "code",
   "execution_count": null,
   "metadata": {},
   "outputs": [],
   "source": [
    "# Define a function to sample seed uniformly distributed in the 2d space ([-20, 20], [-4, 4])\n",
    "from UQpy.distributions import Uniform, JointIndependent\n",
    "prior_sample = lambda nsamples: np.array([[-2, -2]]) + np.array([[4, 4]]) * JointIndependent(\n",
    "    [Uniform(), Uniform()]).rvs(nsamples=nsamples)"
   ]
  },
  {
   "cell_type": "code",
   "execution_count": null,
   "metadata": {},
   "outputs": [],
   "source": [
    "fig, ax = plt.subplots(ncols=2, figsize=(12, 4))\n",
    "seed = prior_sample(nsamples=7)\n",
    "\n",
    "mh_input = MhInput()\n",
    "mh_input.dimension=2\n",
    "mh_input.burn_length=500\n",
    "mh_input.jump=50\n",
    "mh_input.seed=seed\n",
    "mh_input.log_pdf_target=log_Rosenbrock\n",
    "\n",
    "x = MetropolisHastings(mh_input=mh_input, samples_number=1000)\n",
    "ax[0].plot(x.samples[:, 0], x.samples[:, 1], 'o')\n",
    "\n",
    "dream_input = DreamInput()\n",
    "dream_input.dimension = 2\n",
    "dream_input.burn_length = 500\n",
    "dream_input.jump = 50\n",
    "dream_input.seed = seed\n",
    "dream_input.log_pdf_target = log_Rosenbrock\n",
    "\n",
    "x = DREAM(dream_input=dream_input, samples_number=1000)\n",
    "ax[1].plot(x.samples[:, 0], x.samples[:, 1], 'o')\n",
    "\n",
    "plt.show()"
   ]
  },
  {
   "cell_type": "markdown",
   "metadata": {},
   "source": [
    "## DRAM algorithm "
   ]
  },
  {
   "cell_type": "code",
   "execution_count": null,
   "metadata": {
    "scrolled": true
   },
   "outputs": [],
   "source": [
    "fig, ax = plt.subplots(ncols=2, figsize=(12, 4))\n",
    "t = time.time()\n",
    "seed = prior_sample(nsamples=1)\n",
    "\n",
    "mh_input = MhInput()\n",
    "mh_input.dimension = 2\n",
    "mh_input.burn_length = 500\n",
    "mh_input.jump = 10\n",
    "mh_input.seed = seed\n",
    "mh_input.log_pdf_target = log_Rosenbrock\n",
    "x = MetropolisHastings(mh_input=mh_input, samples_number=1000)\n",
    "ax[0].plot(x.samples[:, 0], x.samples[:, 1], 'o')\n",
    "ax[0].set_xlabel('x1')\n",
    "ax[0].set_ylabel('x2')\n",
    "ax[0].set_title('algorithm: MH')\n",
    "print('time to run MH' + ': {}s'.format(time.time() - t))\n",
    "\n",
    "dram_input = DramInput()\n",
    "dram_input.dimension=2\n",
    "dram_input.burn_length=500\n",
    "dram_input.jump=10\n",
    "dram_input.seed=seed\n",
    "dram_input.log_pdf_target=log_Rosenbrock\n",
    "dram_input.save_covariance=True\n",
    "\n",
    "x = DRAM(dram_input=dram_input, samples_number=1000)\n",
    "ax[1].plot(x.samples[:, 0], x.samples[:, 1], 'o')\n",
    "ax[1].set_xlabel('x1')\n",
    "ax[1].set_ylabel('x2')\n",
    "ax[1].set_title('algorithm: DRAM' )\n",
    "print('time to run DRAM'  + ': {}s'.format(time.time() - t))\n",
    "\n",
    "plt.show()\n",
    "\n",
    "# look at the covariance adaptivity\n",
    "fig, ax = plt.subplots()\n",
    "adaptive_covariance = np.array(x.adaptive_covariance)\n",
    "for i in range(2):\n",
    "    ax.plot(np.sqrt(adaptive_covariance[:, 0, i, i]), label='dimension {}'.format(i))\n",
    "ax.set_title('Adaptive proposal std. dev. in both dimensions')\n",
    "ax.legend()\n",
    "plt.show()"
   ]
  },
  {
   "cell_type": "markdown",
   "metadata": {},
   "source": [
    "## MMH: target pdf is given as a joint pdf\n",
    "\n",
    "The target pdf should be a 1 dimensional distribution or set of 1d distributions."
   ]
  },
  {
   "cell_type": "code",
   "execution_count": null,
   "metadata": {},
   "outputs": [],
   "source": [
    "from UQpy.distributions import Normal\n",
    "proposal = [Normal(), Normal()]\n",
    "proposal_is_symmetric = [False, False]"
   ]
  },
  {
   "cell_type": "code",
   "execution_count": null,
   "metadata": {},
   "outputs": [],
   "source": [
    "mmh_input = MmhInput()\n",
    "mmh_input.dimension=2\n",
    "mmh_input.burn_length=500\n",
    "mmh_input.jump=50\n",
    "mmh_input.log_pdf_target=log_Rosenbrock\n",
    "mmh_input.proposal=proposal\n",
    "mmh_input.proposal_is_symmetric=proposal_is_symmetric\n",
    "mmh_input.chains_number=1\n",
    "\n",
    "x = ModifiedMetropolisHastings(mmh_input=mmh_input, samples_number=500)\n",
    "\n",
    "fig, ax = plt.subplots()\n",
    "ax.plot(x.samples[:, 0], x.samples[:, 1], linestyle='none', marker='.')"
   ]
  },
  {
   "cell_type": "markdown",
   "metadata": {},
   "source": [
    "## MMH: target pdf is given as a couple of independent marginals"
   ]
  },
  {
   "cell_type": "code",
   "execution_count": null,
   "metadata": {},
   "outputs": [],
   "source": [
    "log_pdf_target = [Normal(loc=0., scale=5.).log_pdf, Normal(loc=0., scale=20.).log_pdf]\n",
    "\n",
    "proposal = [Normal(), Normal()]\n",
    "proposal_is_symmetric = [True, True]\n",
    "\n",
    "mmh_input = MmhInput()\n",
    "mmh_input.dimension = 2\n",
    "mmh_input.burn_length = 100\n",
    "mmh_input.jump = 10\n",
    "mmh_input.log_pdf_target = log_pdf_target\n",
    "mmh_input.proposal = proposal\n",
    "mmh_input.proposal_is_symmetric = proposal_is_symmetric\n",
    "mmh_input.chains_number = 1\n",
    "\n",
    "x = ModifiedMetropolisHastings(mmh_input=mmh_input, samples_number=1000)\n",
    "\n",
    "fig, ax = plt.subplots()\n",
    "ax.plot(x.samples[:, 0], x.samples[:, 1], linestyle='none', marker='.')\n",
    "plt.show()\n",
    "print(x.samples.shape)"
   ]
  },
  {
   "cell_type": "markdown",
   "metadata": {},
   "source": [
    "## Use random_state to provide repeated results"
   ]
  },
  {
   "cell_type": "code",
   "execution_count": null,
   "metadata": {},
   "outputs": [],
   "source": [
    "from UQpy.distributions import Normal, Gumbel, JointCopula, JointIndependent, Uniform\n",
    "seed = Uniform().rvs(nsamples=2 * 10).reshape((10, 2))\n",
    "dist_true = JointCopula(marginals=[Normal(), Normal()], copula=Gumbel(theta=2.))\n",
    "proposal = JointIndependent(marginals=[Normal(scale=0.2), Normal(scale=0.2)])\n",
    "\n",
    "mmh_input = MmhInput()\n",
    "mmh_input.log_pdf_target=dist_true.log_pdf\n",
    "mmh_input.proposal=proposal\n",
    "mmh_input.seed=[0., 0.]\n",
    "mmh_input.random_state=123\n",
    "\n",
    "for _ in range(3):\n",
    "    sampler = ModifiedMetropolisHastings(mmh_input=mmh_input, samples_number=500)\n",
    "    print(sampler.samples.shape)\n",
    "    print(np.round(sampler.samples[-5:], 4))"
   ]
  },
  {
   "cell_type": "code",
   "execution_count": null,
   "metadata": {},
   "outputs": [],
   "source": [
    "plt.plot(sampler.samples[:, 0], sampler.samples[:, 1], linestyle='none', marker='+')"
   ]
  }
 ],
 "metadata": {
  "kernelspec": {
   "display_name": "Python 3 (ipykernel)",
   "language": "python",
   "name": "python3"
  },
  "language_info": {
   "codemirror_mode": {
    "name": "ipython",
    "version": 3
   },
   "file_extension": ".py",
   "mimetype": "text/x-python",
   "name": "python",
   "nbconvert_exporter": "python",
   "pygments_lexer": "ipython3",
   "version": "3.9.6"
  }
 },
 "nbformat": 4,
 "nbformat_minor": 2
}
