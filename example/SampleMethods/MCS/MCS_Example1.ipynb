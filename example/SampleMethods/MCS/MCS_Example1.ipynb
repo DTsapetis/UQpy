{
 "cells": [
  {
   "cell_type": "markdown",
   "metadata": {},
   "source": [
    "# Monte Carlo sampling using UQpy\n",
    "\n",
    "Author: Dimitris G. Giovanis,  \n",
    "Date: May 13, 2020  \n",
    "UQpy Version 3.0"
   ]
  },
  {
   "cell_type": "code",
   "execution_count": null,
   "metadata": {},
   "outputs": [],
   "source": [
    "# Import the necessary libraries. Here we import standard libraries such as numpy and matplotlib,\n",
    "# but also need to import the MCS class from UQpy.\n",
    "from UQpy.sampling import MonteCarloSampling\n",
    "import numpy as np\n",
    "import matplotlib.pyplot as plt"
   ]
  },
  {
   "cell_type": "code",
   "execution_count": null,
   "metadata": {},
   "outputs": [],
   "source": [
    "# Import the necessary Distributions from Distribution class to create the Distribution object\n",
    "# We are going to run MCS for two  standard normal N(0,1) random variables. We set the random_state in order\n",
    "# to reproduce the results.\n",
    "from UQpy.distributions import Normal\n",
    "dist1 = Normal(loc=0., scale=1.)\n",
    "dist2 = Normal(loc=0., scale=1.)\n",
    "\n",
    "x = MonteCarloSampling(distributions=[dist1, dist2], samples_number=5,\n",
    "                       random_state=np.random.RandomState(123))\n",
    "print()\n",
    "print(x.samples)\n",
    "\n",
    "x.run(samples_number=2, random_state=np.random.RandomState(23))\n",
    "print(x.samples)\n",
    "\n",
    "x.transform_u01()\n",
    "print(x.samplesU01)\n",
    "\n",
    "# plot the samples\n",
    "fig, ax = plt.subplots()\n",
    "plt.title('MC sampling')\n",
    "plt.scatter(x.samples[:, 0], x.samples[:, 1], marker='o')\n",
    "ax.yaxis.grid(True)\n",
    "ax.xaxis.grid(True)\n",
    "plt.show()\n",
    "\n",
    "fig, ax = plt.subplots()\n",
    "plt.title('Histogram:parameter #1')\n",
    "plt.hist(x.samples[:, 0])\n",
    "ax.yaxis.grid(True)\n",
    "ax.xaxis.grid(True)\n",
    "\n",
    "fig, ax = plt.subplots()\n",
    "plt.title('Histogram:parameter #2')\n",
    "plt.hist(x.samples[:, 1])\n",
    "ax.yaxis.grid(True)\n",
    "ax.xaxis.grid(True)\n",
    "plt.show()\n",
    "\n",
    "# Use the MCS.run method in order to add 2 samples in the existing ones.\n",
    "x.run(samples_number=2)\n",
    "print()\n",
    "print('MCS extended samples:')\n",
    "print(x.samples)\n",
    "\n",
    "# Use the MCS.transform_u01 method in order transform the samples to the Uniform [0,1] space.\n",
    "x.transform_u01()\n",
    "print()\n",
    "print('MCS transformed samples:')\n",
    "print(x.samplesU01)"
   ]
  },
  {
   "cell_type": "code",
   "execution_count": null,
   "metadata": {},
   "outputs": [],
   "source": [
    "# We are going to run MCS for a multivariate normal distribution random variables.\n",
    "from UQpy.distributions import MultivariateNormal\n",
    "dist = MultivariateNormal(mean=[1., 2.], cov=[[4., -0.9], [-0.9, 1.]])\n",
    "\n",
    "x1 = MonteCarloSampling(distributions=dist, samples_number=5, random_state=np.random.RandomState(456))\n",
    "print()\n",
    "print(x1.samples)\n",
    "\n",
    "# plot the samples\n",
    "fig, ax = plt.subplots()\n",
    "plt.title('MC sampling')\n",
    "plt.scatter(x1.samples[:, 0], x1.samples[:, 1], marker='o')\n",
    "ax.yaxis.grid(True)\n",
    "ax.xaxis.grid(True)\n",
    "plt.show()\n",
    "\n",
    "# Use the MCS.run method in order to add 2 samples in the existing ones.\n",
    "x1.run(samples_number=2)\n",
    "print()\n",
    "print('MCS extended samples:', x1.samples)\n",
    "\n",
    "# Use the MCS.transform_u01 method in order transform the samples to the Uniform [0,1] space.\n",
    "# However, in order to use this method all distributions need to have a ``cdf`` method.\n",
    "# For example, in this case the MVNormal distribution does not have a ``cdf`` method so the code\n",
    "# will give an error.\n",
    "x1.transform_u01()"
   ]
  },
  {
   "cell_type": "code",
   "execution_count": null,
   "metadata": {},
   "outputs": [],
   "source": [
    "# We are going to run MCS for a multivariate normal distribution and a standard normal distribution.\n",
    "x2 = MonteCarloSampling(distributions=[dist1, dist], samples_number=5, random_state=np.random.RandomState(789))\n",
    "print()\n",
    "print('MCS samples:', x2.samples)\n",
    "\n",
    "print(len(x2.samples))\n",
    "print(len(x2.samples[0]))\n",
    "\n",
    "# Extract samples for the multivariate distribution\n",
    "samples = np.zeros(shape=(len(x2.samples), len(x2.samples[1])))\n",
    "for i in range(len(x2.samples)):\n",
    "    samples[i, :] = x2.samples[i][1]\n",
    "print()\n",
    "print('MVNormal samples:', samples)\n",
    "\n",
    "# Use the MCS.run method in order to add 2 samples in the existing ones.\n",
    "x2.run(samples_number=2)\n",
    "print()\n",
    "print('MCS extended samples:', x2.samples)"
   ]
  },
  {
   "cell_type": "code",
   "execution_count": null,
   "metadata": {},
   "outputs": [],
   "source": [
    "# Draw samples from a continuous and discrete distribution\n",
    "from UQpy.distributions import Binomial\n",
    "dist3 = Binomial(n=5, p=0.4)\n",
    "x3 = MonteCarloSampling(distributions=[dist1, dist3], samples_number=5)\n",
    "\n",
    "print()\n",
    "print('MCS samples:', x3.samples)"
   ]
  }
 ],
 "metadata": {
  "kernelspec": {
   "display_name": "Python 3 (ipykernel)",
   "language": "python",
   "name": "python3"
  },
  "language_info": {
   "codemirror_mode": {
    "name": "ipython",
    "version": 3
   },
   "file_extension": ".py",
   "mimetype": "text/x-python",
   "name": "python",
   "nbconvert_exporter": "python",
   "pygments_lexer": "ipython3",
   "version": "3.9.6"
  }
 },
 "nbformat": 4,
 "nbformat_minor": 2
}
