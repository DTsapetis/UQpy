{
 "cells": [
  {
   "cell_type": "markdown",
   "metadata": {},
   "source": [
    "# Diagnostics for importance sampling\n",
    "\n",
    "This notebook illustrates the use of some simple diagnostics for Importance Sampling. For IS, in extreme settings only a few samples may have a significant weight, yielding poor approximations of the target pdf $p(x)$. A popular diagnostics is the Effective Sample Size (ESS), which is theoretically defined as the number of independent samples generated directly form the target distribution that are required to obtain an estimator with same variance as the one obtained from IS. Heuristically, ESS approximates how many i.i.d. samples, drawn from the target, are equivalent to $N$ weighted samples drawn from the IS or MCMC approximation. An approximation of the ESS is given by [1]:\n",
    "$$ ESS = \\frac{1}{\\sum \\tilde{w}^2} $$\n",
    "where $\\tilde{w}$ are the normalized weights.\n",
    "\n",
    "[1] *Sequential Monte Carlo Methods in Practice*, A. Doucet, N. de Freitas, and N. Gordon, 2001, Springer, New York"
   ]
  },
  {
   "cell_type": "code",
   "execution_count": null,
   "metadata": {},
   "outputs": [],
   "source": [
    "from UQpy.distributions import Uniform, JointIndependent\n",
    "from UQpy.sampling import ImportanceSampling\n",
    "import matplotlib.pyplot as plt\n",
    "import numpy as np"
   ]
  },
  {
   "cell_type": "code",
   "execution_count": null,
   "metadata": {},
   "outputs": [],
   "source": [
    "def log_Rosenbrock(x, param):\n",
    "    return (-(100 * (x[:, 1] - x[:, 0] ** 2) ** 2 + (1 - x[:, 0]) ** 2) / param)"
   ]
  },
  {
   "cell_type": "code",
   "execution_count": null,
   "metadata": {},
   "outputs": [],
   "source": [
    "proposal = JointIndependent([Uniform(loc=-8, scale=16), Uniform(loc=-10, scale=60)])\n",
    "print(proposal.get_parameters())"
   ]
  },
  {
   "cell_type": "code",
   "execution_count": null,
   "metadata": {},
   "outputs": [],
   "source": [
    "from UQpy.sampling.input_data import ISInput\n",
    "is_input = ISInput()\n",
    "is_input.log_pdf_target = log_Rosenbrock\n",
    "is_input.args_target = (20,)\n",
    "is_input.proposal = proposal\n",
    "w = ImportanceSampling(is_input=is_input, samples_number=5000)"
   ]
  },
  {
   "cell_type": "markdown",
   "metadata": {},
   "source": [
    "### Look at distribution of weights"
   ]
  },
  {
   "cell_type": "code",
   "execution_count": null,
   "metadata": {},
   "outputs": [],
   "source": [
    "print('max_weight = {}, min_weight = {} \\n'.format(max(w.weights), min(w.weights)))\n",
    "\n",
    "fig, ax = plt.subplots(figsize=(8, 3))\n",
    "ax.scatter(w.weights, np.zeros((np.size(w.weights),)), s=w.weights * 600, marker='o')\n",
    "ax.set_xlabel('weights')\n",
    "ax.set_title('Normalized weights out of importance sampling')\n",
    "ax.tick_params(which='both', left=False, labelleft=False)  # labels along the bottom edge are off\n",
    "plt.show()"
   ]
  },
  {
   "cell_type": "markdown",
   "metadata": {},
   "source": [
    "### Compute the effective sample size"
   ]
  },
  {
   "cell_type": "code",
   "execution_count": null,
   "metadata": {},
   "outputs": [],
   "source": [
    "effective_sample_size = 1. / np.sum(w.weights ** 2, axis=0)\n",
    "\n",
    "print('Effective sample size is ne={}, out of a total number of samples={} \\n'.\n",
    "      format(effective_sample_size, np.size(w.weights)))"
   ]
  }
 ],
 "metadata": {
  "kernelspec": {
   "display_name": "Python 3 (ipykernel)",
   "language": "python",
   "name": "python3"
  },
  "language_info": {
   "codemirror_mode": {
    "name": "ipython",
    "version": 3
   },
   "file_extension": ".py",
   "mimetype": "text/x-python",
   "name": "python",
   "nbconvert_exporter": "python",
   "pygments_lexer": "ipython3",
   "version": "3.9.6"
  }
 },
 "nbformat": 4,
 "nbformat_minor": 2
}
