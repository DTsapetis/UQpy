{
 "cells": [
  {
   "cell_type": "markdown",
   "metadata": {
    "collapsed": true
   },
   "source": [
    "## Importance Sampling Example\n",
    "\n",
    "Author: Audrey Olivier \n",
    "\n",
    "Date: May 8, 2019"
   ]
  },
  {
   "cell_type": "markdown",
   "metadata": {},
   "source": [
    "For importance sampling, the function must be written in a way that it can evaluate multiple samples at once."
   ]
  },
  {
   "cell_type": "code",
   "execution_count": null,
   "metadata": {},
   "outputs": [],
   "source": [
    "from UQpy.distributions import Uniform, JointIndependent\n",
    "from UQpy.sampling import ImportanceSampling\n",
    "import time\n",
    "import matplotlib.pyplot as plt\n",
    "import numpy as np"
   ]
  },
  {
   "cell_type": "code",
   "execution_count": null,
   "metadata": {},
   "outputs": [],
   "source": [
    "def log_Rosenbrock(x, param):\n",
    "    return (-(100 * (x[:, 1] - x[:, 0] ** 2) ** 2 + (1 - x[:, 0]) ** 2) / param)"
   ]
  },
  {
   "cell_type": "code",
   "execution_count": null,
   "metadata": {
    "scrolled": true
   },
   "outputs": [],
   "source": [
    "proposal = JointIndependent([Uniform(loc=-8, scale=16), Uniform(loc=-10, scale=60)])\n",
    "print(proposal.get_parameters())"
   ]
  },
  {
   "cell_type": "markdown",
   "metadata": {},
   "source": [
    "### Run IS"
   ]
  },
  {
   "cell_type": "code",
   "execution_count": null,
   "metadata": {},
   "outputs": [],
   "source": [
    "t4 = time.time()\n",
    "from UQpy.sampling.input_data import ISInput\n",
    "\n",
    "is_input = ISInput(log_pdf_target=log_Rosenbrock, args_target=(20,), proposal=proposal)\n",
    "\n",
    "w = ImportanceSampling(is_input=is_input, samples_number=10000)\n",
    "\n",
    "t_IS = time.time() - t4\n",
    "print(t_IS)\n",
    "\n",
    "w.resample(samples_number=1000)\n",
    "plt.plot(w.unweighted_samples[:, 0], w.unweighted_samples[:, 1], 'gs', alpha=0.2)\n",
    "print(w.unweighted_samples.shape)\n",
    "plt.legend(['IS'])\n",
    "plt.show()"
   ]
  },
  {
   "cell_type": "markdown",
   "metadata": {},
   "source": [
    "### Run IS by adding samples: call the run method in a loop (one can also look at diagnostics)"
   ]
  },
  {
   "cell_type": "code",
   "execution_count": null,
   "metadata": {
    "scrolled": true
   },
   "outputs": [],
   "source": [
    "t4 = time.time()\n",
    "is_input1 = ISInput()\n",
    "is_input1.log_pdf_target = log_Rosenbrock\n",
    "is_input1.args_target = (20,)\n",
    "is_input1.proposal = proposal\n",
    "\n",
    "w = ImportanceSampling(is_input=is_input1)\n",
    "for nsamples in [5000, 5000, 5000, 5000]:\n",
    "    w.run(nsamples)\n",
    "    print(w.samples.shape)\n",
    "    # IS_diagnostics(weights=w.weights, graphics=False)\n",
    "t_IS = time.time() - t4\n",
    "print(t_IS)\n",
    "\n",
    "w.resample(samples_number=1000)\n",
    "plt.plot(w.unweighted_samples[:, 0], w.unweighted_samples[:, 1], 'gs', alpha=0.2)\n",
    "plt.legend(['IS'])\n",
    "plt.show()"
   ]
  },
  {
   "cell_type": "markdown",
   "metadata": {},
   "source": [
    "Another example: sampling from a bivariate with copula dependence. Giving a random state enforces that results are the same for repeatability."
   ]
  },
  {
   "cell_type": "code",
   "execution_count": null,
   "metadata": {},
   "outputs": [],
   "source": [
    "from UQpy.distributions import Normal, Gumbel, JointCopula\n",
    "dist_true = JointCopula(marginals=[Normal(), Normal()], copula=Gumbel(theta=2.))\n",
    "proposal1 = JointIndependent(marginals=[Normal(), Normal()])\n",
    "\n",
    "is_input2 = ISInput()\n",
    "is_input2.log_pdf_target = dist_true.log_pdf\n",
    "is_input2.proposal = proposal1\n",
    "is_input2.random_state = 123\n",
    "\n",
    "sampler = ImportanceSampling(is_input=is_input2, samples_number=500)\n",
    "print(sampler.samples.shape)\n",
    "print(sampler.weights.shape)\n",
    "print(np.round(sampler.samples[-5:], 4))"
   ]
  }
 ],
 "metadata": {
  "kernelspec": {
   "display_name": "Python 3 (ipykernel)",
   "language": "python",
   "name": "python3"
  },
  "language_info": {
   "codemirror_mode": {
    "name": "ipython",
    "version": 3
   },
   "file_extension": ".py",
   "mimetype": "text/x-python",
   "name": "python",
   "nbconvert_exporter": "python",
   "pygments_lexer": "ipython3",
   "version": "3.9.6"
  }
 },
 "nbformat": 4,
 "nbformat_minor": 1
}
