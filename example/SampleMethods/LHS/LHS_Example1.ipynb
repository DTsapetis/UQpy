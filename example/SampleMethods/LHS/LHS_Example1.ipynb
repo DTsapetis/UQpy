{
 "cells": [
  {
   "cell_type": "markdown",
   "metadata": {},
   "source": [
    "# Latin Hypercube Sampling using UQpy\n",
    "\n",
    "Author: Dimitris G. Giovanis,  \n",
    "Date: May 13, 2020  \n",
    "UQpy Version 3.0"
   ]
  },
  {
   "cell_type": "code",
   "execution_count": null,
   "metadata": {},
   "outputs": [],
   "source": [
    "# Import the necessary libraries. Here we import standard libraries such as numpy and matplotlib,\n",
    "# but also need to import the LHS class from UQpy.\n",
    "from UQpy.sampling import LatinHypercubeSampling\n",
    "import numpy as np\n",
    "import matplotlib.pyplot as plt\n",
    "import time"
   ]
  },
  {
   "cell_type": "code",
   "execution_count": null,
   "metadata": {},
   "outputs": [],
   "source": [
    "# Import the necessary Distributions from Distribution class to create the Distribution object\n",
    "# We are going to run LHS for two uniform U(0,1) random variables.\n",
    "from UQpy.distributions import Uniform\n",
    "dist1 = Uniform(loc=0., scale=1.)\n",
    "dist2 = Uniform(loc=0., scale=1.)"
   ]
  },
  {
   "cell_type": "code",
   "execution_count": null,
   "metadata": {},
   "outputs": [],
   "source": [
    "from UQpy.sampling.latin_hypercube_criteria import Random\n",
    "x1c = LatinHypercubeSampling(distributions=[dist1, dist2], samples_number=5,\n",
    "                             criterion=Random(random_state=np.random.RandomState(789)))\n",
    "\n",
    "fig, ax = plt.subplots()\n",
    "plt.title('random-LHS design')\n",
    "plt.scatter(x1c.samples[:, 0], x1c.samples[:, 1])\n",
    "ax.set_yticks([0.0, 0.2, 0.4, 0.6, 0.8, 1.0])\n",
    "ax.set_xticks([0.0, 0.2, 0.4, 0.6, 0.8, 1.0])\n",
    "ax.yaxis.grid(True)\n",
    "ax.xaxis.grid(True)\n",
    "plt.ylim(0, 1)\n",
    "plt.xlim(0, 1)\n",
    "plt.show()"
   ]
  },
  {
   "cell_type": "code",
   "execution_count": null,
   "metadata": {},
   "outputs": [],
   "source": [
    "from UQpy.sampling.latin_hypercube_criteria import MaxiMin\n",
    "x1a = LatinHypercubeSampling(distributions=[dist1, dist2],\n",
    "                             criterion=MaxiMin(random_state=np.random.RandomState(123)),\n",
    "                             samples_number=5)\n",
    "print(x1a.samples)\n",
    "\n",
    "fig, ax = plt.subplots()\n",
    "plt.title('correlate-LHS design')\n",
    "plt.scatter(x1a.samples[:, 0], x1a.samples[:, 1])\n",
    "ax.set_yticks([0.0, 0.2, 0.4, 0.6, 0.8, 1.0])\n",
    "ax.set_xticks([0.0, 0.2, 0.4, 0.6, 0.8, 1.0])\n",
    "ax.yaxis.grid(True)\n",
    "ax.xaxis.grid(True)\n",
    "plt.ylim(0, 1)\n",
    "plt.xlim(0, 1)\n",
    "plt.show()"
   ]
  },
  {
   "cell_type": "code",
   "execution_count": null,
   "metadata": {},
   "outputs": [],
   "source": [
    "from UQpy.sampling.latin_hypercube_criteria import DistanceMetric\n",
    "x1b = LatinHypercubeSampling(distributions=[dist1, dist2],\n",
    "                             criterion=MaxiMin(metric=DistanceMetric.CHEBYSHEV),\n",
    "                             samples_number=5)\n",
    "print(x1b.samples)\n",
    "\n",
    "fig, ax = plt.subplots()\n",
    "plt.title('maximin-LHS design')\n",
    "plt.scatter(x1b.samples[:, 0], x1b.samples[:, 1])\n",
    "ax.set_yticks([0.0, 0.2, 0.4, 0.6, 0.8, 1.0])\n",
    "ax.set_xticks([0.0, 0.2, 0.4, 0.6, 0.8, 1.0])\n",
    "ax.yaxis.grid(True)\n",
    "ax.xaxis.grid(True)\n",
    "plt.ylim(0, 1)\n",
    "plt.xlim(0, 1)\n",
    "plt.show()\n",
    "\n",
    "x1c = LatinHypercubeSampling(distributions=[dist1, dist2], samples_number=5,\n",
    "                             criterion=Random(random_state=np.random.RandomState(789)))\n",
    "print(x1c.samples)\n",
    "\n",
    "fig, ax = plt.subplots()\n",
    "plt.title('random-LHS design')\n",
    "plt.scatter(x1c.samples[:, 0], x1c.samples[:, 1])\n",
    "ax.set_yticks([0.0, 0.2, 0.4, 0.6, 0.8, 1.0])\n",
    "ax.set_xticks([0.0, 0.2, 0.4, 0.6, 0.8, 1.0])\n",
    "ax.yaxis.grid(True)\n",
    "ax.xaxis.grid(True)\n",
    "plt.ylim(0, 1)\n",
    "plt.xlim(0, 1)\n",
    "plt.show()\n",
    "\n",
    "from UQpy.sampling.latin_hypercube_criteria import Centered\n",
    "x1d = LatinHypercubeSampling(distributions=[dist1, dist2], criterion=Centered(),\n",
    "                             samples_number=5)\n",
    "\n",
    "fig, ax = plt.subplots()\n",
    "plt.title('centered-LHS design')\n",
    "plt.scatter(x1d.samples[:, 0], x1d.samples[:, 1])\n",
    "ax.set_yticks([0.0, 0.2, 0.4, 0.6, 0.8, 1.0])\n",
    "ax.set_xticks([0.0, 0.2, 0.4, 0.6, 0.8, 1.0])\n",
    "ax.yaxis.grid(True)\n",
    "ax.xaxis.grid(True)\n",
    "plt.ylim(0, 1)\n",
    "plt.xlim(0, 1)\n",
    "plt.show()\n",
    "\n",
    "print(x1d.samples)"
   ]
  },
  {
   "cell_type": "code",
   "execution_count": null,
   "metadata": {},
   "outputs": [],
   "source": [
    "from UQpy.distributions import Uniform, Normal\n",
    "dist1 = Normal(loc=0., scale=1.)\n",
    "dist2 = Uniform(loc=0., scale=1.)\n",
    "\n",
    "x2a = LatinHypercubeSampling(distributions=[dist1, dist2],\n",
    "                             criterion=Centered(random_state=np.random.RandomState(45)),\n",
    "                             samples_number=5)\n",
    "print('LHS design:', x2a.samples)"
   ]
  },
  {
   "cell_type": "code",
   "execution_count": null,
   "metadata": {},
   "outputs": [],
   "source": [
    "# Run LHS for a user-defined criterion and metric\n",
    "# def distance(x):\n",
    "#    return x+1\n",
    "from scipy.spatial.distance import pdist\n",
    "\n",
    "from UQpy.sampling.latin_hypercube_criteria import Criterion\n",
    "\n",
    "class UserCriterion(Criterion):\n",
    "    def generate_samples(self):\n",
    "        lhs_samples = np.zeros_like(self.samples)\n",
    "        for j in range(self.samples.shape[1]):\n",
    "            order = np.random.permutation(self.samples.shape[0])\n",
    "            lhs_samples[:, j] = self.samples[order, j]\n",
    "        return lhs_samples\n",
    "\n",
    "\n",
    "dist1 = Uniform(loc=0., scale=1.)\n",
    "dist2 = Uniform(loc=0., scale=1.)\n",
    "\n",
    "x1e = LatinHypercubeSampling(distributions=[dist1, dist2], samples_number=5,\n",
    "                             criterion=UserCriterion())\n",
    "print(x1e.samples)\n",
    "\n",
    "x1d = LatinHypercubeSampling(distributions=[dist1, dist2], samples_number=5)\n",
    "print(x1d.samples)"
   ]
  },
  {
   "cell_type": "code",
   "execution_count": null,
   "metadata": {},
   "outputs": [],
   "source": [
    "# We are going to run LHS for a Joint distribution.\n",
    "from UQpy.distributions import Normal, Lognormal, JointIndependent\n",
    "marginals = [Normal(loc=2., scale=2.), Lognormal(s=1., loc=0., scale=np.exp(5))]\n",
    "dist = JointIndependent(marginals=marginals)\n",
    "\n",
    "x2 = LatinHypercubeSampling(distributions=dist, samples_number=5,\n",
    "                            criterion=MaxiMin(random_state=np.random.RandomState(123)))\n",
    "print(x2.samples)"
   ]
  }
 ],
 "metadata": {
  "kernelspec": {
   "display_name": "Python 3 (ipykernel)",
   "language": "python",
   "name": "python3"
  },
  "language_info": {
   "codemirror_mode": {
    "name": "ipython",
    "version": 3
   },
   "file_extension": ".py",
   "mimetype": "text/x-python",
   "name": "python",
   "nbconvert_exporter": "python",
   "pygments_lexer": "ipython3",
   "version": "3.9.6"
  }
 },
 "nbformat": 4,
 "nbformat_minor": 2
}
