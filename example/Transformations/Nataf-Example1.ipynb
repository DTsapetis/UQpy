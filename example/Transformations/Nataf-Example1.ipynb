{
 "cells": [
  {
   "cell_type": "markdown",
   "metadata": {},
   "source": [
    "## Nataf - Example 1\n",
    "\n",
    "Author: Dimitris Giovanis"
   ]
  },
  {
   "cell_type": "code",
   "execution_count": null,
   "metadata": {},
   "outputs": [],
   "source": [
    "from UQpy.transformations import Nataf\n",
    "import numpy as np\n",
    "import matplotlib.pyplot as plt\n",
    "from UQpy.distributions import Normal, Gamma, Lognormal\n",
    "from UQpy.transformations import Decorrelate, Correlate"
   ]
  },
  {
   "cell_type": "code",
   "execution_count": null,
   "metadata": {},
   "outputs": [],
   "source": [
    "dist1 = Normal(loc=0.0, scale=1.0)\n",
    "dist2 = Normal(loc=0.0, scale=1.0)\n",
    "Rx = np.array([[1.0, 0.8], [0.8, 1.0]])"
   ]
  },
  {
   "cell_type": "code",
   "execution_count": null,
   "metadata": {},
   "outputs": [],
   "source": [
    "nataf_obj = Nataf(distributions=[dist1, dist2], corr_x=Rx)\n",
    "print('Cz', nataf_obj.corr_z)\n",
    "corr_x = Nataf.distortion_z2x(distributions=[dist1, dist2], corr_z=nataf_obj.corr_z)\n",
    "print('Cx', corr_x)"
   ]
  },
  {
   "cell_type": "code",
   "execution_count": null,
   "metadata": {},
   "outputs": [],
   "source": [
    "dist1 = Gamma(4.0, loc=0.0, scale=1.0)\n",
    "dist2 = Lognormal(s=2., loc=0., scale=np.exp(1))\n",
    "Rx = np.array([[1.0, 0.9], [0.9, 1.0]])\n",
    "nataf_obj = Nataf(distributions=[dist1, dist2], corr_x=Rx)"
   ]
  },
  {
   "cell_type": "code",
   "execution_count": null,
   "metadata": {},
   "outputs": [],
   "source": [
    "samples_x = nataf_obj.rvs(1000)\n",
    "plt.figure()\n",
    "plt.title('non-Gaussian random variables')\n",
    "plt.scatter(samples_x[:, 0], samples_x[:, 1])\n",
    "plt.grid(True)\n",
    "plt.xlabel('$X_1$')\n",
    "plt.ylabel('$X_2$')\n",
    "plt.show()"
   ]
  },
  {
   "cell_type": "code",
   "execution_count": null,
   "metadata": {},
   "outputs": [],
   "source": [
    "nataf_obj.run(samples_x=samples_x, jacobian=True)\n",
    "print(nataf_obj.corr_z)"
   ]
  },
  {
   "cell_type": "code",
   "execution_count": null,
   "metadata": {},
   "outputs": [],
   "source": [
    "plt.figure()\n",
    "plt.title('Correlated standard normal samples')\n",
    "plt.scatter(nataf_obj.samples_z[:, 0], nataf_obj.samples_z[:, 1])\n",
    "plt.grid(True)\n",
    "plt.xlabel('$Z_1$')\n",
    "plt.ylabel('$Z_2$')\n",
    "plt.show()"
   ]
  },
  {
   "cell_type": "code",
   "execution_count": null,
   "metadata": {},
   "outputs": [],
   "source": [
    "samples_u = Decorrelate(nataf_obj.samples_z, nataf_obj.corr_z).samples_u\n",
    "\n",
    "plt.figure()\n",
    "plt.title('Uncorrelated standard normal samples')\n",
    "plt.scatter(samples_u[:, 0], samples_u[:, 1])\n",
    "plt.grid(True)\n",
    "plt.xlabel('$U_1$')\n",
    "plt.ylabel('$U_2$')\n",
    "plt.show()"
   ]
  },
  {
   "cell_type": "code",
   "execution_count": null,
   "metadata": {},
   "outputs": [],
   "source": [
    "samples_z = Correlate(samples_u, nataf_obj.corr_z).samples_z\n",
    "\n",
    "plt.figure()\n",
    "plt.title('Correlated standard normal samples')\n",
    "plt.scatter(samples_z[:, 0], samples_z[:, 1])\n",
    "plt.grid(True)\n",
    "plt.xlabel('$U_1$')\n",
    "plt.ylabel('$U_2$')\n",
    "plt.show()"
   ]
  },
  {
   "cell_type": "code",
   "execution_count": null,
   "metadata": {},
   "outputs": [],
   "source": [
    "dist1 = Gamma(4.0, loc=0.0, scale=1.0)\n",
    "dist2 = Lognormal(s=2., loc=0., scale=np.exp(1))\n",
    "N = 20\n",
    "w3 = np.zeros(N)\n",
    "rho = np.linspace(-0.999, 0.999, N)\n",
    "for i in range(10):\n",
    "    Rho1 = np.array([[1.0, rho[i]], [rho[i], 1.0]])\n",
    "    ww = Nataf([dist1, dist2], corr_x=Rho1).corr_z\n",
    "    w3[i] = ww[0, 1]\n",
    "\n",
    "plt.plot(w3, rho)\n",
    "plt.plot(rho, rho)\n",
    "plt.show()"
   ]
  },
  {
   "cell_type": "code",
   "execution_count": null,
   "metadata": {},
   "outputs": [],
   "source": [
    "# Calculate correlation distortion for the transformation of two random variables from normal to lognormal.\n",
    "# Compute the correlation distortion at various values of Gaussian correlation.\n",
    "\n",
    "N = 20\n",
    "w4 = np.zeros(N)\n",
    "rho = np.linspace(-0.999, 0.999, N)\n",
    "for i in range(N):\n",
    "    Rho1 = np.array([[1.0, rho[i]], [rho[i], 1.0]])\n",
    "    ww = Nataf(distributions=[dist1, dist2], corr_z=Rho1).corr_x\n",
    "    w4[i] = ww[0, 1]\n",
    "\n",
    "plt.plot(rho, w4)\n",
    "plt.plot(rho, rho)\n",
    "plt.show()"
   ]
  },
  {
   "cell_type": "code",
   "execution_count": null,
   "metadata": {},
   "outputs": [],
   "source": [
    "dist1 = Gamma(4.0, loc=0.0, scale=1.0)\n",
    "dist2 = Lognormal(s=2., loc=0., scale=np.exp(1))\n",
    "\n",
    "nataf_obj1 = Nataf(distributions=[dist1, dist2])\n",
    "\n",
    "samples_x = nataf_obj1.rvs(1000)\n",
    "plt.figure()\n",
    "plt.title('Random samples')\n",
    "plt.scatter(samples_x[:, 0], samples_x[:, 1])\n",
    "plt.grid(True)\n",
    "plt.xlabel('$X_1$')\n",
    "plt.ylabel('$X_2$')\n",
    "plt.show()"
   ]
  },
  {
   "cell_type": "code",
   "execution_count": null,
   "metadata": {},
   "outputs": [],
   "source": [
    "nataf_obj1.run(samples_x=samples_x, jacobian=True)\n",
    "\n",
    "plt.figure()\n",
    "plt.title('Random samples')\n",
    "plt.scatter(nataf_obj1.samples_z[:, 0], nataf_obj1.samples_z[:, 1])\n",
    "plt.grid(True)\n",
    "plt.xlabel('$X_1$')\n",
    "plt.ylabel('$X_2$')\n",
    "plt.show()"
   ]
  }
 ],
 "metadata": {
  "kernelspec": {
   "display_name": "Python 3 (ipykernel)",
   "language": "python",
   "name": "python3"
  },
  "language_info": {
   "codemirror_mode": {
    "name": "ipython",
    "version": 3
   },
   "file_extension": ".py",
   "mimetype": "text/x-python",
   "name": "python",
   "nbconvert_exporter": "python",
   "pygments_lexer": "ipython3",
   "version": "3.9.6"
  }
 },
 "nbformat": 4,
 "nbformat_minor": 2
}
