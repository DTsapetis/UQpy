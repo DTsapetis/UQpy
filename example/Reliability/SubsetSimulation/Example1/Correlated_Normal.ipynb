{
 "cells": [
  {
   "cell_type": "markdown",
   "metadata": {},
   "source": [
    "# Subset Simulation for Correlated Normal Random Variables with a Linear Performance Function\n",
    "\n",
    "Michael D. Shields  \n",
    "Associate Professor  \n",
    "Department of Civil & Systems Engineering  \n",
    "Johns Hopkins University  \n",
    "\n",
    "Date: 2/20/2020\n",
    "\n",
    "# Problem Statement\n",
    "This example runs subset simulation for a linear performance function having a specified reliability index $\\beta$ and standard normal random variables with specified correlation using the affine invariate ensemble \"stretch\" sampler and the conventional Modified Metropolis Hastings algorithm. For more details, refer to:\n",
    "- Shields, M.D. and Giovanis, D.G. and Sundar, V.S. \"Subset Simulation for problems with strongly non-Gaussian, highly anisotropic, and degenerate distributions,\" Computers and Structures. (In Review)"
   ]
  },
  {
   "cell_type": "markdown",
   "metadata": {},
   "source": [
    "## 1. Import the necessary libraries"
   ]
  },
  {
   "cell_type": "code",
   "execution_count": null,
   "metadata": {},
   "outputs": [],
   "source": [
    "from UQpy.reliability import SubsetSimulation\n",
    "import matplotlib.pyplot as plt\n",
    "from UQpy.sampling import ModifiedMetropolisHastings, Stretch\n",
    "from UQpy.sampling.input_data import MmhInput, StretchInput\n",
    "import time\n",
    "import numpy as np\n",
    "from UQpy.distributions import MultivariateNormal\n",
    "from UQpy.RunModel import RunModel\n",
    "import scipy.stats as stats"
   ]
  },
  {
   "cell_type": "markdown",
   "metadata": {},
   "source": [
    "## 2. Define the reliability index, correlation, dimension, algorithm, and the number of trials to run."
   ]
  },
  {
   "cell_type": "code",
   "execution_count": null,
   "metadata": {},
   "outputs": [],
   "source": [
    "# Specified Reliability Index\n",
    "beta = 4\n",
    "\n",
    "# Specified Correlation\n",
    "rho = 0.5\n",
    "\n",
    "# Dimension\n",
    "dim = 2\n",
    "\n",
    "# Specify the number of trials to run\n",
    "ntrials = 1\n",
    "\n",
    "# Define the correlation matrix\n",
    "C = np.ones((dim, dim)) * rho\n",
    "np.fill_diagonal(C, 1)\n",
    "print(C)\n",
    "\n",
    "# Print information related to the true probability of failure\n",
    "e, v = np.linalg.eig(np.asarray(C))\n",
    "print(e)\n",
    "print(v)\n",
    "beff = np.sqrt(np.max(e)) * beta\n",
    "print(beff)\n",
    "pf_true = stats.norm.cdf(-beta)\n",
    "print(pf_true)"
   ]
  },
  {
   "cell_type": "markdown",
   "metadata": {},
   "source": [
    "## 3. Execute subset simulation with the MMH algorithm"
   ]
  },
  {
   "cell_type": "code",
   "execution_count": null,
   "metadata": {},
   "outputs": [],
   "source": [
    "pf = np.zeros((ntrials, 1))\n",
    "cov1 = np.zeros((ntrials, 1))\n",
    "cov2 = np.zeros((ntrials, 1))\n",
    "for i in range(ntrials):\n",
    "    model = RunModel(model_script='pfn.py', model_object_name=\"RunPythonModel\", ntasks=1, b_eff=beff, d=dim)\n",
    "    dist = MultivariateNormal(mean=np.zeros((dim)), cov=C)\n",
    "    x = dist.rvs(nsamples=1000, random_state=349857)\n",
    "    input=MmhInput(dimension=dim, log_pdf_target=dist.log_pdf, chains_number=100, random_state=342985)\n",
    "\n",
    "    x_ss = SubsetSimulation(mcmc_input=input, runmodel_object=model, samples_init=x, conditional_probability=0.1,\n",
    "                            samples_number_per_subset=1000 )\n",
    "    pf[i] = x_ss.pf\n",
    "    cov1[i] = x_ss.cov1\n",
    "    cov2[i] = x_ss.cov2"
   ]
  },
  {
   "cell_type": "markdown",
   "metadata": {},
   "source": [
    "## 4. Plot samples from each conditional level and print the subset simulation results"
   ]
  },
  {
   "cell_type": "code",
   "execution_count": null,
   "metadata": {},
   "outputs": [],
   "source": [
    "for i in range(len(x_ss.g)):\n",
    "    plt.scatter(x_ss.samples[i][:, 0], x_ss.samples[i][:, 1], marker='o')\n",
    "plt.show()\n",
    "\n",
    "print('Mean Pf:', np.mean(pf))\n",
    "pf[pf == 0] = 1e-100\n",
    "print('Mean beta: ', -np.mean(stats.norm.ppf(pf)))\n",
    "print('CoV: ', stats.variation(pf))\n",
    "print('CoV beta: ', np.absolute(stats.variation(stats.norm.ppf(pf))))\n",
    "print('CoV log10: ', np.absolute(stats.variation(np.log10(pf))))\n",
    "print(np.mean(cov1))\n",
    "print(np.mean(cov2))"
   ]
  },
  {
   "cell_type": "markdown",
   "metadata": {},
   "source": [
    "## 5. Plot histograms of the failure probabilities and the reliability indices from subset simulation"
   ]
  },
  {
   "cell_type": "code",
   "execution_count": null,
   "metadata": {},
   "outputs": [],
   "source": [
    "plt.hist(pf)\n",
    "plt.show()\n",
    "\n",
    "beta = -stats.norm.ppf(pf)\n",
    "plt.hist(beta)\n",
    "plt.show()"
   ]
  },
  {
   "cell_type": "markdown",
   "metadata": {},
   "source": [
    "## 6. Execute subset simulation with the Stretch algorithm"
   ]
  },
  {
   "cell_type": "code",
   "execution_count": null,
   "metadata": {},
   "outputs": [],
   "source": [
    "pf = np.zeros((ntrials, 1))\n",
    "cov1 = np.zeros((ntrials, 1))\n",
    "cov2 = np.zeros((ntrials, 1))\n",
    "for i in range(ntrials):\n",
    "    model = RunModel(model_script='pfn.py', model_object_name=\"RunPythonModel\", ntasks=1, b_eff=beff, d=dim)\n",
    "    dist = MultivariateNormal(mean=np.zeros((dim)), cov=C)\n",
    "    x = dist.rvs(nsamples=1000, random_state=349857)\n",
    "\n",
    "    input = StretchInput(dimension=dim, log_pdf_target=dist.log_pdf, chains_number=100, random_state=342985)\n",
    "\n",
    "    x_ss = SubsetSimulation(mcmc_input=input, runmodel_object=model, samples_init=x, conditional_probability=0.1,\n",
    "                            samples_number_per_subset=1000)\n",
    "    pf[i] = x_ss.pf\n",
    "    cov1[i] = x_ss.cov1\n",
    "    cov2[i] = x_ss.cov2"
   ]
  },
  {
   "cell_type": "markdown",
   "metadata": {},
   "source": [
    "## 7. Plot samples from each conditional level and print the subset simulation results"
   ]
  },
  {
   "cell_type": "code",
   "execution_count": null,
   "metadata": {},
   "outputs": [],
   "source": [
    "for i in range(len(x_ss.g)):\n",
    "    plt.scatter(x_ss.samples[i][:, 0], x_ss.samples[i][:, 1], marker='o')\n",
    "plt.show()\n",
    "\n",
    "print('Mean Pf:', np.mean(pf))\n",
    "pf[pf == 0] = 1e-100\n",
    "print('Mean beta: ', -np.mean(stats.norm.ppf(pf)))\n",
    "print('CoV: ', stats.variation(pf))\n",
    "print('CoV beta: ', np.absolute(stats.variation(stats.norm.ppf(pf))))\n",
    "print('CoV log10: ', np.absolute(stats.variation(np.log10(pf))))\n",
    "print(np.mean(cov1))\n",
    "print(np.mean(cov2))"
   ]
  },
  {
   "cell_type": "markdown",
   "metadata": {},
   "source": [
    "## 8. Plot histograms of the failure probabilities and the reliability indices from subset simulation"
   ]
  },
  {
   "cell_type": "code",
   "execution_count": null,
   "metadata": {},
   "outputs": [],
   "source": [
    "plt.hist(pf)\n",
    "plt.show()\n",
    "\n",
    "beta = -stats.norm.ppf(pf)\n",
    "plt.hist(beta)\n",
    "plt.show()"
   ]
  }
 ],
 "metadata": {
  "kernelspec": {
   "display_name": "Python 3 (ipykernel)",
   "language": "python",
   "name": "python3"
  },
  "language_info": {
   "codemirror_mode": {
    "name": "ipython",
    "version": 3
   },
   "file_extension": ".py",
   "mimetype": "text/x-python",
   "name": "python",
   "nbconvert_exporter": "python",
   "pygments_lexer": "ipython3",
   "version": "3.9.6"
  }
 },
 "nbformat": 4,
 "nbformat_minor": 2
}
