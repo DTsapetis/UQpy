{
 "cells": [
  {
   "cell_type": "markdown",
   "metadata": {},
   "source": [
    "# Subset Simulation Example 1\n",
    "Author: Michael D. Shields\n",
    "Date: May 23, 2018, Last modified by Dimitris Giovanis on 4/8/2019."
   ]
  },
  {
   "cell_type": "markdown",
   "metadata": {},
   "source": [
    "This example runs subset simulation with the component-wise modified Metropolis-Hastings algorithm for MCMC to estimate the probability of failure of a system with linear performance function and 2-dimensional standard unit normal random variables, $u_i$ given by:\n",
    "\n",
    "\n",
    "$g(\\textbf{U}) = -\\frac{1}{\\sqrt{d}}\\sum_{i=1}^{d} u_i + \\beta$\n",
    "\n",
    "\n",
    "The probability of failure in this case is $P(F) ≈ 10^{−3}$ for $\\beta$ = 3.0902"
   ]
  },
  {
   "cell_type": "code",
   "execution_count": 1,
   "metadata": {},
   "outputs": [],
   "source": [
    "from UQpy.Reliability import SubsetSimulation\n",
    "import matplotlib.pyplot as plt\n",
    "import time\n",
    "import numpy as np\n",
    "from UQpy.RunModel import RunModel"
   ]
  },
  {
   "cell_type": "markdown",
   "metadata": {},
   "source": [
    "Here, we use 1000 samples per subset and call the performance function using a Python script (provided) called 'pfn.py' that evaluates $g(U)$ as defined above. The conditional probabilities for each level are "
   ]
  },
  {
   "cell_type": "code",
   "execution_count": 2,
   "metadata": {},
   "outputs": [
    {
     "ename": "TypeError",
     "evalue": "__init__() missing 1 required positional argument: 'runmodel_object'",
     "output_type": "error",
     "traceback": [
      "\u001b[1;31m---------------------------------------------------------------------------\u001b[0m",
      "\u001b[1;31mTypeError\u001b[0m                                 Traceback (most recent call last)",
      "\u001b[1;32m<ipython-input-2-1969a3bccffb>\u001b[0m in \u001b[0;36m<module>\u001b[1;34m\u001b[0m\n\u001b[0;32m      2\u001b[0m x_ss = SubsetSimulation(dimension=2, nsamples_ss=1000, pdf_proposal_scale=1, pdf_target_type=\"marginal_pdf\", \n\u001b[0;32m      3\u001b[0m                         \u001b[0mpdf_target\u001b[0m\u001b[1;33m=\u001b[0m\u001b[1;33m[\u001b[0m\u001b[1;34m'normal'\u001b[0m\u001b[1;33m,\u001b[0m \u001b[1;34m'normal'\u001b[0m\u001b[1;33m]\u001b[0m\u001b[1;33m,\u001b[0m \u001b[0mpdf_target_params\u001b[0m \u001b[1;33m=\u001b[0m \u001b[1;33m[\u001b[0m\u001b[1;33m[\u001b[0m\u001b[1;36m0\u001b[0m\u001b[1;33m,\u001b[0m \u001b[1;36m1\u001b[0m\u001b[1;33m]\u001b[0m\u001b[1;33m,\u001b[0m \u001b[1;33m[\u001b[0m\u001b[1;36m0\u001b[0m\u001b[1;33m,\u001b[0m \u001b[1;36m1\u001b[0m\u001b[1;33m]\u001b[0m\u001b[1;33m]\u001b[0m\u001b[1;33m,\u001b[0m\u001b[1;33m\u001b[0m\u001b[1;33m\u001b[0m\u001b[0m\n\u001b[1;32m----> 4\u001b[1;33m                             algorithm='MMH', model_script='pfn.py',model_object_name=\"RunPythonModel\", p_cond=0.1)\n\u001b[0m\u001b[0;32m      5\u001b[0m \u001b[0mt_run\u001b[0m \u001b[1;33m=\u001b[0m \u001b[0mtime\u001b[0m\u001b[1;33m.\u001b[0m\u001b[0mtime\u001b[0m\u001b[1;33m(\u001b[0m\u001b[1;33m)\u001b[0m\u001b[1;33m-\u001b[0m\u001b[0mt\u001b[0m\u001b[1;33m\u001b[0m\u001b[1;33m\u001b[0m\u001b[0m\n\u001b[0;32m      6\u001b[0m \u001b[0mprint\u001b[0m\u001b[1;33m(\u001b[0m\u001b[1;34m\"Probability of failure: {0}\"\u001b[0m\u001b[1;33m.\u001b[0m\u001b[0mformat\u001b[0m\u001b[1;33m(\u001b[0m\u001b[0mx_ss\u001b[0m\u001b[1;33m.\u001b[0m\u001b[0mpf\u001b[0m\u001b[1;33m)\u001b[0m\u001b[1;33m)\u001b[0m\u001b[1;33m\u001b[0m\u001b[1;33m\u001b[0m\u001b[0m\n",
      "\u001b[1;31mTypeError\u001b[0m: __init__() missing 1 required positional argument: 'runmodel_object'"
     ]
    }
   ],
   "source": [
    "t = time.time()\n",
    "x_ss = SubsetSimulation(dimension=2, nsamples_ss=1000, pdf_proposal_scale=1, pdf_target_type=\"marginal_pdf\", \n",
    "                        pdf_target=['normal', 'normal'], pdf_target_params = [[0, 1], [0, 1]],\n",
    "                            algorithm='MMH', model_script='pfn.py',model_object_name=\"RunPythonModel\", p_cond=0.1)\n",
    "t_run = time.time()-t\n",
    "print(\"Probability of failure: {0}\".format(x_ss.pf))\n",
    "print(\"thresholds: {0}\".format(x_ss.g_level))"
   ]
  },
  {
   "cell_type": "markdown",
   "metadata": {},
   "source": [
    "# Plots"
   ]
  },
  {
   "cell_type": "code",
   "execution_count": null,
   "metadata": {},
   "outputs": [],
   "source": [
    "# Plot\n",
    "dx, dy = 0.05, 0.05\n",
    "y, x = np.mgrid[slice(-4, 5 + dy, dy),\n",
    "                slice(-4, 5 + dx, dx)]\n",
    "z = np.zeros_like(y)\n",
    "for i in range(x.shape[0]):\n",
    "    for j in range(x.shape[1]):\n",
    "        pq = np.array([y[i, j], x[i, j]]).reshape(1, -1)\n",
    "        z[i, j] = RunModel(samples=pq.reshape(1, -1), model_script='pfn.py', model_object_name=\"RunPythonModel\").qoi_list[0][0]\n",
    "        \n",
    "plt.figure() \n",
    "plt.contour(x, y, z,[0],colors='r')  # LSF\n",
    "for j in range(len(x_ss.samples)):\n",
    "    plt.scatter(x_ss.samples[j][:,0],x_ss.samples[j][:,1],marker='.')\n",
    "\n",
    "plt.axis('equal')\n",
    "plt.grid(True)\n",
    "plt.xlabel(r'$U_1$')\n",
    "plt.ylabel(r'$U_2$')\n",
    "plt.xlim([-3, 5])\n",
    "plt.ylim([-3, 5])\n",
    "plt.tight_layout()\n",
    "plt.show()"
   ]
  },
  {
   "cell_type": "code",
   "execution_count": null,
   "metadata": {},
   "outputs": [],
   "source": []
  }
 ],
 "metadata": {
  "kernelspec": {
   "display_name": "Python 3",
   "language": "python",
   "name": "python3"
  },
  "language_info": {
   "codemirror_mode": {
    "name": "ipython",
    "version": 3
   },
   "file_extension": ".py",
   "mimetype": "text/x-python",
   "name": "python",
   "nbconvert_exporter": "python",
   "pygments_lexer": "ipython3",
   "version": "3.7.9"
  }
 },
 "nbformat": 4,
 "nbformat_minor": 2
}
