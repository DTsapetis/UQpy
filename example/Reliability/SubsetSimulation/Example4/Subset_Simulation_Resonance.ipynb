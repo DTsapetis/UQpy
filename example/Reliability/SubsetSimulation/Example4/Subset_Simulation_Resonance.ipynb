{
 "cells": [
  {
   "cell_type": "markdown",
   "metadata": {},
   "source": [
    "# Subset Simulation for a SDOF resonance problem\n",
    "Michael D. Shields<br>\n",
    "Johns Hopkins University<br>\n",
    "11/3/18\n",
    "\n",
    "Here, the Modified Metropolis Hastings Algorithm for MCMC is compared to the Affine Invariant Ensemble sampler for MCMC in subset simulation to estimate probability of failure of a single degree of freedom system subjected to harmonic excitation with a given frequency. "
   ]
  },
  {
   "cell_type": "code",
   "execution_count": null,
   "metadata": {},
   "outputs": [],
   "source": [
    "from UQpy.reliability import SubsetSimulation\n",
    "from UQpy.RunModel import RunModel\n",
    "from UQpy.sampling import MmhInput,StretchInput, Stretch, ModifiedMetropolisHastings, MonteCarloSampling\n",
    "import numpy as np\n",
    "import scipy.stats as stats\n",
    "import matplotlib.pyplot as plt\n",
    "import time\n",
    "from Resonance_pfn import RunPythonModel\n",
    "from UQpy.distributions import Normal, JointIndependent, MultivariateNormal"
   ]
  },
  {
   "cell_type": "markdown",
   "metadata": {},
   "source": [
    "## Problem Definition\n",
    "A stochastic single degree of freedom system having stiffness $k\\sim N(\\mu_k,\\sigma_k)$ and mass $m\\sim N(\\mu_m,\\sigma_m)$ is excited by a sinusoidal load with frequency $\\omega \\text{rad/sec}$. The system is undamped and has equation of motion given by:\n",
    "\n",
    "$m\\ddot{u}+ku=sin(\\omega t)$\n",
    "\n",
    "Resonance occurs when the natural frequency of the system $\\omega_n=\\sqrt{\\dfrac{k}{m}}=\\omega\\text{ rad/sec}$. To avoid resonance, we consider failure of the system to be associated with the natural frequecy being within a threshold, $\\epsilon$ of the excitation frequency $\\omega$. That is, failure of the system occurs when $\\omega-\\epsilon\\le\\sqrt{\\dfrac{k}{m}}\\le\\omega+\\epsilon$.\n",
    "\n",
    "Here, we use subset simulation to evaluate the probability of failure given by:\n",
    "\n",
    "$P\\left(\\omega-\\epsilon\\le\\sqrt{\\dfrac{k}{m}}\\le\\omega+\\epsilon\\right)=P\\left(k-(\\omega-\\epsilon)^2m\\le0 \\cup (\\omega+\\epsilon)^2m-k\\le 0\\right)$"
   ]
  },
  {
   "cell_type": "markdown",
   "metadata": {},
   "source": [
    "## Set Parameters\n",
    "$\\omega=5$<br>\n",
    "$\\epsilon = 0.0001$<br>\n",
    "$\\mu_k=125$<br>\n",
    "$\\sigma_k=20$<br>\n",
    "$\\mu_m=5$<br>\n",
    "$\\sigma_m=1$<br>"
   ]
  },
  {
   "cell_type": "code",
   "execution_count": null,
   "metadata": {},
   "outputs": [],
   "source": [
    "omega = 6\n",
    "epsilon = 0.0001\n",
    "mu_m = 5\n",
    "sigma_m = 1\n",
    "mu_k = 125\n",
    "sigma_k = 20\n",
    "m = np.linspace(mu_m - 3 * sigma_m, mu_m + 3 * sigma_m, 101)\n",
    "k_hi = (omega - epsilon) ** 2 * m\n",
    "k_lo = (omega + epsilon) ** 2 * m"
   ]
  },
  {
   "cell_type": "markdown",
   "metadata": {},
   "source": [
    "Plot the failure domain"
   ]
  },
  {
   "cell_type": "code",
   "execution_count": null,
   "metadata": {},
   "outputs": [],
   "source": [
    "x = np.linspace(2, 8, 1000)\n",
    "y = np.linspace(25, 225, 1000)\n",
    "\n",
    "X, Y = np.meshgrid(x, y)\n",
    "Z = np.zeros((1000, 1000))\n",
    "\n",
    "d1 = Normal(loc=5, scale=1)\n",
    "d2 = Normal(loc=125, scale=20)\n",
    "\n",
    "dist = JointIndependent(marginals=[d1, d2])\n",
    "\n",
    "for i in range(len(x)):\n",
    "    Z[i, :] = dist.pdf(np.append(np.atleast_2d(X[i, :]), np.atleast_2d(Y[i, :]), 0).T)\n",
    "\n",
    "fig, ax = plt.subplots()\n",
    "CS = ax.contour(X, Y, Z, 15)\n",
    "plt.plot(m, k_hi, 'k')\n",
    "plt.plot(m, k_lo, 'k')\n",
    "# plt.fill_between(m,k_lo,k_hi)\n",
    "plt.xlim([mu_m - 3 * sigma_m, mu_m + 3 * sigma_m])\n",
    "plt.ylim([mu_k - 3 * sigma_k, mu_k + 3 * sigma_k])\n",
    "plt.xlabel(r'Mass ($m$)')\n",
    "plt.ylabel(r'Stiffness ($k$)')\n",
    "plt.grid(True)\n",
    "plt.tight_layout()\n",
    "plt.savefig('Resonance_pdf.pdf')\n",
    "plt.show()"
   ]
  },
  {
   "cell_type": "code",
   "execution_count": null,
   "metadata": {},
   "outputs": [],
   "source": [
    "fig, ax = plt.subplots()\n",
    "CS = ax.contour(X, Y, Z, 15)\n",
    "plt.plot(m, k_hi, 'k')\n",
    "plt.plot(m, k_lo, 'k')\n",
    "# plt.fill_between(m,k_lo,k_hi)\n",
    "plt.xlim([3.5, 4.5])\n",
    "plt.ylim([130, 150])\n",
    "plt.xlabel(r'Mass ($m$)')\n",
    "plt.ylabel(r'Stiffness ($k$)')\n",
    "plt.grid(True)\n",
    "plt.tight_layout()\n",
    "plt.savefig('Resonance_pdf_zoom.pdf')\n",
    "plt.show()"
   ]
  },
  {
   "cell_type": "code",
   "execution_count": null,
   "metadata": {},
   "outputs": [],
   "source": [
    "model = RunModel(model_script='Resonance_pfn.py', model_object_name=\"RunPythonModel\", ntasks=1)"
   ]
  },
  {
   "cell_type": "markdown",
   "metadata": {},
   "source": [
    "## Monte Carlo Simulation"
   ]
  },
  {
   "cell_type": "code",
   "execution_count": null,
   "metadata": {},
   "outputs": [],
   "source": [
    "x_mcs = MonteCarloSampling(distributions=[d1, d2])\n",
    "x_mcs.run(samples_number=1000000)"
   ]
  },
  {
   "cell_type": "code",
   "execution_count": null,
   "metadata": {},
   "outputs": [],
   "source": [
    "model.run(samples=x_mcs.samples)"
   ]
  },
  {
   "cell_type": "code",
   "execution_count": null,
   "metadata": {},
   "outputs": [],
   "source": [
    "A = np.asarray(model.qoi_list) < 0\n",
    "pf = np.shape(np.asarray(model.qoi_list)[np.asarray(model.qoi_list) < 0])[0] / 1000000\n",
    "print(pf)"
   ]
  },
  {
   "cell_type": "code",
   "execution_count": null,
   "metadata": {},
   "outputs": [],
   "source": [
    "ntrials = 1\n",
    "pf_stretch = np.zeros((ntrials, 1))\n",
    "cov1_stretch = np.zeros((ntrials, 1))\n",
    "cov2_stretch = np.zeros((ntrials, 1))\n",
    "m = np.ones(2)\n",
    "m[0] = 5\n",
    "m[1] = 125\n",
    "C = np.eye(2)\n",
    "C[0, 0] = 1\n",
    "C[1, 1] = 20 ** 2\n",
    "\n",
    "for i in range(ntrials):\n",
    "    model = RunModel(model_script='Resonance_pfn.py', model_object_name=\"RunPythonModel\", ntasks=1)\n",
    "    dist = MultivariateNormal(mean=m, cov=C)\n",
    "    xx = dist.rvs(nsamples=1000, random_state=123)\n",
    "    xx1 = dist.rvs(nsamples=100, random_state=123)\n",
    "\n",
    "    input=StretchInput(dimension=2, chains_number=100, log_pdf_target=dist.log_pdf)\n",
    "    x_ss_stretch = SubsetSimulation(mcmc_input=input, runmodel_object=model, conditional_probability=0.1,\n",
    "                                    samples_number_per_subset=1000, samples_init=xx, )\n",
    "\n",
    "    pf_stretch[i] = x_ss_stretch.pf\n",
    "    cov1_stretch[i] = x_ss_stretch.cov1\n",
    "    cov2_stretch[i] = x_ss_stretch.cov2"
   ]
  },
  {
   "cell_type": "code",
   "execution_count": null,
   "metadata": {},
   "outputs": [],
   "source": [
    "print(pf_stretch)\n",
    "print(np.mean(pf_stretch, 0))\n",
    "b_stretch = -stats.norm.ppf(pf_stretch)\n",
    "print(np.mean(b_stretch, 0))\n",
    "print(stats.variation(b_stretch))"
   ]
  },
  {
   "cell_type": "code",
   "execution_count": null,
   "metadata": {},
   "outputs": [],
   "source": [
    "for i in range(len(x_ss_stretch.g)):\n",
    "    plt.scatter(x_ss_stretch.samples[i][:, 0], x_ss_stretch.samples[i][:, 1], marker='o')\n",
    "\n",
    "plt.xlim([mu_m - 3 * sigma_m, mu_m + 3 * sigma_m])\n",
    "plt.ylim([mu_k - 3 * sigma_k, mu_k + 3 * sigma_k])\n",
    "plt.xlabel(r'Mass ($m$)')\n",
    "plt.ylabel(r'Stiffness ($k$)')\n",
    "plt.grid(True)\n",
    "plt.tight_layout()\n",
    "plt.savefig('Resonance_Stretch.pdf')\n",
    "plt.show()"
   ]
  },
  {
   "cell_type": "code",
   "execution_count": null,
   "metadata": {},
   "outputs": [],
   "source": [
    "ntrials = 100\n",
    "pf_mmh = np.zeros((ntrials, 1))\n",
    "cov1_mmh = np.zeros((ntrials, 1))\n",
    "cov2_mmh = np.zeros((ntrials, 1))\n",
    "m = np.ones(2)\n",
    "m[0] = 5\n",
    "m[1] = 125\n",
    "C = np.eye(2)\n",
    "C[0, 0] = 1\n",
    "C[1, 1] = 20 ** 2\n",
    "\n",
    "for i in range(ntrials):\n",
    "    model = RunModel(model_script='Resonance_pfn.py', model_object_name=\"RunPythonModel\", ntasks=1)\n",
    "    dist = MultivariateNormal(mean=m, cov=C)\n",
    "    xx = dist.rvs(nsamples=1000, random_state=123)\n",
    "    xx1 = dist.rvs(nsamples=100, random_state=123)\n",
    "\n",
    "    input = MmhInput(dimension=2, chains_number=100, log_pdf_target=dist.log_pdf)\n",
    "    x_ss_mmh = SubsetSimulation(mcmc_input=input, runmodel_object=model, conditional_probability=0.1,\n",
    "                                samples_number_per_subset=1000, samples_init=xx)\n",
    "\n",
    "    pf_mmh[i] = x_ss_mmh.pf\n",
    "    cov1_mmh[i] = x_ss_mmh.cov1\n",
    "    cov2_mmh[i] = x_ss_mmh.cov2"
   ]
  },
  {
   "cell_type": "code",
   "execution_count": null,
   "metadata": {},
   "outputs": [],
   "source": [
    "pf_mmh[pf_mmh == 0] = 1e-100\n",
    "print(np.mean(pf_mmh, 0))\n",
    "b_mmh = -stats.norm.ppf(pf_mmh)\n",
    "print(np.mean(b_mmh, 0))\n",
    "print(stats.variation(b_mmh))"
   ]
  },
  {
   "cell_type": "code",
   "execution_count": null,
   "metadata": {},
   "outputs": [],
   "source": [
    "for i in range(len(x_ss_mmh.g)):\n",
    "    plt.scatter(x_ss_mmh.samples[i][:, 0], x_ss_mmh.samples[i][:, 1], marker='o')\n",
    "\n",
    "plt.xlim([mu_m - 3 * sigma_m, mu_m + 3 * sigma_m])\n",
    "plt.ylim([mu_k - 3 * sigma_k, mu_k + 3 * sigma_k])\n",
    "plt.xlabel(r'Mass ($m$)')\n",
    "plt.ylabel(r'Stiffness ($k$)')\n",
    "plt.grid(True)\n",
    "plt.tight_layout()\n",
    "plt.savefig('Resonance_MMH.pdf')\n",
    "plt.show()"
   ]
  },
  {
   "cell_type": "code",
   "execution_count": null,
   "metadata": {},
   "outputs": [],
   "source": []
  }
 ],
 "metadata": {
  "kernelspec": {
   "display_name": "Python 3 (ipykernel)",
   "language": "python",
   "name": "python3"
  },
  "language_info": {
   "codemirror_mode": {
    "name": "ipython",
    "version": 3
   },
   "file_extension": ".py",
   "mimetype": "text/x-python",
   "name": "python",
   "nbconvert_exporter": "python",
   "pygments_lexer": "ipython3",
   "version": "3.9.6"
  }
 },
 "nbformat": 4,
 "nbformat_minor": 2
}
