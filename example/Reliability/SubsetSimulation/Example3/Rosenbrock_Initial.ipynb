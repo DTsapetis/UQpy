{
 "cells": [
  {
   "cell_type": "code",
   "execution_count": null,
   "metadata": {},
   "outputs": [],
   "source": [
    "from UQpy.reliability import SubsetSimulation\n",
    "import matplotlib.pyplot as plt\n",
    "from UQpy.sampling.input_data import MmhInput, StretchInput\n",
    "from UQpy.sampling import ModifiedMetropolisHastings, Stretch\n",
    "# First import the file that contains the newly defined Rosenbrock distribution\n",
    "from Rosenbrock import Rosenbrock\n",
    "import time\n",
    "import numpy as np\n",
    "# Import this newly defined Rosenbrock distribution into the Distributions module\n",
    "from UQpy.distributions import Normal\n",
    "from UQpy.RunModel import RunModel\n",
    "import scipy.stats as stats"
   ]
  },
  {
   "cell_type": "markdown",
   "metadata": {},
   "source": [
    "MMH Initial Samples"
   ]
  },
  {
   "cell_type": "code",
   "execution_count": null,
   "metadata": {},
   "outputs": [],
   "source": [
    "model = RunModel(model_script='Rosenbrock_pfn.py', model_object_name=\"RunPythonModel\", ntasks=1)\n",
    "dist = Rosenbrock(p=100.)\n",
    "dist_prop1 = Normal(loc=0, scale=1)\n",
    "dist_prop2 = Normal(loc=0, scale=10)\n",
    "\n",
    "x = stats.norm.rvs(loc=0, scale=1, size=(100, 2), random_state=83276)\n",
    "\n",
    "mcmc_init1 = ModifiedMetropolisHastings(mmh_input=MmhInput(dimension=2, log_pdf_target=dist.log_pdf, seed=x,\n",
    "                                                           burn_length=1000, proposal=[dist_prop1, dist_prop2],\n",
    "                                                           random_state=8765))\n",
    "mcmc_init1.run(10000)\n",
    "\n",
    "input=StretchInput(log_pdf_target=dist.log_pdf, dimension=2, chains_number=1000, random_state=38546)\n",
    "x_ss_MMH = SubsetSimulation(mcmc_input=input, runmodel_object=model, conditional_probability=0.1,\n",
    "                            samples_number_per_subset=10000, samples_init=mcmc_init1.samples)"
   ]
  },
  {
   "cell_type": "code",
   "execution_count": null,
   "metadata": {},
   "outputs": [],
   "source": [
    "for i in range(len(x_ss_MMH.g)):\n",
    "    plt.scatter(x_ss_MMH.samples[i][:, 0], x_ss_MMH.samples[i][:, 1], marker='o')\n",
    "plt.grid(True)\n",
    "plt.xlabel(r'$X_1$')\n",
    "plt.ylabel(r'$X_2$')\n",
    "plt.yticks(np.arange(-20, 180, step=20))\n",
    "plt.xlim((-10, 15))\n",
    "plt.tight_layout()\n",
    "plt.savefig('Rosenbrock_MMH.pdf')\n",
    "plt.show()"
   ]
  },
  {
   "cell_type": "code",
   "execution_count": null,
   "metadata": {},
   "outputs": [],
   "source": [
    "print(x_ss_MMH.pf)"
   ]
  },
  {
   "cell_type": "markdown",
   "metadata": {},
   "source": [
    "Stretch Initial Samples"
   ]
  },
  {
   "cell_type": "code",
   "execution_count": null,
   "metadata": {},
   "outputs": [],
   "source": [
    "model = RunModel(model_script='Rosenbrock_pfn.py', model_object_name=\"RunPythonModel\", ntasks=1)\n",
    "dist = Rosenbrock(p=100.)\n",
    "\n",
    "x = stats.norm.rvs(loc=0, scale=1, size=(100, 2), random_state=83276)\n",
    "\n",
    "mcmc_init2 = Stretch(stretch_input=StretchInput(dimension=2, log_pdf_target=dist.log_pdf, seed=x,\n",
    "                                                burn_length=1000, random_state=8765))\n",
    "mcmc_init2.run(10000)\n",
    "\n",
    "input=StretchInput(log_pdf_target=dist.log_pdf, dimension=2, chains_number=1000, random_state=83456)\n",
    "x_ss_Stretch = SubsetSimulation(mcmc_input=input, runmodel_object=model, conditional_probability=0.1,\n",
    "                                samples_number_per_subset=10000, samples_init=mcmc_init2.samples)"
   ]
  },
  {
   "cell_type": "code",
   "execution_count": null,
   "metadata": {},
   "outputs": [],
   "source": [
    "for i in range(len(x_ss_Stretch.g)):\n",
    "    plt.scatter(x_ss_Stretch.samples[i][:, 0], x_ss_Stretch.samples[i][:, 1], marker='o')\n",
    "plt.grid(True)\n",
    "plt.xlabel(r'$X_1$')\n",
    "plt.ylabel(r'$X_2$')\n",
    "plt.yticks(np.arange(-20, 180, step=20))\n",
    "plt.xlim((-10, 15))\n",
    "plt.tight_layout()\n",
    "plt.savefig('Rosenbrock_Stretch.pdf')\n",
    "plt.show()"
   ]
  },
  {
   "cell_type": "code",
   "execution_count": null,
   "metadata": {},
   "outputs": [],
   "source": [
    "print(x_ss_Stretch.pf)"
   ]
  },
  {
   "cell_type": "code",
   "execution_count": null,
   "metadata": {},
   "outputs": [],
   "source": [
    "plt.figure()\n",
    "plt.plot(mcmc_init2.samples[:, 0], mcmc_init2.samples[:, 1], 'o')\n",
    "plt.plot(mcmc_init1.samples[:, 0], mcmc_init1.samples[:, 1], 'x')\n",
    "plt.grid(True)\n",
    "plt.xlabel(r'$X_1$')\n",
    "plt.ylabel(r'$X_2$')\n",
    "plt.yticks(np.arange(-20, 180, step=20))\n",
    "plt.xlim((-10, 15))\n",
    "plt.tight_layout()\n",
    "plt.savefig('Rosenbrock_Compare.pdf')\n",
    "plt.show()"
   ]
  },
  {
   "cell_type": "code",
   "execution_count": null,
   "metadata": {},
   "outputs": [],
   "source": []
  }
 ],
 "metadata": {
  "kernelspec": {
   "display_name": "Python 3 (ipykernel)",
   "language": "python",
   "name": "python3"
  },
  "language_info": {
   "codemirror_mode": {
    "name": "ipython",
    "version": 3
   },
   "file_extension": ".py",
   "mimetype": "text/x-python",
   "name": "python",
   "nbconvert_exporter": "python",
   "pygments_lexer": "ipython3",
   "version": "3.9.6"
  }
 },
 "nbformat": 4,
 "nbformat_minor": 2
}
