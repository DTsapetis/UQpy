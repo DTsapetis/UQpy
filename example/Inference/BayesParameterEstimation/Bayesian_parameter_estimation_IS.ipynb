{
 "cells": [
  {
   "cell_type": "markdown",
   "metadata": {},
   "source": [
    "## Bayesian parameter estimation using Importance Sampling\n",
    "\n",
    "In this notebook we illustrate another way to sample from a posterior pdf, that is, using importance sampling. One samples from a proposal distribution, then the samples are weighted to account for the discrepancy between the proposal pdf and the target posterior pdf. The BayesParameterEstimation class using IS returns samples from the proposal and weigths for each sample. If one requires a set of un-weighted samples, one can use the resample function from UQpy.Utilities. This notebook also illustrates the use of simple diagnostics for IS."
   ]
  },
  {
   "cell_type": "code",
   "execution_count": null,
   "metadata": {},
   "outputs": [],
   "source": [
    "import numpy as np\n",
    "import matplotlib.pyplot as plt\n",
    "from UQpy.inference import DistributionModel, BayesParameterEstimation, ComputationalModel\n",
    "from UQpy.RunModel import RunModel  # required to run the quadratic model\n",
    "from sklearn.neighbors import KernelDensity  # for the plots\n",
    "from UQpy.distributions import JointIndependent, Uniform, Lognormal, Normal\n",
    "from UQpy.sampling import ISInput"
   ]
  },
  {
   "cell_type": "code",
   "execution_count": null,
   "metadata": {},
   "outputs": [],
   "source": [
    "def pdf_from_kde(domain, samples1d):\n",
    "    bandwidth = 1.06 * np.std(samples1d) * samples1d.size ** (-1 / 5)\n",
    "    kde = KernelDensity(bandwidth=bandwidth).fit(samples1d.reshape((-1, 1)))\n",
    "    log_dens = kde.score_samples(domain)\n",
    "    return np.exp(log_dens)"
   ]
  },
  {
   "cell_type": "markdown",
   "metadata": {},
   "source": [
    "## Probability model\n",
    "\n",
    "In the following we learn the mean and covariance of a univariate gaussian distribution from data.\n",
    "\n",
    "First, for the sake of this example, we generate fake data from a gaussian distribution with mean 10 and standard deviation 1."
   ]
  },
  {
   "cell_type": "code",
   "execution_count": null,
   "metadata": {},
   "outputs": [],
   "source": [
    "# Generate data from a probability model, here a Gaussian pdf, then learn its parameters,\n",
    "# mean and covariance, from this data\n",
    "\n",
    "np.random.seed(100)\n",
    "mu, sigma = 10, 1  # true mean and standard deviation\n",
    "data = np.random.normal(mu, sigma, 100).reshape((-1, 1))\n",
    "np.random.seed()\n",
    "\n",
    "# plot the data and true distribution\n",
    "count, bins, ignored = plt.hist(data, 30, density=True)\n",
    "plt.plot(bins, 1 / (sigma * np.sqrt(2 * np.pi)) * np.exp(- (bins - mu) ** 2 / (2 * sigma ** 2)),\n",
    "         linewidth=2, color='r')\n",
    "plt.title('data as histogram and true distribution to be estimated')\n",
    "plt.show()"
   ]
  },
  {
   "cell_type": "code",
   "execution_count": null,
   "metadata": {},
   "outputs": [],
   "source": [
    "p0 = Uniform(loc=0., scale=15)\n",
    "p1 = Lognormal(s=1., loc=0., scale=1.)\n",
    "prior = JointIndependent(marginals=[p0, p1])\n",
    "\n",
    "# create an instance of class Model\n",
    "candidate_model = DistributionModel(distributions=Normal(loc=None, scale=None), parameters_number=2, prior=prior)"
   ]
  },
  {
   "cell_type": "markdown",
   "metadata": {},
   "source": [
    "Learn the unknown parameters using IS. If no proposal is given, the samples are sampled from the prior."
   ]
  },
  {
   "cell_type": "code",
   "execution_count": null,
   "metadata": {},
   "outputs": [],
   "source": [
    "bayes_estimator = \\\n",
    "    BayesParameterEstimation.create_with_importance_sampling(inference_model=candidate_model,\n",
    "                                                             data=data,\n",
    "                                                             is_input=ISInput(),\n",
    "                                                             samples_number=50000)"
   ]
  },
  {
   "cell_type": "code",
   "execution_count": null,
   "metadata": {},
   "outputs": [],
   "source": [
    "s_prior = bayes_estimator.sampler.samples\n",
    "bayes_estimator.sampler.resample()\n",
    "s_posterior = bayes_estimator.sampler.unweighted_samples\n",
    "\n",
    "# print results\n",
    "fig, ax = plt.subplots(1, 2, figsize=(10, 4))\n",
    "\n",
    "domain = np.linspace(0, 15, 200)[:, np.newaxis]\n",
    "pdf_ = pdf_from_kde(domain, s_posterior[:, 0])\n",
    "ax[0].plot(domain, pdf_, label='posterior')\n",
    "pdf_ = pdf_from_kde(domain, s_prior[:, 0])\n",
    "ax[0].plot(domain, pdf_, label='prior')\n",
    "ax[0].legend()\n",
    "ax[0].set_title('theta 1')\n",
    "\n",
    "domain = np.linspace(0, 2, 200)[:, np.newaxis]\n",
    "pdf_ = pdf_from_kde(domain, s_posterior[:, 1])\n",
    "ax[1].plot(domain, pdf_, label='posterior')\n",
    "pdf_ = pdf_from_kde(domain, s_prior[:, 1])\n",
    "ax[1].plot(domain, pdf_, label='prior')\n",
    "ax[1].legend()\n",
    "ax[1].set_title('theta 1')\n",
    "\n",
    "plt.show()"
   ]
  },
  {
   "cell_type": "markdown",
   "metadata": {},
   "source": [
    "## Regression model\n",
    "\n",
    "Here a model is defined that is of the form \n",
    "\n",
    "$$y=f(\\theta) + \\epsilon$$\n",
    "\n",
    "where f consists in running RunModel. In particular, here $f(\\theta)=\\theta_{0} x + \\theta_{1} x^{2}$ is a regression model.\n",
    "\n",
    "First we generate synthetic data, and add some noise to it."
   ]
  },
  {
   "cell_type": "code",
   "execution_count": null,
   "metadata": {},
   "outputs": [],
   "source": [
    "param_true = np.array([1.0, 2.0]).reshape((1, -1))\n",
    "print('Shape of true parameter vector: {}'.format(param_true.shape))\n",
    "\n",
    "h_func = RunModel(model_script='pfn_models.py', model_object_name='model_quadratic', vec=False,\n",
    "                  var_names=['theta_0', 'theta_1'])\n",
    "h_func.run(samples=param_true)\n",
    "\n",
    "# Add noise\n",
    "error_covariance = 1.\n",
    "data_clean = np.array(h_func.qoi_list[0])\n",
    "noise = Normal(loc=0., scale=np.sqrt(error_covariance)).rvs(nsamples=50).reshape((50,))\n",
    "data_3 = data_clean + noise\n",
    "print('Shape of data: {}'.format(data_3.shape))"
   ]
  },
  {
   "cell_type": "code",
   "execution_count": null,
   "metadata": {},
   "outputs": [],
   "source": [
    "inference_model = ComputationalModel(parameters_number=2, runmodel_object=h_func, error_covariance=error_covariance)"
   ]
  },
  {
   "cell_type": "code",
   "execution_count": null,
   "metadata": {},
   "outputs": [],
   "source": [
    "is_input1 = ISInput()\n",
    "is_input1.proposal=JointIndependent([Normal(scale=2, )] * 2)\n",
    "bayes_estimator =\\\n",
    "    BayesParameterEstimation.create_with_importance_sampling(inference_model=inference_model,\n",
    "                                                             data=data_3,\n",
    "                                                             is_input=is_input1,\n",
    "                                                             samples_number=20000)"
   ]
  },
  {
   "cell_type": "code",
   "execution_count": null,
   "metadata": {},
   "outputs": [],
   "source": [
    "s = bayes_estimator.sampler.samples\n",
    "w = bayes_estimator.sampler.weights\n",
    "print(sum(w))\n",
    "\n",
    "# print results\n",
    "fig, ax = plt.subplots(1, 2)\n",
    "for i in range(2):\n",
    "    ax[i].hist(x=s[:, i], weights=None, density=True, range=(-4, 4), bins=20, color='blue', alpha=0.4,\n",
    "               label='prior')\n",
    "    ax[i].hist(x=s[:, i], weights=w, density=True, range=(-4, 4), bins=20, color='orange', alpha=0.7,\n",
    "               label='posterior')\n",
    "    ax[i].legend()\n",
    "    ax[i].set_title('theta {}'.format(i + 1))\n",
    "\n",
    "plt.show()"
   ]
  }
 ],
 "metadata": {
  "kernelspec": {
   "display_name": "Python 3 (ipykernel)",
   "language": "python",
   "name": "python3"
  },
  "language_info": {
   "codemirror_mode": {
    "name": "ipython",
    "version": 3
   },
   "file_extension": ".py",
   "mimetype": "text/x-python",
   "name": "python",
   "nbconvert_exporter": "python",
   "pygments_lexer": "ipython3",
   "version": "3.9.6"
  }
 },
 "nbformat": 4,
 "nbformat_minor": 2
}
