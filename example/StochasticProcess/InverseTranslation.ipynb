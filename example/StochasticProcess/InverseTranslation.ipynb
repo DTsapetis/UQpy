{
 "cells": [
  {
   "cell_type": "markdown",
   "metadata": {},
   "source": [
    "# Inverse Translatation of a Stochastic Process\n",
    "Author: Lohit Vandanapu\n",
    "Date: May 14, 2019"
   ]
  },
  {
   "cell_type": "markdown",
   "metadata": {},
   "source": [
    "In this example, a Gaussian stochastic processes is first translated into a stocahstic processes of a different distribution and subsequently, these translated samples are translated back to Gaussian samples with InverseTranslate class."
   ]
  },
  {
   "cell_type": "markdown",
   "metadata": {},
   "source": [
    "Import the necessary libraries. Here we import standard libraries such as numpy and matplotlib, but also need to import the InverseTranslation class along with the Translation class from the StochasticProcesses module of UQpy."
   ]
  },
  {
   "cell_type": "code",
   "execution_count": 1,
   "metadata": {},
   "outputs": [],
   "source": [
    "from UQpy.StochasticProcess import Translation, InverseTranslation\n",
    "from UQpy.StochasticProcess import SRM\n",
    "import numpy as np\n",
    "import matplotlib.pyplot as plt\n",
    "plt.style.use('seaborn')"
   ]
  },
  {
   "cell_type": "markdown",
   "metadata": {},
   "source": [
    "Firstly we generate Gaussian Stochastic Processes using the Spectral Representation Method."
   ]
  },
  {
   "cell_type": "code",
   "execution_count": 2,
   "metadata": {},
   "outputs": [
    {
     "ename": "TypeError",
     "evalue": "__init__() got an unexpected keyword argument 'case'",
     "output_type": "error",
     "traceback": [
      "\u001b[1;31m---------------------------------------------------------------------------\u001b[0m",
      "\u001b[1;31mTypeError\u001b[0m                                 Traceback (most recent call last)",
      "\u001b[1;32m<ipython-input-2-1cc5b3ae3ab8>\u001b[0m in \u001b[0;36m<module>\u001b[1;34m\u001b[0m\n\u001b[0;32m      9\u001b[0m \u001b[0mw\u001b[0m \u001b[1;33m=\u001b[0m \u001b[0mnp\u001b[0m\u001b[1;33m.\u001b[0m\u001b[0mlinspace\u001b[0m\u001b[1;33m(\u001b[0m\u001b[1;36m0\u001b[0m\u001b[1;33m,\u001b[0m \u001b[0mF\u001b[0m \u001b[1;33m-\u001b[0m \u001b[0mdw\u001b[0m\u001b[1;33m,\u001b[0m \u001b[0mnw\u001b[0m\u001b[1;33m)\u001b[0m\u001b[1;33m\u001b[0m\u001b[1;33m\u001b[0m\u001b[0m\n\u001b[0;32m     10\u001b[0m \u001b[0mS\u001b[0m \u001b[1;33m=\u001b[0m \u001b[1;36m125\u001b[0m \u001b[1;33m/\u001b[0m \u001b[1;36m4\u001b[0m \u001b[1;33m*\u001b[0m \u001b[0mw\u001b[0m \u001b[1;33m**\u001b[0m \u001b[1;36m2\u001b[0m \u001b[1;33m*\u001b[0m \u001b[0mnp\u001b[0m\u001b[1;33m.\u001b[0m\u001b[0mexp\u001b[0m\u001b[1;33m(\u001b[0m\u001b[1;33m-\u001b[0m\u001b[1;36m5\u001b[0m \u001b[1;33m*\u001b[0m \u001b[0mw\u001b[0m\u001b[1;33m)\u001b[0m\u001b[1;33m\u001b[0m\u001b[1;33m\u001b[0m\u001b[0m\n\u001b[1;32m---> 11\u001b[1;33m \u001b[0mSRM_object\u001b[0m \u001b[1;33m=\u001b[0m \u001b[0mSRM\u001b[0m\u001b[1;33m(\u001b[0m\u001b[0mn_sim\u001b[0m\u001b[1;33m,\u001b[0m \u001b[0mS\u001b[0m\u001b[1;33m,\u001b[0m \u001b[0mdw\u001b[0m\u001b[1;33m,\u001b[0m \u001b[0mnt\u001b[0m\u001b[1;33m,\u001b[0m \u001b[0mnw\u001b[0m\u001b[1;33m,\u001b[0m \u001b[0mcase\u001b[0m\u001b[1;33m=\u001b[0m\u001b[1;34m'uni'\u001b[0m\u001b[1;33m)\u001b[0m\u001b[1;33m\u001b[0m\u001b[1;33m\u001b[0m\u001b[0m\n\u001b[0m\u001b[0;32m     12\u001b[0m \u001b[0msamples\u001b[0m \u001b[1;33m=\u001b[0m \u001b[0mSRM_object\u001b[0m\u001b[1;33m.\u001b[0m\u001b[0msamples\u001b[0m\u001b[1;33m\u001b[0m\u001b[1;33m\u001b[0m\u001b[0m\n",
      "\u001b[1;31mTypeError\u001b[0m: __init__() got an unexpected keyword argument 'case'"
     ]
    }
   ],
   "source": [
    "n_sim = 10000  # Num of samples\n",
    "T = 100  # Time(1 / T = dw)\n",
    "nt = 256  # Num.of Discretized Time\n",
    "F = 1 / T * nt / 2  # Frequency.(Hz)\n",
    "nw = 128  # Num of Discretized Freq.\n",
    "dt = T / nt\n",
    "t = np.linspace(0, T - dt, nt)\n",
    "dw = F / nw\n",
    "w = np.linspace(0, F - dw, nw)\n",
    "S = 125 / 4 * w ** 2 * np.exp(-5 * w)\n",
    "SRM_object = SRM(n_sim, S, dw, nt, nw, case='uni')\n",
    "samples = SRM_object.samples"
   ]
  },
  {
   "cell_type": "code",
   "execution_count": null,
   "metadata": {},
   "outputs": [],
   "source": [
    "def S_to_R(S, w, t):\n",
    "    dw = w[1] - w[0]\n",
    "    fac = np.ones(len(w))\n",
    "    fac[1: len(w) - 1: 2] = 4\n",
    "    fac[2: len(w) - 2: 2] = 2\n",
    "    fac = fac * dw / 3\n",
    "    R = np.zeros(len(t))\n",
    "    for i in range(len(t)):\n",
    "        R[i] = 2 * np.dot(fac, S * np.cos(w * t[i]))\n",
    "    return R"
   ]
  },
  {
   "cell_type": "code",
   "execution_count": null,
   "metadata": {},
   "outputs": [],
   "source": [
    "R = S_to_R(S, w, t)"
   ]
  },
  {
   "cell_type": "markdown",
   "metadata": {},
   "source": [
    "We translate the samples to be Uniform samples from 1 to 2"
   ]
  },
  {
   "cell_type": "code",
   "execution_count": null,
   "metadata": {
    "scrolled": true
   },
   "outputs": [],
   "source": [
    "from UQpy.Distributions import Uniform\n",
    "\n",
    "distribution = Uniform(0, 1)\n",
    "samples = samples.flatten()[:, np.newaxis]\n",
    "print(samples.shape)\n",
    "\n",
    "Translate_object = Translation(distribution=distribution, time_duration=dt, frequency_interval=dw, number_time_intervals=nt, number_frequency_intervals=nw, auto_correlation_function_gaussian=R, samples_gaussian=samples)\n",
    "samples_ng = Translate_object.samples_non_gaussian\n",
    "R_ng = Translate_object.auto_correlation_function_non_gaussian\n",
    "r_ng = Translate_object.correlation_function_non_gaussian"
   ]
  },
  {
   "cell_type": "markdown",
   "metadata": {},
   "source": [
    "Plotting the actual and translated autocorrelation functions"
   ]
  },
  {
   "cell_type": "code",
   "execution_count": null,
   "metadata": {
    "scrolled": true
   },
   "outputs": [],
   "source": [
    "fig1 = plt.figure()\n",
    "plt.plot(R, label='Gaussian')\n",
    "plt.plot(R_ng, label='Uniform')\n",
    "plt.title('Autocorrelation Functions')\n",
    "plt.legend()\n",
    "plt.show()"
   ]
  },
  {
   "cell_type": "code",
   "execution_count": null,
   "metadata": {},
   "outputs": [],
   "source": [
    "InverseTranslate_object = InverseTranslation(distribution=distribution, time_duration=dt, frequency_interval=dw, number_time_intervals=nt, number_frequency_intervals=nw, auto_correlation_function_non_gaussian=R_ng, samples_non_gaussian=samples_ng)\n",
    "samples_g = InverseTranslate_object.samples_gaussian\n",
    "S_g = InverseTranslate_object.power_spectrum_gaussian\n",
    "R_g = InverseTranslate_object.auto_correlation_function_gaussian\n",
    "r_g = InverseTranslate_object.correlation_function_gaussian"
   ]
  },
  {
   "cell_type": "code",
   "execution_count": null,
   "metadata": {},
   "outputs": [],
   "source": [
    "fig2 = plt.figure()\n",
    "plt.plot(r_g, label='Inverse Translated')\n",
    "plt.plot(R, label='Original')\n",
    "plt.title('Autocorrelation Functions')\n",
    "plt.legend()\n",
    "plt.show()"
   ]
  },
  {
   "cell_type": "code",
   "execution_count": null,
   "metadata": {},
   "outputs": [],
   "source": []
  }
 ],
 "metadata": {
  "kernelspec": {
   "display_name": "Python 3 (ipykernel)",
   "language": "python",
   "name": "python3"
  },
  "language_info": {
   "codemirror_mode": {
    "name": "ipython",
    "version": 3
   },
   "file_extension": ".py",
   "mimetype": "text/x-python",
   "name": "python",
   "nbconvert_exporter": "python",
   "pygments_lexer": "ipython3",
   "version": "3.9.6"
  }
 },
 "nbformat": 4,
 "nbformat_minor": 2
}
