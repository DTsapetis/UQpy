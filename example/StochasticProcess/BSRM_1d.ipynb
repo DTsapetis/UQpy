{
 "cells": [
  {
   "cell_type": "markdown",
   "metadata": {},
   "source": [
    "# BiSpectral Representation Method\n",
    "Author: Lohit Vandanapu\n",
    "Date: August 19, 2018"
   ]
  },
  {
   "cell_type": "markdown",
   "metadata": {},
   "source": [
    "In this example, the BiSpectral Representation Method is used to generate stochastic processes from a prescribed Power Spectrum and associated Bispectrum. This example illustrates how to use the BSRM class for one dimensional case and compare the statistics of the generated stochastic processes with the expected values."
   ]
  },
  {
   "cell_type": "markdown",
   "metadata": {},
   "source": [
    "Import the necessary libraries. Here we import standard libraries such as numpy and matplotlib, but also need to import the BSRM class from the StochasticProcesses module of UQpy."
   ]
  },
  {
   "cell_type": "code",
   "execution_count": 1,
   "metadata": {},
   "outputs": [],
   "source": [
    "from UQpy.StochasticProcess import BSRM\n",
    "import numpy as np\n",
    "from scipy.stats import skew\n",
    "import matplotlib.pyplot as plt\n",
    "plt.style.use('seaborn')"
   ]
  },
  {
   "cell_type": "markdown",
   "metadata": {},
   "source": [
    "The input parameters necessary for the generation of the stochastic processes are given below:"
   ]
  },
  {
   "cell_type": "code",
   "execution_count": 2,
   "metadata": {},
   "outputs": [],
   "source": [
    "n_sim = 100  # Num of samples\n",
    "\n",
    "n = 1 # Num of dimensions\n",
    "\n",
    "# Input parameters\n",
    "T = 600  # Time(1 / T = dw)\n",
    "nt = 12000  # Num.of Discretized Time\n",
    "F = 1 / T * nt / 2  # Frequency.(Hz)\n",
    "nf = 6000  # Num of Discretized Freq.\n",
    "\n",
    "# # Generation of Input Data(Stationary)\n",
    "dt = T / nt\n",
    "t = np.linspace(0, T - dt, nt)\n",
    "df = F / nf\n",
    "f = np.linspace(0, F - df, nf)"
   ]
  },
  {
   "cell_type": "markdown",
   "metadata": {},
   "source": [
    "Defining the Power Spectral Density(S)"
   ]
  },
  {
   "cell_type": "code",
   "execution_count": 3,
   "metadata": {},
   "outputs": [],
   "source": [
    "S = 32 * 1 / np.sqrt(2 * np.pi) * np.exp(-1 / 2 * f ** 2)"
   ]
  },
  {
   "cell_type": "code",
   "execution_count": 4,
   "metadata": {},
   "outputs": [],
   "source": [
    "# Generating the 2 dimensional mesh grid\n",
    "fx = f\n",
    "fy = f\n",
    "Fx, Fy = np.meshgrid(f, f)\n",
    "\n",
    "b = 95 * 2 * 1 / (2 * np.pi) * np.exp(2 * (-1 / 2 * (Fx ** 2 + Fy ** 2)))\n",
    "B_Real = b\n",
    "B_Imag = b\n",
    "\n",
    "B_Real[0, :] = 0\n",
    "B_Real[:, 0] = 0\n",
    "B_Imag[0, :] = 0\n",
    "B_Imag[:, 0] = 0"
   ]
  },
  {
   "cell_type": "markdown",
   "metadata": {},
   "source": [
    "Defining the Bispectral Density(B)"
   ]
  },
  {
   "cell_type": "code",
   "execution_count": 5,
   "metadata": {},
   "outputs": [],
   "source": [
    "B_Complex = B_Real + 1j * B_Imag\n",
    "B_Ampl = np.absolute(B_Complex)"
   ]
  },
  {
   "cell_type": "markdown",
   "metadata": {},
   "source": [
    "Make sure that the input parameters are in order to prevent aliasing"
   ]
  },
  {
   "cell_type": "code",
   "execution_count": 6,
   "metadata": {},
   "outputs": [],
   "source": [
    "t_u = 2*np.pi/2/F\n",
    "\n",
    "if dt>t_u:\n",
    "    print('Error')"
   ]
  },
  {
   "cell_type": "code",
   "execution_count": null,
   "metadata": {},
   "outputs": [],
   "source": [
    "BSRM_object = BSRM(n_sim, S, B_Complex, [dt], [df], [nt], [nf])\n",
    "samples = BSRM_object.samples"
   ]
  },
  {
   "cell_type": "code",
   "execution_count": null,
   "metadata": {},
   "outputs": [],
   "source": [
    "fig, ax = plt.subplots()\n",
    "plt.title('Realisation of the BiSpectral Representation Method')\n",
    "plt.plot(t, samples[0, 0])\n",
    "ax.yaxis.grid(True)\n",
    "ax.xaxis.grid(True)\n",
    "plt.show()"
   ]
  },
  {
   "cell_type": "code",
   "execution_count": null,
   "metadata": {
    "pycharm": {
     "name": "#%%\n"
    }
   },
   "outputs": [],
   "source": [
    "print('The mean of the samples is ', np.mean(samples), 'whereas the expected mean is 0.000')\n",
    "print('The variance of the samples is ', np.var(samples), 'whereas the expected variance is ', np.sum(S)*df*2)\n",
    "print('The skewness of the samples is ', np.mean(skew(samples, axis=0)), 'whereas the expected skewness is ', np.sum(B_Real)*df**2*6/(np.sum(S)*df*2)**(3/2))\n"
   ]
  }
 ],
 "metadata": {
  "kernelspec": {
   "display_name": "Python 3",
   "language": "python",
   "name": "python3"
  },
  "language_info": {
   "codemirror_mode": {
    "name": "ipython",
    "version": 3
   },
   "file_extension": ".py",
   "mimetype": "text/x-python",
   "name": "python",
   "nbconvert_exporter": "python",
   "pygments_lexer": "ipython3",
   "version": "3.7.9"
  }
 },
 "nbformat": 4,
 "nbformat_minor": 2
}
