{
 "cells": [
  {
   "cell_type": "markdown",
   "metadata": {},
   "source": [
    "# Karhunen Louve Expansion\n",
    "Author: Lohit Vandanapu\n",
    "Date: August 20, 2018"
   ]
  },
  {
   "cell_type": "markdown",
   "metadata": {},
   "source": [
    "In this example, the KL Expansion is used to generate stochastic processes from a prescribed Autocorrelation Function. This example illustrates how to use the KLE class for a one dimensional and compare the statistics of the generated stochastic processes with the expected values."
   ]
  },
  {
   "cell_type": "markdown",
   "metadata": {},
   "source": [
    "Import the necessary libraries. Here we import standard libraries such as numpy and matplotlib, but also need to import the KLE class from the StochasticProcesses module of UQpy."
   ]
  },
  {
   "cell_type": "code",
   "execution_count": null,
   "metadata": {},
   "outputs": [],
   "source": [
    "from UQpy.stochastic_process import KarhunenLoeveExpansion\n",
    "import numpy as np\n",
    "import matplotlib.pyplot as plt\n",
    "plt.style.use('seaborn')"
   ]
  },
  {
   "cell_type": "markdown",
   "metadata": {},
   "source": [
    "The input parameters necessary for the generation of the stochastic processes are given below:"
   ]
  },
  {
   "cell_type": "code",
   "execution_count": null,
   "metadata": {},
   "outputs": [],
   "source": [
    "n_sim = 10000  # Num of samples\n",
    "\n",
    "m = 400 + 1\n",
    "T = 1000\n",
    "dt = T / (m - 1)\n",
    "t = np.linspace(0, T, m)"
   ]
  },
  {
   "cell_type": "markdown",
   "metadata": {},
   "source": [
    "Defining the Autocorrelation Function"
   ]
  },
  {
   "cell_type": "code",
   "execution_count": null,
   "metadata": {},
   "outputs": [],
   "source": [
    "# Target Covariance(ACF)\n",
    "R = np.zeros([m, m])\n",
    "for i in range(m):\n",
    "    for j in range(m):\n",
    "        R[i, j] = 2 * np.exp(-((t[j] - t[i]) / 281) ** 2)  # var = 2"
   ]
  },
  {
   "cell_type": "code",
   "execution_count": null,
   "metadata": {},
   "outputs": [],
   "source": [
    "KLE_Object = KarhunenLoeveExpansion(samples_number=n_sim, correlation_function=R, time_interval=dt)\n",
    "samples = KLE_Object.samples"
   ]
  },
  {
   "cell_type": "code",
   "execution_count": null,
   "metadata": {},
   "outputs": [],
   "source": [
    "fig, ax = plt.subplots()\n",
    "plt.title('Realisation of the Karhunen Louve Expansion')\n",
    "plt.plot(t, samples[0, 0])\n",
    "ax.yaxis.grid(True)\n",
    "ax.xaxis.grid(True)\n",
    "plt.show()"
   ]
  },
  {
   "cell_type": "code",
   "execution_count": null,
   "metadata": {
    "pycharm": {
     "name": "#%%\n"
    }
   },
   "outputs": [],
   "source": [
    "print('The mean of the samples is ', np.mean(samples), 'whereas the expected mean is 0.000')\n",
    "print('The variance of the samples is ', np.var(samples), 'whereas the expected variance is 2.000')"
   ]
  }
 ],
 "metadata": {
  "kernelspec": {
   "display_name": "Python 3 (ipykernel)",
   "language": "python",
   "name": "python3"
  },
  "language_info": {
   "codemirror_mode": {
    "name": "ipython",
    "version": 3
   },
   "file_extension": ".py",
   "mimetype": "text/x-python",
   "name": "python",
   "nbconvert_exporter": "python",
   "pygments_lexer": "ipython3",
   "version": "3.9.6"
  }
 },
 "nbformat": 4,
 "nbformat_minor": 2
}
