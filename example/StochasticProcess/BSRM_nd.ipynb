{
 "cells": [
  {
   "cell_type": "markdown",
   "metadata": {},
   "source": [
    "# BiSpectral Representation Method\n",
    "Author: Lohit Vandanapu\n",
    "Date: August 19, 2018"
   ]
  },
  {
   "cell_type": "markdown",
   "metadata": {},
   "source": [
    "In this example, the BiSpectral Representation Method is used to generate stochastic processes from a prescribed Power Spectrum and associated Bispectrum. This example illustrates how to use the BSRM class for 'n' dimensional case and compare the statistics of the generated stochastic processes with the expected values."
   ]
  },
  {
   "cell_type": "markdown",
   "metadata": {},
   "source": [
    "Import the necessary libraries. Here we import standard libraries such as numpy and matplotlib, but also need to import the BSRM class from the StochasticProcesses module of UQpy."
   ]
  },
  {
   "cell_type": "code",
   "execution_count": 1,
   "metadata": {},
   "outputs": [],
   "source": [
    "from UQpy.StochasticProcess import BSRM\n",
    "import numpy as np\n",
    "from scipy.stats import skew\n",
    "import matplotlib.pyplot as plt\n",
    "from copy import deepcopy\n",
    "plt.style.use('seaborn')"
   ]
  },
  {
   "cell_type": "markdown",
   "metadata": {},
   "source": [
    "The input parameters necessary for the generation of the stochastic processes are given below:"
   ]
  },
  {
   "cell_type": "code",
   "execution_count": 2,
   "metadata": {},
   "outputs": [],
   "source": [
    "# Input parameters\n",
    "\n",
    "n_sim = 1000  # Num of samples\n",
    "dim = 2\n",
    "n = 1  # Num of dimensions\n",
    "\n",
    "T = 20  # Time(1 / T = dw)\n",
    "nt = 128  # Num.of Discretized Time\n",
    "F = 1 / T * nt / 2  # Frequency.(Hz)\n",
    "nf = 64  # Num of Discretized Freq.\n",
    "\n",
    "# # Generation of Input Data(Stationary)\n",
    "dt = T / nt\n",
    "t = np.linspace(0, T - dt, nt)\n",
    "df = F / nf\n",
    "f = np.linspace(0, F - df, nf)\n",
    "\n",
    "f_list = [f for _ in range(dim)]\n",
    "F_P = np.array(np.meshgrid(*f_list, indexing='ij'))\n",
    "P = 20 / np.sqrt(2 * np.pi) * np.exp(-1/2 * np.linalg.norm(F_P, axis=0) ** 2)\n",
    "\n",
    "F_B = np.meshgrid(*[*f_list, *f_list])\n",
    "b = 40 / (2 * np.pi) * np.exp(2 * (-1/2 * np.linalg.norm(F_B, axis=0) ** 2))\n",
    "B_Real = deepcopy(b)\n",
    "B_Imag = deepcopy(b)\n",
    "\n",
    "B_Real[0, :, :, :] = 0\n",
    "B_Real[:, 0, :, :] = 0\n",
    "B_Real[:, :, 0, :] = 0\n",
    "B_Real[:, :, :, 0] = 0\n",
    "B_Imag[0, :, :, :] = 0\n",
    "B_Imag[:, 0, :, :] = 0\n",
    "B_Imag[:, :, 0, :] = 0\n",
    "B_Imag[:, :, :, 0] = 0\n",
    "\n",
    "B_Complex = B_Real + 1j * B_Imag"
   ]
  },
  {
   "cell_type": "markdown",
   "metadata": {},
   "source": [
    "Make sure that the input parameters are in order to prevent aliasing"
   ]
  },
  {
   "cell_type": "code",
   "execution_count": 3,
   "metadata": {},
   "outputs": [],
   "source": [
    "t_u = 2*np.pi/2/F\n",
    "\n",
    "if dt>t_u:\n",
    "    print('Error')"
   ]
  },
  {
   "cell_type": "markdown",
   "metadata": {},
   "source": [
    "Defining the Power Spectral Density Function"
   ]
  },
  {
   "cell_type": "code",
   "execution_count": 4,
   "metadata": {},
   "outputs": [
    {
     "ename": "ValueError",
     "evalue": "operands could not be broadcast together with shapes (64,64) (2,) ",
     "output_type": "error",
     "traceback": [
      "\u001b[1;31m---------------------------------------------------------------------------\u001b[0m",
      "\u001b[1;31mValueError\u001b[0m                                Traceback (most recent call last)",
      "\u001b[1;32m<ipython-input-4-81bf7c6e0555>\u001b[0m in \u001b[0;36m<module>\u001b[1;34m\u001b[0m\n\u001b[1;32m----> 1\u001b[1;33m \u001b[0mBSRM_object\u001b[0m \u001b[1;33m=\u001b[0m \u001b[0mBSRM\u001b[0m\u001b[1;33m(\u001b[0m\u001b[0mn_sim\u001b[0m\u001b[1;33m,\u001b[0m \u001b[0mP\u001b[0m\u001b[1;33m,\u001b[0m \u001b[0mB_Complex\u001b[0m\u001b[1;33m,\u001b[0m \u001b[1;33m[\u001b[0m\u001b[0mdt\u001b[0m\u001b[1;33m,\u001b[0m \u001b[0mdt\u001b[0m\u001b[1;33m]\u001b[0m\u001b[1;33m,\u001b[0m \u001b[1;33m[\u001b[0m\u001b[0mdf\u001b[0m\u001b[1;33m,\u001b[0m \u001b[0mdf\u001b[0m\u001b[1;33m]\u001b[0m\u001b[1;33m,\u001b[0m \u001b[1;33m[\u001b[0m\u001b[0mnt\u001b[0m\u001b[1;33m,\u001b[0m \u001b[0mnt\u001b[0m\u001b[1;33m]\u001b[0m\u001b[1;33m,\u001b[0m \u001b[1;33m[\u001b[0m\u001b[0mnf\u001b[0m\u001b[1;33m,\u001b[0m \u001b[0mnf\u001b[0m\u001b[1;33m]\u001b[0m\u001b[1;33m)\u001b[0m\u001b[1;33m\u001b[0m\u001b[1;33m\u001b[0m\u001b[0m\n\u001b[0m\u001b[0;32m      2\u001b[0m \u001b[0msamples\u001b[0m \u001b[1;33m=\u001b[0m \u001b[0mBSRM_object\u001b[0m\u001b[1;33m.\u001b[0m\u001b[0msamples\u001b[0m\u001b[1;33m\u001b[0m\u001b[1;33m\u001b[0m\u001b[0m\n",
      "\u001b[1;32m~\\Anaconda3\\lib\\site-packages\\UQpy\\StochasticProcess.py\u001b[0m in \u001b[0;36m__init__\u001b[1;34m(self, nsamples, power_spectrum, bispectrum, time_interval, frequency_interval, number_time_intervals, number_frequency_intervals, case, random_state, verbose)\u001b[0m\n\u001b[0;32m    369\u001b[0m \u001b[1;33m\u001b[0m\u001b[0m\n\u001b[0;32m    370\u001b[0m         \u001b[1;32mif\u001b[0m \u001b[0mself\u001b[0m\u001b[1;33m.\u001b[0m\u001b[0mnsamples\u001b[0m \u001b[1;32mis\u001b[0m \u001b[1;32mnot\u001b[0m \u001b[1;32mNone\u001b[0m\u001b[1;33m:\u001b[0m\u001b[1;33m\u001b[0m\u001b[1;33m\u001b[0m\u001b[0m\n\u001b[1;32m--> 371\u001b[1;33m             \u001b[0mself\u001b[0m\u001b[1;33m.\u001b[0m\u001b[0mrun\u001b[0m\u001b[1;33m(\u001b[0m\u001b[0mnsamples\u001b[0m\u001b[1;33m=\u001b[0m\u001b[0mself\u001b[0m\u001b[1;33m.\u001b[0m\u001b[0mnsamples\u001b[0m\u001b[1;33m)\u001b[0m\u001b[1;33m\u001b[0m\u001b[1;33m\u001b[0m\u001b[0m\n\u001b[0m\u001b[0;32m    372\u001b[0m \u001b[1;33m\u001b[0m\u001b[0m\n\u001b[0;32m    373\u001b[0m     \u001b[1;32mdef\u001b[0m \u001b[0m_compute_bicoherence_uni\u001b[0m\u001b[1;33m(\u001b[0m\u001b[0mself\u001b[0m\u001b[1;33m)\u001b[0m\u001b[1;33m:\u001b[0m\u001b[1;33m\u001b[0m\u001b[1;33m\u001b[0m\u001b[0m\n",
      "\u001b[1;32m~\\Anaconda3\\lib\\site-packages\\UQpy\\StochasticProcess.py\u001b[0m in \u001b[0;36mrun\u001b[1;34m(self, nsamples)\u001b[0m\n\u001b[0;32m    491\u001b[0m                 size=np.append(self.nsamples, np.ones(self.number_of_dimensions, dtype=np.int32)\n\u001b[0;32m    492\u001b[0m                                * self.number_frequency_intervals)) * 2 * np.pi\n\u001b[1;32m--> 493\u001b[1;33m             \u001b[0msamples\u001b[0m \u001b[1;33m=\u001b[0m \u001b[0mself\u001b[0m\u001b[1;33m.\u001b[0m\u001b[0m_simulate_bsrm_uni\u001b[0m\u001b[1;33m(\u001b[0m\u001b[0mphi\u001b[0m\u001b[1;33m)\u001b[0m\u001b[1;33m\u001b[0m\u001b[1;33m\u001b[0m\u001b[0m\n\u001b[0m\u001b[0;32m    494\u001b[0m \u001b[1;33m\u001b[0m\u001b[0m\n\u001b[0;32m    495\u001b[0m         \u001b[1;32mif\u001b[0m \u001b[0mself\u001b[0m\u001b[1;33m.\u001b[0m\u001b[0msamples\u001b[0m \u001b[1;32mis\u001b[0m \u001b[1;32mNone\u001b[0m\u001b[1;33m:\u001b[0m\u001b[1;33m\u001b[0m\u001b[1;33m\u001b[0m\u001b[0m\n",
      "\u001b[1;32m~\\Anaconda3\\lib\\site-packages\\UQpy\\StochasticProcess.py\u001b[0m in \u001b[0;36m_simulate_bsrm_uni\u001b[1;34m(self, phi)\u001b[0m\n\u001b[0;32m    424\u001b[0m         coeff = np.sqrt((2 ** (\n\u001b[0;32m    425\u001b[0m                 self.number_of_dimensions + 1)) * self.power_spectrum *\n\u001b[1;32m--> 426\u001b[1;33m                         self.frequency_interval ** self.number_of_dimensions)\n\u001b[0m\u001b[0;32m    427\u001b[0m         \u001b[0mphi_e\u001b[0m \u001b[1;33m=\u001b[0m \u001b[0mnp\u001b[0m\u001b[1;33m.\u001b[0m\u001b[0mexp\u001b[0m\u001b[1;33m(\u001b[0m\u001b[0mphi\u001b[0m \u001b[1;33m*\u001b[0m \u001b[1;36m1.0j\u001b[0m\u001b[1;33m)\u001b[0m\u001b[1;33m\u001b[0m\u001b[1;33m\u001b[0m\u001b[0m\n\u001b[0;32m    428\u001b[0m         \u001b[0mbiphase_e\u001b[0m \u001b[1;33m=\u001b[0m \u001b[0mnp\u001b[0m\u001b[1;33m.\u001b[0m\u001b[0mexp\u001b[0m\u001b[1;33m(\u001b[0m\u001b[0mself\u001b[0m\u001b[1;33m.\u001b[0m\u001b[0mbiphase\u001b[0m \u001b[1;33m*\u001b[0m \u001b[1;36m1.0j\u001b[0m\u001b[1;33m)\u001b[0m\u001b[1;33m\u001b[0m\u001b[1;33m\u001b[0m\u001b[0m\n",
      "\u001b[1;31mValueError\u001b[0m: operands could not be broadcast together with shapes (64,64) (2,) "
     ]
    }
   ],
   "source": [
    "BSRM_object = BSRM(n_sim, P, B_Complex, [dt, dt], [df, df], [nt, nt], [nf, nf])\n",
    "samples = BSRM_object.samples"
   ]
  },
  {
   "cell_type": "code",
   "execution_count": null,
   "metadata": {},
   "outputs": [],
   "source": [
    "# fig, ax = plt.subplots()\n",
    "# plt.title('Realisation of the Spectral Representation Method')\n",
    "# plt.plot(t, samples[0])\n",
    "# ax.yaxis.grid(True)\n",
    "# ax.xaxis.grid(True)\n",
    "# plt.show()\n",
    "\n",
    "from pylab import *\n",
    "t_list = [t for _ in range(dim)]\n",
    "T = np.array(np.meshgrid(*t_list, indexing='ij'))\n",
    "\n",
    "fig1 = plt.figure()\n",
    "plt.title('2d random field with a prescribed Power Spectrum and Bispectrum')\n",
    "pcm = pcolor(T[0], T[1], samples[0], cmap='RdBu_r', vmin=-30, vmax=30)\n",
    "plt.colorbar(pcm, extend='both', orientation='vertical')\n",
    "plt.xlabel('$X_{1}$')\n",
    "plt.ylabel('$X_{2}$')\n",
    "plt.savefig('BSRM samples')\n",
    "plt.show()\n"
   ]
  },
  {
   "cell_type": "code",
   "execution_count": null,
   "metadata": {},
   "outputs": [],
   "source": [
    "print('The mean of the samples is ', np.mean(samples), 'whereas the expected mean is 0.000')\n",
    "print('The variance of the samples is ', np.var(samples), 'whereas the expected variance is ', np.sum(P)*df*2)\n",
    "print('The skewness of the samples is ', np.mean(skew(samples, axis=0)), 'whereas the expected skewness is ', np.sum(B_Real)*df**2*6/(np.sum(P)*df*2)**(3/2))"
   ]
  },
  {
   "cell_type": "code",
   "execution_count": null,
   "metadata": {},
   "outputs": [],
   "source": []
  }
 ],
 "metadata": {
  "kernelspec": {
   "display_name": "Python 3",
   "language": "python",
   "name": "python3"
  },
  "language_info": {
   "codemirror_mode": {
    "name": "ipython",
    "version": 3
   },
   "file_extension": ".py",
   "mimetype": "text/x-python",
   "name": "python",
   "nbconvert_exporter": "python",
   "pygments_lexer": "ipython3",
   "version": "3.7.9"
  }
 },
 "nbformat": 4,
 "nbformat_minor": 2
}
