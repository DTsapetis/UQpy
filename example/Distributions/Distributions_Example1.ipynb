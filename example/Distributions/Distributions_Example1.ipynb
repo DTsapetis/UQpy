{
 "cells": [
  {
   "cell_type": "markdown",
   "metadata": {},
   "source": [
    "# Illustrations of the Distribution class\n",
    "Author: Michael D. Shields  \n",
    "Date: 8/16/18     \n",
    "Last modified on 5/4/2020 by Audrey Olivier\n",
    "\n",
    "This examples shows the use of the Distribution class. In particular:\n",
    "- How to define and use one of the univariate distributions supported by UQpy,\n",
    "- How to define a custom distribution,\n",
    "- How to define a multivariate distribution by 1) giving a list of independent marginals or 2) giving a list of marginals and a copula to model the dependence structure."
   ]
  },
  {
   "cell_type": "markdown",
   "metadata": {},
   "source": [
    "Import the necessary modules. Note that the user only needs to make use of the Distribution class of the Distributions module."
   ]
  },
  {
   "cell_type": "code",
   "execution_count": null,
   "metadata": {},
   "outputs": [],
   "source": [
    "import numpy as np\n",
    "import matplotlib.pyplot as plt"
   ]
  },
  {
   "cell_type": "markdown",
   "metadata": {},
   "source": [
    "## Example of a univariate distribution\n",
    "Define a univariate lognormal distribution, call its methods to compute its pdf, cdf, icdf, moments and samples random variables."
   ]
  },
  {
   "cell_type": "code",
   "execution_count": null,
   "metadata": {},
   "outputs": [],
   "source": [
    "from UQpy.distributions import Lognormal\n",
    "dist = Lognormal(s=1., loc=0., scale=np.exp(5))\n",
    "print(dist)\n",
    "print(dist.parameters)"
   ]
  },
  {
   "cell_type": "markdown",
   "metadata": {},
   "source": [
    "### Plot the pdf of the distribution. \n",
    "\n",
    "The user must provide x as a ndarray of shape (nsamples, 1) or (nsamples,) - the former if preferred. The result of pdf or log_pdf will be a 1D array (nsamples, )."
   ]
  },
  {
   "cell_type": "code",
   "execution_count": null,
   "metadata": {
    "scrolled": false
   },
   "outputs": [],
   "source": [
    "x = np.linspace(0.01, 1000, 1000).reshape((-1, 1))  # Use reshape to provide a 2D array (1000, 1)\n",
    "fig, ax = plt.subplots(ncols=2, figsize=(15, 4))\n",
    "ax[0].plot(x, dist.pdf(x))  # Do not give params\n",
    "ax[0].set_xlabel('x')\n",
    "ax[0].set_ylabel('pdf(x)')\n",
    "ax[0].set_title('pdf of lognormal distribution')\n",
    "\n",
    "ax[1].plot(x, dist.log_pdf(x))\n",
    "ax[1].set_xlabel('x')\n",
    "ax[1].set_ylabel('log pdf(x)')\n",
    "ax[1].set_title('Log pdf of lognormal distribution')\n",
    "plt.show()\n",
    "\n",
    "print('size of input x:')\n",
    "print(x.shape)\n",
    "print('size of dist.pdf(x):')\n",
    "print(dist.pdf(x).shape)"
   ]
  },
  {
   "cell_type": "markdown",
   "metadata": {},
   "source": [
    "### Modify one of the parameters of the distribution.\n",
    "\n",
    "Use the update_params method."
   ]
  },
  {
   "cell_type": "code",
   "execution_count": null,
   "metadata": {},
   "outputs": [],
   "source": [
    "dist.update_parameters(loc=100.)\n",
    "print(dist.parameters)"
   ]
  },
  {
   "cell_type": "code",
   "execution_count": null,
   "metadata": {},
   "outputs": [],
   "source": [
    "x = np.linspace(0.01, 1000, 1000).reshape((-1, 1))  # Use reshape to provide a 2D array (1000, 1)\n",
    "fig, ax = plt.subplots(ncols=2, figsize=(15, 4))\n",
    "ax[0].plot(x, dist.pdf(x))  # Do not give params\n",
    "ax[0].set_xlabel('x')\n",
    "ax[0].set_ylabel('pdf(x)')\n",
    "ax[0].set_title('pdf of lognormal distribution')\n",
    "\n",
    "ax[1].plot(x, dist.log_pdf(x))\n",
    "ax[1].set_xlabel('x')\n",
    "ax[1].set_ylabel('log pdf(x)')\n",
    "ax[1].set_title('Log pdf of lognormal distribution')\n",
    "plt.show()"
   ]
  },
  {
   "cell_type": "markdown",
   "metadata": {},
   "source": [
    "### Print the mean, standard deviation, skewness, and kurtosis of the distribution. "
   ]
  },
  {
   "cell_type": "code",
   "execution_count": null,
   "metadata": {},
   "outputs": [],
   "source": [
    "moments_list = ['mean', 'variance', 'skewness', 'kurtosis']\n",
    "m = dist.moments()\n",
    "print('Moments with inherited parameters:')\n",
    "for i, moment in enumerate(moments_list):\n",
    "    print(moment + ' = {0:.2f}'.format(m[i]))"
   ]
  },
  {
   "cell_type": "markdown",
   "metadata": {},
   "source": [
    "### Generate 5000 random samples from the lognormal distribution.\n",
    "\n",
    "The number of samples is provided as nsamples (default 1). The user can fix the seed of the pseudo random generator via input random_state.\n",
    "\n",
    "Important: the output of rvs is a (nsamples, 1) ndarray."
   ]
  },
  {
   "cell_type": "code",
   "execution_count": null,
   "metadata": {
    "scrolled": true
   },
   "outputs": [],
   "source": [
    "y1 = dist.rvs(nsamples=10000)\n",
    "print('Shape of output provided by rvs is (nsamples, dimension), i.e. here:')\n",
    "print(y1.shape)\n",
    "plt.hist(y1[:, 0], bins=50)\n",
    "plt.xlabel('x')\n",
    "plt.ylabel('count')\n",
    "plt.show()"
   ]
  },
  {
   "cell_type": "markdown",
   "metadata": {},
   "source": [
    "### Example of a uniform distribution"
   ]
  },
  {
   "cell_type": "code",
   "execution_count": null,
   "metadata": {},
   "outputs": [],
   "source": [
    "from UQpy.distributions import Uniform\n",
    "print(Uniform.__bases__)\n",
    "d1 = Uniform(loc=1., scale=2.)\n",
    "print(d1.parameters)\n",
    "print(d1.cdf(x=[0., 1., 2., 3.]))\n",
    "print(d1.rvs(nsamples=2, random_state=123))\n",
    "d1.update_parameters(loc=0.)\n",
    "print(d1.parameters)"
   ]
  },
  {
   "cell_type": "markdown",
   "metadata": {},
   "source": [
    "### Normal distribution and the use of fit method. \n",
    "\n",
    "Parameters to be learnt should be instantiated as None:"
   ]
  },
  {
   "cell_type": "code",
   "execution_count": null,
   "metadata": {},
   "outputs": [],
   "source": [
    "from UQpy.distributions import Normal\n",
    "print(Normal(loc=None, scale=None).fit(data=[-4, 2, 2, 1]))\n",
    "print(Normal(loc=0., scale=None).fit(data=[-4, 2, 2, 1]))"
   ]
  },
  {
   "cell_type": "markdown",
   "metadata": {},
   "source": [
    "### Example of a 1D discrete distribution"
   ]
  },
  {
   "cell_type": "code",
   "execution_count": null,
   "metadata": {},
   "outputs": [],
   "source": [
    "from UQpy.distributions import Binomial\n",
    "print(Binomial.__bases__)\n",
    "dist = Binomial(n=5, p=0.4)\n",
    "print(dist.rvs(nsamples=3, random_state=123))"
   ]
  },
  {
   "cell_type": "markdown",
   "metadata": {},
   "source": [
    "## Multivariate distributions\n",
    "\n",
    "### Supported multivariate normal"
   ]
  },
  {
   "cell_type": "code",
   "execution_count": null,
   "metadata": {},
   "outputs": [],
   "source": [
    "from UQpy.distributions import MultivariateNormal\n",
    "print(MultivariateNormal.__bases__)\n",
    "dist = MultivariateNormal(mean=[1., 2.], cov=[[4., -0.2], [-0.2, 1.]])\n",
    "print(dist.rvs(nsamples=5, random_state=123))"
   ]
  },
  {
   "cell_type": "markdown",
   "metadata": {
    "collapsed": true
   },
   "source": [
    "### Example of a multivariate distribution provided with independent marginals\n",
    "\n",
    "Create a bivariate distribution as a product of two independent univariate distributions: a normal and a lognormal. Then draw some random samples (left plot below) and plot the pdf (right contour plot)."
   ]
  },
  {
   "cell_type": "code",
   "execution_count": null,
   "metadata": {},
   "outputs": [],
   "source": [
    "from UQpy.distributions import Normal, JointIndependent\n",
    "marginals = [Normal(loc=2., scale=2.),\n",
    "             Lognormal(s=1., loc=0., scale=np.exp(5))]\n",
    "\n",
    "dist = JointIndependent(marginals=marginals)\n",
    "print(dist.get_parameters())\n",
    "print(dist.rvs(nsamples=3, random_state=123))"
   ]
  },
  {
   "cell_type": "code",
   "execution_count": null,
   "metadata": {
    "scrolled": true
   },
   "outputs": [],
   "source": [
    "data = dist.rvs(nsamples=1000)\n",
    "fig, ax = plt.subplots(ncols=2, figsize=(10, 4))\n",
    "ax[0].scatter(data[:, 0], data[:, 1], alpha=0.2)\n",
    "ax[0].set_xlabel('dimension 1')\n",
    "ax[0].set_ylabel('dimension 2')\n",
    "ax[0].set_title('random samples')\n",
    "ax[0].set_ylim([0, 500])\n",
    "ax[0].set_xlim([-2, 6])\n",
    "\n",
    "x = np.arange(-2.0, 6.0, 0.2)\n",
    "y = np.arange(0.01, 500, 1)\n",
    "X, Y = np.meshgrid(x, y)\n",
    "Z = dist.pdf(x=np.concatenate([X.reshape((-1, 1)), Y.reshape((-1, 1))], axis=1))\n",
    "CS = ax[1].contour(X, Y, Z.reshape(X.shape))\n",
    "ax[1].clabel(CS, inline=1, fontsize=10)\n",
    "ax[1].set_xlabel('dimension 1')\n",
    "ax[1].set_ylabel('dimension 2')\n",
    "ax[1].set_title('Contour plot of pdf')\n",
    "ax[0].set_ylim([0, 500])\n",
    "ax[0].set_xlim([-2, 6])\n",
    "plt.show()"
   ]
  },
  {
   "cell_type": "code",
   "execution_count": null,
   "metadata": {},
   "outputs": [],
   "source": [
    "# Compute moments:\n",
    "print(dist.moments())\n",
    "print(dist.moments(moments2return='mv'))"
   ]
  },
  {
   "cell_type": "markdown",
   "metadata": {},
   "source": [
    "The update_params method behave differently here:"
   ]
  },
  {
   "cell_type": "code",
   "execution_count": null,
   "metadata": {},
   "outputs": [],
   "source": [
    "print(dist)\n",
    "print()\n",
    "print('Parameters of the marginals:')\n",
    "print([m.parameters for m in marginals])\n",
    "print('Parameters of the joint:')\n",
    "print(dist.get_parameters())\n",
    "print()\n",
    "print('Update the location parameter of the second marginal and scale parameter of first marginal...')\n",
    "dist.update_parameters(loc_1=1., scale_0=3., )\n",
    "print('Parameters of the marginals:')\n",
    "print([m.parameters for m in marginals])\n",
    "print('Parameters of the joint:')\n",
    "print(dist.get_parameters())"
   ]
  },
  {
   "cell_type": "markdown",
   "metadata": {},
   "source": [
    "Run the mle method. Note that the scale of the first marginal and loc of the second marginals are assumed known here."
   ]
  },
  {
   "cell_type": "code",
   "execution_count": null,
   "metadata": {},
   "outputs": [],
   "source": [
    "d = JointIndependent(marginals=[Normal(loc=None, scale=2.), Lognormal(s=None, loc=0., scale=None)])\n",
    "print(data.shape)\n",
    "ml_estimate = d.fit(data=data)\n",
    "print('ML estimate:')\n",
    "print(ml_estimate)\n",
    "print('True parameters used to generate the data:')\n",
    "print(\"{'loc_0': 2.0, 'scale_0': 2.0, 's_1': 1.0, 'loc_1': 0.0, 'scale_1': 148.4131591025766}\")"
   ]
  },
  {
   "cell_type": "markdown",
   "metadata": {},
   "source": [
    "## Example of a multivariate distribution provided with marginals and copula"
   ]
  },
  {
   "cell_type": "code",
   "execution_count": null,
   "metadata": {},
   "outputs": [],
   "source": [
    "from UQpy.distributions import Gumbel, JointCopula\n",
    "marginals = [Normal(loc=0., scale=1),\n",
    "             Normal(loc=0., scale=1)]\n",
    "copula = Gumbel(theta=3.)"
   ]
  },
  {
   "cell_type": "code",
   "execution_count": null,
   "metadata": {
    "scrolled": true
   },
   "outputs": [],
   "source": [
    "# dist_1 is a multivariate normal with independent marginals\n",
    "dist_1 = JointIndependent(marginals)\n",
    "print('Does the distribution with independent margianls have an rvs method?')\n",
    "print(hasattr(dist_1, 'rvs'))\n",
    "\n",
    "# dist_2 exhibits dependence between the two dimensions, defined using a gumbel copula\n",
    "dist_2 = JointCopula(marginals=marginals, copula=copula)\n",
    "print('Does the distribution with copula have an rvs method?')\n",
    "print(hasattr(dist_2, 'rvs'))"
   ]
  },
  {
   "cell_type": "code",
   "execution_count": null,
   "metadata": {},
   "outputs": [],
   "source": [
    "print(dist_2.copula.parameters)\n",
    "dist_2.update_parameters(theta_c=2.)\n",
    "print(dist_2.copula.parameters)"
   ]
  },
  {
   "cell_type": "markdown",
   "metadata": {},
   "source": [
    "Compare pdfs for dist_1 and dist_2."
   ]
  },
  {
   "cell_type": "code",
   "execution_count": null,
   "metadata": {},
   "outputs": [],
   "source": [
    "fig, ax = plt.subplots(ncols=2, figsize=(10, 4))\n",
    "\n",
    "x = np.arange(-3, 3, 0.1)\n",
    "y = np.arange(-3, 3, 0.1)\n",
    "X, Y = np.meshgrid(x, y)\n",
    "Z = dist_1.pdf(x=np.concatenate([X.reshape((-1, 1)), Y.reshape((-1, 1))], axis=1))\n",
    "CS = ax[0].contour(X, Y, Z.reshape(X.shape))\n",
    "ax[0].clabel(CS, inline=1, fontsize=10)\n",
    "ax[0].set_title('Contour plot of pdf - independent normals')\n",
    "\n",
    "x = np.arange(-3, 3, 0.1)\n",
    "y = np.arange(-3, 3, 0.1)\n",
    "X, Y = np.meshgrid(x, y)\n",
    "Z = dist_2.pdf(x=np.concatenate([X.reshape((-1, 1)), Y.reshape((-1, 1))], axis=1))\n",
    "CS = ax[1].contour(X, Y, Z.reshape(X.shape))\n",
    "ax[1].clabel(CS, inline=1, fontsize=10)\n",
    "ax[1].set_title('Contour plot of pdf - normals with Gumbel copula')\n",
    "plt.show()"
   ]
  },
  {
   "cell_type": "code",
   "execution_count": null,
   "metadata": {},
   "outputs": [],
   "source": [
    "from mpl_toolkits.mplot3d import Axes3D\n",
    "fig = plt.figure(figsize=(12, 5))\n",
    "\n",
    "ax = fig.add_subplot(121, projection='3d')\n",
    "x = np.arange(-3, 3, 0.1)\n",
    "y = np.arange(-3, 3, 0.1)\n",
    "X, Y = np.meshgrid(x, y)\n",
    "Z = dist_1.cdf(x=np.concatenate([X.reshape((-1, 1)), Y.reshape((-1, 1))], axis=1))\n",
    "CS = ax.plot_surface(X, Y, Z.reshape(X.shape), cmap='jet')\n",
    "ax.clabel(CS, inline=1, fontsize=10, color='black')\n",
    "ax.set_title('Surface plot of cdf - independent normals')\n",
    "\n",
    "ax = fig.add_subplot(122, projection='3d')\n",
    "x = np.arange(-3, 3, 0.05)\n",
    "y = np.arange(-3, 3, 0.05)\n",
    "X, Y = np.meshgrid(x, y)\n",
    "Z = dist_2.cdf(x=np.concatenate([X.reshape((-1, 1)), Y.reshape((-1, 1))], axis=1))\n",
    "CS = ax.plot_surface(X, Y, Z.reshape(X.shape), cmap='jet')\n",
    "ax.clabel(CS, inline=1, fontsize=10, color='black')\n",
    "ax.set_title('Surface plot of cdf - normals with Gumbel copula')\n",
    "plt.show()\n",
    "\n",
    "# contour plots\n",
    "fig = plt.figure(figsize=(12, 5))\n",
    "\n",
    "ax = fig.add_subplot(121)\n",
    "x = np.arange(-3, 3, 0.1)\n",
    "y = np.arange(-3, 3, 0.1)\n",
    "X, Y = np.meshgrid(x, y)\n",
    "Z = dist_1.cdf(x=np.concatenate([X.reshape((-1, 1)), Y.reshape((-1, 1))], axis=1))\n",
    "CS = ax.contour(X, Y, Z.reshape(X.shape), cmap='jet')\n",
    "# ax.clabel(CS, inline=1, fontsize=10, color='black')\n",
    "ax.set_title('Contour plot of cdf - independent normals')\n",
    "\n",
    "ax = fig.add_subplot(122)\n",
    "x = np.arange(-3, 3, 0.05)\n",
    "y = np.arange(-3, 3, 0.05)\n",
    "X, Y = np.meshgrid(x, y)\n",
    "Z = dist_2.cdf(x=np.concatenate([X.reshape((-1, 1)), Y.reshape((-1, 1))], axis=1))\n",
    "CS = ax.contour(X, Y, Z.reshape(X.shape), cmap='jet')\n",
    "# ax.clabel(CS, inline=1, fontsize=10, color='black')\n",
    "ax.set_title('Contour plot of cdf - normals with Gumbel copula')\n",
    "plt.show()"
   ]
  },
  {
   "cell_type": "markdown",
   "metadata": {},
   "source": [
    "## Example with a custom distribution\n",
    "\n",
    "Build a custom distribution which inherits from DistributionND. It inherits method update_params. All other methods must be defined by the user as follows."
   ]
  },
  {
   "cell_type": "code",
   "execution_count": null,
   "metadata": {},
   "outputs": [],
   "source": [
    "from UQpy.distributions import DistributionND\n",
    "\n",
    "class Rosenbrock(DistributionND):\n",
    "    def __init__(self, p=20.):\n",
    "        super().__init__(p=p)\n",
    "\n",
    "    def pdf(self, x):\n",
    "        return np.exp(-(100 * (x[:, 1] - x[:, 0] ** 2) ** 2 + (1 - x[:, 0]) ** 2) / self.parameters['p'])\n",
    "\n",
    "    def log_pdf(self, x):\n",
    "        return -(100 * (x[:, 1] - x[:, 0] ** 2) ** 2 + (1 - x[:, 0]) ** 2) / self.parameters['p']"
   ]
  },
  {
   "cell_type": "code",
   "execution_count": null,
   "metadata": {},
   "outputs": [],
   "source": [
    "dist = Rosenbrock(p=20)\n",
    "print(dist.parameters)\n",
    "dist.update_parameters(p=40)\n",
    "print(dist.parameters)"
   ]
  },
  {
   "cell_type": "code",
   "execution_count": null,
   "metadata": {},
   "outputs": [],
   "source": [
    "dist = Rosenbrock(p=20)\n",
    "print(dist.parameters)\n",
    "\n",
    "fig, ax = plt.subplots(figsize=(8, 5))\n",
    "x = np.arange(-5, 8, 0.1)\n",
    "y = np.arange(-5, 50, 0.1)\n",
    "X, Y = np.meshgrid(x, y)\n",
    "Z = dist.pdf(x=np.concatenate([X.reshape((-1, 1)), Y.reshape((-1, 1))], axis=1))\n",
    "CS = ax.contour(X, Y, Z.reshape(X.shape))\n",
    "ax.clabel(CS, inline=1, fontsize=10)\n",
    "ax.set_title('Contour plot of custom pdf - Rosenbrock')\n",
    "plt.show()"
   ]
  },
  {
   "cell_type": "code",
   "execution_count": null,
   "metadata": {},
   "outputs": [],
   "source": [
    "print('Does the rosenbrock distribution have an rvs method?')\n",
    "print(hasattr(dist, 'rvs'))\n",
    "\n",
    "print('Does the rosenbrock distribution have an pdf method?')\n",
    "print(hasattr(dist, 'pdf'))\n",
    "\n",
    "print('Does the rosenbrock distribution have an update_params method?')\n",
    "print(hasattr(dist, 'update_params'))"
   ]
  }
 ],
 "metadata": {
  "kernelspec": {
   "display_name": "Python 3 (ipykernel)",
   "language": "python",
   "name": "python3"
  },
  "language_info": {
   "codemirror_mode": {
    "name": "ipython",
    "version": 3
   },
   "file_extension": ".py",
   "mimetype": "text/x-python",
   "name": "python",
   "nbconvert_exporter": "python",
   "pygments_lexer": "ipython3",
   "version": "3.9.6"
  }
 },
 "nbformat": 4,
 "nbformat_minor": 2
}
