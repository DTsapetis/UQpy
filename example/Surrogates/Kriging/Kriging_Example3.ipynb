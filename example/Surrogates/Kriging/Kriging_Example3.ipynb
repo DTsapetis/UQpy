{
 "cells": [
  {
   "cell_type": "markdown",
   "metadata": {},
   "source": [
    "# Kriging Example 3¶"
   ]
  },
  {
   "cell_type": "markdown",
   "metadata": {},
   "source": [
    "- Author: Mohit S. Chauhan \n",
    "- Date: Mar 03, 2019"
   ]
  },
  {
   "cell_type": "markdown",
   "metadata": {},
   "source": [
    "In this example, Kriging is used to generate a surrogate model for a given data. In this data, sample points are generated using STS class and functional value at sample points are estimated using a model defined in python script ('python_model_function.py)."
   ]
  },
  {
   "cell_type": "markdown",
   "metadata": {},
   "source": [
    "Import the necessary libraries. Here we import standard libraries such as numpy and matplotlib, but also need to import the STS, RunModel and Krig class from UQpy."
   ]
  },
  {
   "cell_type": "code",
   "execution_count": null,
   "metadata": {},
   "outputs": [],
   "source": [
    "from UQpy.surrogates import Kriging\n",
    "from UQpy.utilities import Rectangular\n",
    "from UQpy.sampling import StratifiedSampling\n",
    "from UQpy.RunModel import RunModel\n",
    "from UQpy.surrogates.kriging.regression_models.baseclass import  Regression\n",
    "from UQpy.surrogates.kriging.correlation_models.baseclass import Correlation\n",
    "from UQpy.distributions import Gamma\n",
    "import numpy as np\n",
    "import matplotlib.pyplot as plt"
   ]
  },
  {
   "cell_type": "markdown",
   "metadata": {},
   "source": [
    "Create a distribution object."
   ]
  },
  {
   "cell_type": "code",
   "execution_count": null,
   "metadata": {},
   "outputs": [],
   "source": [
    "marginals = [Gamma(a=2., loc=1., scale=3.)]"
   ]
  },
  {
   "cell_type": "markdown",
   "metadata": {},
   "source": [
    "Create a strata object."
   ]
  },
  {
   "cell_type": "code",
   "execution_count": null,
   "metadata": {},
   "outputs": [],
   "source": [
    "strata = Rectangular(strata_number=[20], random_state=1)"
   ]
  },
  {
   "cell_type": "markdown",
   "metadata": {},
   "source": [
    "Using UQpy STS class to generate samples for two random variables, which are uniformly distributed between 0 and 1."
   ]
  },
  {
   "cell_type": "code",
   "execution_count": null,
   "metadata": {},
   "outputs": [],
   "source": [
    "x = StratifiedSampling(distributions=marginals, strata_object=strata,\n",
    "                       samples_per_stratum_number=1)"
   ]
  },
  {
   "cell_type": "markdown",
   "metadata": {},
   "source": [
    "RunModel is used to evaluate function values at sample points. Model is defined as a function in python file 'python_model_function.py'. "
   ]
  },
  {
   "cell_type": "code",
   "execution_count": null,
   "metadata": {},
   "outputs": [],
   "source": [
    "rmodel = RunModel(model_script='python_model_1Dfunction.py', delete_files=True)\n",
    "rmodel.run(samples=x.samples)"
   ]
  },
  {
   "cell_type": "markdown",
   "metadata": {},
   "source": [
    "A regression model is defined, this function return the basis function and its jacobian. "
   ]
  },
  {
   "cell_type": "code",
   "execution_count": null,
   "metadata": {},
   "outputs": [],
   "source": [
    "class UserRegression(Regression):\n",
    "    def r(self, s):\n",
    "        fx = np.concatenate((np.ones([np.size(s, 0), 1]), s), 1)\n",
    "        jf_b = np.zeros([np.size(s, 0), np.size(s, 1), np.size(s, 1)])\n",
    "        np.einsum('jii->ji', jf_b)[:] = 1\n",
    "        jf = np.concatenate((np.zeros([np.size(s, 0), np.size(s, 1), 1]), jf_b), 2)\n",
    "        return fx, jf"
   ]
  },
  {
   "cell_type": "markdown",
   "metadata": {},
   "source": [
    "Gaussian correlation model is defined, which retur covariance matrix and its derivatives. "
   ]
  },
  {
   "cell_type": "code",
   "execution_count": null,
   "metadata": {},
   "outputs": [],
   "source": [
    "class UserCorrelation(Correlation):\n",
    "    def c(self, x, s, params, dt=False, dx=False):\n",
    "        x, s = np.atleast_2d(x), np.atleast_2d(s)\n",
    "        # Create stack matrix, where each block is x_i with all s\n",
    "        stack = - np.tile(np.swapaxes(np.atleast_3d(x), 1, 2), (1, np.size(s, 0), 1)) + np.tile(s,\n",
    "                                                                                                (np.size(x, 0), 1,\n",
    "                                                                                                 1))\n",
    "        rx = np.exp(np.sum(-params * (stack ** 2), axis=2))\n",
    "        if dt:\n",
    "            drdt = -(stack ** 2) * np.transpose(np.tile(rx, (np.size(x, 1), 1, 1)), (1, 2, 0))\n",
    "            return rx, drdt\n",
    "        if dx:\n",
    "            drdx = 2 * params * stack * np.transpose(np.tile(rx, (np.size(x, 1), 1, 1)), (1, 2, 0))\n",
    "            return rx, drdx\n",
    "        return rx"
   ]
  },
  {
   "cell_type": "markdown",
   "metadata": {},
   "source": [
    "Using UQpy Krig class to generate a surrogate for generated data. In this illustration, user defined regression model and correlation model are used."
   ]
  },
  {
   "cell_type": "code",
   "execution_count": null,
   "metadata": {},
   "outputs": [],
   "source": [
    "regression_model = UserRegression()\n",
    "correlation_model = UserCorrelation()\n",
    "\n",
    "K = Kriging(regression_model=regression_model,\n",
    "            correlation_model=correlation_model,\n",
    "            optimizations_number=10,\n",
    "            correlation_model_parameters=[10],\n",
    "            random_state=2)\n",
    "K.fit(samples=x.samples, values=rmodel.qoi_list)\n",
    "print(K.correlation_model_parameters)"
   ]
  },
  {
   "cell_type": "markdown",
   "metadata": {},
   "source": [
    "Kriging surrogate is used to compute the response surface and its gradient."
   ]
  },
  {
   "cell_type": "code",
   "execution_count": null,
   "metadata": {},
   "outputs": [],
   "source": [
    "num = 1000\n",
    "x1 = np.linspace(min(x.samples), max(x.samples), num)\n",
    "y, mse = K.predict(x1.reshape([num, 1]), return_std=True)\n",
    "y_grad = K.jacobian(x1.reshape([num, 1]))"
   ]
  },
  {
   "cell_type": "markdown",
   "metadata": {},
   "source": [
    "Actual model is evaluated at all points to compare it with kriging surrogate."
   ]
  },
  {
   "cell_type": "code",
   "execution_count": null,
   "metadata": {},
   "outputs": [],
   "source": [
    "rmodel.run(samples=x1, append_samples=False)"
   ]
  },
  {
   "cell_type": "markdown",
   "metadata": {},
   "source": [
    "This plot shows the input data as blue dot, blue curve is actual function and orange curve represents response curve. This plot also shows the gradient and 95% confidence interval of the kriging surrogate."
   ]
  },
  {
   "cell_type": "code",
   "execution_count": null,
   "metadata": {},
   "outputs": [],
   "source": [
    "fig = plt.figure()\n",
    "ax = plt.subplot(111)\n",
    "plt.plot(x1, rmodel.qoi_list, label='Sine')\n",
    "plt.plot(x1, y, label='Surrogate')\n",
    "plt.plot(x1, y_grad, label='Gradient')\n",
    "plt.scatter(K.samples, K.values, label='Data')\n",
    "plt.fill(np.concatenate([x1, x1[::-1]]),\n",
    "         np.concatenate([y - 1.9600 * mse,\n",
    "                         (y + 1.9600 * mse)[::-1]]),\n",
    "         alpha=.5, fc='y', ec='None', label='95% CI')\n",
    "# plt.legend(loc='lower right')\n",
    "# Shrink current axis by 20%\n",
    "box = ax.get_position()\n",
    "ax.set_position([box.x0, box.y0, box.width * 0.8, box.height])\n",
    "\n",
    "# Put a legend to the right of the current axis\n",
    "ax.legend(loc='center left', bbox_to_anchor=(1, 0.5))\n",
    "plt.show()"
   ]
  }
 ],
 "metadata": {
  "kernelspec": {
   "display_name": "Python 3 (ipykernel)",
   "language": "python",
   "name": "python3"
  },
  "language_info": {
   "codemirror_mode": {
    "name": "ipython",
    "version": 3
   },
   "file_extension": ".py",
   "mimetype": "text/x-python",
   "name": "python",
   "nbconvert_exporter": "python",
   "pygments_lexer": "ipython3",
   "version": "3.9.6"
  }
 },
 "nbformat": 4,
 "nbformat_minor": 2
}
