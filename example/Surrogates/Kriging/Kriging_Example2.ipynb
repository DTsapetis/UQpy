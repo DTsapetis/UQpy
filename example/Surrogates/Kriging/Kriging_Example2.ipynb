{
 "cells": [
  {
   "cell_type": "markdown",
   "metadata": {},
   "source": [
    "# Kriging Example 2¶"
   ]
  },
  {
   "cell_type": "markdown",
   "metadata": {},
   "source": [
    "- Author: Mohit S. Chauhan \n",
    "- Date: Aug 20, 2018"
   ]
  },
  {
   "cell_type": "markdown",
   "metadata": {},
   "source": [
    "In this example, Kriging is used to generate a surrogate model for a given data. In this data, sample points are generated using STS class and functional value at sample points are estimated using a model defined in python script ('python_model_function.py)."
   ]
  },
  {
   "cell_type": "markdown",
   "metadata": {},
   "source": [
    "Import the necessary libraries. Here we import standard libraries such as numpy and matplotlib, but also need to import the STS, RunModel and Krig class from UQpy."
   ]
  },
  {
   "cell_type": "code",
   "execution_count": null,
   "metadata": {},
   "outputs": [],
   "source": [
    "from UQpy.surrogates import Kriging\n",
    "from UQpy.surrogates.kriging.regression_models import Constant\n",
    "from UQpy.surrogates.kriging.correlation_models import Exponential\n",
    "from UQpy.utilities import Rectangular\n",
    "from UQpy.sampling import StratifiedSampling\n",
    "from UQpy.RunModel import RunModel\n",
    "from UQpy.distributions import Uniform\n",
    "import numpy as np\n",
    "import matplotlib.pyplot as plt\n",
    "from matplotlib import cm\n",
    "from matplotlib.ticker import LinearLocator, FormatStrFormatter"
   ]
  },
  {
   "cell_type": "markdown",
   "metadata": {},
   "source": [
    "Create a distribution object. "
   ]
  },
  {
   "cell_type": "code",
   "execution_count": null,
   "metadata": {},
   "outputs": [],
   "source": [
    "marginals = [Uniform(loc=0., scale=1.), Uniform(loc=0., scale=1.)]"
   ]
  },
  {
   "cell_type": "markdown",
   "metadata": {},
   "source": [
    "Create a strata object."
   ]
  },
  {
   "cell_type": "code",
   "execution_count": null,
   "metadata": {},
   "outputs": [],
   "source": [
    "strata = Rectangular(strata_number=[10, 10], random_state=1)"
   ]
  },
  {
   "cell_type": "markdown",
   "metadata": {},
   "source": [
    "Using UQpy STS class to generate samples for two random variables, which are uniformly distributed between 0 and 1."
   ]
  },
  {
   "cell_type": "code",
   "execution_count": null,
   "metadata": {},
   "outputs": [],
   "source": [
    "x = StratifiedSampling(distributions=marginals, strata_object=strata, samples_per_stratum_number=1)"
   ]
  },
  {
   "cell_type": "markdown",
   "metadata": {},
   "source": [
    "RunModel is used to evaluate function values at sample points. Model is defined as a function in python file 'python_model_function.py'."
   ]
  },
  {
   "cell_type": "code",
   "execution_count": null,
   "metadata": {
    "scrolled": true
   },
   "outputs": [],
   "source": [
    "rmodel = RunModel(model_script='python_model_function.py', vec=False)\n",
    "rmodel.run(samples=x.samples)"
   ]
  },
  {
   "cell_type": "markdown",
   "metadata": {},
   "source": [
    "Using UQpy Krig class to generate a surrogate for generated data. In this illustration, Quadratic regression model and Exponential correlation model are used."
   ]
  },
  {
   "cell_type": "code",
   "execution_count": null,
   "metadata": {},
   "outputs": [],
   "source": [
    "regression_model = Constant()\n",
    "correlation_model = Exponential()\n",
    "K = Kriging(regression_model=regression_model,\n",
    "            correlation_model=correlation_model,\n",
    "            optimizations_number=20,\n",
    "            correlation_model_parameters=[1, 1])\n",
    "K.fit(samples=x.samples, values=rmodel.qoi_list)\n",
    "print(K.correlation_model_parameters)"
   ]
  },
  {
   "cell_type": "markdown",
   "metadata": {},
   "source": [
    "This plot shows the actual model which is used to evaluate the samples to identify the function values."
   ]
  },
  {
   "cell_type": "code",
   "execution_count": null,
   "metadata": {},
   "outputs": [],
   "source": [
    "num = 25\n",
    "x1 = np.linspace(0, 1, num)\n",
    "x2 = np.linspace(0, 1, num)\n",
    "\n",
    "x1g, x2g = np.meshgrid(x1, x2)\n",
    "x1gv, x2gv = x1g.reshape(x1g.size, 1), x2g.reshape(x2g.size, 1)\n",
    "\n",
    "y2 = K.predict(np.concatenate([x1gv, x2gv], 1)).reshape(x1g.shape[0], x1g.shape[1])\n",
    "r2model = RunModel(model_script='python_model_function.py')\n",
    "r2model.run(samples=np.concatenate([x1gv, x2gv], 1))\n",
    "y_act = np.array(r2model.qoi_list).reshape(x1g.shape[0], x1g.shape[1])\n",
    "\n",
    "fig1 = plt.figure()\n",
    "ax = fig1.gca(projection='3d')\n",
    "surf = ax.plot_surface(x1g, x2g, y_act, cmap=cm.coolwarm, linewidth=0, antialiased=False)\n",
    "ax.set_zlim(-1, 15)\n",
    "ax.zaxis.set_major_locator(LinearLocator(10))\n",
    "ax.zaxis.set_major_formatter(FormatStrFormatter('%.02f'))\n",
    "# Add a color bar which maps values to colors.\n",
    "fig1.colorbar(surf, shrink=0.5, aspect=5)\n",
    "plt.show()"
   ]
  },
  {
   "cell_type": "markdown",
   "metadata": {},
   "source": [
    "This plot shows the input data as red dot and green wirefram plot represent the kriging surrogate generated through Krig class."
   ]
  },
  {
   "cell_type": "code",
   "execution_count": null,
   "metadata": {},
   "outputs": [],
   "source": [
    "fig2 = plt.figure()\n",
    "ax2 = plt.axes(projection='3d')\n",
    "# Plot for estimated values\n",
    "kr = ax2.plot_wireframe(x1g, x2g, y2, color='Green', label='Kriging interpolate')\n",
    "\n",
    "# Plot for scattered data\n",
    "ID = ax2.scatter3D(x.samples[:, 0], x.samples[:, 1], np.array(rmodel.qoi_list), color='Red', label='Input data')\n",
    "plt.legend(handles=[kr, ID])\n",
    "plt.show()"
   ]
  }
 ],
 "metadata": {
  "kernelspec": {
   "display_name": "Python 3 (ipykernel)",
   "language": "python",
   "name": "python3"
  },
  "language_info": {
   "codemirror_mode": {
    "name": "ipython",
    "version": 3
   },
   "file_extension": ".py",
   "mimetype": "text/x-python",
   "name": "python",
   "nbconvert_exporter": "python",
   "pygments_lexer": "ipython3",
   "version": "3.9.6"
  }
 },
 "nbformat": 4,
 "nbformat_minor": 2
}