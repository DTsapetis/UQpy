{
 "cells": [
  {
   "cell_type": "markdown",
   "metadata": {},
   "source": [
    "# Stochastic Reduce Order Model Example 2"
   ]
  },
  {
   "cell_type": "markdown",
   "metadata": {},
   "source": [
    "- Author: Mohit S. Chauhan \n",
    "- Date: June 4, 2018"
   ]
  },
  {
   "cell_type": "markdown",
   "metadata": {},
   "source": [
    "In this example, Stratified sampling is used to generate samples from Gamma distribution and weights are defined using Stochastic Reduce Order Model (SROM). This example illustrate how to define same weights for each sample of a random variable."
   ]
  },
  {
   "cell_type": "markdown",
   "metadata": {},
   "source": [
    "Import the necessary libraries. Here we import standard libraries such as numpy and matplotlib, but also need to import the STS and SROM class from UQpy."
   ]
  },
  {
   "cell_type": "code",
   "execution_count": 1,
   "metadata": {},
   "outputs": [],
   "source": [
    "from UQpy.surrogates import SROM\n",
    "from UQpy.utilities import Rectangular\n",
    "from UQpy.sampling import StratifiedSampling\n",
    "from UQpy.distributions import Gamma\n",
    "import scipy.stats as stats\n",
    "import matplotlib.pyplot as plt\n",
    "import numpy as np"
   ]
  },
  {
   "cell_type": "markdown",
   "metadata": {},
   "source": [
    "Create a distribution object for Gamma distribution with shape, shift and scale parameters as 2, 1 and 3."
   ]
  },
  {
   "cell_type": "code",
   "execution_count": 2,
   "metadata": {},
   "outputs": [],
   "source": [
    "marginals = [Gamma(a=2., loc=1., scale=3.), Gamma(a=2., loc=1., scale=3.)]"
   ]
  },
  {
   "cell_type": "markdown",
   "metadata": {},
   "source": [
    "Create a strata object."
   ]
  },
  {
   "cell_type": "code",
   "execution_count": 3,
   "metadata": {},
   "outputs": [],
   "source": [
    "strata = Rectangular(strata_number=[4, 4])"
   ]
  },
  {
   "cell_type": "markdown",
   "metadata": {},
   "source": [
    "Using UQpy STS class to generate samples for two random variables having Gamma distribution."
   ]
  },
  {
   "cell_type": "code",
   "execution_count": 4,
   "metadata": {},
   "outputs": [],
   "source": [
    "x = StratifiedSampling(distributions=marginals,\n",
    "                       strata_object=strata,\n",
    "                       samples_per_stratum_number=1)"
   ]
  },
  {
   "cell_type": "markdown",
   "metadata": {},
   "source": [
    "Run SROM using the defined Gamma distribution. Here we use the following parameters.\n",
    "\n",
    "- Gamma distribution with shape, shift and scale parameters as 2, 1 and 3.\n",
    "- First and second order moments about origin are 6 and 54.\n",
    "- Notice that pdf_target references the Gamma function directly and does not designate it as a string.\n",
    "- Samples are uncorrelated, i.e. also default value of correlation."
   ]
  },
  {
   "cell_type": "code",
   "execution_count": 5,
   "metadata": {},
   "outputs": [
    {
     "name": "stderr",
     "output_type": "stream",
     "text": [
      "/Users/dimitris/PycharmProjects/dimtsap/UQpy/src/UQpy/surrogates/stochastic_reduced_order_models/SROM.py:316: RuntimeWarning: invalid value encountered in reciprocal\n",
      "  self.weights_moments = np.reciprocal(np.square(self.moments))\n"
     ]
    }
   ],
   "source": [
    "y1 = SROM(samples=x.samples, target_distributions=marginals, moments=[[6., 6.], [54., 54.]],\n",
    "          properties=[True, True, True, False])"
   ]
  },
  {
   "cell_type": "markdown",
   "metadata": {},
   "source": [
    "In this case, sample_weights are generated using default values of weights_distribution, weights_moments and weights_correlation. Default values are:"
   ]
  },
  {
   "cell_type": "code",
   "execution_count": 6,
   "metadata": {},
   "outputs": [
    {
     "name": "stdout",
     "output_type": "stream",
     "text": [
      "weights_distribution \n",
      " [[1. 1.]\n",
      " [1. 1.]\n",
      " [1. 1.]\n",
      " [1. 1.]\n",
      " [1. 1.]\n",
      " [1. 1.]\n",
      " [1. 1.]\n",
      " [1. 1.]\n",
      " [1. 1.]\n",
      " [1. 1.]\n",
      " [1. 1.]\n",
      " [1. 1.]\n",
      " [1. 1.]\n",
      " [1. 1.]\n",
      " [1. 1.]\n",
      " [1. 1.]] \n",
      " weights_moments \n",
      " [[0.02777778 0.02777778]\n",
      " [0.00034294 0.00034294]] \n",
      " weights_correlation \n",
      " [[1. 1.]\n",
      " [1. 1.]]\n"
     ]
    }
   ],
   "source": [
    "print('weights_distribution', '\\n', y1.weights_distribution, '\\n', 'weights_moments', '\\n', y1.weights_moments, '\\n', \n",
    "      'weights_correlation', '\\n', y1.weights_correlation)"
   ]
  },
  {
   "cell_type": "code",
   "execution_count": 7,
   "metadata": {},
   "outputs": [],
   "source": [
    "y2 = SROM(samples=x.samples, target_distributions=marginals, moments=[[6., 6.], [54., 54.]],\n",
    "          properties=[True, True, True, False],\n",
    "          weights_distribution=[[0.4, 0.5]], weights_moments=[[0.2, 0.7]],\n",
    "          weights_correlation=[[0.3, 0.4], [0.4, 0.6]])"
   ]
  },
  {
   "cell_type": "markdown",
   "metadata": {},
   "source": [
    "In second case, weights_distribution is modified by SROM class. First, it defines an array of size 2×16 with all elements equal to 1 and then multiply first column by 0.4 and second column by 0.5 . Similarly, weights_moments and weights_correlation are modified."
   ]
  },
  {
   "cell_type": "code",
   "execution_count": 8,
   "metadata": {},
   "outputs": [
    {
     "name": "stdout",
     "output_type": "stream",
     "text": [
      "weights_distribution \n",
      " [[1. 1.]\n",
      " [1. 1.]\n",
      " [1. 1.]\n",
      " [1. 1.]\n",
      " [1. 1.]\n",
      " [1. 1.]\n",
      " [1. 1.]\n",
      " [1. 1.]\n",
      " [1. 1.]\n",
      " [1. 1.]\n",
      " [1. 1.]\n",
      " [1. 1.]\n",
      " [1. 1.]\n",
      " [1. 1.]\n",
      " [1. 1.]\n",
      " [1. 1.]] \n",
      " weights_moments \n",
      " [[0.02777778 0.02777778]\n",
      " [0.00034294 0.00034294]] \n",
      " weights_correlation \n",
      " [[1. 1.]\n",
      " [1. 1.]]\n"
     ]
    }
   ],
   "source": [
    "print('weights_distribution', '\\n', y2.weights_distribution, '\\n', 'weights_moments', '\\n', y2.weights_moments, '\\n', \n",
    "      'weights_correlation', '\\n', y2.weights_correlation)"
   ]
  },
  {
   "cell_type": "markdown",
   "metadata": {},
   "source": [
    "Plot below shows the comparison of samples weights generated using two different weights with the actual CDF of gamma distribution."
   ]
  },
  {
   "cell_type": "code",
   "execution_count": 9,
   "metadata": {},
   "outputs": [
    {
     "data": {
      "image/png": "[encoded data removed]",
      "text/plain": [
       "<Figure size 432x288 with 1 Axes>"
      ]
     },
     "metadata": {
      "needs_background": "light"
     },
     "output_type": "display_data"
    }
   ],
   "source": [
    "c1 = np.concatenate((y1.samples, y1.sample_weights.reshape(y1.sample_weights.shape[0], 1)), axis=1)\n",
    "d1 = c1[c1[:, 0].argsort()]\n",
    "c2 = np.concatenate((y2.samples, y2.sample_weights.reshape(y2.sample_weights.shape[0], 1)), axis=1)\n",
    "d2 = c2[c2[:, 0].argsort()]\n",
    "plt.plot(d1[:, 0], np.cumsum(d1[:, 2], axis=0), 'x')\n",
    "plt.plot(d2[:, 0], np.cumsum(d2[:, 2], axis=0), 'o')\n",
    "plt.plot(np.arange(1,15,0.1), stats.gamma.cdf(np.arange(1,15,0.1), 2, loc=1, scale=3))\n",
    "plt.legend(['Case 1','Case 2','CDF'])\n",
    "plt.title('1st random variable')\n",
    "plt.show()"
   ]
  },
  {
   "cell_type": "markdown",
   "metadata": {},
   "source": [
    "A note on the weights corresponding to distribution, moments and correlation of random variables:\n",
    "\n",
    "- For this illustration, default weights_moments are square of reciprocal of moments. Thus, moments should be of 'float list' type."
   ]
  }
 ],
 "metadata": {
  "kernelspec": {
   "display_name": "Python 3 (ipykernel)",
   "language": "python",
   "name": "python3"
  },
  "language_info": {
   "codemirror_mode": {
    "name": "ipython",
    "version": 3
   },
   "file_extension": ".py",
   "mimetype": "text/x-python",
   "name": "python",
   "nbconvert_exporter": "python",
   "pygments_lexer": "ipython3",
   "version": "3.9.6"
  }
 },
 "nbformat": 4,
 "nbformat_minor": 2
}
