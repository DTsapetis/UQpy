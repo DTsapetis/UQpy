{
 "cells": [
  {
   "cell_type": "markdown",
   "metadata": {},
   "source": [
    "# Stochastic Reduce Order Model Example 3"
   ]
  },
  {
   "cell_type": "markdown",
   "metadata": {},
   "source": [
    "- Author: Mohit S. Chauhan \n",
    "- Date: Oct 15, 2018"
   ]
  },
  {
   "cell_type": "markdown",
   "metadata": {},
   "source": [
    "In this example, Uncertainty in eigenvalues of a system is studied using SROM and it is compared with the Monte Carlo Simulation results. Stiffness of each element (i.e. k1, k2 and k3) are treated as random variables which follows gamma distribution. SROM is created for all three random variables and distribution of eigenvalues are identified using SROM."
   ]
  },
  {
   "cell_type": "markdown",
   "metadata": {},
   "source": [
    "Import the necessary libraries. Here we import standard libraries such as numpy and matplotlib, but also need to import the MCS, STS and SROM class from UQpy."
   ]
  },
  {
   "cell_type": "code",
   "execution_count": null,
   "metadata": {},
   "outputs": [],
   "source": [
    "from UQpy.sampling import MonteCarloSampling, StratifiedSampling\n",
    "from UQpy.utilities.strata import Rectangular\n",
    "from UQpy.distributions import Gamma\n",
    "from UQpy.surrogates import SROM\n",
    "from UQpy.RunModel import RunModel\n",
    "from scipy.stats import gamma\n",
    "import numpy as np\n",
    "import matplotlib.pyplot as plt"
   ]
  },
  {
   "cell_type": "markdown",
   "metadata": {},
   "source": [
    "Create a distribution object for Gamma distribution with shape, shift and scale parameters as 2, 1 and 3."
   ]
  },
  {
   "cell_type": "code",
   "execution_count": null,
   "metadata": {},
   "outputs": [],
   "source": [
    "marginals = [Gamma(a=2., loc=1., scale=3.), Gamma(a=2., loc=1., scale=3.), Gamma(a=2., loc=1., scale=3.)]"
   ]
  },
  {
   "cell_type": "markdown",
   "metadata": {},
   "source": [
    "Create a strata object."
   ]
  },
  {
   "cell_type": "code",
   "execution_count": null,
   "metadata": {},
   "outputs": [],
   "source": [
    "strata = Rectangular(strata_number=[3, 3, 3])"
   ]
  },
  {
   "cell_type": "markdown",
   "metadata": {},
   "source": [
    "Using UQpy STS class to generate samples for two random variables having Gamma distribution."
   ]
  },
  {
   "cell_type": "code",
   "execution_count": null,
   "metadata": {},
   "outputs": [],
   "source": [
    "x = StratifiedSampling(distributions=marginals, strata_object=strata, samples_per_stratum_number=1)"
   ]
  },
  {
   "cell_type": "markdown",
   "metadata": {},
   "source": [
    "Run SROM to minimize the error in distribution, first order and second order moment about origin."
   ]
  },
  {
   "cell_type": "code",
   "execution_count": null,
   "metadata": {},
   "outputs": [],
   "source": [
    "y = SROM(samples=x.samples, target_distributions=marginals, moments=[[6, 6, 6], [54, 54, 54]],\n",
    "         weights_errors=[1, 1, 0], properties=[True, True, True, False])"
   ]
  },
  {
   "cell_type": "markdown",
   "metadata": {},
   "source": [
    "Plot the sample sets and weights from SROM class. Also, compared with the CDF of gamma distrbution of k1."
   ]
  },
  {
   "cell_type": "code",
   "execution_count": null,
   "metadata": {},
   "outputs": [],
   "source": [
    "# Arrange samples in increasing order and sort samples accordingly\n",
    "com = np.append(y.samples, np.transpose(np.matrix(y.sample_weights)), 1)\n",
    "srt = com[np.argsort(com[:, 0].flatten())]\n",
    "s = np.array(srt[0, :, 0])\n",
    "a = srt[0, :, 3]\n",
    "a0 = np.array(np.cumsum(a))\n",
    "# Plot the SROM approximation and compare with actual gamma distribution\n",
    "l = 3\n",
    "fig = plt.figure()\n",
    "plt.rcParams.update({'font.size': 12})\n",
    "plt.plot(s[0], a0[0], linewidth=l)\n",
    "plt.plot(np.arange(3, 12, 0.05), gamma.cdf(np.arange(3, 12, 0.05), a=2, loc=3, scale=1), linewidth=l)\n",
    "plt.legend(['SROM Approximation', 'Gamma CDF'], loc=5, prop={'size': 12}, bbox_to_anchor=(1, 0.75))\n",
    "plt.show()"
   ]
  },
  {
   "cell_type": "markdown",
   "metadata": {},
   "source": [
    "Run the model 'eigenvalue_model.py' for each sample generated through STS class. This model defines the stiffness matrix corresponding to each sample and estimate the eigenvalues of the matrix."
   ]
  },
  {
   "cell_type": "code",
   "execution_count": null,
   "metadata": {},
   "outputs": [],
   "source": [
    "model = RunModel(model_script='eigenvalue_model.py')\n",
    "model.run(samples=y.samples)\n",
    "r_srom = model.qoi_list"
   ]
  },
  {
   "cell_type": "markdown",
   "metadata": {},
   "source": [
    "MCS class is used to generate 1000 samples."
   ]
  },
  {
   "cell_type": "code",
   "execution_count": null,
   "metadata": {},
   "outputs": [],
   "source": [
    "x_mcs = MonteCarloSampling(distributions=marginals, samples_number=1000)"
   ]
  },
  {
   "cell_type": "markdown",
   "metadata": {},
   "source": [
    "Run the model 'eigenvalue_model.py' for each sample generated through MCS class"
   ]
  },
  {
   "cell_type": "code",
   "execution_count": null,
   "metadata": {},
   "outputs": [],
   "source": [
    "model.run(samples=x_mcs.samples, append_samples=False)\n",
    "r_mcs = model.qoi_list"
   ]
  },
  {
   "cell_type": "markdown",
   "metadata": {},
   "source": [
    "Plot the distribution of each eigenvalue, estimated using SROM and MCS weights."
   ]
  },
  {
   "cell_type": "code",
   "execution_count": null,
   "metadata": {},
   "outputs": [],
   "source": [
    "# Plot SROM and MCS approximation for first eigenvalue\n",
    "r = np.array(r_srom)[:, 0]\n",
    "r_mcs = np.array(r_mcs)\n",
    "com = np.append(np.atleast_2d(r).T, np.transpose(np.matrix(y.sample_weights)), 1)\n",
    "srt = com[np.argsort(com[:, 0].flatten())]\n",
    "s = np.array(srt[0, :, 0])\n",
    "a = srt[0, :, 1]\n",
    "a0 = np.array(np.cumsum(a))\n",
    "fig1 = plt.figure()\n",
    "plt.plot(s[0], a0[0], linewidth=l)\n",
    "r_mcs0 = r_mcs[np.argsort(r_mcs[:, 0].flatten())]\n",
    "plt.plot(r_mcs0[:, 0], np.cumsum(0.001*np.ones([1, 1000])), linewidth=l)\n",
    "plt.title('Eigenvalue, $\\lambda_1$')\n",
    "plt.legend(['SROM', 'MCS'], loc=1, prop={'size': 12}, bbox_to_anchor=(1, 0.92))\n",
    "plt.show()\n",
    "\n",
    "# Plot SROM and MCS approximation for second eigenvalue\n",
    "r = np.array(r_srom)[:, 1]\n",
    "com = np.append(np.atleast_2d(r).T, np.transpose(np.matrix(y.sample_weights)), 1)\n",
    "srt = com[np.argsort(com[:, 0].flatten())]\n",
    "s = np.array(srt[0, :, 0])\n",
    "a = srt[0, :, 1]\n",
    "a0 = np.array(np.cumsum(a))\n",
    "fig2 = plt.figure()\n",
    "plt.plot(s[0], a0[0], linewidth=l)\n",
    "r_mcs0 = r_mcs[np.argsort(r_mcs[:, 1].flatten())]\n",
    "plt.plot(r_mcs0[:, 1], np.cumsum(0.001*np.ones([1, 1000])), linewidth=l)\n",
    "plt.title('Eigenvalue, $\\lambda_2$')\n",
    "plt.legend(['SROM', 'MCS'], loc=1, prop={'size': 12}, bbox_to_anchor=(1, 0.92))\n",
    "plt.show()\n",
    "\n",
    "# Plot SROM and MCS approximation for third eigenvalue\n",
    "r = np.array(r_srom)[:, 2]\n",
    "com = np.append(np.atleast_2d(r).T, np.transpose(np.matrix(y.sample_weights)), 1)\n",
    "srt = com[np.argsort(com[:, 0].flatten())]\n",
    "s = np.array(srt[0, :, 0])\n",
    "a = srt[0, :, 1]\n",
    "a0 = np.array(np.cumsum(a))\n",
    "fig3 = plt.figure()\n",
    "plt.plot(s[0], a0[0], linewidth=l)\n",
    "r_mcs0 = r_mcs[np.argsort(r_mcs[:, 2].flatten())]\n",
    "plt.plot(r_mcs0[:, 2], np.cumsum(0.001*np.ones([1, 1000])), linewidth=l)\n",
    "plt.title('Eigenvalue, $\\lambda_3$')\n",
    "plt.legend(['SROM', 'MCS'], loc=1, prop={'size': 12}, bbox_to_anchor=(1, 0.92))\n",
    "plt.show()"
   ]
  },
  {
   "cell_type": "markdown",
   "metadata": {},
   "source": [
    "Note: Monte Carlo Simulation used 1000 samples, whereas SROM used 27 samples."
   ]
  }
 ],
 "metadata": {
  "kernelspec": {
   "display_name": "Python 3 (ipykernel)",
   "language": "python",
   "name": "python3"
  },
  "language_info": {
   "codemirror_mode": {
    "name": "ipython",
    "version": 3
   },
   "file_extension": ".py",
   "mimetype": "text/x-python",
   "name": "python",
   "nbconvert_exporter": "python",
   "pygments_lexer": "ipython3",
   "version": "3.9.6"
  }
 },
 "nbformat": 4,
 "nbformat_minor": 2
}
