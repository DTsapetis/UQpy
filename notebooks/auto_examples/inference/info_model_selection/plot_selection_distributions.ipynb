{
  "cells": [
    {
      "cell_type": "markdown",
      "metadata": {},
      "source": [
        "\n# 1. Selection between univariate distributions\n\nHere a model is defined that is of the form\n\n\\begin{align}y=f(\u03b8) + \\epsilon\\end{align}\n\nwhere f consists in running RunModel. In particular, here $f(\u03b8)=\u03b8_{0} x + \u03b8_{1} x^{2}$ is a regression model.\n"
      ]
    },
    {
      "cell_type": "markdown",
      "metadata": {},
      "source": [
        "Initially we have to import the necessary modules.\n\n"
      ]
    },
    {
      "cell_type": "code",
      "execution_count": null,
      "metadata": {
        "collapsed": false
      },
      "outputs": [],
      "source": [
        "from UQpy.inference import DistributionModel, InformationModelSelection, MLE\nimport numpy as np\nimport matplotlib.pyplot as plt\nfrom UQpy.distributions import Gamma, Exponential, ChiSquare"
      ]
    },
    {
      "cell_type": "markdown",
      "metadata": {},
      "source": [
        "Generate data using a gamma distribution.\n\n"
      ]
    },
    {
      "cell_type": "code",
      "execution_count": null,
      "metadata": {
        "collapsed": false
      },
      "outputs": [],
      "source": [
        "data = Gamma(a=2, loc=0, scale=2).rvs(nsamples=500, random_state=12)\nprint(data.shape)"
      ]
    },
    {
      "cell_type": "markdown",
      "metadata": {},
      "source": [
        "Define the models to be compared, then call InfoModelSelection to perform model selection. By default,\nInfoModelSelection returns its outputs, fitted parameters, value of the chosen criteria, model probabilities and so\non, in a sorted order, i.e., starting with the most probable model. However, if setting :code:`sorted_outputs=False`,\nthe class output attributes are given in the same order as the candidate_models.\n\n"
      ]
    },
    {
      "cell_type": "code",
      "execution_count": null,
      "metadata": {
        "collapsed": false
      },
      "outputs": [],
      "source": [
        "# Define the models to be compared, for each model one must create an instance of the model class\n\nm0 = DistributionModel(distributions=Gamma(a=None, loc=None, scale=None), n_parameters=3, name='gamma')\nm1 = DistributionModel(distributions=Exponential(loc=None, scale=None), n_parameters=2, name='exponential')\nm2 = DistributionModel(distributions=ChiSquare(df=None, loc=None, scale=None), n_parameters=3, name='chi-square')\n\ncandidate_models = [m0, m1, m2]\n\nmle1 = MLE(inference_model=m0, random_state=0, data=data)\nmle2 = MLE(inference_model=m1, random_state=0, data=data)\nmle3 = MLE(inference_model=m2, random_state=0, data=data)"
      ]
    },
    {
      "cell_type": "markdown",
      "metadata": {},
      "source": [
        "Perform model selection using different information criteria\n\n"
      ]
    },
    {
      "cell_type": "code",
      "execution_count": null,
      "metadata": {
        "collapsed": false
      },
      "outputs": [],
      "source": [
        "from UQpy.inference import BIC, AIC, AICc\n\ncriteria = [BIC(), AIC(), AICc()]\nsorted_names =[]\ncriterion_value = []\nparam =[]\nfor criterion in criteria:\n    selector = InformationModelSelection(parameter_estimators=[mle1, mle2, mle3], criterion=criterion,\n                                         n_optimizations=[5]*3)\n    selector.sort_models()\n    print('Sorted model using ' + str(criterion) + ' criterion: ' + ', '.join(\n        m.name for m in selector.candidate_models))\n    if isinstance(criterion, BIC):\n        criterion_value = selector.criterion_values\n        sorted_names = [m.name for m in selector.candidate_models]\n        param = [m.mle for m in selector.parameter_estimators]\n\nwidth = 0.5\nind = np.arange(len(sorted_names))\np1 = plt.bar(ind, criterion_value, width=width)\n# p2 = plt.bar(ind, criterion_value-data_fit_value, bottom=data_fit_value, width = width)\n\nplt.ylabel('BIC criterion')\nplt.title('Model selection using BIC criterion: model fit vs. Ockam razor')\nplt.xticks(ind, sorted_names)\n\nplt.show()\n\nprint('Shape parameter of the gamma distribution: {}'.format(param[sorted_names.index('gamma')][0]))\nprint('DoF of the chisquare distribution: {}'.format(param[sorted_names.index('chi-square')][0]))"
      ]
    },
    {
      "cell_type": "markdown",
      "metadata": {},
      "source": [
        "Note that here both the chisquare and gamma are capable of explaining the data, with $a = \\nu/2$, $a$ is\ngamma's shape parameter and $\\nu$ is the number of DOFs in chi-square distribution.\n\n"
      ]
    }
  ],
  "metadata": {
    "kernelspec": {
      "display_name": "Python 3",
      "language": "python",
      "name": "python3"
    },
    "language_info": {
      "codemirror_mode": {
        "name": "ipython",
        "version": 3
      },
      "file_extension": ".py",
      "mimetype": "text/x-python",
      "name": "python",
      "nbconvert_exporter": "python",
      "pygments_lexer": "ipython3",
      "version": "3.12.11"
    }
  },
  "nbformat": 4,
  "nbformat_minor": 0
}