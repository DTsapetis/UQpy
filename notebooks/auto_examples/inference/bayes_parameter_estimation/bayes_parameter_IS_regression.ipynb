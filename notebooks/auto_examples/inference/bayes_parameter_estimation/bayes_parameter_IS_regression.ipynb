{
  "cells": [
    {
      "cell_type": "markdown",
      "metadata": {},
      "source": [
        "\n# Parameter estimation using Importance Sampling - Regression Model\n\nHere a model is defined that is of the form\n\n\\begin{align}y=f(\u03b8) + \\epsilon\\end{align}\n\nwhere $f$ consists in running RunModel. In particular, here $f(\u03b8)= \u03b8_{0} x + \u03b8_{1} x^{2}$ is\na regression model.\n"
      ]
    },
    {
      "cell_type": "markdown",
      "metadata": {},
      "source": [
        "Initially we have to import the necessary modules.\n\n"
      ]
    },
    {
      "cell_type": "code",
      "execution_count": null,
      "metadata": {
        "collapsed": false
      },
      "outputs": [],
      "source": [
        "import shutil\n\nimport numpy as np\nimport matplotlib.pyplot as plt\n\nfrom UQpy import PythonModel\nfrom UQpy.sampling.ImportanceSampling import ImportanceSampling\nfrom UQpy.inference import BayesParameterEstimation, ComputationalModel\nfrom UQpy.run_model.RunModel import RunModel  # required to run the quadratic model\nfrom sklearn.neighbors import KernelDensity  # for the plots\nfrom UQpy.distributions import JointIndependent, Normal\n\ndef pdf_from_kde(domain, samples1d):\n    bandwidth = 1.06 * np.std(samples1d) * samples1d.size ** (-1 / 5)\n    kde = KernelDensity(bandwidth=bandwidth).fit(samples1d.reshape((-1, 1)))\n    log_dens = kde.score_samples(domain)\n    return np.exp(log_dens)"
      ]
    },
    {
      "cell_type": "markdown",
      "metadata": {},
      "source": [
        "First we generate synthetic data, and add some noise to it.\n\n"
      ]
    },
    {
      "cell_type": "code",
      "execution_count": null,
      "metadata": {
        "collapsed": false
      },
      "outputs": [],
      "source": [
        "param_true = np.array([1.0, 2.0]).reshape((1, -1))\nprint('Shape of true parameter vector: {}'.format(param_true.shape))\n\nmodel = PythonModel(model_script='local_pfn_models.py', model_object_name='model_quadratic', delete_files=True,\n                    var_names=['theta_0', 'theta_1'])\nh_func = RunModel(model=model)\nh_func.run(samples=param_true)\n\n# Add noise\nerror_covariance = 1.\ndata_clean = np.array(h_func.qoi_list[0])\nnoise = Normal(loc=0., scale=np.sqrt(error_covariance)).rvs(nsamples=50).reshape((50,))\ndata_3 = data_clean + noise\nprint('Shape of data: {}'.format(data_3.shape))\n\n\ninference_model = ComputationalModel(n_parameters=2, runmodel_object=h_func, error_covariance=error_covariance)\n\nsampling = ImportanceSampling(proposal=JointIndependent([Normal(scale=2, )] * 2))\nbayes_estimator =\\\n    BayesParameterEstimation(inference_model=inference_model,\n                             data=data_3,\n                             sampling_class=sampling,\n                             nsamples=5000)\n\ns = bayes_estimator.sampler.samples\nw = bayes_estimator.sampler.weights\nprint(sum(w))\n\n# print results\nfig, ax = plt.subplots(1, 2)\nfor i in range(2):\n    ax[i].hist(x=s[:, i], weights=None, density=True, range=(-4, 4), bins=20, color='blue', alpha=0.4,\n               label='prior')\n    ax[i].hist(x=s[:, i], weights=w, density=True, range=(-4, 4), bins=20, color='orange', alpha=0.7,\n               label='posterior')\n    ax[i].legend()\n    ax[i].set_title('theta {}'.format(i + 1))\n\nplt.show()"
      ]
    }
  ],
  "metadata": {
    "kernelspec": {
      "display_name": "Python 3",
      "language": "python",
      "name": "python3"
    },
    "language_info": {
      "codemirror_mode": {
        "name": "ipython",
        "version": 3
      },
      "file_extension": ".py",
      "mimetype": "text/x-python",
      "name": "python",
      "nbconvert_exporter": "python",
      "pygments_lexer": "ipython3",
      "version": "3.12.11"
    }
  },
  "nbformat": 4,
  "nbformat_minor": 0
}