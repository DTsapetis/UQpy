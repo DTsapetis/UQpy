{
  "cells": [
    {
      "cell_type": "markdown",
      "metadata": {},
      "source": [
        "\n# Parameter estimation using Importance Sampling - Probability Model\n\nIn the following we learn the mean and covariance of a univariate gaussian distribution from data.\n"
      ]
    },
    {
      "cell_type": "markdown",
      "metadata": {},
      "source": [
        "Initially we have to import the necessary modules.\n\n"
      ]
    },
    {
      "cell_type": "code",
      "execution_count": null,
      "metadata": {
        "collapsed": false
      },
      "outputs": [],
      "source": [
        "import numpy as np\nimport matplotlib.pyplot as plt\nfrom UQpy.inference import DistributionModel, BayesParameterEstimation\nfrom sklearn.neighbors import KernelDensity  # for the plots\nfrom UQpy.distributions import JointIndependent, Uniform, Lognormal, Normal\n\ndef pdf_from_kde(domain, samples1d):\n    bandwidth = 1.06 * np.std(samples1d) * samples1d.size ** (-1 / 5)\n    kde = KernelDensity(bandwidth=bandwidth).fit(samples1d.reshape((-1, 1)))\n    log_dens = kde.score_samples(domain)\n    return np.exp(log_dens)"
      ]
    },
    {
      "cell_type": "markdown",
      "metadata": {},
      "source": [
        "First, for the sake of this example, we generate fake data from a gaussian distribution with mean 10 and standard\ndeviation 1.\n\n"
      ]
    },
    {
      "cell_type": "code",
      "execution_count": null,
      "metadata": {
        "collapsed": false
      },
      "outputs": [],
      "source": [
        "# Generate data from a probability model, here a Gaussian pdf, then learn its parameters,\n# mean and covariance, from this data\n\nnp.random.seed(100)\nmu, sigma = 10, 1  # true mean and standard deviation\ndata = np.random.normal(mu, sigma, 100).reshape((-1, 1))\nnp.random.seed()\n\n# plot the data and true distribution\ncount, bins, ignored = plt.hist(data, 30, density=True)\nplt.plot(bins, 1 / (sigma * np.sqrt(2 * np.pi)) * np.exp(- (bins - mu) ** 2 / (2 * sigma ** 2)),\n         linewidth=2, color='r')\nplt.title('data as histogram and true distribution to be estimated')\nplt.show()\n\n\np0 = Uniform(loc=0., scale=15)\np1 = Lognormal(s=1., loc=0., scale=1.)\nprior = JointIndependent(marginals=[p0, p1])\n\n# create an instance of class Model\ncandidate_model = DistributionModel(distributions=Normal(loc=None, scale=None), n_parameters=2, prior=prior)"
      ]
    },
    {
      "cell_type": "markdown",
      "metadata": {},
      "source": [
        "Learn the unknown parameters using :class:`.ImportanceSampling`. If no proposal is given, the samples are sampled\nfrom the prior.\n\n"
      ]
    },
    {
      "cell_type": "code",
      "execution_count": null,
      "metadata": {
        "collapsed": false
      },
      "outputs": [],
      "source": [
        "from UQpy.sampling import ImportanceSampling\nsampling = ImportanceSampling()\nbayes_estimator = BayesParameterEstimation(sampling_class=sampling,\n                                               inference_model=candidate_model,\n                                               data=data,\n                                               nsamples=50000)\n\n\ns_prior = bayes_estimator.sampler.samples\nbayes_estimator.sampler.resample()\ns_posterior = bayes_estimator.sampler.unweighted_samples\n\n# print results\nfig, ax = plt.subplots(1, 2, figsize=(10, 4))\n\ndomain = np.linspace(0, 15, 200)[:, np.newaxis]\npdf_ = pdf_from_kde(domain, s_posterior[:, 0])\nax[0].plot(domain, pdf_, label='posterior')\npdf_ = pdf_from_kde(domain, s_prior[:, 0])\nax[0].plot(domain, pdf_, label='prior')\nax[0].legend()\nax[0].set_title('theta 1')\n\ndomain = np.linspace(0, 2, 200)[:, np.newaxis]\npdf_ = pdf_from_kde(domain, s_posterior[:, 1])\nax[1].plot(domain, pdf_, label='posterior')\npdf_ = pdf_from_kde(domain, s_prior[:, 1])\nax[1].plot(domain, pdf_, label='prior')\nax[1].legend()\nax[1].set_title('theta 1')\n\nplt.show()"
      ]
    }
  ],
  "metadata": {
    "kernelspec": {
      "display_name": "Python 3",
      "language": "python",
      "name": "python3"
    },
    "language_info": {
      "codemirror_mode": {
        "name": "ipython",
        "version": 3
      },
      "file_extension": ".py",
      "mimetype": "text/x-python",
      "name": "python",
      "nbconvert_exporter": "python",
      "pygments_lexer": "ipython3",
      "version": "3.12.11"
    }
  },
  "nbformat": 4,
  "nbformat_minor": 0
}