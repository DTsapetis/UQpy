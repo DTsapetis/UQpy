{
  "cells": [
    {
      "cell_type": "markdown",
      "metadata": {},
      "source": [
        "\n# Simple probability distribution model\n\nIn the following we learn the mean and covariance of a univariate gaussian distribution from data.\n"
      ]
    },
    {
      "cell_type": "markdown",
      "metadata": {},
      "source": [
        "Initially we have to import the necessary modules.\n\n"
      ]
    },
    {
      "cell_type": "code",
      "execution_count": null,
      "metadata": {
        "collapsed": false
      },
      "outputs": [],
      "source": [
        "import numpy as np\nimport matplotlib.pyplot as plt\nfrom UQpy.inference import DistributionModel, MLE\nfrom UQpy.distributions import Normal\nfrom UQpy.inference import MinimizeOptimizer"
      ]
    },
    {
      "cell_type": "markdown",
      "metadata": {},
      "source": [
        "First, for the sake of this example, we generate fake data from a gaussian distribution with mean 0 and\nstandard deviation 1.\n\n"
      ]
    },
    {
      "cell_type": "code",
      "execution_count": null,
      "metadata": {
        "collapsed": false
      },
      "outputs": [],
      "source": [
        "mu, sigma = 0, 0.1  # true mean and standard deviation\ndata_1 = np.random.normal(mu, sigma, 1000).reshape((-1, 1))\nprint('Shape of data vector: {}'.format(data_1.shape))\n\ncount, bins, ignored = plt.hist(data_1, 30, density=True)\nplt.plot(bins, 1 / (sigma * np.sqrt(2 * np.pi)) * np.exp(- (bins - mu) ** 2 / (2 * sigma ** 2)),\n         linewidth=2, color='r')\nplt.title('Histogram of the data')\nplt.show()"
      ]
    },
    {
      "cell_type": "markdown",
      "metadata": {},
      "source": [
        "Create an instance of the class Model. The user must define the number of parameters to be estimated, in this case 2\n(mean and standard deviation), and set those parameters to be learnt as None when instantiating the Distribution\nobject. For maximum likelihood estimation, no prior pdf is required.\n\n"
      ]
    },
    {
      "cell_type": "code",
      "execution_count": null,
      "metadata": {
        "collapsed": false
      },
      "outputs": [],
      "source": [
        "# set parameters to be learnt as None\ndist = Normal(loc=None, scale=None)\ncandidate_model = DistributionModel(n_parameters=2, distributions=dist)\n\nml_estimator = MLE(inference_model=candidate_model, data=data_1, n_optimizations=3)\nprint('ML estimates of the mean={0:.3f} (true=0.) and std. dev={1:.3f} (true=0.1)'.format(\n    ml_estimator.mle[0], ml_estimator.mle[1]))"
      ]
    },
    {
      "cell_type": "markdown",
      "metadata": {},
      "source": [
        "We can also fix one of the parameters and learn the remaining one\n\n"
      ]
    },
    {
      "cell_type": "code",
      "execution_count": null,
      "metadata": {
        "collapsed": false
      },
      "outputs": [],
      "source": [
        "d = Normal(loc=0., scale=None)\ncandidate_model = DistributionModel(n_parameters=1, distributions=d)\n\noptimizer = MinimizeOptimizer(bounds=[[0.0001, 2.]])\nml_estimator = MLE(inference_model=candidate_model, data=data_1,\n                   n_optimizations=1)\nprint('ML estimates of the std. dev={0:.3f} (true=0.1)'.format(ml_estimator.mle[0]))"
      ]
    }
  ],
  "metadata": {
    "kernelspec": {
      "display_name": "Python 3",
      "language": "python",
      "name": "python3"
    },
    "language_info": {
      "codemirror_mode": {
        "name": "ipython",
        "version": 3
      },
      "file_extension": ".py",
      "mimetype": "text/x-python",
      "name": "python",
      "nbconvert_exporter": "python",
      "pygments_lexer": "ipython3",
      "version": "3.12.11"
    }
  },
  "nbformat": 4,
  "nbformat_minor": 0
}