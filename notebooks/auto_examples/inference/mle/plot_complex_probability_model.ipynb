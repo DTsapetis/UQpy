{
  "cells": [
    {
      "cell_type": "markdown",
      "metadata": {},
      "source": [
        "\n# Complex probability distribution model\n\nHere we define a bivariate probability model, with a dependence structure defined using a gumbel copula. The goal of\ninference is to learn the paremeters of the Gaussian marginals and the copula parameter, i.e., the model has 5 unknown\nparameters.\n"
      ]
    },
    {
      "cell_type": "markdown",
      "metadata": {},
      "source": [
        "Initially we have to import the necessary modules.\n\n"
      ]
    },
    {
      "cell_type": "code",
      "execution_count": null,
      "metadata": {
        "collapsed": false
      },
      "outputs": [],
      "source": [
        "import matplotlib.pyplot as plt\nfrom UQpy.inference import DistributionModel, MLE\nfrom UQpy.distributions import Normal\nfrom UQpy.inference import MinimizeOptimizer\nfrom UQpy.distributions import JointIndependent, JointCopula, Gumbel\nfrom UQpy.sampling import ImportanceSampling"
      ]
    },
    {
      "cell_type": "markdown",
      "metadata": {},
      "source": [
        "First data is generated from a true model. A distribution with copulas does not possess a fit method, thus sampling is\nperformed using importance sampling/resampling.\n\n"
      ]
    },
    {
      "cell_type": "code",
      "execution_count": null,
      "metadata": {
        "collapsed": false
      },
      "outputs": [],
      "source": [
        "# dist_true exhibits dependence between the two dimensions, defined using a gumbel copula\ndist_true = JointCopula(marginals=[Normal(), Normal()], copula=Gumbel(theta=2.))\n\n# generate data using importance sampling: sample from a bivariate gaussian without copula, then weight samples\nu = ImportanceSampling(proposal = JointIndependent(marginals=[Normal(), Normal()]),\n                       log_pdf_target = dist_true.log_pdf,\n                       nsamples=500)\nprint(u.samples.shape)\nprint(u.weights.shape)\n# Resample to obtain 5,000 data points\nu.resample(nsamples=5000)\ndata_2 = u.unweighted_samples\nprint('Shape of data: {}'.format(data_2.shape))\n\nfig, ax = plt.subplots()\nax.scatter(data_2[:, 0], data_2[:, 1], alpha=0.2)\nax.set_title('Data points from true bivariate normal with gumbel dependency structure')\nplt.show()"
      ]
    },
    {
      "cell_type": "markdown",
      "metadata": {},
      "source": [
        "To define a model for inference, the user must create a custom file, here bivariate_normal_gumbel.py, to compute the\nlog_pdf of the distribution, given a bivariate data matrix and a parameter vector of length 5. Note that for any\nprobability model that is not one of the simple univariate pdfs supported by UQpy, such a custom file will be\nnecessary.\n\n"
      ]
    },
    {
      "cell_type": "code",
      "execution_count": null,
      "metadata": {
        "collapsed": false
      },
      "outputs": [],
      "source": [
        "d_guess = JointCopula(marginals=[Normal(loc=None, scale=None), Normal(loc=None, scale=None)],\n                      copula=Gumbel(theta=None))\nprint(d_guess.get_parameters())\ncandidate_model = DistributionModel(n_parameters=5, distributions=d_guess)\nprint(candidate_model.list_params)"
      ]
    },
    {
      "cell_type": "markdown",
      "metadata": {},
      "source": [
        "When calling MLEstimation, the function minimize from the scipy.optimize package is used by default. The user can\ndefine bounds for the optimization, a seed, the algorithm to be used, and set the algorithm to perform several\noptimization iterations, starting at a different random seed every time.\n\n"
      ]
    },
    {
      "cell_type": "code",
      "execution_count": null,
      "metadata": {
        "collapsed": false
      },
      "outputs": [],
      "source": [
        "optimizer = MinimizeOptimizer(bounds=[[-5, 5], [0, 10], [-5, 5], [0, 10], [1.1, 4]], method=\"SLSQP\")\nml_estimator = MLE(inference_model=candidate_model, data=data_2, optimizer=optimizer)\n\nml_estimator = MLE(inference_model=candidate_model, data=data_2, optimizer=optimizer,\n                   initial_parameters=[1., 1., 1., 1., 4.])\n\nprint('ML estimates of the mean={0:.3f} and std. dev={1:.3f} of 1st marginal (true: 0.0, 1.0)'.\n      format(ml_estimator.mle[0], ml_estimator.mle[1]))\nprint('ML estimates of the mean={0:.3f} and std. dev={1:.3f} of 2nd marginal (true: 0.0, 1.0)'.\n      format(ml_estimator.mle[2], ml_estimator.mle[3]))\nprint('ML estimates of the copula parameter={0:.3f} (true: 2.0)'.format(ml_estimator.mle[4]))"
      ]
    },
    {
      "cell_type": "markdown",
      "metadata": {},
      "source": [
        "Again, some known parameters can be fixed during learning.\n\n"
      ]
    },
    {
      "cell_type": "code",
      "execution_count": null,
      "metadata": {
        "collapsed": false
      },
      "outputs": [],
      "source": [
        "d_guess = JointCopula(marginals=[Normal(loc=None, scale=None), Normal(loc=0., scale=1.)],\n                      copula=Gumbel(theta=None))\ncandidate_model = DistributionModel(n_parameters=3, distributions=d_guess)\n\noptimizer = MinimizeOptimizer(bounds=[[-5, 5], [0, 10], [1.1, 4]],\n                              method=\"SLSQP\")\nml_estimator = MLE(inference_model=candidate_model, data=data_2, optimizer=optimizer,\n                   initial_parameters=[1., 1., 4.])\n\nprint('ML estimates of the mean={0:.3f} and std. dev={1:.3f} of 1st marginal (true: 0.0, 1.0)'.\n      format(ml_estimator.mle[0], ml_estimator.mle[1]))\nprint('ML estimates of the copula parameter={0:.3f} (true: 2.0)'.format(ml_estimator.mle[2]))"
      ]
    }
  ],
  "metadata": {
    "kernelspec": {
      "display_name": "Python 3",
      "language": "python",
      "name": "python3"
    },
    "language_info": {
      "codemirror_mode": {
        "name": "ipython",
        "version": 3
      },
      "file_extension": ".py",
      "mimetype": "text/x-python",
      "name": "python",
      "nbconvert_exporter": "python",
      "pygments_lexer": "ipython3",
      "version": "3.12.11"
    }
  },
  "nbformat": 4,
  "nbformat_minor": 0
}