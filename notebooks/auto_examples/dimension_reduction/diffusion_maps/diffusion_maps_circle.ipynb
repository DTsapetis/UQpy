{
  "cells": [
    {
      "cell_type": "markdown",
      "metadata": {},
      "source": [
        "\n# Circle\n\nThis example shows how to use the UQpy DiffusionMaps class to reveal the embedded structure of noisy data.\n"
      ]
    },
    {
      "cell_type": "markdown",
      "metadata": {},
      "source": [
        "Import the necessary libraries. Here we import standard libraries such as numpy and matplotlib, but also need to\nimport the DiffusionMaps class from UQpy implemented in the DimensionReduction module.\n\n"
      ]
    },
    {
      "cell_type": "code",
      "execution_count": null,
      "metadata": {
        "collapsed": false
      },
      "outputs": [],
      "source": [
        "import numpy as np\nfrom mpl_toolkits.mplot3d import Axes3D\nimport matplotlib.pyplot as plt\nfrom UQpy.utilities.kernels.GaussianKernel import GaussianKernel\nfrom UQpy.dimension_reduction.diffusion_maps.DiffusionMaps import DiffusionMaps"
      ]
    },
    {
      "cell_type": "markdown",
      "metadata": {},
      "source": [
        "Sample points randomly following a parametric curve and plot the 3D graphic.\n\n"
      ]
    },
    {
      "cell_type": "code",
      "execution_count": null,
      "metadata": {
        "collapsed": false
      },
      "outputs": [],
      "source": [
        "a = 6\nb = 1\nk = 10\nu = np.linspace(0, 2 * np.pi, 1000)\n\nv = k * u\n\nx0 = (a + b * np.cos(0.8 * v)) * (np.cos(u))\ny0 = (a + b * np.cos(0.8 * v)) * (np.sin(u))\nz0 = b * np.sin(0.8 * v)\n\nrox = 0.2\nroy = 0.2\nroz = 0.2\nx = x0 + rox * np.random.normal(0, 1, len(x0))\ny = y0 + roy * np.random.normal(0, 1, len(y0))\nz = z0 + roz * np.random.normal(0, 1, len(z0))\n\nX = np.array([x, y, z]).transpose()\n\nfig = plt.figure()\nax = fig.gca(projection='3d')\nax.scatter(x, y, z, c='b', cmap=plt.cm.Spectral, s=8)\nax.plot(x0, y0, z0, 'r', label='parametric curve')\nplt.show()"
      ]
    },
    {
      "cell_type": "markdown",
      "metadata": {},
      "source": [
        "Instantiate the class `DiffusionMaps` using `alpha=1`; `n_eigenvectors=3`, because the first eigenvector is\nnon-informative. Moreover, a Gaussian is used in the kernel construction.\n\n"
      ]
    },
    {
      "cell_type": "code",
      "execution_count": null,
      "metadata": {
        "collapsed": false
      },
      "outputs": [],
      "source": [
        "dmaps = DiffusionMaps(data=X, alpha=1, n_eigenvectors=5,\n                      kernel=GaussianKernel(epsilon=0.3))"
      ]
    },
    {
      "cell_type": "markdown",
      "metadata": {},
      "source": [
        "Plot the second and third diffusion coordinates to reveal the embedded structure of the data.\n\n"
      ]
    },
    {
      "cell_type": "code",
      "execution_count": null,
      "metadata": {
        "collapsed": false
      },
      "outputs": [],
      "source": [
        "color = dmaps.eigenvectors[:, 1]\nplt.scatter(dmaps.diffusion_coordinates[:, 1], dmaps.diffusion_coordinates[:, 2], c=color, cmap=plt.cm.Spectral, s=8)\nplt.axis('equal')\nplt.show()"
      ]
    },
    {
      "cell_type": "markdown",
      "metadata": {},
      "source": [
        "Use the colormap to observe how the embedded structure is distributed in the original set.\n\n"
      ]
    },
    {
      "cell_type": "code",
      "execution_count": null,
      "metadata": {
        "collapsed": false
      },
      "outputs": [],
      "source": [
        "fig = plt.figure()\nax = fig.gca(projection='3d')\nax.scatter(x, y, z, c=color, cmap=plt.cm.Spectral, s=8)\nplt.show()"
      ]
    }
  ],
  "metadata": {
    "kernelspec": {
      "display_name": "Python 3",
      "language": "python",
      "name": "python3"
    },
    "language_info": {
      "codemirror_mode": {
        "name": "ipython",
        "version": 3
      },
      "file_extension": ".py",
      "mimetype": "text/x-python",
      "name": "python",
      "nbconvert_exporter": "python",
      "pygments_lexer": "ipython3",
      "version": "3.12.11"
    }
  },
  "nbformat": 4,
  "nbformat_minor": 0
}