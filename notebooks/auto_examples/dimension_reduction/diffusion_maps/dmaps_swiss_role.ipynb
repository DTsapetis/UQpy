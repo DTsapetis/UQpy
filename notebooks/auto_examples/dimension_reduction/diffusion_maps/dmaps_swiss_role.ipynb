{
  "cells": [
    {
      "cell_type": "markdown",
      "metadata": {},
      "source": [
        "\n# S-Curve\n\nThis example shows how to use the :class:`.DiffusionMaps` class to reveal the embedded structure of S-Curve data.\n"
      ]
    },
    {
      "cell_type": "code",
      "execution_count": null,
      "metadata": {
        "collapsed": false
      },
      "outputs": [],
      "source": [
        "import numpy as np\nimport matplotlib.pyplot as plt\nfrom UQpy.utilities.kernels.GaussianKernel import GaussianKernel\nfrom UQpy.dimension_reduction.diffusion_maps.DiffusionMaps import DiffusionMaps\nfrom sklearn.datasets import make_swiss_roll, make_s_curve"
      ]
    },
    {
      "cell_type": "markdown",
      "metadata": {},
      "source": [
        "Sample points randomly following a parametric curve and plot the 3D graphic.\n\n"
      ]
    },
    {
      "cell_type": "code",
      "execution_count": null,
      "metadata": {
        "collapsed": false
      },
      "outputs": [],
      "source": [
        "n = 4000  # number of samples\n\n# generate point cloud\n# X, X_color = make_s_curve(n, random_state=3, noise=0)\nX, X_color = make_s_curve(n, random_state=3, noise=0)"
      ]
    },
    {
      "cell_type": "markdown",
      "metadata": {},
      "source": [
        "plot the point cloud\n\n"
      ]
    },
    {
      "cell_type": "code",
      "execution_count": null,
      "metadata": {
        "collapsed": false
      },
      "outputs": [],
      "source": [
        "fig = plt.figure(figsize=(8, 8))\nax = fig.add_subplot(111, projection=\"3d\")\nax.scatter(X[:, 0], X[:, 1], X[:, 2], c=X_color, cmap=plt.cm.Spectral)\nax.set_xlabel(\"x\")\nax.set_ylabel(\"y\")\nax.set_zlabel(\"z\")\nax.set_title(\"S-curve data\")\nax.view_init(10, 70)"
      ]
    },
    {
      "cell_type": "markdown",
      "metadata": {},
      "source": [
        "Case 1: Find the optimal parameter of the Gaussian kernel scale epsilon\n\n"
      ]
    },
    {
      "cell_type": "code",
      "execution_count": null,
      "metadata": {
        "collapsed": false
      },
      "outputs": [],
      "source": [
        "kernel = GaussianKernel(epsilon=0.65)\n\n\ndmaps_object = DiffusionMaps(data=X,\n                             alpha=1.0, n_eigenvectors=9,\n                             is_sparse=True, n_neighbors=100,\n                             kernel=kernel)"
      ]
    },
    {
      "cell_type": "markdown",
      "metadata": {},
      "source": [
        "Find the parsimonious representation of the eigenvectors. Identify the two most informative\neigenvectors.\n\n"
      ]
    },
    {
      "cell_type": "code",
      "execution_count": null,
      "metadata": {
        "collapsed": false
      },
      "outputs": [],
      "source": [
        "dmaps_object.parsimonious(dim=2)\n\nprint('most informative eigenvectors:', dmaps_object.parsimonious_indices)"
      ]
    },
    {
      "cell_type": "markdown",
      "metadata": {},
      "source": [
        "Plot the diffusion coordinates\n\n"
      ]
    },
    {
      "cell_type": "code",
      "execution_count": null,
      "metadata": {
        "collapsed": false
      },
      "outputs": [],
      "source": [
        "DiffusionMaps._plot_eigen_pairs(dmaps_object.eigenvectors, pair_indices=dmaps_object.parsimonious_indices,\n                                color=X_color, figure_size=[12, 12])\nplt.show()"
      ]
    }
  ],
  "metadata": {
    "kernelspec": {
      "display_name": "Python 3",
      "language": "python",
      "name": "python3"
    },
    "language_info": {
      "codemirror_mode": {
        "name": "ipython",
        "version": 3
      },
      "file_extension": ".py",
      "mimetype": "text/x-python",
      "name": "python",
      "nbconvert_exporter": "python",
      "pygments_lexer": "ipython3",
      "version": "3.12.11"
    }
  },
  "nbformat": 4,
  "nbformat_minor": 0
}