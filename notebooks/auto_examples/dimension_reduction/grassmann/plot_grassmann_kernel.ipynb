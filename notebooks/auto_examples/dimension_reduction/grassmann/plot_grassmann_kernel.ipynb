{
  "cells": [
    {
      "cell_type": "markdown",
      "metadata": {},
      "source": [
        "\n# Kernel\n\nThis example shows how to use the UQpy Grassmann class to compute kernels\n"
      ]
    },
    {
      "cell_type": "markdown",
      "metadata": {},
      "source": [
        "Import the necessary libraries. Here we import standard libraries such as numpy and matplotlib, but also need to\nimport the Grassmann class from UQpy implemented in the DimensionReduction module.\n\n"
      ]
    },
    {
      "cell_type": "code",
      "execution_count": null,
      "metadata": {
        "collapsed": false
      },
      "outputs": [],
      "source": [
        "import numpy as np\nimport matplotlib\nimport matplotlib.pyplot as plt\nfrom mpl_toolkits.axes_grid1 import make_axes_locatable\nfrom UQpy.dimension_reduction.grassmann_manifold.projections.SVDProjection import SVDProjection\nfrom UQpy.dimension_reduction import GrassmannOperations\nfrom UQpy.utilities import GrassmannPoint\nfrom UQpy.utilities.kernels import ProjectionKernel\nimport sys"
      ]
    },
    {
      "cell_type": "markdown",
      "metadata": {},
      "source": [
        "Generate four random matrices with reduced rank corresponding to the different samples. The samples are stored in\n`matrices`.\n\n"
      ]
    },
    {
      "cell_type": "code",
      "execution_count": null,
      "metadata": {
        "collapsed": false
      },
      "outputs": [],
      "source": [
        "D1 = 6\nr0 = 2  # rank sample 0\nr1 = 3  # rank sample 1\nr2 = 4  # rank sample 2\nr3 = 3  # rank sample 2\n\nnp.random.seed(1111)  # For reproducibility.\n# Solutions: original space.\nSol0 = np.dot(np.random.rand(D1, r0), np.random.rand(r0, D1))\nSol1 = np.dot(np.random.rand(D1, r1), np.random.rand(r1, D1))\nSol2 = np.dot(np.random.rand(D1, r2), np.random.rand(r2, D1))\nSol3 = np.dot(np.random.rand(D1, r3), np.random.rand(r3, D1))\n\n# Creating a list of solutions.\nmatrices = [Sol0, Sol1, Sol2, Sol3]\n\n# Plot the solutions\nfig, (ax1, ax2, ax3, ax4) = plt.subplots(1, 4)\nax1.title.set_text('Matrix 0')\nax1.imshow(Sol0)\nax2.title.set_text('Matrix 1')\nax2.imshow(Sol1)\nax3.title.set_text('Matrix 2')\nax3.imshow(Sol2)\nax4.title.set_text('Matrix 3')\nax4.imshow(Sol3)\nplt.show()"
      ]
    },
    {
      "cell_type": "markdown",
      "metadata": {},
      "source": [
        "Instantiate the SvdProjection class that projects the raw data to the manifold.\n\n"
      ]
    },
    {
      "cell_type": "code",
      "execution_count": null,
      "metadata": {
        "collapsed": false
      },
      "outputs": [],
      "source": [
        "manifold_projection = SVDProjection(matrices, p=\"max\")"
      ]
    },
    {
      "cell_type": "markdown",
      "metadata": {},
      "source": [
        "Compute the kernels for $\\Psi$ and $\\Phi$, the left and right -singular eigenvectors, respectively, of\nsingular value decomposition of each solution.\n\n"
      ]
    },
    {
      "cell_type": "code",
      "execution_count": null,
      "metadata": {
        "collapsed": false
      },
      "outputs": [],
      "source": [
        "projection_kernel = ProjectionKernel()\n\nprojection_kernel.calculate_kernel_matrix(x=manifold_projection.u, s=manifold_projection.u)\nkernel_psi = projection_kernel.kernel_matrix\n\nprojection_kernel.calculate_kernel_matrix(x=manifold_projection.v, s=manifold_projection.v)\nkernel_phi = projection_kernel.kernel_matrix\n\nfig, (ax1, ax2) = plt.subplots(1, 2)\nax1.title.set_text('kernel_psi')\nax1.imshow(kernel_psi)\nax2.title.set_text('kernel_phi')\nax2.imshow(kernel_phi)\nplt.show()"
      ]
    },
    {
      "cell_type": "markdown",
      "metadata": {},
      "source": [
        "Compute the kernel only for 2 points.\n\n"
      ]
    },
    {
      "cell_type": "code",
      "execution_count": null,
      "metadata": {
        "collapsed": false
      },
      "outputs": [],
      "source": [
        "projection_kernel.\\\n    calculate_kernel_matrix(x=[manifold_projection.u[0], manifold_projection.u[1], manifold_projection.u[2]],\n                            s=[manifold_projection.u[0], manifold_projection.u[1], manifold_projection.u[2]])\nkernel_01 = projection_kernel.kernel_matrix\n\nfig = plt.figure()\nplt.imshow(kernel_01)\nplt.show()"
      ]
    },
    {
      "cell_type": "markdown",
      "metadata": {},
      "source": [
        "Compute the kernels for $\\Psi$ and $\\Phi$, the left and right -singular eigenvectors, respectively, of\nsingular value decomposition of each solution. In this case, use a user defined class `UserKernel`.\n\n"
      ]
    },
    {
      "cell_type": "code",
      "execution_count": null,
      "metadata": {
        "collapsed": false
      },
      "outputs": [],
      "source": [
        "from UQpy.utilities.kernels.baseclass.GrassmannianKernel import GrassmannianKernel\n\nclass UserKernel(GrassmannianKernel):\n\n    def element_wise_operation(self, xi_j) -> float:\n        xi, xj = xi_j\n        r = np.dot(xi.T, xj)\n        det = np.linalg.det(r)\n        return det * det\n\n\nuser_kernel = UserKernel()\nuser_kernel.calculate_kernel_matrix(x=manifold_projection.u, s=manifold_projection.u)\nkernel_user_psi = user_kernel.kernel_matrix\n\nuser_kernel.calculate_kernel_matrix(x=manifold_projection.v, s=manifold_projection.v)\nkernel_user_phi = user_kernel.kernel_matrix\n\nfig, (ax1, ax2) = plt.subplots(1, 2)\nax1.title.set_text('kernel_psi')\nax1.imshow(kernel_user_psi)\nax2.title.set_text('kernel_phi')\nax2.imshow(kernel_user_phi)\nplt.show()"
      ]
    }
  ],
  "metadata": {
    "kernelspec": {
      "display_name": "Python 3",
      "language": "python",
      "name": "python3"
    },
    "language_info": {
      "codemirror_mode": {
        "name": "ipython",
        "version": 3
      },
      "file_extension": ".py",
      "mimetype": "text/x-python",
      "name": "python",
      "nbconvert_exporter": "python",
      "pygments_lexer": "ipython3",
      "version": "3.12.11"
    }
  },
  "nbformat": 4,
  "nbformat_minor": 0
}