{
  "cells": [
    {
      "cell_type": "markdown",
      "metadata": {},
      "source": [
        "\n# Karcher\n\nThis example shows how to use the UQpy Grassmann class to use the logarithmic map and the exponential map\n"
      ]
    },
    {
      "cell_type": "markdown",
      "metadata": {},
      "source": [
        "Import the necessary libraries. Here we import standard libraries such as numpy and matplotlib, but also need to\nimport the Grassmann class from UQpy implemented in the DimensionReduction module.\n\n"
      ]
    },
    {
      "cell_type": "code",
      "execution_count": null,
      "metadata": {
        "collapsed": false
      },
      "outputs": [],
      "source": [
        "import matplotlib.pyplot as plt\nimport numpy as np\n\nfrom UQpy.dimension_reduction import GrassmannOperations\nfrom UQpy.dimension_reduction.grassmann_manifold.projections.SVDProjection import SVDProjection"
      ]
    },
    {
      "cell_type": "markdown",
      "metadata": {},
      "source": [
        "Generate four random matrices with reduced rank corresponding to the different samples. The samples are stored in\n`matrices`.\n\n"
      ]
    },
    {
      "cell_type": "code",
      "execution_count": null,
      "metadata": {
        "collapsed": false
      },
      "outputs": [],
      "source": [
        "D1 = 6\nr0 = 2  # rank sample 0\nr1 = 3  # rank sample 1\nr2 = 4  # rank sample 2\nr3 = 3  # rank sample 2\n\nnp.random.seed(1111)  # For reproducibility.\n# Solutions: original space.\nSol0 = np.dot(np.random.rand(D1, r0), np.random.rand(r0, D1))\nSol1 = np.dot(np.random.rand(D1, r1), np.random.rand(r1, D1))\nSol2 = np.dot(np.random.rand(D1, r2), np.random.rand(r2, D1))\nSol3 = np.dot(np.random.rand(D1, r3), np.random.rand(r3, D1))\n\n# Creating a list of matrices.\nmatrices = [Sol0, Sol1, Sol2, Sol3]\n\n# Plot the matrices\nfig, (ax1, ax2, ax3, ax4) = plt.subplots(1, 4)\nax1.title.set_text('Matrix 0')\nax1.imshow(Sol0)\nax2.title.set_text('Matrix 1')\nax2.imshow(Sol1)\nax3.title.set_text('Matrix 2')\nax3.imshow(Sol2)\nax4.title.set_text('Matrix 3')\nax4.imshow(Sol3)\nplt.show()"
      ]
    },
    {
      "cell_type": "markdown",
      "metadata": {},
      "source": [
        "Instatiate the UQpy class Grassmann.\n\n"
      ]
    },
    {
      "cell_type": "code",
      "execution_count": null,
      "metadata": {
        "collapsed": false
      },
      "outputs": [],
      "source": [
        "manifold_projection = SVDProjection(matrices, p=\"max\")\n\n# Plot the points on the Grassmann manifold defined by the left singular eigenvectors.\nfig, (ax1, ax2, ax3, ax4) = plt.subplots(1, 4)\nax1.title.set_text('Matrix 0')\nax1.imshow(manifold_projection.u[0].data)\nax2.title.set_text('Matrix 1')\nax2.imshow(manifold_projection.u[0].data)\nax3.title.set_text('Matrix 2')\nax3.imshow(manifold_projection.u[0].data)\nax4.title.set_text('Matrix 3')\nax4.imshow(manifold_projection.u[0].data)\nplt.show()"
      ]
    },
    {
      "cell_type": "markdown",
      "metadata": {},
      "source": [
        "Compute the Karcher mean.\n\n"
      ]
    },
    {
      "cell_type": "code",
      "execution_count": null,
      "metadata": {
        "collapsed": false
      },
      "outputs": [],
      "source": [
        "from UQpy.utilities.distances.grassmannian_distances.GeodesicDistance import GeodesicDistance\n\ndistance_method = GeodesicDistance()\nkarcher_psi = GrassmannOperations.karcher_mean(grassmann_points=manifold_projection.u,\n                                               distance=distance_method,\n                                               optimization_method=\"GradientDescent\")\nkarcher_phi = GrassmannOperations.karcher_mean(grassmann_points=manifold_projection.v,\n                                               distance=distance_method,\n                                               optimization_method=\"GradientDescent\")"
      ]
    },
    {
      "cell_type": "markdown",
      "metadata": {},
      "source": [
        "Project $\\Psi$, the left singular eigenvectors, on the tangent space centered at the Karcher mean.\n\n"
      ]
    },
    {
      "cell_type": "code",
      "execution_count": null,
      "metadata": {
        "collapsed": false
      },
      "outputs": [],
      "source": [
        "points_tangent = GrassmannOperations.log_map(grassmann_points=manifold_projection.u,\n                                             reference_point=karcher_psi)\n\nprint(points_tangent[0])\nprint(points_tangent[1])\nprint(points_tangent[2])\nprint(points_tangent[3])\n\n# Plot the matrices\nfig, (ax1, ax2, ax3, ax4) = plt.subplots(1, 4)\nax1.title.set_text('Matrix 0')\nax1.imshow(points_tangent[0])\nax2.title.set_text('Matrix 1')\nax2.imshow(points_tangent[1])\nax3.title.set_text('Matrix 2')\nax3.imshow(points_tangent[2])\nax4.title.set_text('Matrix 3')\nax4.imshow(points_tangent[3])\nplt.show()"
      ]
    },
    {
      "cell_type": "markdown",
      "metadata": {},
      "source": [
        "Map the points back to the Grassmann manifold.\n\n"
      ]
    },
    {
      "cell_type": "code",
      "execution_count": null,
      "metadata": {
        "collapsed": false
      },
      "outputs": [],
      "source": [
        "points_grassmann = GrassmannOperations.exp_map(tangent_points=points_tangent,\n                                               reference_point=manifold_projection.u[0])\n\n# Plot the matrices\nfig, (ax1, ax2, ax3, ax4) = plt.subplots(1, 4)\nax1.title.set_text('Matrix 0')\nax1.imshow(points_grassmann[0].data)\nax2.title.set_text('Matrix 1')\nax2.imshow(points_grassmann[1].data)\nax3.title.set_text('Matrix 2')\nax3.imshow(points_grassmann[2].data)\nax4.title.set_text('Matrix 3')\nax4.imshow(points_grassmann[3].data)\nplt.show()"
      ]
    }
  ],
  "metadata": {
    "kernelspec": {
      "display_name": "Python 3",
      "language": "python",
      "name": "python3"
    },
    "language_info": {
      "codemirror_mode": {
        "name": "ipython",
        "version": 3
      },
      "file_extension": ".py",
      "mimetype": "text/x-python",
      "name": "python",
      "nbconvert_exporter": "python",
      "pygments_lexer": "ipython3",
      "version": "3.12.11"
    }
  },
  "nbformat": 4,
  "nbformat_minor": 0
}