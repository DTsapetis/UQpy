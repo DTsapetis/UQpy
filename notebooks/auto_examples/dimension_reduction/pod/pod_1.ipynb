{
  "cells": [
    {
      "cell_type": "markdown",
      "metadata": {},
      "source": [
        "\n# POD on data\n\nIn this example, the Direct Proper Orthogonal Decomposition (POD) method is used to decompose a set of data and extract\nbasis functions which can be used for the reconstruction of the solution.\n"
      ]
    },
    {
      "cell_type": "markdown",
      "metadata": {},
      "source": [
        "Import the necessary libraries. Here we import standard libraries such as numpy, matplotlib, and we also import the\nPOD class from UQpy.\n\n"
      ]
    },
    {
      "cell_type": "code",
      "execution_count": null,
      "metadata": {
        "collapsed": false
      },
      "outputs": [],
      "source": [
        "from UQpy.dimension_reduction import DirectPOD\nimport time\nimport numpy as np"
      ]
    },
    {
      "cell_type": "markdown",
      "metadata": {},
      "source": [
        "Input dataset in the form of a second order tensor consists of three snapshot solutions. Using the POD method we\nreconstruct the input dataset by keeping a predefined number of modes.\n\n"
      ]
    },
    {
      "cell_type": "code",
      "execution_count": null,
      "metadata": {
        "collapsed": false
      },
      "outputs": [],
      "source": [
        "Data = np.zeros((3, 5, 3))\n\nData[:, :, 0] = [\n    [0.9073, 1.7842, 2.1236, 1.1323, 1.6545],\n    [0.8924, 1.7753, -0.6631, 0.5654, 2.1235],\n    [2.1488, 4.2495, 1.8260, 0.3423, 4.9801]]\n\nData[:, :, 1] = [\n    [0.7158, 1.6970, -0.0740, 5.478, 1.0987],\n    [-0.4898, -1.5077, 1.9103, 6.7121, 0.5334],\n    [0.3054, 0.3207, 2.1335, 1.1082, 5.5435]]\n\nData[:, :, 2] = [\n    [-0.3698, 0.0151, 1.4429, 2.5463, 6.9871],\n    [2.4288, 4.0337, -1.7495, -0.5012, 1.7654],\n    [2.3753, 4.7146, -0.2716, 1.6543, 0.9121]]"
      ]
    },
    {
      "cell_type": "markdown",
      "metadata": {},
      "source": [
        "The Direct POD method is used to compute the reconstructed solutions and reduced-order solutions in the spatial\ndimension of the data. Full reconstruction is achieved when the number of modes chosen, equals the number of\ndimensions.\n\n"
      ]
    },
    {
      "cell_type": "code",
      "execution_count": null,
      "metadata": {
        "collapsed": false
      },
      "outputs": [],
      "source": [
        "start_time = time.time()\n\npod = DirectPOD(solution_snapshots=Data, n_modes=1)\nData_reconstr = pod.reconstructed_solution"
      ]
    },
    {
      "cell_type": "markdown",
      "metadata": {},
      "source": [
        "Print the reconstructed dataset.\n\n"
      ]
    },
    {
      "cell_type": "code",
      "execution_count": null,
      "metadata": {
        "collapsed": false
      },
      "outputs": [],
      "source": [
        "print('Reconstructed snapshot no.1:')\nprint(Data_reconstr[:, :, 0])\n\nif np.allclose(Data, Data_reconstr[0]) == True:\n    print('Input data and reconstructed data are identical.')\n\nelapsed_time = time.time() - start_time\ntime.strftime(\"%H:%M:%S\", time.gmtime(elapsed_time))\nprint('Elapsed time: ', round(elapsed_time, 8))"
      ]
    }
  ],
  "metadata": {
    "kernelspec": {
      "display_name": "Python 3",
      "language": "python",
      "name": "python3"
    },
    "language_info": {
      "codemirror_mode": {
        "name": "ipython",
        "version": 3
      },
      "file_extension": ".py",
      "mimetype": "text/x-python",
      "name": "python",
      "nbconvert_exporter": "python",
      "pygments_lexer": "ipython3",
      "version": "3.12.11"
    }
  },
  "nbformat": 4,
  "nbformat_minor": 0
}