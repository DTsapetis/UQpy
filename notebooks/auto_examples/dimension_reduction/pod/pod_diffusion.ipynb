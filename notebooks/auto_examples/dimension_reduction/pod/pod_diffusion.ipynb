{
  "cells": [
    {
      "cell_type": "markdown",
      "metadata": {},
      "source": [
        "\n# POD on Diffusion Equation 2D\n"
      ]
    },
    {
      "cell_type": "markdown",
      "metadata": {},
      "source": [
        "In this example, the diffusion equation is solved and then methods from the POD class are used to decompose the output\nsolutions/dataset and extract its basis functions which can be used for the reconstruction of the solution.\n\n## 2D Diffusion equation\n$\\frac{\\partial U}{\\partial t}=D\\bigg(\\frac{\\partial^2 U}{\\partial x^2}+\\frac{\\partial^2 U}{\\partial y^2}\\bigg)$\n\nwhere $D$ is the diffusion coefficient. $U$ describes the behavior of the particles in Brownian motion,\nresulting from their random movements and collisions.\n\n\n### Problem description:\n\n- A 2D metal plate is initially at temperature $T_{cool}$.\n\n- A disc of a specified size inside the plate is at temperature $T_{hot}$.\n\n- Suppose that the edges of the plate are held fixed at $T_{cool}$.\n\n- The diffusion equation is applied to follow the evolution of the temperature of the plate.\n\n"
      ]
    },
    {
      "cell_type": "markdown",
      "metadata": {},
      "source": [
        "Import the necessary libraries. Here we import standard libraries such as numpy, matplotlib, and we also import the\nPOD class from UQpy.\n\n"
      ]
    },
    {
      "cell_type": "code",
      "execution_count": null,
      "metadata": {
        "collapsed": false
      },
      "outputs": [],
      "source": [
        "import numpy as np\nimport matplotlib.pyplot as plt\nfrom UQpy.dimension_reduction import DirectPOD, SnapshotPOD, HigherOrderSVD\nfrom DiffusionEquation import diffusion\nimport time"
      ]
    },
    {
      "cell_type": "markdown",
      "metadata": {},
      "source": [
        "The diffusion equation is solved by calling the 'diffusion' function and a dataset (list) is obtained. To run this function the following need to be specified:\n- $w, h$ - Plate size, $(mm)$\n\n- $dx, dy$ - Intervals in $x-, y-$ directions, $(mm)$\n\n- $D$ - Thermal diffusivity, $(mm^2/s)$\n\n- $T_{cool}, T_{hot}$ - Plate and disc temperature\n\n- $r, cx, cy$ - Initial conditions - ring of inner radius $r$, width $dr$ centered at $(cx,cy) (mm)$\n\n- `nsteps` - Number of time steps\n\n"
      ]
    },
    {
      "cell_type": "code",
      "execution_count": null,
      "metadata": {
        "collapsed": false
      },
      "outputs": [],
      "source": [
        "w = h = 5.\ndx, dy = 0.1, 0.1\nD = 5\nTcool, Thot = 400, 700\nr, cx, cy = 1.5, 2.5, 2.5\nnsteps = 500\n\nData = diffusion(w, h, dx, dy, D, Tcool, Thot, r, cx, cy, nsteps)"
      ]
    },
    {
      "cell_type": "markdown",
      "metadata": {},
      "source": [
        "The Direct POD method is used to reconstruct the data for different values of spatial modes. Full reconstruction is\nachieved when the number of modes chosen equals the number of dimensions. Since the dataset for this problem is large,\nthe Snapshot POD is recommended as the decomposition will be performed much faster.\n\n"
      ]
    },
    {
      "cell_type": "code",
      "execution_count": null,
      "metadata": {
        "collapsed": false
      },
      "outputs": [],
      "source": [
        "start_time = time.time()\n\nn_modes = [1, 2, 3, 4, 40, 50]\nframe = 40\n\nData_modes = []\n\nfor n_mode in n_modes:\n    pod = DirectPOD(solution_snapshots=Data, n_modes=n_mode)\n    Data_reconstr = pod.reconstructed_solution\n    Data_reduced = pod.reduced_solution\n    Data_modes.append(Data_reconstr[:, :, frame])\n    del Data_reconstr\n\nelapsed_time = time.time() - start_time\ntime.strftime(\"%H:%M:%S\", time.gmtime(elapsed_time))\nprint('Elapsed time: ', elapsed_time)"
      ]
    },
    {
      "cell_type": "markdown",
      "metadata": {},
      "source": [
        "Comparison of input and reduced solution.\n\n"
      ]
    },
    {
      "cell_type": "code",
      "execution_count": null,
      "metadata": {
        "collapsed": false
      },
      "outputs": [],
      "source": [
        "# Plot input solution\nplt.figure()\nc = plt.imshow(Data[frame], cmap=plt.get_cmap('coolwarm'), vmin=Tcool, vmax=Thot)\nplt.colorbar(c)\nplt.title('Input solution', fontweight=\"bold\", size=15)\nplt.show()\n\n# Plot reduced solution\nfig = plt.figure(figsize=(10, 7))\nfig.subplots_adjust(hspace=0.5, wspace=0.4)\nfor i in range(len(n_modes)):\n    ax = fig.add_subplot(2, 3, i + 1)\n    im = ax.imshow(Data_modes[i], cmap=plt.get_cmap('coolwarm'), vmin=Tcool, vmax=Thot)\n    ax.set_axis_off()\n    ax.set_title('Mode {}'.format(n_modes[i]), size=15)\n\nfig.subplots_adjust(right=0.85)\ncbar_ax = fig.add_axes([0.9, 0.15, 0.03, 0.7])\ncbar_ax.set_xlabel('$T$ / K', labelpad=20)\nfig.colorbar(im, cax=cbar_ax)\nfig.suptitle('Reconstructed solution', fontweight=\"bold\", size=15)\nplt.show()"
      ]
    }
  ],
  "metadata": {
    "kernelspec": {
      "display_name": "Python 3",
      "language": "python",
      "name": "python3"
    },
    "language_info": {
      "codemirror_mode": {
        "name": "ipython",
        "version": 3
      },
      "file_extension": ".py",
      "mimetype": "text/x-python",
      "name": "python",
      "nbconvert_exporter": "python",
      "pygments_lexer": "ipython3",
      "version": "3.12.11"
    }
  },
  "nbformat": 4,
  "nbformat_minor": 0
}