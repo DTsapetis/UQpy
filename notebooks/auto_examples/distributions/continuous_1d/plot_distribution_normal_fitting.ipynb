{
  "cells": [
    {
      "cell_type": "markdown",
      "metadata": {},
      "source": [
        "\n# Distribution fitting\n\nThis examples showcases the calculation of a distributions parameters based on fitting available data\n"
      ]
    },
    {
      "cell_type": "markdown",
      "metadata": {},
      "source": [
        "Initially we have to import the necessary modules.\n\n"
      ]
    },
    {
      "cell_type": "code",
      "execution_count": null,
      "metadata": {
        "collapsed": false
      },
      "outputs": [],
      "source": [
        "from UQpy.distributions.collection.Normal import Normal"
      ]
    },
    {
      "cell_type": "markdown",
      "metadata": {},
      "source": [
        "## Define a Normal distribution and use the fit method.\n\nParameters to be learnt should be instantiated as None.\nNote that the fit method of each distribution returns a dictionary containing as keys the names of parameters\nand its values are their data fitted values.\n\n"
      ]
    },
    {
      "cell_type": "code",
      "execution_count": null,
      "metadata": {
        "collapsed": false
      },
      "outputs": [],
      "source": [
        "normal1 = Normal(loc=None, scale=None)\nfitted_parameters1 = normal1.fit(data=[-4, 2, 2, 1])\nprint(fitted_parameters1)\n\nnormal2 = Normal(loc=0., scale=None)\nfitted_parameters2 = normal2.fit(data=[-4, 2, 2, 1])\nprint(fitted_parameters2)"
      ]
    }
  ],
  "metadata": {
    "kernelspec": {
      "display_name": "Python 3",
      "language": "python",
      "name": "python3"
    },
    "language_info": {
      "codemirror_mode": {
        "name": "ipython",
        "version": 3
      },
      "file_extension": ".py",
      "mimetype": "text/x-python",
      "name": "python",
      "nbconvert_exporter": "python",
      "pygments_lexer": "ipython3",
      "version": "3.12.11"
    }
  },
  "nbformat": 4,
  "nbformat_minor": 0
}