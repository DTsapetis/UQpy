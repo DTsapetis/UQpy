{
  "cells": [
    {
      "cell_type": "markdown",
      "metadata": {},
      "source": [
        "\n# Distribution Continuous 1D Example\n\nThis examples shows the use of a univariate continuous distributions class. In particular:\n"
      ]
    },
    {
      "cell_type": "markdown",
      "metadata": {},
      "source": [
        "- How to define one of the univariate distributions supported by UQpy\n- How to plot the pdf and log_pdf of the distribution\n- How to modify the parameters of the distribution\n- How to extract the moments of the distribution\n- How to draw random samples from the distribution\n\n"
      ]
    },
    {
      "cell_type": "markdown",
      "metadata": {},
      "source": [
        "Initially we have to import the necessary modules.\n\n"
      ]
    },
    {
      "cell_type": "code",
      "execution_count": null,
      "metadata": {
        "collapsed": false
      },
      "outputs": [],
      "source": [
        "import numpy as np\nimport matplotlib.pyplot as plt\nfrom UQpy.distributions import Lognormal"
      ]
    },
    {
      "cell_type": "markdown",
      "metadata": {},
      "source": [
        "## Example of a univariate lognormal distribution\nIn order to define the lognormal distribution, the user must provide its three parameters, *s*, *loc* and *scale*.\nPrinting the dist object created after the Lognormal distribution initialization, will display as output the class\nof the distribution as can be seen below. The provided parameters of the distribution can be retrieved using the\n*parameters* attribute available to all distributions.\n\n"
      ]
    },
    {
      "cell_type": "code",
      "execution_count": null,
      "metadata": {
        "collapsed": false
      },
      "outputs": [],
      "source": [
        "dist = Lognormal(s=1., loc=0., scale=np.exp(5))\nprint(dist)\nprint(dist.parameters)"
      ]
    },
    {
      "cell_type": "markdown",
      "metadata": {},
      "source": [
        "## Plot the pdf of the distribution.\n\nThe user must provide x as a ndarray of shape (nsamples, 1) or (nsamples,) - the former if preferred.\nThe result of pdf or log_pdf will be a 1D array (nsamples, ).\n\n"
      ]
    },
    {
      "cell_type": "code",
      "execution_count": null,
      "metadata": {
        "collapsed": false
      },
      "outputs": [],
      "source": [
        "x = np.linspace(0.01, 1000, 1000).reshape((-1, 1))  # Use reshape to provide a 2D array (1000, 1)\nfig, ax = plt.subplots(ncols=2, figsize=(15, 4))\nax[0].plot(x, dist.pdf(x))  # Do not give params\nax[0].set_xlabel('x')\nax[0].set_ylabel('pdf(x)')\nax[0].set_title('pdf of lognormal distribution')\n\nax[1].plot(x, dist.log_pdf(x))\nax[1].set_xlabel('x')\nax[1].set_ylabel('log pdf(x)')\nax[1].set_title('Log pdf of lognormal distribution')\nplt.show()\n\nprint('size of input x:')\nprint(x.shape)\nprint('size of dist.pdf(x):')\nprint(dist.pdf(x).shape)"
      ]
    },
    {
      "cell_type": "markdown",
      "metadata": {},
      "source": [
        "## Modify one of the parameters of the distribution.\n\nUse the *update_parameters* method. The user must provide as input to the *update_parameters* method the name,\nas well as the updated value of the specified parameter. Note that in case the user provides a non-existing parameter\nname, the *update_parameters* method will raise an exception.\n\n"
      ]
    },
    {
      "cell_type": "code",
      "execution_count": null,
      "metadata": {
        "collapsed": false
      },
      "outputs": [],
      "source": [
        "dist.update_parameters(loc=100.)\nprint(dist.parameters)"
      ]
    },
    {
      "cell_type": "markdown",
      "metadata": {},
      "source": [
        "Plot the pdf and log_pdf functions of the lognormal distribution with the updated parameters.\n\n"
      ]
    },
    {
      "cell_type": "code",
      "execution_count": null,
      "metadata": {
        "collapsed": false
      },
      "outputs": [],
      "source": [
        "x = np.linspace(0.01, 1000, 1000).reshape((-1, 1))  # Use reshape to provide a 2D array (1000, 1)\nfig, ax = plt.subplots(ncols=2, figsize=(15, 4))\nax[0].plot(x, dist.pdf(x))  # Do not give params\nax[0].set_xlabel('x')\nax[0].set_ylabel('pdf(x)')\nax[0].set_title('pdf of lognormal distribution')\n\nax[1].plot(x, dist.log_pdf(x))\nax[1].set_xlabel('x')\nax[1].set_ylabel('log pdf(x)')\nax[1].set_title('Log pdf of lognormal distribution')\nplt.show()"
      ]
    },
    {
      "cell_type": "markdown",
      "metadata": {},
      "source": [
        "## Print the mean, standard deviation, skewness, and kurtosis of the distribution.\nUsing the moments method existing in all univariate distributions, the user can retrieve the available\nmoments. The order in which the moments are extracted can be seen in the moments_list variable.\n\n"
      ]
    },
    {
      "cell_type": "code",
      "execution_count": null,
      "metadata": {
        "collapsed": false
      },
      "outputs": [],
      "source": [
        "moments_list = ['mean', 'variance', 'skewness', 'kurtosis']\nm = dist.moments()\nprint('Moments with inherited parameters:')\nfor i, moment in enumerate(moments_list):\n    print(moment + ' = {0:.2f}'.format(m[i]))"
      ]
    },
    {
      "cell_type": "markdown",
      "metadata": {},
      "source": [
        "## Generate 5000 random samples from the lognormal distribution.\n\nThe number of samples is provided as nsamples (default 1).\nThe user can fix the seed of the pseudo-random generator via input random_state.\n\nImportant: the output of rvs is a (nsamples, 1) ndarray.\n\n"
      ]
    },
    {
      "cell_type": "code",
      "execution_count": null,
      "metadata": {
        "collapsed": false
      },
      "outputs": [],
      "source": [
        "y1 = dist.rvs(nsamples=5000)\nprint('Shape of output provided by rvs is (nsamples, dimension), i.e. here:')\nprint(y1.shape)\nplt.hist(y1[:, 0], bins=50)\nplt.xlabel('x')\nplt.ylabel('count')\nplt.show()"
      ]
    }
  ],
  "metadata": {
    "kernelspec": {
      "display_name": "Python 3",
      "language": "python",
      "name": "python3"
    },
    "language_info": {
      "codemirror_mode": {
        "name": "ipython",
        "version": 3
      },
      "file_extension": ".py",
      "mimetype": "text/x-python",
      "name": "python",
      "nbconvert_exporter": "python",
      "pygments_lexer": "ipython3",
      "version": "3.12.11"
    }
  },
  "nbformat": 4,
  "nbformat_minor": 0
}