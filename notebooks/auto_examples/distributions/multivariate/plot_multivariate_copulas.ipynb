{
  "cells": [
    {
      "cell_type": "markdown",
      "metadata": {},
      "source": [
        "\n# Multivariate from independent marginals and copula\n"
      ]
    },
    {
      "cell_type": "markdown",
      "metadata": {},
      "source": [
        "- How to define \u03b1 bivariate distribution from independent marginals and change its structure based on a copula supported by UQpy\n- How to plot the pdf of the distribution\n- How to modify the parameters of the distribution\n\n"
      ]
    },
    {
      "cell_type": "markdown",
      "metadata": {},
      "source": [
        "Import the necessary modules.\n\n"
      ]
    },
    {
      "cell_type": "code",
      "execution_count": null,
      "metadata": {
        "collapsed": false
      },
      "outputs": [],
      "source": [
        "import numpy as np\nimport matplotlib.pyplot as plt"
      ]
    },
    {
      "cell_type": "markdown",
      "metadata": {},
      "source": [
        "## Example of a multivariate distribution from joint independent marginals\n\n"
      ]
    },
    {
      "cell_type": "code",
      "execution_count": null,
      "metadata": {
        "collapsed": false
      },
      "outputs": [],
      "source": [
        "from UQpy.distributions import Normal, JointIndependent\nfrom UQpy.distributions import Gumbel, JointCopula"
      ]
    },
    {
      "cell_type": "markdown",
      "metadata": {},
      "source": [
        "## Define a Copula\nThe definition of bivariate distribution with a copula, is similar to defining a multivariate distribution from\nindependent marginals. In both cases a list of marginals needs to be defined. In case of \n\n"
      ]
    },
    {
      "cell_type": "code",
      "execution_count": null,
      "metadata": {
        "collapsed": false
      },
      "outputs": [],
      "source": [
        "marginals = [Normal(loc=0., scale=1), Normal(loc=0., scale=1)]\ncopula = Gumbel(theta=3.)\n\n# dist_1 is a multivariate normal with independent marginals\ndist_1 = JointIndependent(marginals)\nprint('Does the distribution with independent marginals have an rvs method?')\nprint(hasattr(dist_1, 'rvs'))\n\n# dist_2 exhibits dependence between the two dimensions, defined using a gumbel copula\ndist_2 = JointCopula(marginals=marginals, copula=copula)\nprint('Does the distribution with copula have an rvs method?')\nprint(hasattr(dist_2, 'rvs'))"
      ]
    },
    {
      "cell_type": "markdown",
      "metadata": {},
      "source": [
        "## Plot the pdf of the distribution before and after the copula\n\n\n"
      ]
    },
    {
      "cell_type": "code",
      "execution_count": null,
      "metadata": {
        "collapsed": false
      },
      "outputs": [],
      "source": [
        "fig, ax = plt.subplots(ncols=2, figsize=(10, 4))\n\nx = np.arange(-3, 3, 0.1)\ny = np.arange(-3, 3, 0.1)\nX, Y = np.meshgrid(x, y)\nZ = dist_1.pdf(x=np.concatenate([X.reshape((-1, 1)), Y.reshape((-1, 1))], axis=1))\nCS = ax[0].contour(X, Y, Z.reshape(X.shape))\nax[0].clabel(CS, inline=1, fontsize=10)\nax[0].set_title('Contour plot of pdf - independent normals')\n\nx = np.arange(-3, 3, 0.1)\ny = np.arange(-3, 3, 0.1)\nX, Y = np.meshgrid(x, y)\nZ = dist_2.pdf(x=np.concatenate([X.reshape((-1, 1)), Y.reshape((-1, 1))], axis=1))\nCS = ax[1].contour(X, Y, Z.reshape(X.shape))\nax[1].clabel(CS, inline=1, fontsize=10)\nax[1].set_title('Contour plot of pdf - normals with Gumbel copula')\nplt.show()"
      ]
    },
    {
      "cell_type": "markdown",
      "metadata": {},
      "source": [
        "## Modify the parameters of the multivariate copula.\n\nUse the update_parameters method.\n\n"
      ]
    },
    {
      "cell_type": "code",
      "execution_count": null,
      "metadata": {
        "collapsed": false
      },
      "outputs": [],
      "source": [
        "print(dist_2.copula.parameters)\ndist_2.update_parameters(theta_c=2.)\nprint(dist_2.copula.parameters)"
      ]
    }
  ],
  "metadata": {
    "kernelspec": {
      "display_name": "Python 3",
      "language": "python",
      "name": "python3"
    },
    "language_info": {
      "codemirror_mode": {
        "name": "ipython",
        "version": 3
      },
      "file_extension": ".py",
      "mimetype": "text/x-python",
      "name": "python",
      "nbconvert_exporter": "python",
      "pygments_lexer": "ipython3",
      "version": "3.12.11"
    }
  },
  "nbformat": 4,
  "nbformat_minor": 0
}