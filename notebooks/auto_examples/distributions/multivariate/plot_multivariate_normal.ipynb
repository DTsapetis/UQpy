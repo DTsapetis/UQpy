{
  "cells": [
    {
      "cell_type": "markdown",
      "metadata": {},
      "source": [
        "\n# Multivariate normal distribution\n\nThis examples shows the use of the multivariate normal distributions class. In particular:\n"
      ]
    },
    {
      "cell_type": "markdown",
      "metadata": {},
      "source": [
        "- How to define one of the univariate distributions supported by UQpy\n- How to plot the pdf of the distribution\n- How to extract the moments of the distribution\n- How to draw random samples from the distribution\n\n"
      ]
    },
    {
      "cell_type": "markdown",
      "metadata": {},
      "source": [
        "Initially we have to import the necessary modules.\n\n"
      ]
    },
    {
      "cell_type": "code",
      "execution_count": null,
      "metadata": {
        "collapsed": false
      },
      "outputs": [],
      "source": [
        "import numpy as np\nimport matplotlib.pyplot as plt\nfrom UQpy.distributions.collection.MultivariateNormal import MultivariateNormal"
      ]
    },
    {
      "cell_type": "markdown",
      "metadata": {},
      "source": [
        "## Example of a multivariate normal distribution\nNote that multivariate normal distribution can facilitate any number of dimensions.\nIn order to define it two arguments are necessary, specifically, a list containing the\nmean values for each one of the dimensions and a covariance matrix with shape\n(ndimensions, ndimensions)\n\n"
      ]
    },
    {
      "cell_type": "code",
      "execution_count": null,
      "metadata": {
        "collapsed": false
      },
      "outputs": [],
      "source": [
        "print(MultivariateNormal.__bases__)\ndist = MultivariateNormal(mean=[1., 2.], cov=[[4., -0.2], [-0.2, 1.]])"
      ]
    },
    {
      "cell_type": "markdown",
      "metadata": {},
      "source": [
        "## Plot the two-dimensional pdf of the distribution.\n\n\n"
      ]
    },
    {
      "cell_type": "code",
      "execution_count": null,
      "metadata": {
        "collapsed": false
      },
      "outputs": [],
      "source": [
        "fig, ax = plt.subplots(ncols=1, figsize=(10, 4))\nx = np.arange(-6.0, 6.0, 0.1)\ny = np.arange(-6.0, 6.0, 0.1)\nX, Y = np.meshgrid(x, y)\nZ = dist.pdf(x=np.concatenate([X.reshape((-1, 1)), Y.reshape((-1, 1))], axis=1))\nCS = ax.contour(X, Y, Z.reshape(X.shape))\nax.clabel(CS, inline=1, fontsize=10)\nax.set_xlabel('dimension 1')\nax.set_ylabel('dimension 2')\nax.set_title('Contour plot of pdf')\nax.set_xlim([-4, 6])\nax.set_ylim([-2, 6])\nplt.show()"
      ]
    },
    {
      "cell_type": "markdown",
      "metadata": {},
      "source": [
        "## Print the multivariate moments of the distribution.\nProviding a single or multiple consecutive initials of the following four distributions moments\n\n- 'm': mean\n- 'v': variance\n- 's': skewness\n- 'k': kurtosis\n\nallows the user to obtain the respective moments from all underlying univariate distributions.\nIn the following examples providing the string 'mv' to the moments function, returns the respective means and\nvariances.\n\n"
      ]
    },
    {
      "cell_type": "code",
      "execution_count": null,
      "metadata": {
        "collapsed": false
      },
      "outputs": [],
      "source": [
        "print(dist.moments())\nprint(dist.moments(moments2return='mv'))"
      ]
    },
    {
      "cell_type": "markdown",
      "metadata": {},
      "source": [
        "## Generate 1000 random samples from the binomial distribution.\n\nImportant: the output of rvs is a (nsamples, 1) ndarray.\n\n"
      ]
    },
    {
      "cell_type": "code",
      "execution_count": null,
      "metadata": {
        "collapsed": false
      },
      "outputs": [],
      "source": [
        "data = dist.rvs(nsamples=1000)\n\nfig, ax = plt.subplots(ncols=1, figsize=(10, 4))\nax.scatter(data[:, 0], data[:, 1], alpha=0.2)\nax.set_xlabel('dimension 1')\nax.set_ylabel('dimension 2')\nax.set_title('random samples')\nax.set_xlim([-4, 6])\nax.set_ylim([-2, 6])"
      ]
    }
  ],
  "metadata": {
    "kernelspec": {
      "display_name": "Python 3",
      "language": "python",
      "name": "python3"
    },
    "language_info": {
      "codemirror_mode": {
        "name": "ipython",
        "version": 3
      },
      "file_extension": ".py",
      "mimetype": "text/x-python",
      "name": "python",
      "nbconvert_exporter": "python",
      "pygments_lexer": "ipython3",
      "version": "3.12.11"
    }
  },
  "nbformat": 4,
  "nbformat_minor": 0
}