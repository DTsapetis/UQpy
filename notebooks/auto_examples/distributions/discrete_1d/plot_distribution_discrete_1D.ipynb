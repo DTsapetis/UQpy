{
  "cells": [
    {
      "cell_type": "markdown",
      "metadata": {},
      "source": [
        "\n# Distribution Discrete 1D example\n\nThis examples shows the use of the univariate discrete distributions class. In particular:\n"
      ]
    },
    {
      "cell_type": "markdown",
      "metadata": {},
      "source": [
        "- How to define one of the univariate discrete distributions supported by UQpy\n- How to extract the moments of the distribution\n- How to draw random samples from the distribution\n\n"
      ]
    },
    {
      "cell_type": "markdown",
      "metadata": {},
      "source": [
        "Import the necessary modules.\n\n"
      ]
    },
    {
      "cell_type": "code",
      "execution_count": null,
      "metadata": {
        "collapsed": false
      },
      "outputs": [],
      "source": [
        "import matplotlib.pyplot as plt\nfrom UQpy.distributions.collection.Binomial import Binomial"
      ]
    },
    {
      "cell_type": "markdown",
      "metadata": {},
      "source": [
        "## Example of a 1D discrete distribution\n\nDefine a univariate binomial distribution.\nBy using the :code:`__bases__` attribute we can verify that the Binomial distribution extends the\n:class:`DistributionDiscrete1D` baseclass, while in order to define the :class:`Binomial` distribution, two\nparameters are required, namely, :code:`n` and :code:`p`.\n\n"
      ]
    },
    {
      "cell_type": "code",
      "execution_count": null,
      "metadata": {
        "collapsed": false
      },
      "outputs": [],
      "source": [
        "print(Binomial.__bases__)\ndist = Binomial(n=5, p=0.4)"
      ]
    },
    {
      "cell_type": "markdown",
      "metadata": {},
      "source": [
        "## Print the mean, standard deviation, skewness, and kurtosis of the distribution.\nUsing the moments method existing in all univariate distributions, the user can retrieve the available\nmoments. The order in which the moments are extracted can be seen in the moments_list variable.\n\n"
      ]
    },
    {
      "cell_type": "code",
      "execution_count": null,
      "metadata": {
        "collapsed": false
      },
      "outputs": [],
      "source": [
        "moments_list = ['mean', 'variance', 'skewness', 'kurtosis']\nm = dist.moments()\nprint('Moments with inherited parameters:')\nfor i, moment in enumerate(moments_list):\n    print(moment + ' = {0:.2f}'.format(m[i]))"
      ]
    },
    {
      "cell_type": "markdown",
      "metadata": {},
      "source": [
        "## Generate 5000 random samples from the binomial distribution.\n\nThe number of samples is provided as `nsamples` (default $1$).\nThe user can fix the seed of the pseudo random generator via input random_state.\n\nImportant: the output of rvs is a `(nsamples, 1)` ndarray.\n\n"
      ]
    },
    {
      "cell_type": "code",
      "execution_count": null,
      "metadata": {
        "collapsed": false
      },
      "outputs": [],
      "source": [
        "y1 = dist.rvs(nsamples=5000)\nprint('Shape of output provided by rvs is (nsamples, dimension), i.e. here:')\nprint(y1.shape)\nplt.hist(y1[:, 0], bins=50)\nplt.xlabel('x')\nplt.ylabel('count')\nplt.show()"
      ]
    }
  ],
  "metadata": {
    "kernelspec": {
      "display_name": "Python 3",
      "language": "python",
      "name": "python3"
    },
    "language_info": {
      "codemirror_mode": {
        "name": "ipython",
        "version": 3
      },
      "file_extension": ".py",
      "mimetype": "text/x-python",
      "name": "python",
      "nbconvert_exporter": "python",
      "pygments_lexer": "ipython3",
      "version": "3.12.11"
    }
  },
  "nbformat": 4,
  "nbformat_minor": 0
}