{
  "cells": [
    {
      "cell_type": "markdown",
      "metadata": {},
      "source": [
        "\n# Additive function\n\nWe introduce the variance-based Sobol indices using an elementary example. \nFor more details, refer [1]_.\n\n\\begin{align}f(x) = a \\cdot X_1 + b \\cdot X_2, \\quad X_1, X_2 \\sim \\mathcal{N}(0, 1), \\quad a,b \\in \\mathbb{R}\\end{align}\n\n.. [1] Saltelli A, T. (2008). Global sensitivity analysis: The primer. John Wiley.\n"
      ]
    },
    {
      "cell_type": "code",
      "execution_count": null,
      "metadata": {
        "collapsed": false
      },
      "outputs": [],
      "source": [
        "import numpy as np\n\nfrom UQpy.run_model.RunModel import RunModel\nfrom UQpy.run_model.model_execution.PythonModel import PythonModel\nfrom UQpy.distributions import Normal\nfrom UQpy.distributions.collection.JointIndependent import JointIndependent\nfrom UQpy.sensitivity.SobolSensitivity import SobolSensitivity\nfrom UQpy.sensitivity.PostProcess import *\n\nnp.random.seed(123)"
      ]
    },
    {
      "cell_type": "markdown",
      "metadata": {},
      "source": [
        "**Define the model and input distributions**\n\n"
      ]
    },
    {
      "cell_type": "code",
      "execution_count": null,
      "metadata": {
        "collapsed": false
      },
      "outputs": [],
      "source": [
        "# Create Model object\na, b = 1, 2\n\nmodel = PythonModel(\n    model_script=\"local_additive.py\",\n    model_object_name=\"evaluate\",\n    var_names=[\n        \"X_1\",\n        \"X_2\",\n    ],\n    delete_files=True,\n    params=[a, b],\n)\n\nrunmodel_obj = RunModel(model=model)\n\n# Define distribution object\ndist_object = JointIndependent([Normal(0, 1)] * 2)"
      ]
    },
    {
      "cell_type": "markdown",
      "metadata": {},
      "source": [
        "**Compute Sobol indices**\n\n"
      ]
    },
    {
      "cell_type": "code",
      "execution_count": null,
      "metadata": {
        "collapsed": false
      },
      "outputs": [],
      "source": [
        "SA = SobolSensitivity(runmodel_obj, dist_object)\n\nSA.run(n_samples=50_000)"
      ]
    },
    {
      "cell_type": "markdown",
      "metadata": {},
      "source": [
        "**First order Sobol indices**\n\nExpected first order Sobol indices:\n\n$\\mathrm{S}_1 = \\frac{a^2 \\cdot \\mathbb{V}[X_1]}{a^2 \\cdot \\mathbb{V}[X_1] + b^2 \\cdot \\mathbb{V}[X_2]} = \\frac{1^2 \\cdot 1}{1^2 \\cdot 1 + 2^2 \\cdot 1} = 0.2$\n\n$\\mathrm{S}_2 = \\frac{b^2 \\cdot \\mathbb{V}[X_2]}{a^2 \\cdot \\mathbb{V}[X_1] + b^2 \\cdot \\mathbb{V}[X_2]} = \\frac{2^2 \\cdot 1}{1^2 \\cdot 1 + 2^2 \\cdot 1} = 0.8$\n\n"
      ]
    },
    {
      "cell_type": "code",
      "execution_count": null,
      "metadata": {
        "collapsed": false
      },
      "outputs": [],
      "source": [
        "SA.first_order_indices"
      ]
    },
    {
      "cell_type": "markdown",
      "metadata": {},
      "source": [
        "**Plot the first and total order sensitivity indices**\n\n"
      ]
    },
    {
      "cell_type": "code",
      "execution_count": null,
      "metadata": {
        "collapsed": false
      },
      "outputs": [],
      "source": [
        "fig1, ax1 = plot_index_comparison(\n    SA.first_order_indices[:, 0],\n    SA.total_order_indices[:, 0],\n    label_1=\"First order Sobol indices\",\n    label_2=\"Total order Sobol indices\",\n    plot_title=\"First and Total order Sobol indices\",\n)"
      ]
    }
  ],
  "metadata": {
    "kernelspec": {
      "display_name": "Python 3",
      "language": "python",
      "name": "python3"
    },
    "language_info": {
      "codemirror_mode": {
        "name": "ipython",
        "version": 3
      },
      "file_extension": ".py",
      "mimetype": "text/x-python",
      "name": "python",
      "nbconvert_exporter": "python",
      "pygments_lexer": "ipython3",
      "version": "3.12.11"
    }
  },
  "nbformat": 4,
  "nbformat_minor": 0
}