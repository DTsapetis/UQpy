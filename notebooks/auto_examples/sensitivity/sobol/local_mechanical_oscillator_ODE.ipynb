{
  "cells": [
    {
      "cell_type": "markdown",
      "metadata": {},
      "source": [
        "\n# Auxiliary file\n"
      ]
    },
    {
      "cell_type": "code",
      "execution_count": null,
      "metadata": {
        "collapsed": false
      },
      "outputs": [],
      "source": [
        "import numpy as np\nfrom scipy.integrate import solve_ivp\n\n\ndef mech_oscillator(input_parameters):\n    \"\"\"\n    We have the second order differential equation:\n\n    .. math::\n\n        m \\ddot{x} + c \\dot{x} + k x = 0\n\n    with initial conditions: :math: `x(0) = \\ell`, :math: `\\dot{x}(0) = 0`.\n\n    where, for example  :math: `m \\sim \\mathcal{U}(10, 12)`,\n                        :math: `c \\sim \\mathcal{U}(0.4, 0.8)`\n                        :math: `k \\sim \\mathcal{U}(70, 90)`\n                        :math: `\\ell \\sim \\mathcal{U}(-1, -0.25)`.\n\n\n    References\n    ----------\n\n    .. [1] Gamboa F, Janon A, Klein T, Lagnoux A, others .\n        Sensitivity analysis for multidimensional and functional outputs.\n        Electronic journal of statistics 2014; 8(1): 575-603.\n\n    \"\"\"\n\n    # unpack the input parameters\n    m, c, k, l = input_parameters[0]\n\n    # intial conditions\n    x_0 = l\n    v_0 = 0\n\n    # time points\n    t_0 = 0\n    t_f = 40\n    dt = 0.05\n    n_t = int((t_f - t_0) / dt)\n    T = np.linspace(t_0, t_f, n_t)\n\n    def ODE(t, y):\n        \"\"\"\n        The ODE system.\n        \"\"\"\n        return np.array([y[1], -(k / m) * y[0] - (c / m) * y[1]])\n\n    # solve the ODE\n    sol = solve_ivp(ODE, [t_0, t_f], [x_0, v_0], method=\"RK45\", t_eval=T)\n\n    return sol.y[0]"
      ]
    }
  ],
  "metadata": {
    "kernelspec": {
      "display_name": "Python 3",
      "language": "python",
      "name": "python3"
    },
    "language_info": {
      "codemirror_mode": {
        "name": "ipython",
        "version": 3
      },
      "file_extension": ".py",
      "mimetype": "text/x-python",
      "name": "python",
      "nbconvert_exporter": "python",
      "pygments_lexer": "ipython3",
      "version": "3.12.11"
    }
  },
  "nbformat": 4,
  "nbformat_minor": 0
}