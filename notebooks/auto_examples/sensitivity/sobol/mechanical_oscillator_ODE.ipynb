{
  "cells": [
    {
      "cell_type": "markdown",
      "metadata": {},
      "source": [
        "\n# Mechanical oscillator model (multioutput)\n\nIn this example, we consider the mechanical oscillator is governed by the following \nsecond-order ODE as demonstrated in [1]_:\n\n\\begin{align}m \\ddot{x} + c \\dot{x} + k x = 0\\end{align}\n\n\\begin{align}x(0) = \\ell, \\dot{x}(0) = 0.\\end{align}\n\nThe parameteres of the oscillator are modeled as follows:\n\n\\begin{align}m \\sim \\mathcal{U}(10, 12), c \\sim \\mathcal{U}(0.4, 0.8), k \\sim \\mathcal{U}(70, 90), \\ell \\sim \\mathcal{U}(-1, -0.25).\\end{align}\n\nHere, we compute the Sobol indices for each point in time and are called \npointwise-in-time Sobol indices. These indices describe the sensitivity of the model \nparameters at each point in time.\n\n.. [1] Gamboa, F., Janon, A., Klein, T., & Lagnoux, A. (2014). Sensitivity analysis for multidimensional and functional outputs. Electronic Journal of Statistics, 8(1), 575-603.\n"
      ]
    },
    {
      "cell_type": "code",
      "execution_count": null,
      "metadata": {
        "collapsed": false
      },
      "outputs": [],
      "source": [
        "import numpy as np\nimport matplotlib.pyplot as plt\n\nfrom UQpy.run_model.RunModel import RunModel\nfrom UQpy.run_model.model_execution.PythonModel import PythonModel\nfrom UQpy.distributions import Uniform\nfrom UQpy.distributions.collection.JointIndependent import JointIndependent\nfrom UQpy.sensitivity.SobolSensitivity import SobolSensitivity"
      ]
    },
    {
      "cell_type": "markdown",
      "metadata": {},
      "source": [
        "**Define the model and input distributions**\n\n"
      ]
    },
    {
      "cell_type": "code",
      "execution_count": null,
      "metadata": {
        "collapsed": false
      },
      "outputs": [],
      "source": [
        "# Create Model object\nmodel = PythonModel(\n    model_script=\"local_mechanical_oscillator_ODE.py\",\n    model_object_name=\"mech_oscillator\",\n    var_names=[r\"$m$\", \"$c$\", \"$k$\", \"$\\ell$\"],\n    delete_files=True,\n)\n\nrunmodel_obj = RunModel(model=model)\n\n# Define distribution object\nM = Uniform(10, (12 - 10))\nC = Uniform(0.4, (0.8 - 0.4))\nK = Uniform(70, (90 - 70))\nL = Uniform(-1, (-0.25 - -1))\ndist_object = JointIndependent([M, C, K, L])"
      ]
    },
    {
      "cell_type": "markdown",
      "metadata": {},
      "source": [
        "**Compute Sobol indices**\n\n"
      ]
    },
    {
      "cell_type": "code",
      "execution_count": null,
      "metadata": {
        "collapsed": false
      },
      "outputs": [],
      "source": [
        "SA = SobolSensitivity(runmodel_obj, dist_object)\n\nSA.run(n_samples=500)"
      ]
    },
    {
      "cell_type": "markdown",
      "metadata": {},
      "source": [
        "**Plot the Sobol indices**\n\n"
      ]
    },
    {
      "cell_type": "code",
      "execution_count": null,
      "metadata": {
        "collapsed": false
      },
      "outputs": [],
      "source": [
        "t_0 = 0\nt_f = 40\ndt = 0.05\nn_t = int((t_f - t_0) / dt)\nT = np.linspace(t_0, t_f, n_t)\n\nfig, ax = plt.subplots(1, 2, figsize=(16, 8))\n\nax[0].plot(T, SA.total_order_indices[0, :], \"r\", label=r\"$m$\")\nax[0].plot(T, SA.total_order_indices[1, :], \"g\", label=r\"$c$\")\nax[0].plot(T, SA.total_order_indices[2, :], label=r\"$k$\", color=\"royalblue\")\nax[0].plot(T, SA.total_order_indices[3, :], label=r\"$\\ell$\", color=\"aquamarine\")\n\nax[0].set_title(\"Total order Sobol indices\", fontsize=16)\nax[0].set_xlabel(\"time (s)\", fontsize=16)\nax[0].set_ylabel(r\"$S_{T_i}$\", fontsize=16)\nax[0].set_xbound(0, t_f)\nax[0].set_ybound(-0.2, 1.2)\nax[0].legend()\n\nax[1].plot(T, SA.first_order_indices[0, :], \"r\", label=r\"$m$\")\nax[1].plot(T, SA.first_order_indices[1, :], \"g\", label=r\"$c$\")\nax[1].plot(T, SA.first_order_indices[2, :], label=r\"$k$\", color=\"royalblue\")\nax[1].plot(T, SA.first_order_indices[3, :], label=r\"$\\ell$\", color=\"aquamarine\")\n\nax[1].set_title(\"First order Sobol indices\", fontsize=16)\nax[1].set_xlabel(\"time (s)\", fontsize=16)\nax[1].set_ylabel(r\"$S_i$\", fontsize=16)\nax[1].set_xbound(0, t_f)\nax[1].set_ybound(-0.2, 1.2)\nax[1].legend(fontsize=12)\n\nfig.suptitle(\"Pointwise-in-time Sobol indices\", fontsize=20)\n\nplt.show()"
      ]
    }
  ],
  "metadata": {
    "kernelspec": {
      "display_name": "Python 3",
      "language": "python",
      "name": "python3"
    },
    "language_info": {
      "codemirror_mode": {
        "name": "ipython",
        "version": 3
      },
      "file_extension": ".py",
      "mimetype": "text/x-python",
      "name": "python",
      "nbconvert_exporter": "python",
      "pygments_lexer": "ipython3",
      "version": "3.12.11"
    }
  },
  "nbformat": 4,
  "nbformat_minor": 0
}