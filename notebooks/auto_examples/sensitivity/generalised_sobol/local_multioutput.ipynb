{
  "cells": [
    {
      "cell_type": "markdown",
      "metadata": {},
      "source": [
        "\nThis is the toy example with multiple outputs from [1]_.\n\n# References\n\n.. [1]  Gamboa F, Janon A, Klein T, Lagnoux A, others. \n        Sensitivity analysis for multidimensional and functional outputs.\n        Electronic journal of statistics 2014; 8(1): 575-603.\n"
      ]
    },
    {
      "cell_type": "code",
      "execution_count": null,
      "metadata": {
        "collapsed": false
      },
      "outputs": [],
      "source": [
        "import numpy as np\n\n\ndef evaluate(X):\n\n    \"\"\"\n\n    * **Input:**\n\n    * **X** (`ndarray`):\n    Samples from the input distribution.\n    Shape: (n_samples, 2)\n\n    * **Output:**\n\n    * **Y** (`ndarray`):\n    Model evaluations.\n    Shape: (2, n_samples)\n\n    \"\"\"\n\n    n_samples = X.shape[0]\n\n    output = np.zeros((2, n_samples))\n\n    output[0, :] = X[:, 0] + X[:, 1] + X[:, 0] * X[:, 1]\n\n    output[1, :] = 2 * X[:, 0] + X[:, 1] + 3 * X[:, 0] * X[:, 1]\n\n    return output"
      ]
    }
  ],
  "metadata": {
    "kernelspec": {
      "display_name": "Python 3",
      "language": "python",
      "name": "python3"
    },
    "language_info": {
      "codemirror_mode": {
        "name": "ipython",
        "version": 3
      },
      "file_extension": ".py",
      "mimetype": "text/x-python",
      "name": "python",
      "nbconvert_exporter": "python",
      "pygments_lexer": "ipython3",
      "version": "3.12.11"
    }
  },
  "nbformat": 4,
  "nbformat_minor": 0
}