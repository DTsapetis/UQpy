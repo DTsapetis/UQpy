{
  "cells": [
    {
      "cell_type": "markdown",
      "metadata": {},
      "source": [
        "\n# Ishigami function\n\nThe ishigami function is a non-linear, non-monotonic function that is commonly used to \nbenchmark uncertainty and sensitivity analysis methods.\n\n\\begin{align}f(x_1, x_2, x_3) = sin(x_1) + a \\cdot sin^2(x_2) + b \\cdot x_3^4 sin(x_1)\\end{align}\n\n\\begin{align}x_1, x_2, x_3 \\sim \\mathcal{U}(-\\pi, \\pi), \\quad a, b\\in \\mathbb{R}\\end{align}\n"
      ]
    },
    {
      "cell_type": "code",
      "execution_count": null,
      "metadata": {
        "collapsed": false
      },
      "outputs": [],
      "source": [
        "import numpy as np\n\nfrom UQpy.run_model.RunModel import RunModel\nfrom UQpy.run_model.model_execution.PythonModel import PythonModel\nfrom UQpy.distributions import Uniform\nfrom UQpy.distributions.collection.JointIndependent import JointIndependent\nfrom UQpy.sensitivity.ChatterjeeSensitivity import ChatterjeeSensitivity\nfrom UQpy.sensitivity.PostProcess import *\n\nnp.random.seed(123)"
      ]
    },
    {
      "cell_type": "markdown",
      "metadata": {},
      "source": [
        "**Define the model and input distributions**\n\n"
      ]
    },
    {
      "cell_type": "code",
      "execution_count": null,
      "metadata": {
        "collapsed": false
      },
      "outputs": [],
      "source": [
        "# Create Model object\nmodel = PythonModel(\n    model_script=\"local_ishigami.py\",\n    model_object_name=\"evaluate\",\n    var_names=[r\"$X_1$\", \"$X_2$\", \"$X_3$\"],\n    delete_files=True,\n    params=[7, 0.1],\n)\n\nrunmodel_obj = RunModel(model=model)\n\n# Define distribution object\ndist_object = JointIndependent([Uniform(-np.pi, 2 * np.pi)] * 3)"
      ]
    },
    {
      "cell_type": "markdown",
      "metadata": {},
      "source": [
        "**Compute Chatterjee indices**\n\n"
      ]
    },
    {
      "cell_type": "code",
      "execution_count": null,
      "metadata": {
        "collapsed": false
      },
      "outputs": [],
      "source": [
        "SA = ChatterjeeSensitivity(runmodel_obj, dist_object)\n\nSA.run(\n    n_samples=100_000,\n    estimate_sobol_indices=True,\n    n_bootstrap_samples=100,\n    confidence_level=0.95,\n)"
      ]
    },
    {
      "cell_type": "markdown",
      "metadata": {},
      "source": [
        "**Chattererjee indices**\n\n"
      ]
    },
    {
      "cell_type": "code",
      "execution_count": null,
      "metadata": {
        "collapsed": false
      },
      "outputs": [],
      "source": [
        "SA.first_order_chatterjee_indices"
      ]
    },
    {
      "cell_type": "markdown",
      "metadata": {},
      "source": [
        "**Confidence intervals for the Chatterjee indices**\n\n"
      ]
    },
    {
      "cell_type": "code",
      "execution_count": null,
      "metadata": {
        "collapsed": false
      },
      "outputs": [],
      "source": [
        "SA.confidence_interval_chatterjee\n\n# **Plot the Chatterjee indices**\nfig1, ax1 = plot_sensitivity_index(\n    SA.first_order_chatterjee_indices[:, 0],\n    SA.confidence_interval_chatterjee,\n    plot_title=\"Chatterjee indices\",\n    color=\"C2\",\n)"
      ]
    },
    {
      "cell_type": "markdown",
      "metadata": {},
      "source": [
        "**Estimated Sobol indices**\n\nExpected first order Sobol indices:\n\n$S_1$: 0.3139\n\n$S_2$: 0.4424\n\n$S_3$: 0.0\n\n"
      ]
    },
    {
      "cell_type": "code",
      "execution_count": null,
      "metadata": {
        "collapsed": false
      },
      "outputs": [],
      "source": [
        "SA.first_order_sobol_indices\n\n# **Plot the first order Sobol indices**\nfig2, ax2 = plot_sensitivity_index(\n    SA.first_order_sobol_indices[:, 0],\n    plot_title=\"First order Sobol indices\",\n    color=\"C0\",\n)"
      ]
    }
  ],
  "metadata": {
    "kernelspec": {
      "display_name": "Python 3",
      "language": "python",
      "name": "python3"
    },
    "language_info": {
      "codemirror_mode": {
        "name": "ipython",
        "version": 3
      },
      "file_extension": ".py",
      "mimetype": "text/x-python",
      "name": "python",
      "nbconvert_exporter": "python",
      "pygments_lexer": "ipython3",
      "version": "3.12.11"
    }
  },
  "nbformat": 4,
  "nbformat_minor": 0
}