{
  "cells": [
    {
      "cell_type": "markdown",
      "metadata": {},
      "source": [
        "\n# Sobol function\n\nThe Sobol function is non-linear function that is commonly used to benchmark uncertainty \nand senstivity analysis methods. Unlike the ishigami function which has 3 input \nvariables, the Sobol function can have any number of input variables. \n\nThis function was used in [1]_ to compare the Pick and Freeze approach and the rank \nstatistics approach to estimating Sobol indices. The rank statistics approach was \nobserved to be more accurate than the Pick and Freeze approach and it also provides \nbetter estimates when only a small number of model evaluations are available.\n\n\\begin{align}g(x_1, x_2, \\ldots, x_D) := \\prod_{i=1}^{D} \\frac{|4x_i - 2| + a_i}{1 + a_i},\\end{align}\n\nwhere,\n\n\\begin{align}x_i \\sim \\mathcal{U}(0, 1), \\quad a_i \\in \\mathbb{R}.\\end{align}\n\nFinally, we also compare the convergence rate of the Pick and Freeze approach with the\nrank statistics approach as in [1]_.\n\n.. [1] Fabrice Gamboa, Pierre Gremaud, Thierry Klein, and Agn\u00e8s Lagnoux. (2020). Global Sensitivity Analysis: a new generation of mighty estimators based on rank statistics. ([Link](https://arxiv.org/abs/2003.01772))\n"
      ]
    },
    {
      "cell_type": "code",
      "execution_count": null,
      "metadata": {
        "collapsed": false
      },
      "outputs": [],
      "source": [
        "import numpy as np\n\nfrom UQpy.run_model.RunModel import RunModel\nfrom UQpy.run_model.model_execution.PythonModel import PythonModel\nfrom UQpy.distributions import Uniform\nfrom UQpy.distributions.collection.JointIndependent import JointIndependent\nfrom UQpy.sensitivity.ChatterjeeSensitivity import ChatterjeeSensitivity\nfrom UQpy.sensitivity.SobolSensitivity import SobolSensitivity\nfrom UQpy.sensitivity.PostProcess import *\n\nnp.random.seed(123)"
      ]
    },
    {
      "cell_type": "markdown",
      "metadata": {},
      "source": [
        "**Define the model and input distributions**\n\n"
      ]
    },
    {
      "cell_type": "code",
      "execution_count": null,
      "metadata": {
        "collapsed": false
      },
      "outputs": [],
      "source": [
        "# Create Model object\nnum_vars = 6\na_vals = np.arange(1, num_vars+1, 1)\n\nmodel = PythonModel(\n    model_script=\"local_sobol_func.py\",\n    model_object_name=\"evaluate\",\n    var_names=[\"X_\" + str(i) for i in range(num_vars)],\n    delete_files=True,\n    a_values=a_vals,\n)\n\nrunmodel_obj = RunModel(model=model)\n\n# Define distribution object\ndist_object = JointIndependent([Uniform(0, 1)] * num_vars)"
      ]
    },
    {
      "cell_type": "markdown",
      "metadata": {},
      "source": [
        "**Compute Chatterjee indices**\n\n"
      ]
    },
    {
      "cell_type": "code",
      "execution_count": null,
      "metadata": {
        "collapsed": false
      },
      "outputs": [],
      "source": [
        "SA = ChatterjeeSensitivity(runmodel_obj, dist_object)\n\n# Compute Chatterjee indices using rank statistics\nSA.run(n_samples=500_000, estimate_sobol_indices=True)"
      ]
    },
    {
      "cell_type": "markdown",
      "metadata": {},
      "source": [
        "**Chatterjee indices**\n\n"
      ]
    },
    {
      "cell_type": "code",
      "execution_count": null,
      "metadata": {
        "collapsed": false
      },
      "outputs": [],
      "source": [
        "SA.first_order_chatterjee_indices\n\n# **Plot the Chatterjee indices**\nfig1, ax1 = plot_sensitivity_index(\n    SA.first_order_chatterjee_indices[:, 0],\n    plot_title=\"Chatterjee indices\",\n    color=\"C2\",\n)"
      ]
    },
    {
      "cell_type": "markdown",
      "metadata": {},
      "source": [
        "**Estimated Sobol indices**\n\nExpected first order Sobol indices:\n\n$S_1$ = 0.46067666\n\n$S_2$ = 0.20474518\n\n$S_3$ = 0.11516917\n\n$S_4$ = 0.07370827\n\n$S_5$ = 0.0511863\n\n$S_6$ = 0.03760626\n\n"
      ]
    },
    {
      "cell_type": "code",
      "execution_count": null,
      "metadata": {
        "collapsed": false
      },
      "outputs": [],
      "source": [
        "SA.first_order_sobol_indices\n\n# **Plot the first order Sobol indices**\nfig2, ax2 = plot_sensitivity_index(\n    SA.first_order_sobol_indices[:, 0],\n    plot_title=\"First order Sobol indices\",\n    color=\"C0\",\n)"
      ]
    },
    {
      "cell_type": "markdown",
      "metadata": {},
      "source": [
        "**Comparing convergence rate of rank statistics and the Pick and Freeze approach**\n\nIn the Pick-Freeze estimations, several sizes of sample N have been considered: \nN = 100, 500, 1000, 5000, 10000, 50000, and 100000. \nThe Pick-Freeze procedure requires (p + 1) samples of size N. \nTo have a fair comparison, the sample sizes considered in the estimation using \nrank statistics are n = (p+1)N = 7N. \nWe observe that both methods converge and give precise results for large sample sizes.\n\n"
      ]
    },
    {
      "cell_type": "code",
      "execution_count": null,
      "metadata": {
        "collapsed": false
      },
      "outputs": [],
      "source": [
        "# Compute indices values for equal number of model evaluations\n\ntrue_values = np.array([0.46067666, \n                        0.20474518, \n                        0.11516917, \n                        0.07370827, \n                        0.0511863 ,\n                        0.03760626])\n\nsample_sizes = [100, 500, 1_000, 5_000, 10_000, 50_000, 100_000]\nnum_studies = len(sample_sizes)\n\nstore_pick_freeze = np.zeros((num_vars, num_studies))\nstore_rank_stats = np.zeros((num_vars, num_studies))\n\nSA_chatterjee = ChatterjeeSensitivity(runmodel_obj, dist_object)\nSA_sobol = SobolSensitivity(runmodel_obj, dist_object)\n\nfor i, sample_size in enumerate(sample_sizes):\n\n    # Estimate using rank statistics\n    SA_chatterjee.run(n_samples=sample_size*7, estimate_sobol_indices=True)\n    store_rank_stats[:, i] = SA_chatterjee.first_order_sobol_indices.ravel()\n\n    # Estimate using Pick and Freeze approach\n    SA_sobol.run(n_samples=sample_size)\n    store_pick_freeze[:, i] = SA_sobol.first_order_indices.ravel()"
      ]
    },
    {
      "cell_type": "code",
      "execution_count": null,
      "metadata": {
        "collapsed": false
      },
      "outputs": [],
      "source": [
        "## Convergence plot\n\nfix, ax = plt.subplots(2, 3, figsize=(30, 15))\n\nfor k in range(num_vars):\n\n    i, j = divmod(k, 3) # (built-in) divmod(a, b) returns a tuple (a // b, a % b)\n\n    ax[i][j].semilogx(sample_sizes, store_rank_stats[k, :], 'ro-', label='Chatterjee estimate')\n    ax[i][j].semilogx(sample_sizes, store_pick_freeze[k, :], 'bx-', label='Pick and Freeze estimate')\n    ax[i][j].hlines(true_values[k], 0, sample_sizes[-1], 'k', label='True indices')\n    ax[i][j].set_title(r'$S^' + str(k+1) + '$ = ' + str(np.round(true_values[k], 4)))\n\nplt.suptitle('Comparing convergence of the Chatterjee estimate and the Pick and Freeze approach')\nplt.legend()\nplt.show()"
      ]
    }
  ],
  "metadata": {
    "kernelspec": {
      "display_name": "Python 3",
      "language": "python",
      "name": "python3"
    },
    "language_info": {
      "codemirror_mode": {
        "name": "ipython",
        "version": 3
      },
      "file_extension": ".py",
      "mimetype": "text/x-python",
      "name": "python",
      "nbconvert_exporter": "python",
      "pygments_lexer": "ipython3",
      "version": "3.12.11"
    }
  },
  "nbformat": 4,
  "nbformat_minor": 0
}