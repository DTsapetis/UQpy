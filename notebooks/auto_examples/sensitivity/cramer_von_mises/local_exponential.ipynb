{
  "cells": [
    {
      "cell_type": "markdown",
      "metadata": {},
      "source": [
        "\n# Auxiliary file\n"
      ]
    },
    {
      "cell_type": "code",
      "execution_count": null,
      "metadata": {
        "collapsed": false
      },
      "outputs": [],
      "source": [
        "import numpy as np\n\n\ndef evaluate(X: np.array) -> np.array:\n    r\"\"\"A non-linear function that is used to demonstrate sensitivity index.\n\n    .. math::\n        f(x) = \\exp(x_1 + 2*x_2)\n    \"\"\"\n\n    Y = np.exp(X[:, 0] + 2 * X[:, 1])\n\n    return Y"
      ]
    }
  ],
  "metadata": {
    "kernelspec": {
      "display_name": "Python 3",
      "language": "python",
      "name": "python3"
    },
    "language_info": {
      "codemirror_mode": {
        "name": "ipython",
        "version": 3
      },
      "file_extension": ".py",
      "mimetype": "text/x-python",
      "name": "python",
      "nbconvert_exporter": "python",
      "pygments_lexer": "ipython3",
      "version": "3.12.11"
    }
  },
  "nbformat": 4,
  "nbformat_minor": 0
}