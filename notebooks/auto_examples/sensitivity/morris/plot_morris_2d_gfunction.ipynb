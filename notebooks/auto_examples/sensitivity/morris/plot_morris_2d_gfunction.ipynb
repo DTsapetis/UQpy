{
  "cells": [
    {
      "cell_type": "markdown",
      "metadata": {},
      "source": [
        "\n# 2-dimensional g-function\n"
      ]
    },
    {
      "cell_type": "markdown",
      "metadata": {},
      "source": [
        "Initially we have to import the necessary modules.\n\n"
      ]
    },
    {
      "cell_type": "code",
      "execution_count": null,
      "metadata": {
        "collapsed": false
      },
      "outputs": [],
      "source": [
        "import shutil\n\nfrom UQpy.run_model.model_execution.PythonModel import PythonModel\nfrom UQpy.run_model.RunModel import RunModel\nfrom UQpy.distributions import Uniform\nfrom UQpy.sensitivity import MorrisSensitivity\nimport numpy as np\nimport matplotlib.pyplot as plt"
      ]
    },
    {
      "cell_type": "markdown",
      "metadata": {},
      "source": [
        "Set-up problem with g-function.\n\n"
      ]
    },
    {
      "cell_type": "code",
      "execution_count": null,
      "metadata": {
        "collapsed": false
      },
      "outputs": [],
      "source": [
        "a_values = [0.001, 99.]\nna = len(a_values)\n\nmodel = PythonModel(model_script='local_pfn.py', model_object_name='gfun_sensitivity', delete_files=True,\n                    a_values=a_values, var_names=['X{}'.format(i) for i in range(na)])\nrunmodel_object = RunModel(model=model)\n\ndist_object = [Uniform(), ] * na"
      ]
    },
    {
      "cell_type": "markdown",
      "metadata": {},
      "source": [
        "First plot contour of the function, clearly X2 has little influence on the function compared to X1.\n\n"
      ]
    },
    {
      "cell_type": "code",
      "execution_count": null,
      "metadata": {
        "collapsed": false
      },
      "outputs": [],
      "source": [
        "x = np.arange(0, 1, 0.02)\ny = np.arange(0, 1, 0.02)\nxx, yy = np.meshgrid(x, y, sparse=False)\nrunmodel_object.run(samples=np.vstack([xx.reshape((-1,)), yy.reshape((-1,))]).T, append_samples=False)\nh = plt.contourf(x, y, np.array(runmodel_object.qoi_list).reshape(xx.shape))\nplt.xlabel('X1')\nplt.ylabel('X2')\nplt.show()\n\nsens = MorrisSensitivity(runmodel_object=runmodel_object,\n                         distributions=dist_object,\n                         n_levels=9)\nsens.run(n_trajectories=10)\n\nfig, ax = plt.subplots(figsize=(4, 4))\nfor trajectory in sens.trajectories_physical_space[:5]:\n    ax.plot(trajectory[:, 0], trajectory[:, 1], marker='x', linewidth=3)\nax.set_xlim([0, 1])\nax.set_ylim([0, 1])\nax.set_xticks(np.arange(0., 1. + 0.5 / (sens.n_levels - 1), 1. / (sens.n_levels - 1)), minor=True)\nax.set_xticks([0., 1.], minor=False)\nax.set_xticklabels([0., 1.])\nax.set_yticks(np.arange(0., 1. + 0.5 / (sens.n_levels - 1), 1. / (sens.n_levels - 1)), minor=True)\nax.set_yticks([0., 1.], minor=False)\nax.set_yticklabels([0., 1.])\nax.grid(True, which='both')\nax.set_xlabel(r'$X_{1}$', fontsize=14)\nax.set_ylabel(r'$X_{2}$', fontsize=14)\nplt.show()\n\nprint(['a{}={}'.format(i + 1, ai) for i, ai in enumerate(a_values)])\n\nfig, ax = plt.subplots()\nax.scatter(sens.mustar_indices, sens.sigma_indices)\nfor i, (mu, sig) in enumerate(zip(sens.mustar_indices, sens.sigma_indices)):\n    ax.text(x=mu + 0.01, y=sig + 0.01, s='X{}'.format(i + 1))\nax.set_xlabel(r'$\\mu^{\\star}$', fontsize=14)\nax.set_ylabel(r'$\\sigma$', fontsize=14)\nax.set_title('Morris sensitivity indices', fontsize=16)\nplt.show()"
      ]
    }
  ],
  "metadata": {
    "kernelspec": {
      "display_name": "Python 3",
      "language": "python",
      "name": "python3"
    },
    "language_info": {
      "codemirror_mode": {
        "name": "ipython",
        "version": 3
      },
      "file_extension": ".py",
      "mimetype": "text/x-python",
      "name": "python",
      "nbconvert_exporter": "python",
      "pygments_lexer": "ipython3",
      "version": "3.12.11"
    }
  },
  "nbformat": 4,
  "nbformat_minor": 0
}