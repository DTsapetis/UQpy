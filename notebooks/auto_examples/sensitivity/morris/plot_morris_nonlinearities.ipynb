{
  "cells": [
    {
      "cell_type": "markdown",
      "metadata": {},
      "source": [
        "\n# Function with nonlinearities / parameter dependencies\n\n\\begin{align}Y = h(X) = 0.01 X_{1} + 1.0 X_{2} + 0.4 X_{3}^{2} + X_{4} X_{5}\\end{align}\n\nranking of input parameters:\n\n- $X_{1}$ is non-influential\n- $X_{2}$ is influential, linear/additive effect (expect large $\\mu^{\\star}$ and small $\\sigma$)\n- $X_{3}$ is somewhat influential, nonlinear effect,\n- $X_{4}, X_{5}$ are influential with dependence\n"
      ]
    },
    {
      "cell_type": "markdown",
      "metadata": {},
      "source": [
        "Initially we have to import the necessary modules.\n\n"
      ]
    },
    {
      "cell_type": "code",
      "execution_count": null,
      "metadata": {
        "collapsed": false
      },
      "outputs": [],
      "source": [
        "import shutil\n\nfrom UQpy.run_model.RunModel import RunModel\nfrom UQpy.run_model.model_execution.PythonModel import PythonModel\nfrom UQpy.distributions import Uniform\nfrom UQpy.sensitivity import MorrisSensitivity\nimport matplotlib.pyplot as plt"
      ]
    },
    {
      "cell_type": "markdown",
      "metadata": {},
      "source": [
        "Set-up problem with g-function.\n\n"
      ]
    },
    {
      "cell_type": "code",
      "execution_count": null,
      "metadata": {
        "collapsed": false
      },
      "outputs": [],
      "source": [
        "model = PythonModel(model_script='local_pfn.py', model_object_name='fun2_sensitivity', delete_files=True,\n                    var_names=['X{}'.format(i) for i in range(5)])\nrunmodel_object = RunModel(model=model)\n\ndist_object = [Uniform(), ] * 5\n\n\nsens = MorrisSensitivity(runmodel_object=runmodel_object,\n                         distributions=dist_object,\n                         n_levels=20, maximize_dispersion=True)\nsens.run(n_trajectories=10)\n\n\nfig, ax = plt.subplots(figsize=(5, 3.5))\nax.scatter(sens.mustar_indices, sens.sigma_indices, s=60)\nfor i, (mu, sig) in enumerate(zip(sens.mustar_indices, sens.sigma_indices)):\n    ax.text(x=mu + 0.01, y=sig + 0.01, s='X{}'.format(i + 1), fontsize=14)\nax.set_xlabel(r'$\\mu^{\\star}$', fontsize=18)\nax.set_ylabel(r'$\\sigma$', fontsize=18)\n# ax.set_title('Morris sensitivity indices', fontsize=16)\nplt.show()"
      ]
    }
  ],
  "metadata": {
    "kernelspec": {
      "display_name": "Python 3",
      "language": "python",
      "name": "python3"
    },
    "language_info": {
      "codemirror_mode": {
        "name": "ipython",
        "version": 3
      },
      "file_extension": ".py",
      "mimetype": "text/x-python",
      "name": "python",
      "nbconvert_exporter": "python",
      "pygments_lexer": "ipython3",
      "version": "3.12.11"
    }
  },
  "nbformat": 4,
  "nbformat_minor": 0
}