{
  "cells": [
    {
      "cell_type": "markdown",
      "metadata": {},
      "source": [
        "\n# Auxiliary file\n"
      ]
    },
    {
      "cell_type": "code",
      "execution_count": null,
      "metadata": {
        "collapsed": false
      },
      "outputs": [],
      "source": [
        "import numpy as np\nimport sys\n\n\nclass RunPythonModel:\n\n    def __init__(self, samples=None, dimension=None):\n\n        self.samples = samples\n        self.dimension = dimension\n        self.qoi = [0]*self.samples.shape[0]\n\n        P = 750\n        for i in range(self.samples.shape[0]):\n            self.qoi[i] = 1800-np.maximum(self.samples[i,0],self.samples[i,1])-2*np.sqrt(2)/3*P\n\n\ndef gfun_sensitivity(samples, a_values):\n    gi_xi = [(np.abs(4. * Xi - 2) + ai) / (1. + ai) for Xi, ai in zip(np.array(samples).T, a_values)]\n    gfun = np.prod(np.array(gi_xi), axis=0)\n    return list(gfun)\n\n\ndef fun2_sensitivity(samples):\n    fun_vals = 0.01 * samples[:, 0] + 1. * samples[:, 1] + 0.4 * samples[:, 2] ** 2 + samples[:, 3] * samples[:, 4]\n    return list(fun_vals)"
      ]
    }
  ],
  "metadata": {
    "kernelspec": {
      "display_name": "Python 3",
      "language": "python",
      "name": "python3"
    },
    "language_info": {
      "codemirror_mode": {
        "name": "ipython",
        "version": 3
      },
      "file_extension": ".py",
      "mimetype": "text/x-python",
      "name": "python",
      "nbconvert_exporter": "python",
      "pygments_lexer": "ipython3",
      "version": "3.12.11"
    }
  },
  "nbformat": 4,
  "nbformat_minor": 0
}