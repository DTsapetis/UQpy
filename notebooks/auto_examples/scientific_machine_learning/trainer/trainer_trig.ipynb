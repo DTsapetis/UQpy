{
  "cells": [
    {
      "cell_type": "markdown",
      "metadata": {},
      "source": [
        "\n# Training a Neural Network\n\nThis example shows how to train a simple neural network using UQpy's Trainer class.\n"
      ]
    },
    {
      "cell_type": "markdown",
      "metadata": {},
      "source": [
        "First, we import the necessary modules and, optionally, set UQpy to print logs to the console.\n\n"
      ]
    },
    {
      "cell_type": "code",
      "execution_count": null,
      "metadata": {
        "collapsed": false
      },
      "outputs": [],
      "source": [
        "import logging\nimport torch\nimport torch.nn as nn\nfrom torch.utils.data import Dataset, DataLoader\nimport matplotlib.pyplot as plt\nimport UQpy.scientific_machine_learning as sml\n\ntorch.manual_seed(0)\n\n# logger = logging.getLogger(\"UQpy\")  # Optional, display UQpy logs to console\n# logger.setLevel(logging.INFO)"
      ]
    },
    {
      "cell_type": "markdown",
      "metadata": {},
      "source": [
        "Our neural network will approximate the function $f(x)=0.4 \\sin(4x) + 0.5 \\cos(12x) + \\epsilon$ over the domain\n$x \\in [-1, 1]$. $\\epsilon$ represents the noise in our measurement defined as the Gaussian random\nvariable $\\epsilon \\sim N(0, 0.05)$.\n\nBelow we define the dataset by subclassing :py:class:`torch.utils.data.Dataset`.\n\n"
      ]
    },
    {
      "cell_type": "code",
      "execution_count": null,
      "metadata": {
        "collapsed": false
      },
      "outputs": [],
      "source": [
        "class SinusoidalDataset(Dataset):\n    def __init__(self, n_samples=20, noise_std=0.05):\n        self.n_samples = n_samples\n        self.noise_std = noise_std\n        self.x = torch.linspace(-1, 1, n_samples).reshape(-1, 1)\n        self.y = 0.4 * torch.sin(4 * self.x) + 0.5 * torch.cos(12 * self.x)\n        epsilon = torch.normal(torch.zeros_like(self.x), self.noise_std)\n        self.y += epsilon\n\n    def __len__(self):\n        return self.n_samples\n\n    def __getitem__(self, item):\n        return self.x[item], self.y[item]"
      ]
    },
    {
      "cell_type": "markdown",
      "metadata": {},
      "source": [
        "Next, we define our model architecture using :py:class:`torch.nn.Sequential` and train the model.\nThe model is trained using Pytorch's gradient descent algorithms passed to :py:class:`Trainer`.\nWe include a scheduler to control the learning rate.\n\n"
      ]
    },
    {
      "cell_type": "code",
      "execution_count": null,
      "metadata": {
        "collapsed": false
      },
      "outputs": [],
      "source": [
        "width = 30\nnetwork = nn.Sequential(\n    nn.Linear(1, width),\n    nn.ReLU(),\n    nn.Linear(width, width),\n    nn.ReLU(),\n    nn.Linear(width, width),\n    nn.ReLU(),\n    nn.Linear(width, 1),\n)\nmodel = sml.FeedForwardNeuralNetwork(network)\n\ndataset = SinusoidalDataset()\ntrain_data = DataLoader(dataset, batch_size=20, shuffle=False)\noptimizer = torch.optim.Adam(model.parameters(), lr=1e-3)\nscheduler = torch.optim.lr_scheduler.StepLR(optimizer, step_size=1_000)\ntrainer = sml.Trainer(model, optimizer, scheduler=scheduler)\nprint(\"Starting Training...\", end=\"\")\ntrainer.run(train_data=train_data, epochs=5_000)\nprint(\"done\")"
      ]
    },
    {
      "cell_type": "markdown",
      "metadata": {},
      "source": [
        "That's the hard part done! We defined our dataset, our model, and then fit the model to the data.\nThe rest of this example plots the model prediction and exact solution for comparison.\n\n"
      ]
    },
    {
      "cell_type": "code",
      "execution_count": null,
      "metadata": {
        "collapsed": false
      },
      "outputs": [],
      "source": [
        "# Plot training history\nfig, ax = plt.subplots()\nax.semilogy(trainer.history[\"train_loss\"])\nax.set_title(\"Bayes By Backpropagation Training Loss\")\nax.set(xlabel=\"Epoch\", ylabel=\"Loss\")\n\n# Get x and y data for plotting\nx_noisy = dataset.x\ny_noisy = dataset.y\nx_exact = torch.linspace(-1, 1, 1000).reshape(-1, 1)\ny_exact = 0.4 * torch.sin(4 * x_exact) + 0.5 * torch.cos(12 * x_exact)\n\n# compute prediction from model\nmodel.eval()\nwith torch.no_grad():\n    prediction = model(x_exact)\n\n# Plot model predictions\n\nfig, ax = plt.subplots()\nax.scatter(x_noisy, y_noisy, label=\"Training Data\", color=\"black\")\nax.plot(\n    x_exact,\n    y_exact,\n    label=\"Exact\",\n    color=\"black\",\n    linestyle=\"dashed\",\n)\nax.plot(x_exact, prediction, label=\"Model $\\mu$\", color=\"tab:blue\")\nax.set_title(\"Neural Network Predictions\")\nax.set(xlabel=\"x\", ylabel=\"f(x)\")\nax.legend()\n\nplt.show()"
      ]
    }
  ],
  "metadata": {
    "kernelspec": {
      "display_name": "Python 3",
      "language": "python",
      "name": "python3"
    },
    "language_info": {
      "codemirror_mode": {
        "name": "ipython",
        "version": 3
      },
      "file_extension": ".py",
      "mimetype": "text/x-python",
      "name": "python",
      "nbconvert_exporter": "python",
      "pygments_lexer": "ipython3",
      "version": "3.12.11"
    }
  },
  "nbformat": 4,
  "nbformat_minor": 0
}