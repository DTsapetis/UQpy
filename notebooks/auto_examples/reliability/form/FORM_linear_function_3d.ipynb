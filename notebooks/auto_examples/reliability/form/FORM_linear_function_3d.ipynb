{
  "cells": [
    {
      "cell_type": "markdown",
      "metadata": {},
      "source": [
        "\n# 2. FORM - Linear function - Three Random variables\n"
      ]
    },
    {
      "cell_type": "markdown",
      "metadata": {},
      "source": [
        "In the third example we have the limit state to be a linear function of three ($d=3$) independent Gaussian\nrandom variables\n\n\\begin{align}g(X_1, X_2, X_3) = 6.2X_1 -X_2X_3^2\\end{align}\n\n\\begin{align}\\mu_{X_1}=20, \\mu_{X_2}=5, \\mu_{X_3}=4\\end{align}\n\n\\begin{align}\\sigma_{X_1}=3.5, \\sigma_{X_2}=0.8, \\sigma_{X_3}=0.4\\end{align}\n\nThe probability of failure in this case is $P_f \u2248 0.079$ for $\\beta = 1.413$\n\n"
      ]
    },
    {
      "cell_type": "markdown",
      "metadata": {},
      "source": [
        "Initially we have to import the necessary modules.\n\n"
      ]
    },
    {
      "cell_type": "code",
      "execution_count": null,
      "metadata": {
        "collapsed": false
      },
      "outputs": [],
      "source": [
        "from UQpy.run_model.RunModel import RunModel\nfrom UQpy.run_model.model_execution.PythonModel import PythonModel\nfrom UQpy.distributions import Normal\nfrom UQpy.reliability import FORM\n\ndist1 = Normal(loc=20., scale=3.5)\ndist2 = Normal(loc=5., scale=0.8)\ndist3 = Normal(loc=4., scale=0.4)\n\nmodel = PythonModel(model_script='local_pfn.py', model_object_name=\"example3\",)\nrun_model = RunModel(model=model)\n\nform = FORM(distributions=[dist1, dist2, dist3], runmodel_object=run_model)\nform.run()\n\nprint('Design point in standard normal space: %s' % form.design_point_u)\nprint('Design point in original space: %s' % form.design_point_x)\nprint('Hasofer-Lind reliability index: %s' % form.beta)\nprint('FORM probability of failure: %s' % form.failure_probability)"
      ]
    }
  ],
  "metadata": {
    "kernelspec": {
      "display_name": "Python 3",
      "language": "python",
      "name": "python3"
    },
    "language_info": {
      "codemirror_mode": {
        "name": "ipython",
        "version": 3
      },
      "file_extension": ".py",
      "mimetype": "text/x-python",
      "name": "python",
      "nbconvert_exporter": "python",
      "pygments_lexer": "ipython3",
      "version": "3.12.11"
    }
  },
  "nbformat": 4,
  "nbformat_minor": 0
}