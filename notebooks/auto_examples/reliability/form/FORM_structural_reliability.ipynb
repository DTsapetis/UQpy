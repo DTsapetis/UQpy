{
  "cells": [
    {
      "cell_type": "markdown",
      "metadata": {},
      "source": [
        "\n# 3. FORM - Structural Reliability\n\nThe benchmark problem is a simple structural reliability problem (example 7.1 in :cite:`FORM_XDu`)\ndefined in a two-dimensional parameter space consisting of a resistance $R$ and a stress $S$. The failure\nhappens when the stress is higher than the resistance, leading to the following limit-state function:\n\n\\begin{align}\\textbf{X}=\\{R, S\\}\\end{align}\n\n\\begin{align}g(\\textbf{X}) = R - S\\end{align}\n\nThe two random variables are independent  and  distributed\naccording to:\n\n\\begin{align}R \\sim N(200, 20)\\end{align}\n\n\\begin{align}S \\sim N(150, 10)\\end{align}\n"
      ]
    },
    {
      "cell_type": "markdown",
      "metadata": {},
      "source": [
        "Initially we have to import the necessary modules.\n\n"
      ]
    },
    {
      "cell_type": "code",
      "execution_count": null,
      "metadata": {
        "collapsed": false
      },
      "outputs": [],
      "source": [
        "import numpy as np\nimport matplotlib.pyplot as plt\nplt.style.use('ggplot')\nfrom UQpy.distributions import Normal\nfrom UQpy.reliability import FORM\nfrom UQpy.run_model.RunModel import RunModel\nfrom UQpy.run_model.model_execution.PythonModel import PythonModel"
      ]
    },
    {
      "cell_type": "markdown",
      "metadata": {},
      "source": [
        "Next, we initialize the :code:`RunModel` object.\nThe [local_pfn.py](https://github.com/SURGroup/UQpy/tree/master/docs/code/reliability/sorm) file can be found on\nthe UQpy GitHub. It contains a simple function :code:`example1` to compute the difference between the resistence and the\nstress.\n\n"
      ]
    },
    {
      "cell_type": "code",
      "execution_count": null,
      "metadata": {
        "collapsed": false
      },
      "outputs": [],
      "source": [
        "model = PythonModel(model_script='local_pfn.py', model_object_name=\"example1\")\nrunmodel_object = RunModel(model=model)"
      ]
    },
    {
      "cell_type": "markdown",
      "metadata": {},
      "source": [
        "Now we can define the resistence and stress distributions that will be passed into :code:`FORM`.\nAlong with the distributions, :code:`FORM` takes in the previously defined :code:`runmodel_object` and tolerances\nfor convergences. Since :code:`tolerance_gradient` is not specified in this example, it is not considered.\n\n"
      ]
    },
    {
      "cell_type": "code",
      "execution_count": null,
      "metadata": {
        "collapsed": false
      },
      "outputs": [],
      "source": [
        "distribution_resistance = Normal(loc=200., scale=20.)\ndistribution_stress = Normal(loc=150., scale=10.)\nform = FORM(distributions=[distribution_resistance, distribution_stress], runmodel_object=runmodel_object,\n            tolerance_u=1e-5, tolerance_beta=1e-5)"
      ]
    },
    {
      "cell_type": "markdown",
      "metadata": {},
      "source": [
        "With everything defined we are ready to run the first-order reliability method and print the results.\nThe analytic solution to this problem is $\\textbf{u}^*=(-2, 1)$ with a reliability index of\n$\\beta_{HL}=2.2361$ and a probability of failure $P_{f, \\text{form}} = \\Phi(-\\beta_{HL}) = 0.0127$\n\n"
      ]
    },
    {
      "cell_type": "code",
      "execution_count": null,
      "metadata": {
        "collapsed": false
      },
      "outputs": [],
      "source": [
        "form.run()\nprint('Design point in standard normal space:', form.design_point_u)\nprint('Design point in original space:', form.design_point_x)\nprint('Hasofer-Lind reliability index:', form.beta)\nprint('FORM probability of failure:', form.failure_probability)\nprint('FORM record of the function gradient:', form.state_function_gradient_record)"
      ]
    },
    {
      "cell_type": "markdown",
      "metadata": {},
      "source": [
        "This problem can be visualized in the following plots that show the FORM results in both $\\textbf{X}$ and\n$\\textbf{U}$ space.\n\n"
      ]
    },
    {
      "cell_type": "code",
      "execution_count": null,
      "metadata": {
        "collapsed": false
      },
      "outputs": [],
      "source": [
        "def multivariate_gaussian(pos, mu, sigma):\n    \"\"\"Supporting function\"\"\"\n    n = mu.shape[0]\n    sigma_det = np.linalg.det(sigma)\n    sigma_inv = np.linalg.inv(sigma)\n    N = np.sqrt((2 * np.pi) ** n * sigma_det)\n    fac = np.einsum('...k,kl,...l->...', pos - mu, sigma_inv, pos - mu)\n    return np.exp(-fac / 2) / N\n\n\nN = 60\nXX = np.linspace(150, 250, N)\nYX = np.linspace(120, 180, N)\nXX, YX = np.meshgrid(XX, YX)\n\nXU = np.linspace(-3, 3, N)\nYU = np.linspace(-3, 3, N)\nXU, YU = np.meshgrid(XU, YU)"
      ]
    },
    {
      "cell_type": "markdown",
      "metadata": {},
      "source": [
        "Define the mean vector and covariance matrix in the original $\\textbf{X}$ space and the standard normal\n$\\textbf{U}$ space.\n\n"
      ]
    },
    {
      "cell_type": "code",
      "execution_count": null,
      "metadata": {
        "collapsed": false
      },
      "outputs": [],
      "source": [
        "mu_X = np.array([distribution_resistance.parameters['loc'], distribution_stress.parameters['loc']])\nsigma_X = np.array([[distribution_resistance.parameters['scale']**2, 0],\n                    [0, distribution_stress.parameters['scale']**2]])\n\nmu_U = np.array([0, 0])\nsigma_U = np.array([[1, 0],\n                    [0, 1]])\n\n# Pack X and Y into a single 3-dimensional array for the original space\nposX = np.empty(XX.shape + (2,))\nposX[:, :, 0] = XX\nposX[:, :, 1] = YX\nZX = multivariate_gaussian(posX, mu_X, sigma_X)\n\n# Pack X and Y into a single 3-dimensional array for the standard normal space\nposU = np.empty(XU.shape + (2,))\nposU[:, :, 0] = XU\nposU[:, :, 1] = YU\nZU = multivariate_gaussian(posU, mu_U, sigma_U)"
      ]
    },
    {
      "cell_type": "markdown",
      "metadata": {},
      "source": [
        "Plot the :code:`FORM` solution in the original $\\textbf{X}$ space and the standard normal $\\text{U}$\nspace.\n\n"
      ]
    },
    {
      "cell_type": "code",
      "execution_count": null,
      "metadata": {
        "collapsed": false
      },
      "outputs": [],
      "source": [
        "fig, ax = plt.subplots()\nax.contour(XX, YX, ZX,\n           levels=20)\nax.plot([0, 200], [0, 200],\n        color='black', linewidth=2, label='$G(R,S)=R-S=0$', zorder=1)\nax.scatter(mu_X[0], mu_X[1],\n           color='black', s=64, label='Mean $(\\mu_R, \\mu_S)$')\nax.scatter(form.design_point_x[0][0], form.design_point_x[0][1],\n           color='tab:orange', marker='*', s=100, label='Design Point', zorder=2)\nax.set(xlabel='Resistence $R$', ylabel='Stress $S$', xlim=(145, 255), ylim=(115, 185))\nax.set_title('Original $X$ Space ')\nax.set_aspect('equal')\nax.legend(loc='lower right')\n\nfig, ax = plt.subplots()\nax.contour(XU, YU, ZU,\n           levels=20, zorder=1)\nax.plot([0, -3], [5, -1],\n        color='black', linewidth=2, label='$G(U_1, U_2)=0$', zorder=2)\nax.arrow(0, 0, form.design_point_u[0][0], form.design_point_u[0][1],\n         color='tab:blue', length_includes_head=True, width=0.05, label='$\\\\beta=||u^*||$', zorder=2)\nax.scatter(form.design_point_u[0][0], form.design_point_u[0][1],\n           color='tab:orange', marker='*', s=100, label='Design Point $u^*$', zorder=2)\nax.set(xlabel='$U_1$', ylabel='$U_2$', xlim=(-3, 3), ylim=(-3, 3))\nax.set_aspect('equal')\nax.set_title('Standard Normal $U$ Space')\nax.legend(loc='lower right')\n\nplt.show()"
      ]
    }
  ],
  "metadata": {
    "kernelspec": {
      "display_name": "Python 3",
      "language": "python",
      "name": "python3"
    },
    "language_info": {
      "codemirror_mode": {
        "name": "ipython",
        "version": 3
      },
      "file_extension": ".py",
      "mimetype": "text/x-python",
      "name": "python",
      "nbconvert_exporter": "python",
      "pygments_lexer": "ipython3",
      "version": "3.12.11"
    }
  },
  "nbformat": 4,
  "nbformat_minor": 0
}