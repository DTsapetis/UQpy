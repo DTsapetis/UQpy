{
  "cells": [
    {
      "cell_type": "markdown",
      "metadata": {},
      "source": [
        "\n# Inverse FORM - Cantilever Beam\nThe following example is Example 7.2 from Chapter 7 of :cite:`FORM_XDu`.\n\nA cantilever beam is considered to fail if the displacement at the tip exceeds the threshold $D_0$.\nThe performance function $G(\\textbf{U})$ of this problem is given by\n\n\\begin{align}G = D_0 - \\frac{4L^3}{Ewt} \\sqrt{ \\left(\\frac{P_x}{w^2}\\right)^2 + \\left(\\frac{P_y}{t^2}\\right)^2}\\end{align}\n\nWhere the external forces are modeled as random variables $P_x \\sim N(500, 100)$ and $P_y \\sim N(1000,100)$.\nThe constants in the problem are length ($L=100$), elastic modulus ($E=30\\times 10^6$), cross section width\n($w=2$), cross section height ($t=4$), and $D_0=3$.\n"
      ]
    },
    {
      "cell_type": "markdown",
      "metadata": {},
      "source": [
        "First, we import the necessary modules.\n\n"
      ]
    },
    {
      "cell_type": "code",
      "execution_count": null,
      "metadata": {
        "collapsed": false
      },
      "outputs": [],
      "source": [
        "import numpy as np\nfrom scipy import stats\nfrom UQpy.distributions import Normal\nfrom UQpy.reliability.taylor_series import InverseFORM\nfrom UQpy.run_model.RunModel import RunModel\nfrom UQpy.run_model.model_execution.PythonModel import PythonModel"
      ]
    },
    {
      "cell_type": "markdown",
      "metadata": {},
      "source": [
        "Next, we initialize the :code:`RunModel` object.\nThe file defining the performance function file can be found on the UQpy GitHub.\nIt contains a function :code:`cantilever_beam` to compute the performance function $G(\\textbf{U})$.\n\n"
      ]
    },
    {
      "cell_type": "code",
      "execution_count": null,
      "metadata": {
        "collapsed": false
      },
      "outputs": [],
      "source": [
        "model = PythonModel(model_script='local_pfn.py', model_object_name=\"cantilever_beam\")\nrunmodel_object = RunModel(model=model)"
      ]
    },
    {
      "cell_type": "markdown",
      "metadata": {},
      "source": [
        "Next, we define the external forces in the $x$ and $y$ direction as distributions that will be passed into\n:code:`FORM`. Along with the distributions, :code:`FORM` takes in the previously defined :code:`runmodel_object`,\nthe specified probability of failure, and the tolerances. These tolerances are smaller than the defaults to ensure\nconvergence with the level of accuracy given in the problem.\n\n"
      ]
    },
    {
      "cell_type": "code",
      "execution_count": null,
      "metadata": {
        "collapsed": false
      },
      "outputs": [],
      "source": [
        "p_fail = 0.04054\ndistributions = [Normal(500, 100), Normal(1_000, 100)]\ninverse_form = InverseFORM(distributions=distributions,\n                           runmodel_object=runmodel_object,\n                           p_fail=p_fail,\n                           tolerance_u=1e-5,\n                           tolerance_gradient=1e-5)"
      ]
    },
    {
      "cell_type": "markdown",
      "metadata": {},
      "source": [
        "With everything defined we are ready to run the inverse first-order reliability method and print the results.\nThe solution to this problem given by Du is $\\textbf{U}^*=(1.7367, 0.16376)$ with a reliability index of\n$\\beta_{HL}=||\\textbf{U}^*||=1.7444$ and probability of failure of\n$p_{fail} = \\Phi(-\\beta_{HL})=0.04054$. We expect this problem to converge in 4 iterations.\nWe confirm our design point matches this length, and therefore has a probability of failure specified by our input.\n\n"
      ]
    },
    {
      "cell_type": "code",
      "execution_count": null,
      "metadata": {
        "collapsed": false
      },
      "outputs": [],
      "source": [
        "inverse_form.run()\nbeta = np.linalg.norm(inverse_form.design_point_u)\nprint('Design point in standard normal space (u^*):', inverse_form.design_point_u[0])\nprint('Design point in original space:', inverse_form.design_point_x[0])\nprint('Hasofer-Lind reliability index:', beta)\nprint('Probability of failure at design point:', stats.norm.cdf(-beta))\nprint('Number of iterations:', inverse_form.iteration_record[0])"
      ]
    }
  ],
  "metadata": {
    "kernelspec": {
      "display_name": "Python 3",
      "language": "python",
      "name": "python3"
    },
    "language_info": {
      "codemirror_mode": {
        "name": "ipython",
        "version": 3
      },
      "file_extension": ".py",
      "mimetype": "text/x-python",
      "name": "python",
      "nbconvert_exporter": "python",
      "pygments_lexer": "ipython3",
      "version": "3.12.11"
    }
  },
  "nbformat": 4,
  "nbformat_minor": 0
}