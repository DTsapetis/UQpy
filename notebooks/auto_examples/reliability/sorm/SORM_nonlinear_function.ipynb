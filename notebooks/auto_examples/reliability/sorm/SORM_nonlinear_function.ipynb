{
  "cells": [
    {
      "cell_type": "markdown",
      "metadata": {},
      "source": [
        "\n# 4. SORM - Nonlinear function - Two Random variables\n\nIn the fourth example we have the limit state to be a nonlinear function of two ($d=2$) random variables\n\n\\begin{align}g(X_1, X_2) = X_1X_1 - 80\\end{align}\n\nwhere $X_1$ follows a normal distribution with mean $\\mu_{X_1}=20$ and standard deviation\n$\\sigma_{X_1}=7$ and $X_2$ follows a lognormal distribution with mean $\\mu_{X_2}=7$ and\nstandard deviation $\\sigma_{X_2}=1.4$.\n"
      ]
    },
    {
      "cell_type": "markdown",
      "metadata": {},
      "source": [
        "Initially we have to import the necessary modules.\n\n"
      ]
    },
    {
      "cell_type": "code",
      "execution_count": null,
      "metadata": {
        "collapsed": false
      },
      "outputs": [],
      "source": [
        "import numpy as np\nfrom UQpy.run_model.RunModel import RunModel\nfrom UQpy.run_model.model_execution.PythonModel import PythonModel\nfrom UQpy.distributions import Normal\nfrom UQpy.reliability import FORM\nfrom UQpy.reliability import SORM\nfrom UQpy.distributions import Lognormal\n\nm0 = 7\nv0 = 1.4\nmu = np.log(m0) - np.log(np.sqrt(1 + (v0 / m0) ** 2))\nscale = np.exp(mu)\ns = np.sqrt(np.log(1 + (v0 / m0) ** 2))\nloc_ = 0.0\n\ndist1 = Normal(loc=20., scale=2)\ndist2 = Lognormal(s=s, loc=0.0, scale=scale)\nmodel = PythonModel(model_script='local_model4.py', model_object_name=\"example4\")\nRunModelObject4 = RunModel(model=model)\nform = FORM(distributions=[dist1, dist2], runmodel_object=RunModelObject4)\nform.run()\nsorm = SORM(form_object=form)\n\n\n# print results\nprint('SORM probability of failure: %s' % sorm.failure_probability)"
      ]
    }
  ],
  "metadata": {
    "kernelspec": {
      "display_name": "Python 3",
      "language": "python",
      "name": "python3"
    },
    "language_info": {
      "codemirror_mode": {
        "name": "ipython",
        "version": 3
      },
      "file_extension": ".py",
      "mimetype": "text/x-python",
      "name": "python",
      "nbconvert_exporter": "python",
      "pygments_lexer": "ipython3",
      "version": "3.12.11"
    }
  },
  "nbformat": 4,
  "nbformat_minor": 0
}