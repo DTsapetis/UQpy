{
  "cells": [
    {
      "cell_type": "markdown",
      "metadata": {},
      "source": [
        "\n# Exponential function (3 random inputs, scalar output)\n\nIn this example, PCE is used to generate a surrogate model for a given set of 3D data.\n\n## Dette & Pepelyshev exponential function\n\n\\begin{align}f(x) = 100(\\exp{(-2/x_1^{1.75})} + \\exp{(-2/x_2^{1.5})} + \\exp{(-2/x_3^{1.25})})\\end{align}\n\n**Description:**  Dimensions: 3\n\n**Input Domain:**  This function is evaluated on the hypercube $x_i \\in [0,1]$ for all $i = 1,2,3$.\n\n**Reference:**  Dette, H., & Pepelyshev, A. (2010). Generalized Latin hypercube design for computer experiments. Technometrics, 52(4).\n"
      ]
    },
    {
      "cell_type": "markdown",
      "metadata": {},
      "source": [
        "Import necessary libraries.\n\n"
      ]
    },
    {
      "cell_type": "code",
      "execution_count": null,
      "metadata": {
        "collapsed": false
      },
      "outputs": [],
      "source": [
        "import math\nimport numpy as np\nimport matplotlib.pyplot as plt\nfrom UQpy.distributions import Uniform, JointIndependent\nfrom UQpy.surrogates import *"
      ]
    },
    {
      "cell_type": "markdown",
      "metadata": {},
      "source": [
        "Define the function.\n\n"
      ]
    },
    {
      "cell_type": "code",
      "execution_count": null,
      "metadata": {
        "collapsed": false
      },
      "outputs": [],
      "source": [
        "def function(x):\n    return 100*(np.exp(-2/(x[:,0]**1.75)) + np.exp(-2/(x[:,1]**1.5)) + np.exp(-2/(x[:,2]**1.25)))"
      ]
    },
    {
      "cell_type": "markdown",
      "metadata": {},
      "source": [
        "Define the input probability distributions.\n\n"
      ]
    },
    {
      "cell_type": "code",
      "execution_count": null,
      "metadata": {
        "collapsed": false
      },
      "outputs": [],
      "source": [
        "# input distributions\ndist = Uniform(loc=0, scale=1)\nmarg = [dist]*3\njoint = JointIndependent(marginals=marg)"
      ]
    },
    {
      "cell_type": "markdown",
      "metadata": {},
      "source": [
        "Compute reference mean and variance values using Monte Carlo sampling.\n\n"
      ]
    },
    {
      "cell_type": "code",
      "execution_count": null,
      "metadata": {
        "collapsed": false
      },
      "outputs": [],
      "source": [
        "# reference moments via Monte Carlo Sampling\nn_samples_mc = 1000000\nxx = joint.rvs(n_samples_mc)\nyy = function(xx)\nmean_ref = yy.mean()\nvar_ref = yy.var()"
      ]
    },
    {
      "cell_type": "markdown",
      "metadata": {},
      "source": [
        "Create validation data sets, to be used later to estimate the accuracy of the PCE.\n\n"
      ]
    },
    {
      "cell_type": "code",
      "execution_count": null,
      "metadata": {
        "collapsed": false
      },
      "outputs": [],
      "source": [
        "# validation data sets\nn_samples_val = 1000\nxx_val = joint.rvs(n_samples_val)\nyy_val = function(xx_val)"
      ]
    },
    {
      "cell_type": "markdown",
      "metadata": {},
      "source": [
        "Assess the PCE in terms of approximation and moment estimation accuracy, for increasing maximum polynomial degree.\n\n"
      ]
    },
    {
      "cell_type": "code",
      "execution_count": null,
      "metadata": {
        "collapsed": false
      },
      "outputs": [],
      "source": [
        "# construct PCE surrogate models\nl2_err = []\nmean_err = []\nvar_err = []\nfor max_degree in range(1, 10):\n    print(' ')\n\n    # PCE basis\n    print('Total degree: ', max_degree)\n    polynomial_basis = TotalDegreeBasis(joint, max_degree)\n    print('Size of basis:', polynomial_basis.polynomials_number)\n\n    # generate training data\n    sampling_coeff = 5\n    print('Sampling coefficient: ', sampling_coeff)\n    np.random.seed(42)\n    n_samples = math.ceil(sampling_coeff * polynomial_basis.polynomials_number)\n    print('Training data: ', n_samples)\n    xx_train = joint.rvs(n_samples)\n    yy_train = function(xx_train)\n\n    # fit model\n    least_squares = LeastSquareRegression()\n    pce_metamodel = PolynomialChaosExpansion(polynomial_basis=polynomial_basis, regression_method=least_squares)\n    pce_metamodel.fit(xx_train, yy_train)\n\n    # validation errors\n    yy_val_pce = pce_metamodel.predict(xx_val)\n    errors = np.abs(yy_val - yy_val_pce.flatten())\n    error_l2 = np.linalg.norm(errors)\n    l2_err.append(error_l2)\n    print('Validation error in the l2 norm:', error_l2)\n\n    # moment errors\n    pce_moments = pce_metamodel.get_moments()\n    mean_pce = pce_moments[0]\n    var_pce = pce_moments[1]\n    mean_err.append(np.abs((mean_pce - mean_ref) / mean_ref))\n    var_err.append(np.abs((var_pce - var_ref) / var_ref))\n    print('Relative error in the mean:', mean_err[-1])\n    print('Relative error in the variance:', var_err[-1])"
      ]
    }
  ],
  "metadata": {
    "kernelspec": {
      "display_name": "Python 3",
      "language": "python",
      "name": "python3"
    },
    "language_info": {
      "codemirror_mode": {
        "name": "ipython",
        "version": 3
      },
      "file_extension": ".py",
      "mimetype": "text/x-python",
      "name": "python",
      "nbconvert_exporter": "python",
      "pygments_lexer": "ipython3",
      "version": "3.12.11"
    }
  },
  "nbformat": 4,
  "nbformat_minor": 0
}