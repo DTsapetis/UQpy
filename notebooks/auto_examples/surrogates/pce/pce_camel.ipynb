{
  "cells": [
    {
      "cell_type": "markdown",
      "metadata": {},
      "source": [
        "\n# Camel function (3 random inputs, scalar output)\n\nIn this example, PCE is used to generate a surrogate model for a given set of 2D data.\n\nSix-hump camel function\n\n\\begin{align}f(x) = \\Big(4-2.1x_1^2 + \frac{x_1^4}{3} \\Big)x_1^2 + x_1x_2 + (-4 + 4x_2^2)x_2^2\\end{align}\n\n\n**Description:**  Dimensions: 2\n\n**Input Domain:**  This function is evaluated on the hypercube $x_1 \\in [-3, 3], x_2 \\in [-2, 2]$.\n\n**Global minimum:** $f(x^*)=-1.0316,$ at $x^* = (0.0898, -0.7126)$ and $(-0.0898, 0.7126)$.\n\n**Reference:**  Molga, M., & Smutnicki, C. Test functions for optimization needs (2005). Retrieved June 2013, from http://www.zsd.ict.pwr.wroc.pl/files/docs/functions.pdf.\n"
      ]
    },
    {
      "cell_type": "markdown",
      "metadata": {},
      "source": [
        "Import necessary libraries.\n\n"
      ]
    },
    {
      "cell_type": "code",
      "execution_count": null,
      "metadata": {
        "collapsed": false
      },
      "outputs": [],
      "source": [
        "import numpy as np\nimport matplotlib.pyplot as plt\nfrom mpl_toolkits.mplot3d import Axes3D\nfrom matplotlib import cm\nfrom UQpy.distributions import Uniform, JointIndependent\nfrom matplotlib.ticker import LinearLocator, FormatStrFormatter\nfrom UQpy.surrogates import *"
      ]
    },
    {
      "cell_type": "markdown",
      "metadata": {},
      "source": [
        "Define the function.\n\n"
      ]
    },
    {
      "cell_type": "code",
      "execution_count": null,
      "metadata": {
        "collapsed": false
      },
      "outputs": [],
      "source": [
        "def function(x, y):\n    return (4 - 2.1 * x ** 2 + x ** 4 / 3) * x ** 2 + x * y + (-4 + 4 * y ** 2) * y ** 2"
      ]
    },
    {
      "cell_type": "markdown",
      "metadata": {},
      "source": [
        "Create a distribution object, generate samples and evaluate the function at the samples.\n\n"
      ]
    },
    {
      "cell_type": "code",
      "execution_count": null,
      "metadata": {
        "collapsed": false
      },
      "outputs": [],
      "source": [
        "np.random.seed(1)\n\ndist_1 = Uniform(loc=-2, scale=4)\ndist_2 = Uniform(loc=-1, scale=2)\n\nmarg = [dist_1, dist_2]\njoint = JointIndependent(marginals=marg)\n\nn_samples = 250\nx = joint.rvs(n_samples)\ny = function(x[:, 0], x[:, 1])"
      ]
    },
    {
      "cell_type": "markdown",
      "metadata": {},
      "source": [
        "Visualize the 2D function.\n\n"
      ]
    },
    {
      "cell_type": "code",
      "execution_count": null,
      "metadata": {
        "collapsed": false
      },
      "outputs": [],
      "source": [
        "xmin, xmax = -2, 2\nymin, ymax = -1, 1\nX1 = np.linspace(xmin, xmax, 50)\nX2 = np.linspace(ymin, ymax, 50)\nX1_, X2_ = np.meshgrid(X1, X2)  # grid of points\nf = function(X1_, X2_)\n\nfig = plt.figure(figsize=(10, 6))\nax = fig.add_subplot(projection='3d')\nsurf = ax.plot_surface(X1_, X2_, f, rstride=1, cstride=1, cmap='gnuplot2', linewidth=0, antialiased=False)\nax.set_title('True function')\nax.set_xlabel('$x_1$', fontsize=15)\nax.set_ylabel('$x_2$', fontsize=15)\nax.zaxis.set_major_locator(LinearLocator(10))\nax.zaxis.set_major_formatter(FormatStrFormatter('%.02f'))\nax.view_init(20, 50)\nfig.colorbar(surf, shrink=0.5, aspect=7)\n\nplt.show()"
      ]
    },
    {
      "cell_type": "markdown",
      "metadata": {},
      "source": [
        "Visualize training data.\n\n"
      ]
    },
    {
      "cell_type": "code",
      "execution_count": null,
      "metadata": {
        "collapsed": false
      },
      "outputs": [],
      "source": [
        "fig = plt.figure(figsize=(10, 6))\nax = fig.add_subplot(projection='3d')\nax.scatter(x[:, 0], x[:, 1], y, s=20, c='r')\n\nax.set_title('Training data')\nax.zaxis.set_major_locator(LinearLocator(10))\nax.zaxis.set_major_formatter(FormatStrFormatter('%.02f'))\nax.view_init(20, 50)\nax.set_xlabel('$x_1$', fontsize=15)\nax.set_ylabel('$x_2$', fontsize=15)\nplt.show()"
      ]
    },
    {
      "cell_type": "markdown",
      "metadata": {},
      "source": [
        "Visualize training data.\n\n"
      ]
    },
    {
      "cell_type": "code",
      "execution_count": null,
      "metadata": {
        "collapsed": false
      },
      "outputs": [],
      "source": [
        "max_degree = 6"
      ]
    },
    {
      "cell_type": "markdown",
      "metadata": {},
      "source": [
        "Compute a PCE using least squares regression.\n\n"
      ]
    },
    {
      "cell_type": "code",
      "execution_count": null,
      "metadata": {
        "collapsed": false
      },
      "outputs": [],
      "source": [
        "polynomial_basis = TotalDegreeBasis(joint, max_degree)\nleast_squares = LeastSquareRegression()\npce = PolynomialChaosExpansion(polynomial_basis=polynomial_basis, regression_method=least_squares)\n\npce.fit(x,y)"
      ]
    },
    {
      "cell_type": "markdown",
      "metadata": {},
      "source": [
        "Compute PCE using LASSO regression.\n\n"
      ]
    },
    {
      "cell_type": "code",
      "execution_count": null,
      "metadata": {
        "collapsed": false
      },
      "outputs": [],
      "source": [
        "polynomial_basis = TotalDegreeBasis(joint, max_degree)\nlasso = LassoRegression()\npce2 = PolynomialChaosExpansion(polynomial_basis=polynomial_basis, regression_method=lasso)\n\npce2.fit(x,y)"
      ]
    },
    {
      "cell_type": "markdown",
      "metadata": {},
      "source": [
        "Compute PCE using Ridge regression.\n\n"
      ]
    },
    {
      "cell_type": "code",
      "execution_count": null,
      "metadata": {
        "collapsed": false
      },
      "outputs": [],
      "source": [
        "polynomial_basis = TotalDegreeBasis(joint, max_degree)\nridge = RidgeRegression()\npce3 = PolynomialChaosExpansion(polynomial_basis=polynomial_basis, regression_method=ridge)\n\npce3.fit(x,y)"
      ]
    },
    {
      "cell_type": "markdown",
      "metadata": {},
      "source": [
        "PCE surrogate is used to predict the behavior of the function at new samples.\n\n"
      ]
    },
    {
      "cell_type": "code",
      "execution_count": null,
      "metadata": {
        "collapsed": false
      },
      "outputs": [],
      "source": [
        "n_test_samples = 20000\nx_test = joint.rvs(n_test_samples)\ny_test = pce.predict(x_test)"
      ]
    },
    {
      "cell_type": "markdown",
      "metadata": {},
      "source": [
        "Plot PCE prediction.\n\n"
      ]
    },
    {
      "cell_type": "code",
      "execution_count": null,
      "metadata": {
        "collapsed": false
      },
      "outputs": [],
      "source": [
        "fig = plt.figure(figsize=(10,6))\nax = fig.add_subplot(projection='3d')\nax.scatter(x_test[:,0], x_test[:,1], y_test, s=1)\n\nax.set_title('PCE predictor')\nax.zaxis.set_major_locator(LinearLocator(10))\nax.zaxis.set_major_formatter(FormatStrFormatter('%.02f'))\nax.view_init(20,50)\nax.set_xlim(-2,2)\nax.set_ylim(-1,1)\nax.set_xlabel('$x_1$', fontsize=15)\nax.set_ylabel('$x_2$', fontsize=15)\nplt.show()"
      ]
    },
    {
      "cell_type": "markdown",
      "metadata": {},
      "source": [
        "## Error Estimation\nValidation error.\n\n"
      ]
    },
    {
      "cell_type": "code",
      "execution_count": null,
      "metadata": {
        "collapsed": false
      },
      "outputs": [],
      "source": [
        "# validation sample\nn_samples = 150\nx_val = joint.rvs(n_samples)\ny_val = function(x_val[:,0], x_val[:,1])\n\n# PCE predictions\ny_pce  = pce.predict(x_val).flatten()\ny_pce2 = pce2.predict(x_val).flatten()\ny_pce3 = pce3.predict(x_val).flatten()\n\n# mean relative validation errors\nerror = np.sum(np.abs((y_val - y_pce)/y_val))/n_samples\nerror2 = np.sum(np.abs((y_val - y_pce2)/y_val))/n_samples\nerror3 = np.sum(np.abs((y_val - y_pce3)/y_val))/n_samples\n\nprint('Mean rel. error, LSTSQ:', error)\nprint('Mean rel. error, LASSO:', error2)\nprint('Mean rel. error, Ridge:', error3)"
      ]
    },
    {
      "cell_type": "markdown",
      "metadata": {},
      "source": [
        "## Moment Estimation\nReturns mean and variance of the PCE surrogate.\n\n"
      ]
    },
    {
      "cell_type": "code",
      "execution_count": null,
      "metadata": {
        "collapsed": false
      },
      "outputs": [],
      "source": [
        "n_mc = 1000000\nx_mc = joint.rvs(n_mc)\ny_mc = function(x_mc[:,0], x_mc[:,1])\nmean_mc = np.mean(y_mc)\nvar_mc = np.var(y_mc)\n\nprint('Moments from least squares regression :', pce.get_moments())\nprint('Moments from LASSO regression :', pce2.get_moments())\nprint('Moments from Ridge regression :', pce3.get_moments())\nprint('Moments from Monte Carlo integration: ', mean_mc, var_mc)"
      ]
    }
  ],
  "metadata": {
    "kernelspec": {
      "display_name": "Python 3",
      "language": "python",
      "name": "python3"
    },
    "language_info": {
      "codemirror_mode": {
        "name": "ipython",
        "version": 3
      },
      "file_extension": ".py",
      "mimetype": "text/x-python",
      "name": "python",
      "nbconvert_exporter": "python",
      "pygments_lexer": "ipython3",
      "version": "3.12.11"
    }
  },
  "nbformat": 4,
  "nbformat_minor": 0
}