{
  "cells": [
    {
      "cell_type": "markdown",
      "metadata": {},
      "source": [
        "\n# SROM on a Gamma distribution\n\nIn this example, Stratified sampling is used to generate samples from Gamma distribution and weights are defined using\nStochastic Reduce Order Model (SROM).\n"
      ]
    },
    {
      "cell_type": "markdown",
      "metadata": {},
      "source": [
        "Import the necessary libraries. Here we import standard libraries such as numpy and matplotlib, but also need to\nimport the :class:`.TrueStratifiedSampling` and :class:`.SROM` class from UQpy.\n\n"
      ]
    },
    {
      "cell_type": "code",
      "execution_count": null,
      "metadata": {
        "collapsed": false
      },
      "outputs": [],
      "source": [
        "from UQpy.surrogates import SROM\nfrom UQpy.sampling import RectangularStrata\nfrom UQpy.sampling import TrueStratifiedSampling\nfrom UQpy.distributions import Gamma\nimport scipy.stats as stats\nimport matplotlib.pyplot as plt\nimport numpy as np"
      ]
    },
    {
      "cell_type": "markdown",
      "metadata": {},
      "source": [
        "Create a distribution object for :class:`.Gamma` distribution with shape, shift and scale parameters as $2$,\n$1$ and $3$.\n\n"
      ]
    },
    {
      "cell_type": "code",
      "execution_count": null,
      "metadata": {
        "collapsed": false
      },
      "outputs": [],
      "source": [
        "marginals = [Gamma(a=2., loc=1., scale=3.), Gamma(a=2., loc=1., scale=3.)]"
      ]
    },
    {
      "cell_type": "markdown",
      "metadata": {},
      "source": [
        "Create a strata object.\n\n"
      ]
    },
    {
      "cell_type": "code",
      "execution_count": null,
      "metadata": {
        "collapsed": false
      },
      "outputs": [],
      "source": [
        "strata = RectangularStrata(strata_number=[4, 4])"
      ]
    },
    {
      "cell_type": "markdown",
      "metadata": {},
      "source": [
        "Using UQpy :class:`.TrueStratifiedSampling` class to generate samples for two random variables having :class:`.Gamma`\ndistribution.\n\n"
      ]
    },
    {
      "cell_type": "code",
      "execution_count": null,
      "metadata": {
        "collapsed": false
      },
      "outputs": [],
      "source": [
        "x = TrueStratifiedSampling(distributions=marginals, strata_object=strata, nsamples_per_stratum=1)"
      ]
    },
    {
      "cell_type": "markdown",
      "metadata": {},
      "source": [
        "Run :class:`.SROM` using the defined :class:`.Gamma` distribution. Here we use the following parameters.\n\n- :class:`.Gamma` distribution with shape, shift and scale parameters as $2$, $1$ and $3$.\n- First and second order moments about origin are $6$ and $54$.\n- Notice that :code:`pdf_target` references the :class:`.Gamma` function directly and does not designate it as a string.\n- Samples are uncorrelated, i.e. also default value of correlation.\n\n"
      ]
    },
    {
      "cell_type": "code",
      "execution_count": null,
      "metadata": {
        "collapsed": false
      },
      "outputs": [],
      "source": [
        "y = SROM(samples=x.samples,\n         target_distributions=marginals,\n         moments=np.array([[6., 6.], [54., 54.]]))\ny.run(properties=[True, True, True, True])"
      ]
    },
    {
      "cell_type": "markdown",
      "metadata": {},
      "source": [
        "Plot the samples and weights from :class:`.SROM` class. Also, compared with the CDF of gamma distribution.\n\n"
      ]
    },
    {
      "cell_type": "code",
      "execution_count": null,
      "metadata": {
        "collapsed": false
      },
      "outputs": [],
      "source": [
        "c = np.concatenate((y.samples, y.sample_weights.reshape(y.sample_weights.shape[0], 1)), axis=1)\nd = c[c[:, 0].argsort()]\nplt.plot(d[:, 0], np.cumsum(d[:, 2], axis=0), 'o')\nplt.plot(np.arange(1, 15, 0.1), stats.gamma.cdf(np.arange(1, 15, 0.1), 2, loc=1, scale=3))\nplt.legend(['RV1_SROM', 'CDF'])\nplt.show()\ne = c[c[:, 1].argsort()]\nplt.plot(e[:, 1], np.cumsum(e[:, 2], axis=0), 'o')\nplt.plot(np.arange(1, 15, 0.1), stats.gamma.cdf(np.arange(1, 15, 0.1), 2, loc=1, scale=3))\nplt.legend(['RV2_SROM', 'CDF'])\nplt.show()"
      ]
    },
    {
      "cell_type": "markdown",
      "metadata": {},
      "source": [
        "A note on the weights corresponding to error in distribution, moments and correlation of random variables:\n\n- For this illustration, error_weights are not defined and default value is $[1, 0.2, 0]$. These weights can be changed to obtain desired accuracy in certain properties.\n\n"
      ]
    },
    {
      "cell_type": "code",
      "execution_count": null,
      "metadata": {
        "collapsed": false
      },
      "outputs": [],
      "source": [
        "print(y.sample_weights)"
      ]
    }
  ],
  "metadata": {
    "kernelspec": {
      "display_name": "Python 3",
      "language": "python",
      "name": "python3"
    },
    "language_info": {
      "codemirror_mode": {
        "name": "ipython",
        "version": 3
      },
      "file_extension": ".py",
      "mimetype": "text/x-python",
      "name": "python",
      "nbconvert_exporter": "python",
      "pygments_lexer": "ipython3",
      "version": "3.12.11"
    }
  },
  "nbformat": 4,
  "nbformat_minor": 0
}