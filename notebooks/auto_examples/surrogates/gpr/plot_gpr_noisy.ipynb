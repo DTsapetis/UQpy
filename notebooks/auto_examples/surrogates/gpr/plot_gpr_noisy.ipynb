{
  "cells": [
    {
      "cell_type": "markdown",
      "metadata": {},
      "source": [
        "\n# Gaussian Process with noisy output\n"
      ]
    },
    {
      "cell_type": "markdown",
      "metadata": {},
      "source": [
        "This jupyter script shows the performance of GaussianProcessRegressor class in the UQpy. A training data is generated\nusing a function ($f(x)$, as defined below), which is used to train a surrogate model.\n\n"
      ]
    },
    {
      "cell_type": "markdown",
      "metadata": {},
      "source": [
        "Import the necessary modules to run the example script. Notice that FminCobyla is used here, to solve the MLE\noptimization problem with constraints.\n\n"
      ]
    },
    {
      "cell_type": "code",
      "execution_count": null,
      "metadata": {
        "collapsed": false
      },
      "outputs": [],
      "source": [
        "import numpy as np\nimport matplotlib.pyplot as plt\nimport warnings\n\nfrom UQpy.utilities import RBF\n\nwarnings.filterwarnings('ignore')\nfrom UQpy.utilities.MinimizeOptimizer import MinimizeOptimizer\nfrom UQpy.surrogates.gaussian_process.regression_models.LinearRegression import LinearRegression\nfrom UQpy.surrogates import GaussianProcessRegression"
      ]
    },
    {
      "cell_type": "markdown",
      "metadata": {},
      "source": [
        "Consider the following function $f(x)$.\n\n\\begin{align}f(x) = \\frac{1}{100} + \\frac{5}{8}(2x-1)^4[(2x-1)^2 + 4\\sin{(5 \\pi x)^2}], \\quad \\quad x \\in [0,1]\\end{align}\n\n"
      ]
    },
    {
      "cell_type": "code",
      "execution_count": null,
      "metadata": {
        "collapsed": false
      },
      "outputs": [],
      "source": [
        "def funct(x):\n    y = (1 / 100) + (5 / 8) * ((2 * x - 1) ** 4) * (((2 * x - 1) ** 2) + 4 * np.sin(5 * np.pi * x) ** 2)\n    return y"
      ]
    },
    {
      "cell_type": "markdown",
      "metadata": {},
      "source": [
        "Define the training data set. The following 13 points have been used to fit the GP.\n\n"
      ]
    },
    {
      "cell_type": "code",
      "execution_count": null,
      "metadata": {
        "collapsed": false
      },
      "outputs": [],
      "source": [
        "X_train = np.array([0, 0.06, 0.08, 0.26, 0.27, 0.4, 0.52, 0.6, 0.68, 0.81, 0.9, 0.925, 1]).reshape(-1, 1)\ny_train = funct(X_train)"
      ]
    },
    {
      "cell_type": "markdown",
      "metadata": {},
      "source": [
        "Define the test data.\n\n"
      ]
    },
    {
      "cell_type": "code",
      "execution_count": null,
      "metadata": {
        "collapsed": false
      },
      "outputs": [],
      "source": [
        "X_test = np.linspace(0, 1, 100).reshape(-1, 1)\ny_test = funct(X_test)"
      ]
    },
    {
      "cell_type": "markdown",
      "metadata": {},
      "source": [
        "## Train GPR\n- Noise\n- No Constraints\n\nDefine kernel used to define the covariance matrix. Here, the application of Radial Basis Function (RBF) kernel is\ndemonstrated.\n\n"
      ]
    },
    {
      "cell_type": "code",
      "execution_count": null,
      "metadata": {
        "collapsed": false
      },
      "outputs": [],
      "source": [
        "kernel2 = RBF()"
      ]
    },
    {
      "cell_type": "markdown",
      "metadata": {},
      "source": [
        "Define the optimizer used to identify the maximum likelihood estimate.\n\n"
      ]
    },
    {
      "cell_type": "code",
      "execution_count": null,
      "metadata": {
        "collapsed": false
      },
      "outputs": [],
      "source": [
        "bounds_2 = [[10**(-3), 10**3], [10**(-3), 10**2], [10**(-3), 10**(2)]]\noptimizer2 = MinimizeOptimizer(bounds=bounds_2)"
      ]
    },
    {
      "cell_type": "markdown",
      "metadata": {},
      "source": [
        "Define the 'GaussianProcessRegressor' class object, the input attributes defined here are kernel, optimizer, initial\nestimates of hyperparameters and number of times MLE is identified using random starting point.\n\n"
      ]
    },
    {
      "cell_type": "code",
      "execution_count": null,
      "metadata": {
        "collapsed": false
      },
      "outputs": [],
      "source": [
        "gpr2 = GaussianProcessRegression(kernel=kernel2, hyperparameters=[1, 1, 0.1], optimizer=optimizer2,\n                                 optimizations_number=10, noise=True, regression_model=LinearRegression())"
      ]
    },
    {
      "cell_type": "markdown",
      "metadata": {},
      "source": [
        "Call the 'fit' method to train the surrogate model (GPR).\n\n"
      ]
    },
    {
      "cell_type": "code",
      "execution_count": null,
      "metadata": {
        "collapsed": false
      },
      "outputs": [],
      "source": [
        "gpr2.fit(X_train, y_train)"
      ]
    },
    {
      "cell_type": "markdown",
      "metadata": {},
      "source": [
        "The maximum likelihood estimates of the hyperparameters are as follows:\n\n"
      ]
    },
    {
      "cell_type": "code",
      "execution_count": null,
      "metadata": {
        "collapsed": false
      },
      "outputs": [],
      "source": [
        "print(gpr2.hyperparameters)\n\nprint('Length Scale: ', gpr2.hyperparameters[0])\nprint('Process Variance: ', gpr2.hyperparameters[1])\nprint('Noise Variance: ', gpr2.hyperparameters[2])"
      ]
    },
    {
      "cell_type": "markdown",
      "metadata": {},
      "source": [
        "Use 'predict' method to compute surrogate prediction at the test samples. The attribute 'return_std' is a boolean\nindicator. If 'True', 'predict' method also returns the standard error at the test samples.\n\n"
      ]
    },
    {
      "cell_type": "code",
      "execution_count": null,
      "metadata": {
        "collapsed": false
      },
      "outputs": [],
      "source": [
        "y_pred2, y_std2 = gpr2.predict(X_test, return_std=True)"
      ]
    },
    {
      "cell_type": "markdown",
      "metadata": {},
      "source": [
        "The plot shows the test function in dashed red line and 13 training points are represented by blue dots. Also, blue\ncurve shows the GPR prediction for $x \\in (0, 1)$ and yellow shaded region represents 95% confidence interval.\n\n"
      ]
    },
    {
      "cell_type": "code",
      "execution_count": null,
      "metadata": {
        "collapsed": false
      },
      "outputs": [],
      "source": [
        "fig, ax = plt.subplots(figsize=(8.5,7))\nax.plot(X_test,y_test,'r--',linewidth=2,label='Test Function')\nax.plot(X_train,y_train,'bo',markerfacecolor='b', markersize=10, label='Training Data')\nax.plot(X_test,y_pred2,'b-', lw=2, label='GP Prediction')\nax.plot(X_test, np.zeros((X_test.shape[0],1)))\nax.fill_between(X_test.flatten(), y_pred2-1.96*y_std2,\n                y_pred2+1.96*y_std2,\n                facecolor='yellow',label='95% CI')\nax.tick_params(axis='both', which='major', labelsize=12)\nax.set_xlabel('x', fontsize=15)\nax.set_ylabel('f(x)', fontsize=15)\nax.set_ylim([-0.3,1.8])\nplt.title('GP Surrogate (Noise, No Constraints)')\nax.legend(loc=\"upper right\",prop={'size': 12});\nplt.grid()\nplt.show()"
      ]
    }
  ],
  "metadata": {
    "kernelspec": {
      "display_name": "Python 3",
      "language": "python",
      "name": "python3"
    },
    "language_info": {
      "codemirror_mode": {
        "name": "ipython",
        "version": 3
      },
      "file_extension": ".py",
      "mimetype": "text/x-python",
      "name": "python",
      "nbconvert_exporter": "python",
      "pygments_lexer": "ipython3",
      "version": "3.12.11"
    }
  },
  "nbformat": 4,
  "nbformat_minor": 0
}