{
  "cells": [
    {
      "cell_type": "markdown",
      "metadata": {},
      "source": [
        "\n# Bispectral Representation Method - ND\n\nIn this example, the BiSpectral Representation Method is used to generate stochastic processes from a prescribed Power\nSpectrum and associated Bispectrum. This example illustrates how to use the BSRM class for 'n' dimensional case and\ncompare the statistics of the generated stochastic processes with the expected values.\n"
      ]
    },
    {
      "cell_type": "markdown",
      "metadata": {},
      "source": [
        "Import the necessary libraries. Here we import standard libraries such as numpy and matplotlib, but also need to\nimport the :class:`.BispectralRepresentation` class from the :py:mod:`stochastic_processes` module of UQpy.\n\n"
      ]
    },
    {
      "cell_type": "code",
      "execution_count": null,
      "metadata": {
        "collapsed": false
      },
      "outputs": [],
      "source": [
        "from UQpy.stochastic_process import BispectralRepresentation\nimport numpy as np\nfrom scipy.stats import skew\nimport matplotlib.pyplot as plt\nfrom copy import deepcopy\nplt.style.use('seaborn')"
      ]
    },
    {
      "cell_type": "markdown",
      "metadata": {},
      "source": [
        "The input parameters necessary for the generation of the stochastic processes are given below:\n\n"
      ]
    },
    {
      "cell_type": "code",
      "execution_count": null,
      "metadata": {
        "collapsed": false
      },
      "outputs": [],
      "source": [
        "n_sim = 1000  # Num of samples\ndim = 2\nn = 1  # Num of dimensions\n\nT = 20  # Time(1 / T = dw)\nnt = 128  # Num.of Discretized Time\nF = 1 / T * nt / 2  # Frequency.(Hz)\nnf = 64  # Num of Discretized Freq.\n\n# # Generation of Input Data(Stationary)\ndt = T / nt\nt = np.linspace(0, T - dt, nt)\ndf = F / nf\nf = np.linspace(0, F - df, nf)\n\nf_list = [f for _ in range(dim)]\nF_P = np.array(np.meshgrid(*f_list, indexing='ij'))\nP = 20 / np.sqrt(2 * np.pi) * np.exp(-1/2 * np.linalg.norm(F_P, axis=0) ** 2)\n\nF_B = np.meshgrid(*[*f_list, *f_list])\nb = 40 / (2 * np.pi) * np.exp(2 * (-1/2 * np.linalg.norm(F_B, axis=0) ** 2))\nB_Real = deepcopy(b)\nB_Imag = deepcopy(b)\n\nB_Real[0, :, :, :] = 0\nB_Real[:, 0, :, :] = 0\nB_Real[:, :, 0, :] = 0\nB_Real[:, :, :, 0] = 0\nB_Imag[0, :, :, :] = 0\nB_Imag[:, 0, :, :] = 0\nB_Imag[:, :, 0, :] = 0\nB_Imag[:, :, :, 0] = 0\n\nB_Complex = B_Real + 1j * B_Imag"
      ]
    },
    {
      "cell_type": "markdown",
      "metadata": {},
      "source": [
        "Make sure that the input parameters are in order to prevent aliasing.\n\n"
      ]
    },
    {
      "cell_type": "code",
      "execution_count": null,
      "metadata": {
        "collapsed": false
      },
      "outputs": [],
      "source": [
        "t_u = 2*np.pi/2/F\n\nif dt>t_u:\n    print('Error')"
      ]
    },
    {
      "cell_type": "markdown",
      "metadata": {},
      "source": [
        "Defining the Power Spectral Density Function.\n\n"
      ]
    },
    {
      "cell_type": "code",
      "execution_count": null,
      "metadata": {
        "collapsed": false
      },
      "outputs": [],
      "source": [
        "BSRM_object = BispectralRepresentation(n_sim, P, B_Complex, [dt, dt], [df, df], [nt, nt], [nf, nf])\nsamples = BSRM_object.samples\n\nfrom pylab import *\nt_list = [t for _ in range(dim)]\nT = np.array(np.meshgrid(*t_list, indexing='ij'))\n\nfig1 = plt.figure()\nplt.title('2d random field with a prescribed Power Spectrum and Bispectrum')\npcm = pcolor(T[0], T[1], samples[0, 0], cmap='RdBu_r', vmin=-30, vmax=30)\nplt.colorbar(pcm, extend='both', orientation='vertical')\nplt.xlabel('$X_{1}$')\nplt.ylabel('$X_{2}$')\nplt.show()\n\nprint('The mean of the samples is ', np.mean(samples), 'whereas the expected mean is 0.000')\nprint('The variance of the samples is ', np.var(samples), 'whereas the expected variance is ', np.sum(P)*df*2)\nprint('The skewness of the samples is ', np.mean(skew(samples, axis=0)), 'whereas the expected skewness is ',\n      np.sum(B_Real)*df**2*6/(np.sum(P)*df*2)**(3/2))"
      ]
    }
  ],
  "metadata": {
    "kernelspec": {
      "display_name": "Python 3",
      "language": "python",
      "name": "python3"
    },
    "language_info": {
      "codemirror_mode": {
        "name": "ipython",
        "version": 3
      },
      "file_extension": ".py",
      "mimetype": "text/x-python",
      "name": "python",
      "nbconvert_exporter": "python",
      "pygments_lexer": "ipython3",
      "version": "3.12.11"
    }
  },
  "nbformat": 4,
  "nbformat_minor": 0
}