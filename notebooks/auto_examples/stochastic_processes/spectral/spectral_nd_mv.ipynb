{
  "cells": [
    {
      "cell_type": "markdown",
      "metadata": {},
      "source": [
        "\n# N-dimensional & multiple-variables\n\nIn this example, the Spectral Representation Method is used to generate stochastic processes from a prescribed Power\nSpectrum. This example illustrates how to use the SRM class for 'n' dimensional and one variable case and compare the\nstatistics of the generated stochastic processes with the expected values.\n"
      ]
    },
    {
      "cell_type": "markdown",
      "metadata": {},
      "source": [
        "Import the necessary libraries. Here we import standard libraries such as numpy and matplotlib, but also need to\nimport the :class:`.SpectralRepresentation` class from the :py:mod:`stochastic_processes` module of UQpy.\n\n"
      ]
    },
    {
      "cell_type": "code",
      "execution_count": null,
      "metadata": {
        "collapsed": false
      },
      "outputs": [],
      "source": [
        "from UQpy.stochastic_process import SpectralRepresentation\nimport numpy as np\nimport matplotlib.pyplot as plt\nfrom pylab import *\nplt.style.use('seaborn')"
      ]
    },
    {
      "cell_type": "markdown",
      "metadata": {},
      "source": [
        "The input parameters necessary for the generating of the stochastic processes are given below:\n\n"
      ]
    },
    {
      "cell_type": "code",
      "execution_count": null,
      "metadata": {
        "collapsed": false
      },
      "outputs": [],
      "source": [
        "n_sim = 1000 # Num of samples\n\nn = 2 # Num of dimensions\n\nm = 1 # Num of variables\n\nT = 10\nnt = 200\ndt = T/nt\nt = np.linspace(0, T-dt, nt)\n\n# Frequency\nW = np.array([1.0, 1.5])\nnw = 100\ndw = W / nw\nx_list = [np.linspace(0, W[i] - dw[i], nw) for i in range(n)]\nxy_list = np.array(np.meshgrid(*x_list, indexing='ij'))"
      ]
    },
    {
      "cell_type": "markdown",
      "metadata": {},
      "source": [
        "Defining the Power Spectral Density(S)\n\n"
      ]
    },
    {
      "cell_type": "code",
      "execution_count": null,
      "metadata": {
        "collapsed": false
      },
      "outputs": [],
      "source": [
        "S_nd_1v = 125 / 4 * np.linalg.norm(xy_list, axis=0) ** 2 * np.exp(-5 * np.linalg.norm(xy_list, axis=0))"
      ]
    },
    {
      "cell_type": "markdown",
      "metadata": {},
      "source": [
        "Make sure that the input parameters are in order to prevent aliasing\n\n"
      ]
    },
    {
      "cell_type": "code",
      "execution_count": null,
      "metadata": {
        "collapsed": false
      },
      "outputs": [],
      "source": [
        "t_u = 2*np.pi/2/W\n\nif dt>t_u.all():\n    print('Error')\n\nSRM_object = SpectralRepresentation(n_sim, S_nd_1v, [dt, dt], dw, [nt, nt], [nw, nw], random_state=128)\nsamples_nd_1v = SRM_object.samples\n\nt_list = [t for _ in range(n)]\ntt_list = np.array(np.meshgrid(*t_list, indexing='ij'))\n\nfig1 = plt.figure()\nplt.title('2d random field with a prescribed Power Spectrum')\npcm = pcolor(tt_list[0], tt_list[1], samples_nd_1v[0, 0], cmap='RdBu_r', vmin=-6, vmax=6)\nplt.colorbar(pcm, extend='both', orientation='vertical')\nplt.xlabel('$X_{1}$')\nplt.ylabel('$X_{2}$')\nplt.show()\n\nprint('The mean of the samples is ', np.mean(samples_nd_1v), 'whereas the expected mean is 0.000')\nprint('The variance of the samples is ', np.var(samples_nd_1v), 'whereas the expected variance is ',\n      np.sum(S_nd_1v)*np.prod(dw)*(2**n))"
      ]
    }
  ],
  "metadata": {
    "kernelspec": {
      "display_name": "Python 3",
      "language": "python",
      "name": "python3"
    },
    "language_info": {
      "codemirror_mode": {
        "name": "ipython",
        "version": 3
      },
      "file_extension": ".py",
      "mimetype": "text/x-python",
      "name": "python",
      "nbconvert_exporter": "python",
      "pygments_lexer": "ipython3",
      "version": "3.12.11"
    }
  },
  "nbformat": 4,
  "nbformat_minor": 0
}