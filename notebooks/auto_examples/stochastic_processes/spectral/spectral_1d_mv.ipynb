{
  "cells": [
    {
      "cell_type": "markdown",
      "metadata": {},
      "source": [
        "\n# One-dimensional & multiple variables\n\nIn this example, the Spectral Representation Method is used to generate stochastic processes from a prescribed Power\nSpectrum and associated Cross Spectral Density. This example illustrates how to use the SRM class for a one dimensional\nand 'm' variable case and compare the statistics of the generated stochastic processes with the expected values.\n"
      ]
    },
    {
      "cell_type": "markdown",
      "metadata": {},
      "source": [
        "Import the necessary libraries. Here we import standard libraries such as numpy and matplotlib, but also need to\nimport the :class:`.SpectralRepresentation` class from the :class:`stochastic_processes` module of UQpy.\n\n"
      ]
    },
    {
      "cell_type": "code",
      "execution_count": null,
      "metadata": {
        "collapsed": false
      },
      "outputs": [],
      "source": [
        "from UQpy.stochastic_process import SpectralRepresentation\nimport numpy as np\nimport matplotlib.pyplot as plt\nplt.style.use('seaborn')"
      ]
    },
    {
      "cell_type": "markdown",
      "metadata": {},
      "source": [
        "The input parameters necessary for the generation of the stochastic processes are given below:\n\n"
      ]
    },
    {
      "cell_type": "code",
      "execution_count": null,
      "metadata": {
        "collapsed": false
      },
      "outputs": [],
      "source": [
        "n_sim = 10000  # Num of samples\n\nn = 1 # Num of dimensions\n\nm = 3 # Num of variables\n\nT = 10  # Time(1 / T = dw)\nnt = 256  # Num.of Discretized Time\nF = 1 / T * nt / 2  # Frequency.(Hz)\nnf = 128  # Num of Discretized Freq.\n\n# # Generation of Input Data(Stationary)\ndt = T / nt\nt = np.linspace(0, T - dt, nt)\ndf = F / nf\nf = np.linspace(0, F - df, nf)"
      ]
    },
    {
      "cell_type": "markdown",
      "metadata": {},
      "source": [
        "Make sure that the input parameters are in order to prevent aliasing\n\n"
      ]
    },
    {
      "cell_type": "code",
      "execution_count": null,
      "metadata": {
        "collapsed": false
      },
      "outputs": [],
      "source": [
        "t_u = 2*np.pi/2/F\n\nif dt>t_u:\n    print('Error')"
      ]
    },
    {
      "cell_type": "markdown",
      "metadata": {},
      "source": [
        "Defining the Power Spectral Density Function (S) and the Cross Spectral Density (g)\n\n"
      ]
    },
    {
      "cell_type": "code",
      "execution_count": null,
      "metadata": {
        "collapsed": false
      },
      "outputs": [],
      "source": [
        "S_11 = 38.3 / (1 + 6.19 * f) ** (5 / 3)\nS_22 = 43.4 / (1 + 6.98 * f) ** (5 / 3)\nS_33 = 135 / (1 + 21.8 * f) ** (5 / 3)\n\ng_12 = np.exp(-0.1757 * f)\ng_13 = np.exp(-3.478 * f)\ng_23 = np.exp(-3.392 * f)\n\nS_list = np.array([S_11, S_22, S_33])\ng_list = np.array([g_12, g_13, g_23])\n\n# Assembly of S_jk\nS_sqrt = np.sqrt(S_list)\nS_jk = np.einsum('i...,j...->ij...', S_sqrt, S_sqrt)\n# Assembly of g_jk\ng_jk = np.zeros_like(S_jk)\ncounter = 0\nfor i in range(m):\n    for j in range(i + 1, m):\n        g_jk[i, j] = g_list[counter]\n        counter = counter + 1\ng_jk = np.einsum('ij...->ji...', g_jk) + g_jk\n\nfor i in range(m):\n    g_jk[i, i] = np.ones_like(S_jk[0, 0])\nS = S_jk * g_jk\n\n\nSRM_object = SpectralRepresentation(n_sim, S, dt, df, nt, nf)\nsamples = SRM_object.samples\n\nfig, ax = plt.subplots()\nplt.title('Realisation of the Spectral Representation Method')\nplt.plot(t, samples[0, 0], label='1st dimension')\nplt.plot(t, samples[0, 1], label='2nd dimension')\nplt.plot(t, samples[0, 2], label='3rd dimension')\nax.yaxis.grid(True)\nax.xaxis.grid(True)\nplt.legend()\nplt.show()\n\nprint('The mean of the samples is ', np.mean(samples), 'whereas the expected mean is 0.000')\nprint('The variance of the samples is ', np.var(samples), 'whereas the expected variance is ',\n      np.sum(S_list)*np.prod(df)*2/m)"
      ]
    }
  ],
  "metadata": {
    "kernelspec": {
      "display_name": "Python 3",
      "language": "python",
      "name": "python3"
    },
    "language_info": {
      "codemirror_mode": {
        "name": "ipython",
        "version": 3
      },
      "file_extension": ".py",
      "mimetype": "text/x-python",
      "name": "python",
      "nbconvert_exporter": "python",
      "pygments_lexer": "ipython3",
      "version": "3.12.11"
    }
  },
  "nbformat": 4,
  "nbformat_minor": 0
}