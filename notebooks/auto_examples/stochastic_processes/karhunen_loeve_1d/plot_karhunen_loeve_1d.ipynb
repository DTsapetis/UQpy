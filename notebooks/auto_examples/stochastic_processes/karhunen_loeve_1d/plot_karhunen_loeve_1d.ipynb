{
  "cells": [
    {
      "cell_type": "markdown",
      "metadata": {},
      "source": [
        "\n# Karhunen Loeve Expansion\n\nIn this example, the KL Expansion is used to generate stochastic processes from a prescribed Autocorrelation Function.\nThis example illustrates how to use the :class:`.KarhunenLoeveExpansion` class for a one dimensional and compare the\nstatistics of the generated stochastic processes with the expected values.\n"
      ]
    },
    {
      "cell_type": "markdown",
      "metadata": {},
      "source": [
        "Import the necessary libraries. Here we import standard libraries such as numpy and matplotlib, but also need to\nimport the :class:`.KarhunenLoeveExpansion` class from the :py:mod:`stochastic_processes` module of UQpy.\n\n"
      ]
    },
    {
      "cell_type": "code",
      "execution_count": null,
      "metadata": {
        "collapsed": false
      },
      "outputs": [],
      "source": [
        "from UQpy.stochastic_process import KarhunenLoeveExpansion\nimport numpy as np\nimport matplotlib.pyplot as plt"
      ]
    },
    {
      "cell_type": "markdown",
      "metadata": {},
      "source": [
        "The input parameters necessary for the generation of the stochastic processes are given below:\n\n"
      ]
    },
    {
      "cell_type": "code",
      "execution_count": null,
      "metadata": {
        "collapsed": false
      },
      "outputs": [],
      "source": [
        "n_sim = 10000  # Num of samples\n\nm = 400 + 1\nT = 1000\ndt = T / (m - 1)\nt = np.linspace(0, T, m)"
      ]
    },
    {
      "cell_type": "markdown",
      "metadata": {},
      "source": [
        "Defining the Autocorrelation Function.\n\n"
      ]
    },
    {
      "cell_type": "code",
      "execution_count": null,
      "metadata": {
        "collapsed": false
      },
      "outputs": [],
      "source": [
        "# Target Covariance(ACF)\nR = np.zeros([m, m])\nfor i in range(m):\n    for j in range(m):\n        R[i, j] = 2 * np.exp(-((t[j] - t[i]) / 281) ** 2)  # var = 2\n\nKLE_Object = KarhunenLoeveExpansion(n_samples=n_sim, correlation_function=R, time_interval=dt)\nsamples = KLE_Object.samples\n\nfig, ax = plt.subplots()\nplt.title('Realisation of the Karhunen Loeve Expansion')\nplt.plot(t, samples[0, 0])\nax.yaxis.grid(True)\nax.xaxis.grid(True)\nplt.show()\n\nprint('The mean of the samples is ', np.mean(samples), 'whereas the expected mean is 0.000')\nprint('The variance of the samples is ', np.var(samples), 'whereas the expected variance is 2.000')"
      ]
    }
  ],
  "metadata": {
    "kernelspec": {
      "display_name": "Python 3",
      "language": "python",
      "name": "python3"
    },
    "language_info": {
      "codemirror_mode": {
        "name": "ipython",
        "version": 3
      },
      "file_extension": ".py",
      "mimetype": "text/x-python",
      "name": "python",
      "nbconvert_exporter": "python",
      "pygments_lexer": "ipython3",
      "version": "3.12.11"
    }
  },
  "nbformat": 4,
  "nbformat_minor": 0
}