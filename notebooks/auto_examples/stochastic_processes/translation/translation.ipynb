{
  "cells": [
    {
      "cell_type": "markdown",
      "metadata": {},
      "source": [
        "\n# Translation\n\nIn this example, a Gaussian stochastic processes is translated into a stochastic processes of a number of distributions.\nThis example illustrates how to use the :class:`.Correlate` class to translate from Gaussian to other probability\ndistributions and compare how the statistics of the translated stochastic processes change along with distributions.\n"
      ]
    },
    {
      "cell_type": "markdown",
      "metadata": {},
      "source": [
        "Import the necessary libraries. Here we import standard libraries such as numpy and matplotlib, but also need to\nimport the class:`.Correlate` class from the :py:mod:`stochastic_processes` module of UQpy.\n\n"
      ]
    },
    {
      "cell_type": "code",
      "execution_count": null,
      "metadata": {
        "collapsed": false
      },
      "outputs": [],
      "source": [
        "from UQpy.stochastic_process import Translation, SpectralRepresentation\nimport numpy as np\nimport matplotlib.pyplot as plt\n\nplt.style.use('seaborn')"
      ]
    },
    {
      "cell_type": "markdown",
      "metadata": {},
      "source": [
        "Firstly we generate Gaussian Stochastic Processes using the Spectral Representation Method.\n\n"
      ]
    },
    {
      "cell_type": "code",
      "execution_count": null,
      "metadata": {
        "collapsed": false
      },
      "outputs": [],
      "source": [
        "n_sim = 10000  # Num of samples\nT = 100  # Time(1 / T = dw)\nnt = 256  # Num.of Discretized Time\nF = 1 / T * nt / 2  # Frequency.(Hz)\nnw = 128  # Num of Discretized Freq.\ndt = T / nt\nt = np.linspace(0, T - dt, nt)\ndw = F / nw\nw = np.linspace(0, F - dw, nw)\nS = 125 * w ** 2 * np.exp(-2 * w)\n\nSRM_object = SpectralRepresentation(n_sim, S, dt, dw, nt, nw, random_state=128)\nsamples = SRM_object.samples\n\n\ndef S_to_R(S, w, t):\n    dw = w[1] - w[0]\n    fac = np.ones(len(w))\n    fac[1: len(w) - 1: 2] = 4\n    fac[2: len(w) - 2: 2] = 2\n    fac = fac * dw / 3\n    R = np.zeros(len(t))\n    for i in range(len(t)):\n        R[i] = 2 * np.dot(fac, S * np.cos(w * t[i]))\n    return R\n\n\nR_g = S_to_R(S, w, t)\nr_g = R_g / R_g[0]"
      ]
    },
    {
      "cell_type": "markdown",
      "metadata": {},
      "source": [
        "We translate the samples to be Uniform samples from $1$ to $2$\n\n"
      ]
    },
    {
      "cell_type": "code",
      "execution_count": null,
      "metadata": {
        "collapsed": false
      },
      "outputs": [],
      "source": [
        "from UQpy.distributions import Lognormal\n\ndistribution = Lognormal(0.5)\nsamples = samples.flatten()[:, np.newaxis]\n\nTranslate_object = Translation(distributions=distribution, time_interval=dt, frequency_interval=dw,\n                               n_time_intervals=nt, n_frequency_intervals=nw,\n                               correlation_function_gaussian=R_g, samples_gaussian=samples)\nsamples_ng = Translate_object.samples_non_gaussian\n\nR_ng = Translate_object.scaled_correlation_function_non_gaussian\nr_ng = Translate_object.correlation_function_non_gaussian"
      ]
    },
    {
      "cell_type": "markdown",
      "metadata": {},
      "source": [
        "Plotting the actual and translated autocorrelation functions\n\n"
      ]
    },
    {
      "cell_type": "code",
      "execution_count": null,
      "metadata": {
        "collapsed": false
      },
      "outputs": [],
      "source": [
        "fig1 = plt.figure()\nplt.plot(r_g, label='Gaussian')\nplt.plot(r_ng, label='non-Gaussian')\nplt.title('Correlation Function (r)')\nplt.legend()\nplt.show()"
      ]
    }
  ],
  "metadata": {
    "kernelspec": {
      "display_name": "Python 3",
      "language": "python",
      "name": "python3"
    },
    "language_info": {
      "codemirror_mode": {
        "name": "ipython",
        "version": 3
      },
      "file_extension": ".py",
      "mimetype": "text/x-python",
      "name": "python",
      "nbconvert_exporter": "python",
      "pygments_lexer": "ipython3",
      "version": "3.12.11"
    }
  },
  "nbformat": 4,
  "nbformat_minor": 0
}