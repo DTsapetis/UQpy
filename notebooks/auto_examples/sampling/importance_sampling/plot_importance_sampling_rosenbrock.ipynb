{
  "cells": [
    {
      "cell_type": "markdown",
      "metadata": {},
      "source": [
        "\n# Rosenbrock distribution\n"
      ]
    },
    {
      "cell_type": "markdown",
      "metadata": {},
      "source": [
        "For importance sampling, the function must be written in a way that it can\nevaluate multiple samples at once.\n\n"
      ]
    },
    {
      "cell_type": "code",
      "execution_count": null,
      "metadata": {
        "collapsed": false
      },
      "outputs": [],
      "source": [
        "from UQpy.distributions import Uniform, JointIndependent\nfrom UQpy.sampling import ImportanceSampling\nimport time\nimport matplotlib.pyplot as plt\nimport numpy as np\n\n\ndef log_Rosenbrock(x, param):\n    return (-(100 * (x[:, 1] - x[:, 0] ** 2) ** 2 + (1 - x[:, 0]) ** 2) / param)\n\n\nproposal = JointIndependent([Uniform(loc=-8, scale=16), Uniform(loc=-10, scale=60)])\nprint(proposal.get_parameters())"
      ]
    },
    {
      "cell_type": "markdown",
      "metadata": {},
      "source": [
        "## Run IS\n\n"
      ]
    },
    {
      "cell_type": "code",
      "execution_count": null,
      "metadata": {
        "collapsed": false
      },
      "outputs": [],
      "source": [
        "t4 = time.time()\n\nw = ImportanceSampling(log_pdf_target=log_Rosenbrock, args_target=(20,), proposal=proposal, nsamples=10000)\n\nt_IS = time.time() - t4\nprint(t_IS)\n\nw.resample(nsamples=1000)\nplt.plot(w.unweighted_samples[:, 0], w.unweighted_samples[:, 1], 'gs', alpha=0.2)\nprint(w.unweighted_samples.shape)\nplt.legend(['IS'])\nplt.show()"
      ]
    },
    {
      "cell_type": "markdown",
      "metadata": {},
      "source": [
        "## Run IS by adding samples: call the run method in a loop (one can also look at diagnostics)\n\n"
      ]
    },
    {
      "cell_type": "code",
      "execution_count": null,
      "metadata": {
        "collapsed": false
      },
      "outputs": [],
      "source": [
        "t4 = time.time()\n\nw = ImportanceSampling(log_pdf_target=log_Rosenbrock, args_target=(20,), proposal=proposal)\nfor nsamples in [5000, 5000, 5000, 5000]:\n    w.run(nsamples)\n    print(w.samples.shape)\n    # IS_diagnostics(weights=w.weights, graphics=False)\nt_IS = time.time() - t4\nprint(t_IS)\n\nw.resample(nsamples=1000)\nplt.plot(w.unweighted_samples[:, 0], w.unweighted_samples[:, 1], 'gs', alpha=0.2)\nplt.legend(['IS'])\nplt.show()"
      ]
    },
    {
      "cell_type": "markdown",
      "metadata": {},
      "source": [
        "Another example: sampling from a bivariate with copula dependence. Giving a random state enforces that results are\nthe same for repeatability.\n\n"
      ]
    },
    {
      "cell_type": "code",
      "execution_count": null,
      "metadata": {
        "collapsed": false
      },
      "outputs": [],
      "source": [
        "from UQpy.distributions import Normal, Gumbel, JointCopula\n\ndist_true = JointCopula(marginals=[Normal(), Normal()], copula=Gumbel(theta=2.))\nproposal1 = JointIndependent(marginals=[Normal(), Normal()])\n\nsampler = ImportanceSampling(log_pdf_target=dist_true.log_pdf, proposal=proposal1, random_state=123,\n                             nsamples=500)\nprint(sampler.samples.shape)\nprint(sampler.weights.shape)\nprint(np.round(sampler.samples[-5:], 4))"
      ]
    }
  ],
  "metadata": {
    "kernelspec": {
      "display_name": "Python 3",
      "language": "python",
      "name": "python3"
    },
    "language_info": {
      "codemirror_mode": {
        "name": "ipython",
        "version": 3
      },
      "file_extension": ".py",
      "mimetype": "text/x-python",
      "name": "python",
      "nbconvert_exporter": "python",
      "pygments_lexer": "ipython3",
      "version": "3.12.11"
    }
  },
  "nbformat": 4,
  "nbformat_minor": 0
}