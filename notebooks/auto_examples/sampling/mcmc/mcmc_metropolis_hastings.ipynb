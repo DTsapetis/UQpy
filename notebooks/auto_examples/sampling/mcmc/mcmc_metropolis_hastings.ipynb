{
  "cells": [
    {
      "cell_type": "markdown",
      "metadata": {},
      "source": [
        "\n# Sampling Rosenbrock distribution using Metropolis-Hastings\n\nIn this example, the Metropolis-Hastings is employed to generate samples from a Rosenbrock distribution.\nThe method illustrates various aspects of the UQpy :class:`.MCMC` class:\n\n- various ways of defining the target pdf to sample from,\n- definition of input parameters required by the algorithm (proposal_type and proposal_scale for :class:`.MetropolisHastings`),\n- running several chains in parallel,\n- call diagnostics functions.\n"
      ]
    },
    {
      "cell_type": "markdown",
      "metadata": {},
      "source": [
        "Import the necessary libraries. Here we import standard libraries such as numpy and matplotlib, but also need to\nimport the :class:`.MCMC` class from UQpy.\n\n"
      ]
    },
    {
      "cell_type": "code",
      "execution_count": null,
      "metadata": {
        "collapsed": false
      },
      "outputs": [],
      "source": [
        "from UQpy.sampling import MetropolisHastings\nimport numpy as np\nimport matplotlib.pyplot as plt\nimport time"
      ]
    },
    {
      "cell_type": "markdown",
      "metadata": {},
      "source": [
        "## Explore various ways of defining the target pdf\nDefine the Rosenbrock probability density function up to a scale factor. Here the pdf is defined directly in the\npython script\n\n- define the Rosenbrock probability density function up to a scale factor, this function only takes as input parameter the point x where to compute the pdf,\n- define a pdf function that also takes as argument a set of parameters params,\n- define a function that computes the log pdf up to a constant.\n\nAlternatively, the pdf can be defined in an external file that defines a distribution and its :code:`pdf` or\n:code:`log_pdf` methods\n(Rosenbrock.py)\n\n"
      ]
    },
    {
      "cell_type": "code",
      "execution_count": null,
      "metadata": {
        "collapsed": false
      },
      "outputs": [],
      "source": [
        "def rosenbrock_no_params(x):\n    return np.exp(-(100 * (x[:, 1] - x[:, 0] ** 2) ** 2 + (1 - x[:, 0]) ** 2) / 20)\n\n\ndef log_rosenbrock_with_param(x, p):\n    return -(100 * (x[:, 1] - x[:, 0] ** 2) ** 2 + (1 - x[:, 0]) ** 2) / p\n\n\nx = MetropolisHastings(dimension=2, pdf_target=rosenbrock_no_params, burn_length=500, jump=50,\n                       n_chains=1, nsamples=500)\nprint(x.samples.shape)\nplt.figure()\nplt.plot(x.samples[:, 0], x.samples[:, 1], 'o', alpha=0.5)\nplt.show()\n\nplt.figure()\nx = MetropolisHastings(dimension=2, log_pdf_target=log_rosenbrock_with_param, burn_length=500,\n                       jump=50, n_chains=1, args_target=(20,),\n                       nsamples=500)\nplt.plot(x.samples[:, 0], x.samples[:, 1], 'o')\nplt.show()"
      ]
    },
    {
      "cell_type": "markdown",
      "metadata": {},
      "source": [
        "In the following, a custom Rosenbrock distribution is defined and its :code:`log_pdf` method is used.\n\n"
      ]
    },
    {
      "cell_type": "code",
      "execution_count": null,
      "metadata": {
        "collapsed": false
      },
      "outputs": [],
      "source": [
        "from UQpy.distributions import DistributionND\n\n\nclass Rosenbrock(DistributionND):\n    def __init__(self, p=20.):\n        super().__init__(p=p)\n\n    def pdf(self, x):\n        return np.exp(-(100 * (x[:, 1] - x[:, 0] ** 2) ** 2 + (1 - x[:, 0]) ** 2) / self.parameters['p'])\n\n    def log_pdf(self, x):\n        return -(100 * (x[:, 1] - x[:, 0] ** 2) ** 2 + (1 - x[:, 0]) ** 2) / self.parameters['p']\n\n\nlog_pdf_target = Rosenbrock(p=20.).log_pdf\n\nx = MetropolisHastings(dimension=2, pdf_target=log_pdf_target, burn_length=500, jump=50,\n                       n_chains=1, nsamples=500)"
      ]
    },
    {
      "cell_type": "markdown",
      "metadata": {},
      "source": [
        "In the following, we show that if :code:`burn_length` is set to $0$, the first sample is always the seed.\n\n"
      ]
    },
    {
      "cell_type": "code",
      "execution_count": null,
      "metadata": {
        "collapsed": false
      },
      "outputs": [],
      "source": [
        "seed = [[0., -1.], [1., 1.]]\n\nx = MetropolisHastings(dimension=2, log_pdf_target=log_pdf_target, burn_length=0, jump=50,\n                       seed=seed, concatenate_chains=False,\n                       nsamples=500)\nprint(x.samples.shape)\nplt.plot(x.samples[:, 0, 0], x.samples[:, 0, 1], 'o', alpha=0.5)\nplt.plot(x.samples[:, 1, 0], x.samples[:, 1, 1], 'o', alpha=0.5)\nplt.show()\n\nprint(seed)\nprint(x.samples[0, :, :])"
      ]
    },
    {
      "cell_type": "markdown",
      "metadata": {},
      "source": [
        "## The algorithm-specific parameters for MetropolisHastings are proposal and proposal_is_symmetric\nThe default proposal is standard normal (symmetric).\n\n"
      ]
    },
    {
      "cell_type": "code",
      "execution_count": null,
      "metadata": {
        "collapsed": false
      },
      "outputs": [],
      "source": [
        "# Define a few proposals to try out\nfrom UQpy.distributions import JointIndependent, Normal, Uniform\n\nproposals = [JointIndependent([Normal(), Normal()]),\n             JointIndependent([Uniform(loc=-0.5, scale=1.5), Uniform(loc=-0.5, scale=1.5)]),\n             Normal()]\n\nproposals_is_symmetric = [True, False, False]\n\nfig, ax = plt.subplots(ncols=3, figsize=(16, 4))\nfor i, (proposal, symm) in enumerate(zip(proposals, proposals_is_symmetric)):\n    print(i)\n    try:\n        x = MetropolisHastings(dimension=2, burn_length=500, jump=100, log_pdf_target=log_pdf_target,\n                               proposal=proposal, proposal_is_symmetric=symm, n_chains=1,\n                               nsamples=1000)\n        ax[i].plot(x.samples[:, 0], x.samples[:, 1], 'o')\n    except ValueError as e:\n        print(e)\n        print('This last call fails because the proposal is in dimension 1, while the target distribution is'\n              ' in dimension 2')\nplt.show()"
      ]
    },
    {
      "cell_type": "markdown",
      "metadata": {},
      "source": [
        "## Run several chains in parallel\nThe user can provide the total number of samples :code:`nsamples`, or the number of samples per chain\n:code:`nsamples_per_chain`.\n\n"
      ]
    },
    {
      "cell_type": "code",
      "execution_count": null,
      "metadata": {
        "collapsed": false
      },
      "outputs": [],
      "source": [
        "x = MetropolisHastings(dimension=2, log_pdf_target=log_pdf_target, jump=1000, burn_length=500,\n                       seed=[[0., 0.], [1., 1.]], concatenate_chains=False,\n                       nsamples=100)\nplt.plot(x.samples[:, 0, 0], x.samples[:, 0, 1], 'o', label='chain 1', alpha=0.5)\nplt.plot(x.samples[:, 1, 0], x.samples[:, 1, 1], 'o', label='chain 2', alpha=0.5)\nprint(x.samples.shape)\nplt.legend()\nplt.show()\n\nx = MetropolisHastings(dimension=2, log_pdf_target=log_pdf_target, jump=1000, burn_length=500,\n                       seed=[[0., 0.], [1., 1.]], concatenate_chains=False,\n                       nsamples_per_chain=100)\nplt.plot(x.samples[:, 0, 0], x.samples[:, 0, 1], 'o', label='chain 1', alpha=0.5)\nplt.plot(x.samples[:, 1, 0], x.samples[:, 1, 1], 'o', label='chain 2', alpha=0.5)\nprint(x.samples.shape)\nplt.legend()\nplt.show()"
      ]
    },
    {
      "cell_type": "markdown",
      "metadata": {},
      "source": [
        "## Initialize without nsamples... then call run\n\n"
      ]
    },
    {
      "cell_type": "code",
      "execution_count": null,
      "metadata": {
        "collapsed": false
      },
      "outputs": [],
      "source": [
        "t = time.time()\n\nx = MetropolisHastings(dimension=2, log_pdf_target=log_pdf_target, jump=1000,\n                       burn_length=500, seed=[[0., 0.], [1., 1.]], concatenate_chains=False)\nprint('Elapsed time for initialization: {} s'.format(time.time() - t))\n\nt = time.time()\nx.run(nsamples=100)\nprint('Elapsed time for running MCMC: {} s'.format(time.time() - t))\nprint('nburn, jump at first run: {}, {}'.format(x.burn_length, x.jump))\nprint('total nb of samples: {}'.format(x.samples.shape[0]))\n\nplt.plot(x.samples[:, 0, 0], x.samples[:, 0, 1], 'o', label='chain 1')\nplt.plot(x.samples[:, 1, 0], x.samples[:, 1, 1], 'o', label='chain 2')\nplt.legend()\nplt.show()"
      ]
    },
    {
      "cell_type": "markdown",
      "metadata": {},
      "source": [
        "Run another example with a bivariate distributon with copula dependence - use random_state to always have the\nsame outputs\n----------------------------------------------------------------------------------------------------------------------\n\n"
      ]
    },
    {
      "cell_type": "code",
      "execution_count": null,
      "metadata": {
        "collapsed": false
      },
      "outputs": [],
      "source": [
        "from UQpy.distributions import Normal, Gumbel, JointCopula, JointIndependent\n\ndist_true = JointCopula(marginals=[Normal(), Normal()], copula=Gumbel(theta=2.))\nproposal = JointIndependent(marginals=[Normal(scale=0.2), Normal(scale=0.2)])\n\nsampler = MetropolisHastings(dimension=2, log_pdf_target=dist_true.log_pdf, proposal=proposal,\n                             seed=[0., 0.], random_state=123,\n                             nsamples=500)\nprint(sampler.samples.shape)\nprint(np.round(sampler.samples[-5:], 4))\n\nplt.plot(sampler.samples[:, 0], sampler.samples[:, 1], linestyle='none', marker='+')"
      ]
    }
  ],
  "metadata": {
    "kernelspec": {
      "display_name": "Python 3",
      "language": "python",
      "name": "python3"
    },
    "language_info": {
      "codemirror_mode": {
        "name": "ipython",
        "version": 3
      },
      "file_extension": ".py",
      "mimetype": "text/x-python",
      "name": "python",
      "nbconvert_exporter": "python",
      "pygments_lexer": "ipython3",
      "version": "3.12.11"
    }
  },
  "nbformat": 4,
  "nbformat_minor": 0
}