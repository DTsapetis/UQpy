{
  "cells": [
    {
      "cell_type": "markdown",
      "metadata": {},
      "source": [
        "\n# Comparison of various MCMC algorithms\n"
      ]
    },
    {
      "cell_type": "markdown",
      "metadata": {},
      "source": [
        "This script illustrates performance of various MCMC algorithms currently integrated in UQpy:\n\n- Metropolis Hastings (MH)\n- Modified Metropolis Hastings (MMH)\n- Affine Invariant with Stretch moves (Stretch)\n- Adaptive Metropolis with delayed rejection (DRAM)\n\n"
      ]
    },
    {
      "cell_type": "markdown",
      "metadata": {},
      "source": [
        "Import the necessary libraries.\n\n"
      ]
    },
    {
      "cell_type": "code",
      "execution_count": null,
      "metadata": {
        "collapsed": false
      },
      "outputs": [],
      "source": [
        "import time\n\nimport matplotlib.pyplot as plt\nimport numpy as np\nfrom UQpy.distributions import Normal, Gumbel, JointCopula, JointIndependent, Uniform\nfrom UQpy.sampling import MetropolisHastings, Stretch, ModifiedMetropolisHastings, DREAM, DRAM"
      ]
    },
    {
      "cell_type": "markdown",
      "metadata": {},
      "source": [
        "## Affine invariant with Stretch moves\nThis algorithm requires as seed a few samples near the region of interest. Here :class:`.MetropolisHastings` is first\nrun to obtain few samples, used as seed within the :class:`.Stretch` algorithm.\n\n"
      ]
    },
    {
      "cell_type": "code",
      "execution_count": null,
      "metadata": {
        "collapsed": false
      },
      "outputs": [],
      "source": [
        "def log_Rosenbrock(x):\n    return (-(100 * (x[:, 1] - x[:, 0] ** 2) ** 2 + (1 - x[:, 0]) ** 2) / 20)\n\n\nx = MetropolisHastings(dimension=2, burn_length=0, jump=10, n_chains=1, log_pdf_target=log_Rosenbrock,\n                       nsamples=5000)\nprint(x.samples.shape)\nplt.figure()\nplt.plot(x.samples[:, 0], x.samples[:, 1], 'o')\nplt.show()\n\nx = Stretch(burn_length=0, jump=10, log_pdf_target=log_Rosenbrock, seed=x.samples[:10].tolist(), scale=2.,\n            nsamples=5000)\nprint(x.samples.shape)\n\nplt.figure()\nplt.plot(x.samples[:, 0], x.samples[:, 1], 'o')\nplt.show()"
      ]
    },
    {
      "cell_type": "markdown",
      "metadata": {},
      "source": [
        "## DREAM algorithm: compare with :class:`.MetropolisHastings` (inputs parameters are set as their default values)\n\n"
      ]
    },
    {
      "cell_type": "code",
      "execution_count": null,
      "metadata": {
        "collapsed": false
      },
      "outputs": [],
      "source": [
        "# Define a function to sample seed uniformly distributed in the 2d space ([-20, 20], [-4, 4])\nprior_sample = lambda nsamples: np.array([[-2, -2]]) + np.array([[4, 4]]) * JointIndependent(\n    [Uniform(), Uniform()]).rvs(nsamples=nsamples)\n\nfig, ax = plt.subplots(ncols=2, figsize=(12, 4))\nseed = prior_sample(nsamples=7)\n\nx = MetropolisHastings(dimension=2, burn_length=500, jump=50, seed=seed.tolist(),\n                       log_pdf_target=log_Rosenbrock, nsamples=1000)\nax[0].plot(x.samples[:, 0], x.samples[:, 1], 'o')\n\nx = DREAM(dimension=2, burn_length=500, jump=50, seed=seed.tolist(), log_pdf_target=log_Rosenbrock,\n          nsamples=1000)\nax[1].plot(x.samples[:, 0], x.samples[:, 1], 'o')\n\nplt.show()"
      ]
    },
    {
      "cell_type": "markdown",
      "metadata": {},
      "source": [
        "## DRAM algorithm\n\n"
      ]
    },
    {
      "cell_type": "code",
      "execution_count": null,
      "metadata": {
        "collapsed": false
      },
      "outputs": [],
      "source": [
        "fig, ax = plt.subplots(ncols=2, figsize=(12, 4))\nt = time.time()\nseed = prior_sample(nsamples=1)\n\nx = MetropolisHastings(dimension=2, burn_length=500, jump=10, seed=seed.tolist(), log_pdf_target=log_Rosenbrock,\n                       nsamples=1000)\n\nax[0].plot(x.samples[:, 0], x.samples[:, 1], 'o')\nax[0].set_xlabel('x1')\nax[0].set_ylabel('x2')\nax[0].set_title('algorithm: MH')\nprint('time to run MH' + ': {}s'.format(time.time() - t))\n\nx = DRAM(dimension=2, burn_length=500, jump=10, seed=seed.tolist(), log_pdf_target=log_Rosenbrock,\n         save_covariance=True, nsamples=1000)\n\nax[1].plot(x.samples[:, 0], x.samples[:, 1], 'o')\nax[1].set_xlabel('x1')\nax[1].set_ylabel('x2')\nax[1].set_title('algorithm: DRAM')\nprint('time to run DRAM' + ': {}s'.format(time.time() - t))\n\nplt.show()\n\n# look at the covariance adaptivity\nfig, ax = plt.subplots()\nadaptive_covariance = np.array(x.adaptive_covariance)\nfor i in range(2):\n    ax.plot(np.sqrt(adaptive_covariance[:, 0, i, i]), label='dimension {}'.format(i))\nax.set_title('Adaptive proposal std. dev. in both dimensions')\nax.legend()\nplt.show()"
      ]
    },
    {
      "cell_type": "markdown",
      "metadata": {},
      "source": [
        "## MMH: target pdf is given as a joint pdf\nThe target pdf should be a 1 dimensional distribution or set of 1D distributions.\n\n"
      ]
    },
    {
      "cell_type": "code",
      "execution_count": null,
      "metadata": {
        "collapsed": false
      },
      "outputs": [],
      "source": [
        "from UQpy.distributions import Normal\n\nproposal = [Normal(), Normal()]\nproposal_is_symmetric = [False, False]\n\nx = ModifiedMetropolisHastings(dimension=2, burn_length=500, jump=50, log_pdf_target=log_Rosenbrock,\n                               proposal=proposal, proposal_is_symmetric=proposal_is_symmetric, n_chains=1,\n                               nsamples=500)\n\nfig, ax = plt.subplots()\nax.plot(x.samples[:, 0], x.samples[:, 1], linestyle='none', marker='.')"
      ]
    },
    {
      "cell_type": "markdown",
      "metadata": {},
      "source": [
        "## MMH: target pdf is given as a couple of independent marginals\n\n"
      ]
    },
    {
      "cell_type": "code",
      "execution_count": null,
      "metadata": {
        "collapsed": false
      },
      "outputs": [],
      "source": [
        "log_pdf_target = [Normal(loc=0., scale=5.).log_pdf, Normal(loc=0., scale=20.).log_pdf]\n\nproposal = [Normal(), Normal()]\nproposal_is_symmetric = [True, True]\n\nx = ModifiedMetropolisHastings(dimension=2, burn_length=100, jump=10, log_pdf_target=log_pdf_target,\n                               proposal=proposal, proposal_is_symmetric=proposal_is_symmetric, n_chains=1,\n                               nsamples=1000)\n\nfig, ax = plt.subplots()\nax.plot(x.samples[:, 0], x.samples[:, 1], linestyle='none', marker='.')\nplt.show()\nprint(x.samples.shape)"
      ]
    },
    {
      "cell_type": "markdown",
      "metadata": {},
      "source": [
        "## Use random_state to provide repeated results\n\n"
      ]
    },
    {
      "cell_type": "code",
      "execution_count": null,
      "metadata": {
        "collapsed": false
      },
      "outputs": [],
      "source": [
        "seed = Uniform().rvs(nsamples=2 * 10).reshape((10, 2))\ndist_true = JointCopula(marginals=[Normal(), Normal()], copula=Gumbel(theta=2.))\nproposal = JointIndependent(marginals=[Normal(scale=0.2), Normal(scale=0.2)])\n\nfor _ in range(3):\n    sampler = ModifiedMetropolisHastings(log_pdf_target=dist_true.log_pdf, proposal=proposal, seed=[0., 0.],\n                                         random_state=123, nsamples=500)\n    print(sampler.samples.shape)\n    print(np.round(sampler.samples[-5:], 4))\n\nplt.plot(sampler.samples[:, 0], sampler.samples[:, 1], linestyle='none', marker='+')"
      ]
    }
  ],
  "metadata": {
    "kernelspec": {
      "display_name": "Python 3",
      "language": "python",
      "name": "python3"
    },
    "language_info": {
      "codemirror_mode": {
        "name": "ipython",
        "version": 3
      },
      "file_extension": ".py",
      "mimetype": "text/x-python",
      "name": "python",
      "nbconvert_exporter": "python",
      "pygments_lexer": "ipython3",
      "version": "3.12.11"
    }
  },
  "nbformat": 4,
  "nbformat_minor": 0
}