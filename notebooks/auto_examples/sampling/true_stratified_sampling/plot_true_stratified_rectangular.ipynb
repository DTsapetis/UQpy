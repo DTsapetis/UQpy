{
  "cells": [
    {
      "cell_type": "markdown",
      "metadata": {},
      "source": [
        "\n# Rectangular Stratified Sampling\n\nIn this example, the stratified sampling method is employed to generate samples from an exponential distribution.\n"
      ]
    },
    {
      "cell_type": "markdown",
      "metadata": {},
      "source": [
        "Import the necessary libraries. Here we import standard libraries such as numpy and matplotlib, but also need to\nimport the :class:`.TrueStratifiedSampling` class from :py:mod:`UQpy.sampling`.\n\n"
      ]
    },
    {
      "cell_type": "code",
      "execution_count": null,
      "metadata": {
        "collapsed": false
      },
      "outputs": [],
      "source": [
        "from UQpy.sampling.stratified_sampling.TrueStratifiedSampling import TrueStratifiedSampling\nfrom UQpy.distributions import Exponential\nimport numpy as np\nimport matplotlib.pyplot as plt\nfrom scipy.stats import expon\nfrom UQpy.sampling.stratified_sampling.strata import RectangularStrata"
      ]
    },
    {
      "cell_type": "markdown",
      "metadata": {},
      "source": [
        "Run :class:`.TrueStratifiedSampling` for 25 samples.\n\n- 2 dimensions\n- Five strata in each dimension\n- Exponential distribution with location parameter = 1 and scale parameter = 1.\n\nCreate a distribution object.\n\n"
      ]
    },
    {
      "cell_type": "code",
      "execution_count": null,
      "metadata": {
        "collapsed": false
      },
      "outputs": [],
      "source": [
        "marginals = [Exponential(loc=1., scale=1.), Exponential(loc=1., scale=1.)]"
      ]
    },
    {
      "cell_type": "markdown",
      "metadata": {},
      "source": [
        "## Create strata with equal volume\nCreate a strata object using :class:`.RectangularStrata` class.\n\n"
      ]
    },
    {
      "cell_type": "code",
      "execution_count": null,
      "metadata": {
        "collapsed": false
      },
      "outputs": [],
      "source": [
        "strata = RectangularStrata(strata_number=[5, 5])"
      ]
    },
    {
      "cell_type": "markdown",
      "metadata": {},
      "source": [
        "Generate samples using :class:`.TrueStratifiedSampling` class, one sample is generate inside each stratum.\n\n"
      ]
    },
    {
      "cell_type": "code",
      "execution_count": null,
      "metadata": {
        "collapsed": false
      },
      "outputs": [],
      "source": [
        "x_sts = TrueStratifiedSampling(distributions=marginals,\n                               strata_object=strata,\n                               nsamples_per_stratum=1)"
      ]
    },
    {
      "cell_type": "markdown",
      "metadata": {},
      "source": [
        "Plot the resulting stratified samples and the boundaries of the strata in the $U(0,1)$ space.\n\n"
      ]
    },
    {
      "cell_type": "code",
      "execution_count": null,
      "metadata": {
        "collapsed": false
      },
      "outputs": [],
      "source": [
        "fig = strata.plot_2d()\nplt.title('Stratified Sample - U(0,1)')\nplt.scatter(x_sts.samplesU01[:, 0], x_sts.samplesU01[:, 1], color='r')\nplt.ylim(0, 1)\nplt.xlim(0, 1)\nplt.show()\n\n\nprint(x_sts.weights)"
      ]
    },
    {
      "cell_type": "markdown",
      "metadata": {},
      "source": [
        "Plot the resulting stratified exponential samples and the boundaries of the strata in the exponential space.\n\n"
      ]
    },
    {
      "cell_type": "code",
      "execution_count": null,
      "metadata": {
        "collapsed": false
      },
      "outputs": [],
      "source": [
        "fig, ax = plt.subplots()\nplt.title('Stratified Sample - Exponential')\nplt.scatter(x_sts.samples[:, 0], x_sts.samples[:, 1])\nax.set_yticks([1.0, expon.ppf(0.2, 1, 1), expon.ppf(0.4, 1, 1), expon.ppf(0.6, 1, 1), expon.ppf(0.8, 1, 1),\n               expon.ppf(0.99, 1, 1)])\nax.set_xticks([1.0, expon.ppf(0.2, 1, 1), expon.ppf(0.4, 1, 1), expon.ppf(0.6, 1, 1), expon.ppf(0.8, 1, 1),\n               expon.ppf(0.99, 1, 1)])\nax.yaxis.grid(True)\nax.xaxis.grid(True)\nplt.ylim(1, expon.ppf(0.99, 1, 1))\nplt.xlim(1, expon.ppf(0.99, 1, 1))\nplt.show()\n\nprint(x_sts.samples)"
      ]
    },
    {
      "cell_type": "markdown",
      "metadata": {},
      "source": [
        "## Create stratification using seeds and widths\nStrata object can be initiated by defining seeds and widths of the strata.\n\n"
      ]
    },
    {
      "cell_type": "code",
      "execution_count": null,
      "metadata": {
        "collapsed": false
      },
      "outputs": [],
      "source": [
        "seeds = np.array([[0, 0], [0.4, 0], [0, 0.5], [0.4, 0.5]])\nwidths = np.array([[0.4, 0.5], [0.6, 0.5], [0.4, 0.5], [0.6, 0.5]])\nstrata_obj = RectangularStrata(seeds=seeds, widths=widths)"
      ]
    },
    {
      "cell_type": "markdown",
      "metadata": {},
      "source": [
        "Generate samples using :class:`.TrueStratifiedSampling` class. User can control the number of samples\ngenerated inside each stratum. In this illustration, 10 samples are generated such that\n:code:`nsamples_per_stratum` governs the number of samples.\n\n"
      ]
    },
    {
      "cell_type": "code",
      "execution_count": null,
      "metadata": {
        "collapsed": false
      },
      "outputs": [],
      "source": [
        "sts_obj = TrueStratifiedSampling(distributions=marginals, strata_object=strata_obj, random_state=20)\nsts_obj.run(nsamples_per_stratum=[1, 2, 3, 4])"
      ]
    },
    {
      "cell_type": "markdown",
      "metadata": {},
      "source": [
        "Plot show the strata and samples generated in each stratum.\n\n"
      ]
    },
    {
      "cell_type": "code",
      "execution_count": null,
      "metadata": {
        "collapsed": false
      },
      "outputs": [],
      "source": [
        "fig = strata_obj.plot_2d()\nplt.title('Stratified Sample - U(0,1)')\nplt.scatter(sts_obj.samplesU01[:, 0], sts_obj.samplesU01[:, 1], color='r')\nplt.ylim(0, 1)\nplt.xlim(0, 1)\nplt.show()"
      ]
    },
    {
      "cell_type": "markdown",
      "metadata": {},
      "source": [
        "Probability weights corresponding to each sample computed using Stratified sampling.\n\n"
      ]
    },
    {
      "cell_type": "code",
      "execution_count": null,
      "metadata": {
        "collapsed": false
      },
      "outputs": [],
      "source": [
        "sts_obj.weights"
      ]
    },
    {
      "cell_type": "markdown",
      "metadata": {},
      "source": [
        "## Create stratification using input file\nStrata object can be defined using an input file, which contains the seeds and widths of each stratum.\n\n"
      ]
    },
    {
      "cell_type": "code",
      "execution_count": null,
      "metadata": {
        "collapsed": false
      },
      "outputs": [],
      "source": [
        "strata_obj1 = RectangularStrata(input_file='strata.txt')"
      ]
    },
    {
      "cell_type": "markdown",
      "metadata": {},
      "source": [
        "Generate samples inside each stratum using :class:`.TrueStratifiedSampling` class.\n\n"
      ]
    },
    {
      "cell_type": "code",
      "execution_count": null,
      "metadata": {
        "collapsed": false
      },
      "outputs": [],
      "source": [
        "sts_obj1 = TrueStratifiedSampling(distributions=marginals, strata_object=strata_obj1, nsamples_per_stratum=1)\n\nfig = strata_obj1.plot_2d()\nplt.title('Stratified Sample - U(0,1)')\nplt.scatter(sts_obj1.samplesU01[:, 0], sts_obj1.samplesU01[:, 1], color='r')\nplt.ylim(0, 1)\nplt.xlim(0, 1)\nplt.show()"
      ]
    },
    {
      "cell_type": "markdown",
      "metadata": {},
      "source": [
        "## Proportional sampling\n:class:`.TrueStratifiedSampling` class can generate samples proportional to volume of each stratum.\n\n"
      ]
    },
    {
      "cell_type": "code",
      "execution_count": null,
      "metadata": {
        "collapsed": false
      },
      "outputs": [],
      "source": [
        "strata_obj.random_state = 24\nsts_obj2 = TrueStratifiedSampling(distributions=marginals, strata_object=strata_obj)\nsts_obj2.run(nsamples=10)"
      ]
    },
    {
      "cell_type": "markdown",
      "metadata": {},
      "source": [
        "It can be noticed that new sample in each stratum is proportional to volume.\n\n"
      ]
    },
    {
      "cell_type": "code",
      "execution_count": null,
      "metadata": {
        "collapsed": false
      },
      "outputs": [],
      "source": [
        "print('Volume: ', sts_obj2.strata_object.volume)\nprint('Number of samples in each stratum: ', sts_obj2.nsamples_per_stratum)\n\n\nfig = strata_obj.plot_2d()\nplt.title('Stratified Sample - U(0,1)')\nplt.scatter(sts_obj.samplesU01[:, 0], sts_obj.samplesU01[:, 1], color='r')\nplt.ylim(0, 1)\nplt.xlim(0, 1)\nplt.show()"
      ]
    }
  ],
  "metadata": {
    "kernelspec": {
      "display_name": "Python 3",
      "language": "python",
      "name": "python3"
    },
    "language_info": {
      "codemirror_mode": {
        "name": "ipython",
        "version": 3
      },
      "file_extension": ".py",
      "mimetype": "text/x-python",
      "name": "python",
      "nbconvert_exporter": "python",
      "pygments_lexer": "ipython3",
      "version": "3.12.11"
    }
  },
  "nbformat": 4,
  "nbformat_minor": 0
}