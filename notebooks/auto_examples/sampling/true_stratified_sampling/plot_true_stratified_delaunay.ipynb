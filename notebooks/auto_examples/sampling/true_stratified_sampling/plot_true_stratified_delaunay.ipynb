{
  "cells": [
    {
      "cell_type": "markdown",
      "metadata": {},
      "source": [
        "\n# Delaunay Stratified Sampling\n\nIn this example, the stratified sampling method is employed to generate samples from an exponential distribution\nusing Delaunay stratification.\n"
      ]
    },
    {
      "cell_type": "markdown",
      "metadata": {},
      "source": [
        "Import the necessary libraries. Here we import standard libraries such as numpy and matplotlib, but also need to\nimport the :class:`.DelaunayStrata` and :class:`.TrueStratifiedSampling` class from :py:mod:`UQpy.sampling`.\n\n"
      ]
    },
    {
      "cell_type": "code",
      "execution_count": null,
      "metadata": {
        "collapsed": false
      },
      "outputs": [],
      "source": [
        "from UQpy.sampling.stratified_sampling.TrueStratifiedSampling import TrueStratifiedSampling\nfrom UQpy.sampling.stratified_sampling.strata import DelaunayStrata\nfrom UQpy.distributions import Exponential\nimport numpy as np\nimport matplotlib.pyplot as plt"
      ]
    },
    {
      "cell_type": "markdown",
      "metadata": {},
      "source": [
        "Run :class:`.TrueStratifiedSampling` for 25 samples.\n\n- 2 dimensions\n- Five strata in each dimension\n- Exponential distribution with location parameter = 1 and scale parameter = 1.\n\nCreate a distribution object.\n\n"
      ]
    },
    {
      "cell_type": "code",
      "execution_count": null,
      "metadata": {
        "collapsed": false
      },
      "outputs": [],
      "source": [
        "marginals = [Exponential(loc=1., scale=1.), Exponential(loc=1., scale=1.)]"
      ]
    },
    {
      "cell_type": "markdown",
      "metadata": {},
      "source": [
        "## Equal number of samples in each stratum\n\nCreate strata object using :class:`.VoronoiStrata` class.\n\n"
      ]
    },
    {
      "cell_type": "code",
      "execution_count": null,
      "metadata": {
        "collapsed": false
      },
      "outputs": [],
      "source": [
        "seeds = np.array([[0, 0], [0.4, 0.8], [1, 0], [1, 1]])\nstrata_obj = DelaunayStrata(seeds=seeds)\nsts_obj = TrueStratifiedSampling(distributions=marginals, strata_object=strata_obj)"
      ]
    },
    {
      "cell_type": "markdown",
      "metadata": {},
      "source": [
        "Figure shows the stratification of domain using randomly generated seed points. Notice that :class:`.DelaunayStrata`\nclass include the corners of $[0, 1]^{dimension}$ hypercube before constructing Delaunay Triangulation. In this\nplot, orange points are the seed points and left corner is also included in the delaunay construction\n\n"
      ]
    },
    {
      "cell_type": "code",
      "execution_count": null,
      "metadata": {
        "collapsed": false
      },
      "outputs": [],
      "source": [
        "plt.triplot(strata_obj.delaunay.points[:, 0], strata_obj.delaunay.points[:, 1], strata_obj.delaunay.simplices)\nplt.plot(seeds[:, 0], seeds[:, 1], 'or')\nplt.show()"
      ]
    },
    {
      "cell_type": "markdown",
      "metadata": {},
      "source": [
        "Run stratified sampling\n\n"
      ]
    },
    {
      "cell_type": "code",
      "execution_count": null,
      "metadata": {
        "collapsed": false
      },
      "outputs": [],
      "source": [
        "sts_obj = TrueStratifiedSampling(distributions=marginals, strata_object=strata_obj)\nsts_obj.run(nsamples_per_stratum=2)"
      ]
    },
    {
      "cell_type": "markdown",
      "metadata": {},
      "source": [
        "Plot the resulting stratified samples and the boundaries of the strata in the $U(0,1)$ space.\n\n"
      ]
    },
    {
      "cell_type": "code",
      "execution_count": null,
      "metadata": {
        "collapsed": false
      },
      "outputs": [],
      "source": [
        "plt.triplot(strata_obj.delaunay.points[:, 0], strata_obj.delaunay.points[:, 1], strata_obj.delaunay.simplices)\nplt.plot(seeds[:, 0], seeds[:, 1], 'or')\nplt.plot(sts_obj.samplesU01[:, 0], sts_obj.samplesU01[:, 1], 'dm')\nplt.title('Stratified Sample - U(0,1)')\nplt.show()\n\nsts_obj.weights"
      ]
    },
    {
      "cell_type": "markdown",
      "metadata": {},
      "source": [
        "## Proportional Sampling\nDelaunay class can generate samples proportional to volume of each stratum.\n\n"
      ]
    },
    {
      "cell_type": "code",
      "execution_count": null,
      "metadata": {
        "collapsed": false
      },
      "outputs": [],
      "source": [
        "sts_obj = TrueStratifiedSampling(distributions=marginals, strata_object=strata_obj)\nsts_obj.run(nsamples=10)"
      ]
    },
    {
      "cell_type": "markdown",
      "metadata": {},
      "source": [
        "It can be noticed that new sample in each stratum is proportional to volume\n\n"
      ]
    },
    {
      "cell_type": "code",
      "execution_count": null,
      "metadata": {
        "collapsed": false
      },
      "outputs": [],
      "source": [
        "print('Volume: ', sts_obj.strata_object.volume)\nprint('Number of samples in each stratum: ', sts_obj.nsamples_per_stratum)\n\nplt.triplot(strata_obj.delaunay.points[:, 0], strata_obj.delaunay.points[:, 1], strata_obj.delaunay.simplices)\nplt.plot(seeds[:, 0], seeds[:, 1], 'or')\nplt.plot(sts_obj.samplesU01[:, 0], sts_obj.samplesU01[:, 1], 'dm')\nplt.show()"
      ]
    }
  ],
  "metadata": {
    "kernelspec": {
      "display_name": "Python 3",
      "language": "python",
      "name": "python3"
    },
    "language_info": {
      "codemirror_mode": {
        "name": "ipython",
        "version": 3
      },
      "file_extension": ".py",
      "mimetype": "text/x-python",
      "name": "python",
      "nbconvert_exporter": "python",
      "pygments_lexer": "ipython3",
      "version": "3.12.11"
    }
  },
  "nbformat": 4,
  "nbformat_minor": 0
}