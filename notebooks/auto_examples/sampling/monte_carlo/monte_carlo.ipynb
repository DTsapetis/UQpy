{
  "cells": [
    {
      "cell_type": "markdown",
      "metadata": {},
      "source": [
        "\n# Monte Carlo sampling with UQpy\n"
      ]
    },
    {
      "cell_type": "markdown",
      "metadata": {},
      "source": [
        "We'll be using UQpy's Monte Carlo sampling functionalities. We also use Matplotlib to display results graphically.\n\nAdditionally, this demonstration opts to use Numpy's random state management to ensure that results are reproducible\nbetween notebook runs.\n\n"
      ]
    },
    {
      "cell_type": "code",
      "execution_count": null,
      "metadata": {
        "collapsed": false
      },
      "outputs": [],
      "source": [
        "from UQpy.sampling import MonteCarloSampling\nimport matplotlib.pyplot as plt\n\nfrom numpy.random import RandomState"
      ]
    },
    {
      "cell_type": "markdown",
      "metadata": {},
      "source": [
        "## Step-by-step: continuous univariate distribution\nFirst, we import UQpy's normal distribution class.\n\n"
      ]
    },
    {
      "cell_type": "code",
      "execution_count": null,
      "metadata": {
        "collapsed": false
      },
      "outputs": [],
      "source": [
        "from UQpy.distributions import Normal"
      ]
    },
    {
      "cell_type": "markdown",
      "metadata": {},
      "source": [
        "We'll start by constructing two identical standard normal distributions :code:`normal1` and :code:`normal2`\n\n"
      ]
    },
    {
      "cell_type": "code",
      "execution_count": null,
      "metadata": {
        "collapsed": false
      },
      "outputs": [],
      "source": [
        "normal1 = normal2 = Normal()"
      ]
    },
    {
      "cell_type": "markdown",
      "metadata": {},
      "source": [
        "Next, we'll construct a :code:`MonteCarloSampling` object :code:`mc` to generate random samples following those\ndistributions. Here, we specify an optional initial number of samples, :code:`nsamples` to be generated at the\nobject's construction. For teh purposes of this demonstration, we also supply a random seed :code:`random_state`.\n\nWe access the generated samples via the :code:`samples` attribute.\n\n"
      ]
    },
    {
      "cell_type": "code",
      "execution_count": null,
      "metadata": {
        "collapsed": false
      },
      "outputs": [],
      "source": [
        "mc = MonteCarloSampling(distributions=[normal1, normal2],\n                        nsamples=5,\n                        random_state=RandomState(123))\n\nmc.samples"
      ]
    },
    {
      "cell_type": "markdown",
      "metadata": {},
      "source": [
        "To generate more samples on :code:`mc` after construction, we call :code:`mc.run` and once again specify\n:code:`nsamples`.\n\n"
      ]
    },
    {
      "cell_type": "code",
      "execution_count": null,
      "metadata": {
        "collapsed": false
      },
      "outputs": [],
      "source": [
        "mc.run(nsamples=2, random_state=RandomState(23))\n\nmc.samples"
      ]
    },
    {
      "cell_type": "markdown",
      "metadata": {},
      "source": [
        "We can transform the samples onto the unit hypercube via applying the probability integral transformation on the\nsamples to yield similar samples from the uniform distribution. We call :code:`mc.transform_u01`, from which results\nare stored in the :code:`samplesU01` attribute.\n\n"
      ]
    },
    {
      "cell_type": "code",
      "execution_count": null,
      "metadata": {
        "collapsed": false
      },
      "outputs": [],
      "source": [
        "mc.transform_u01()\n\nmc.samplesU01"
      ]
    },
    {
      "cell_type": "markdown",
      "metadata": {},
      "source": [
        "We can visualize the (untransformed) samples by plotting them on axes of each distribution's range.\n\n"
      ]
    },
    {
      "cell_type": "code",
      "execution_count": null,
      "metadata": {
        "collapsed": false
      },
      "outputs": [],
      "source": [
        "fig, ax = plt.subplots()\nplt.title('Samples')\n\nplt.scatter(x=mc.samples[:, 0],\n            y=mc.samples[:, 1],\n            marker='o')\n\nplt.setp(ax, xlim=(-1.7, 1.7), ylim=(-2.6, 2.6))\nax.yaxis.grid(True)\nax.xaxis.grid(True)"
      ]
    },
    {
      "cell_type": "markdown",
      "metadata": {},
      "source": [
        "As well, we can visualize each distribution's sample densities via histograms.\n\n"
      ]
    },
    {
      "cell_type": "code",
      "execution_count": null,
      "metadata": {
        "collapsed": false
      },
      "outputs": [],
      "source": [
        "fig, ax = plt.subplots(1, 2)\n\nfor i in (0, 1):\n    ax[i].set_title('Distribution ' + str(i + 1))\n    ax[i].hist(mc.samples[:, i])\n    ax[i].yaxis.grid(True)\n    ax[i].xaxis.grid(True)\n\nplt.setp(ax, xlim=(-3, 3), ylim=(0, 2));"
      ]
    },
    {
      "cell_type": "markdown",
      "metadata": {},
      "source": [
        "## Additional Examples\nContinuous multivariate distribution\n\"\"\"\"\"\"\"\"\"\"\"\"\"\"\"\"\"\"\"\"\"\"\"\"\"\"\"\"\"\"\"\"\"\"\"\"\"\"\"\"\nWe'll use UQpy's multivariate normal class.\n\n"
      ]
    },
    {
      "cell_type": "code",
      "execution_count": null,
      "metadata": {
        "collapsed": false
      },
      "outputs": [],
      "source": [
        "from UQpy.distributions import MultivariateNormal"
      ]
    },
    {
      "cell_type": "markdown",
      "metadata": {},
      "source": [
        "And we construct a multivariate normal distribution :code:`mvnormal` specifying parameters :code:`mean` with a vector\nof mean values and :code:`cov` with a covariance matrix.\n\n"
      ]
    },
    {
      "cell_type": "code",
      "execution_count": null,
      "metadata": {
        "collapsed": false
      },
      "outputs": [],
      "source": [
        "mvnormal = MultivariateNormal(mean=[1, 2],\n                              cov=[[4, -0.9],\n                                   [-0.9, 1]])"
      ]
    },
    {
      "cell_type": "markdown",
      "metadata": {},
      "source": [
        "With this distribution, we construct a :code:`MonteCarloSampling` object :code:`mvmc` and generate five samples on\nconstruction.\n\n"
      ]
    },
    {
      "cell_type": "code",
      "execution_count": null,
      "metadata": {
        "collapsed": false
      },
      "outputs": [],
      "source": [
        "mvmc = MonteCarloSampling(distributions=mvnormal,\n                          nsamples=5,\n                          random_state=RandomState(456))\n\nmvmc.samples"
      ]
    },
    {
      "cell_type": "markdown",
      "metadata": {},
      "source": [
        "### Mixing a multivariate and a univariate continuous distribution\nHere, we use one of our normal distributions and our multivariate normal distribution. Notice how each distribution\nhas its own bundle (array) of samples per run of sampling\u2014even when that bundle contains a single value.\n\n"
      ]
    },
    {
      "cell_type": "code",
      "execution_count": null,
      "metadata": {
        "collapsed": false
      },
      "outputs": [],
      "source": [
        "mixedmc = MonteCarloSampling(distributions=[normal1, mvnormal],\n                             nsamples=5,\n                             random_state=RandomState(789))\n\nmixedmc.samples"
      ]
    },
    {
      "cell_type": "markdown",
      "metadata": {},
      "source": [
        "### Mixing a continuous and a discrete distribution\nWe'll use UQpy's binomial distribution class for our discrete distribution.\n\n"
      ]
    },
    {
      "cell_type": "code",
      "execution_count": null,
      "metadata": {
        "collapsed": false
      },
      "outputs": [],
      "source": [
        "from UQpy.distributions import Binomial"
      ]
    },
    {
      "cell_type": "markdown",
      "metadata": {},
      "source": [
        "With that, we'll construct a :code:`binomial` distribution binomial with five trials :code:`n` and a 40% probability\n:code:`p` of success per trial.\n\n"
      ]
    },
    {
      "cell_type": "code",
      "execution_count": null,
      "metadata": {
        "collapsed": false
      },
      "outputs": [],
      "source": [
        "binomial = Binomial(n=5, p=0.4)"
      ]
    },
    {
      "cell_type": "markdown",
      "metadata": {},
      "source": [
        "And we construct a :code:`MonteCarloSampling` object :code:`cdmv` with five initial samples using our binomial\ndistribution and one of our normal distributions.\n\n"
      ]
    },
    {
      "cell_type": "code",
      "execution_count": null,
      "metadata": {
        "collapsed": false
      },
      "outputs": [],
      "source": [
        "cdmv = MonteCarloSampling(distributions=[binomial, normal1],\n                          nsamples=5,\n                          random_state=RandomState(333))\n\ncdmv.samples"
      ]
    }
  ],
  "metadata": {
    "kernelspec": {
      "display_name": "Python 3",
      "language": "python",
      "name": "python3"
    },
    "language_info": {
      "codemirror_mode": {
        "name": "ipython",
        "version": 3
      },
      "file_extension": ".py",
      "mimetype": "text/x-python",
      "name": "python",
      "nbconvert_exporter": "python",
      "pygments_lexer": "ipython3",
      "version": "3.12.11"
    }
  },
  "nbformat": 4,
  "nbformat_minor": 0
}