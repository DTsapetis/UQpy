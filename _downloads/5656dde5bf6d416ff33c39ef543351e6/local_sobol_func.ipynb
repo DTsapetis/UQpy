{
  "cells": [
    {
      "cell_type": "markdown",
      "metadata": {},
      "source": [
        "\n# Auxiliary file\n"
      ]
    },
    {
      "cell_type": "code",
      "execution_count": null,
      "metadata": {
        "collapsed": false
      },
      "outputs": [],
      "source": [
        "import numpy as np\nimport copy\n\n\ndef evaluate(X, a_values):\n\n    dims = len(a_values)\n    g = 1\n\n    for i in range(dims):\n        g_i = (np.abs(4 * X[:, i] - 2) + a_values[i]) / (1 + a_values[i])\n        g *= g_i\n\n    return g\n\n\ndef sensitivities(a_values):\n\n    dims = len(a_values)\n\n    Total_order = np.zeros((dims, 1))\n\n    V_i = (3 * (1 + a_values) ** 2) ** (-1)\n\n    total_variance = np.prod(1 + V_i) - 1\n\n    First_order = V_i / total_variance\n\n    for i in range(dims):\n\n        rem_First_order = copy.deepcopy(V_i)\n        rem_First_order[i] = 0\n        Total_order[i] = V_i[i] * np.prod(rem_First_order + 1) / total_variance\n\n    return First_order.reshape(-1, 1), Total_order"
      ]
    }
  ],
  "metadata": {
    "kernelspec": {
      "display_name": "Python 3",
      "language": "python",
      "name": "python3"
    },
    "language_info": {
      "codemirror_mode": {
        "name": "ipython",
        "version": 3
      },
      "file_extension": ".py",
      "mimetype": "text/x-python",
      "name": "python",
      "nbconvert_exporter": "python",
      "pygments_lexer": "ipython3",
      "version": "3.12.11"
    }
  },
  "nbformat": 4,
  "nbformat_minor": 0
}