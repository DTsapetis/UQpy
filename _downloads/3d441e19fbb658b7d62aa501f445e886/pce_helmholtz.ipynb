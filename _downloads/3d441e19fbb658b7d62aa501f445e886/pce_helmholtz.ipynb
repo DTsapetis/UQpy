{
  "cells": [
    {
      "cell_type": "markdown",
      "metadata": {},
      "source": [
        "\n# 2D Helmholtz eigenvalues (2 random inputs, vector-valued output)\n\nIn this example, PCE is used to generate a surrogate model for a given set of 2D data for a numerical model with\nmulti-dimensional outputs.\n"
      ]
    },
    {
      "cell_type": "markdown",
      "metadata": {},
      "source": [
        "Import necessary libraries.\n\n"
      ]
    },
    {
      "cell_type": "code",
      "execution_count": null,
      "metadata": {
        "collapsed": false
      },
      "outputs": [],
      "source": [
        "import numpy as np\nimport matplotlib.pyplot as plt\nimport math\nfrom UQpy.distributions import Normal, JointIndependent\nfrom UQpy.surrogates import *"
      ]
    },
    {
      "cell_type": "markdown",
      "metadata": {},
      "source": [
        "The analytical function below describes the eigenvalues of the 2D Helmholtz equation on a square.\n\n"
      ]
    },
    {
      "cell_type": "code",
      "execution_count": null,
      "metadata": {
        "collapsed": false
      },
      "outputs": [],
      "source": [
        "def analytical_eigenvalues_2d(Ne, lx, ly):\n    \"\"\"\n    Computes the first Ne eigenvalues of a rectangular waveguide with\n    dimensions lx, ly\n\n    Parameters\n    ----------\n    Ne : integer\n         number of eigenvalues.\n    lx : float\n         length in x direction.\n    ly : float\n         length in y direction.\n\n    Returns\n    -------\n    ev : numpy 1d array\n         the Ne eigenvalues\n    \"\"\"\n    ev = [(m * np.pi / lx) ** 2 + (n * np.pi / ly) ** 2 for m in range(1, Ne + 1)\n          for n in range(1, Ne + 1)]\n    ev = np.array(ev)\n\n    return ev[:Ne]"
      ]
    },
    {
      "cell_type": "markdown",
      "metadata": {},
      "source": [
        "Create a distribution object.\n\n"
      ]
    },
    {
      "cell_type": "code",
      "execution_count": null,
      "metadata": {
        "collapsed": false
      },
      "outputs": [],
      "source": [
        "pdf_lx = Normal(loc=2, scale=0.02)\npdf_ly = Normal(loc=1, scale=0.01)\nmargs = [pdf_lx, pdf_ly]\njoint = JointIndependent(marginals=margs)"
      ]
    },
    {
      "cell_type": "markdown",
      "metadata": {},
      "source": [
        "Define the number of input dimensions and choose the number of output dimensions (number of eigenvalues).\n\n"
      ]
    },
    {
      "cell_type": "code",
      "execution_count": null,
      "metadata": {
        "collapsed": false
      },
      "outputs": [],
      "source": [
        "dim_in = 2\ndim_out = 10"
      ]
    },
    {
      "cell_type": "markdown",
      "metadata": {},
      "source": [
        "Construct PCE models by varying the maximum degree of polynomials (and therefore the number of polynomial basis) and\ncompute the validation error for all resulting models.\n\n"
      ]
    },
    {
      "cell_type": "code",
      "execution_count": null,
      "metadata": {
        "collapsed": false
      },
      "outputs": [],
      "source": [
        "errors = []\n# construct PCE surrogate models\nfor max_degree in range(1, 6):\n    print('Total degree: ', max_degree)\n    polynomial_basis = TotalDegreeBasis(joint, max_degree)\n\n    print('Size of basis:', polynomial_basis.polynomials_number)\n    # training data\n    sampling_coeff = 5\n    print('Sampling coefficient: ', sampling_coeff)\n    np.random.seed(42)\n    n_samples = math.ceil(sampling_coeff * polynomial_basis.polynomials_number)\n    print('Training data: ', n_samples)\n    xx = joint.rvs(n_samples)\n    yy = np.array([analytical_eigenvalues_2d(dim_out, x[0], x[1]) for x in xx])\n\n    # fit model\n    least_squares = LeastSquareRegression()\n    pce_metamodel = PolynomialChaosExpansion(polynomial_basis=polynomial_basis, regression_method=least_squares)\n    pce_metamodel.fit(xx, yy)\n\n    # coefficients\n    # print('PCE coefficients: ', pce.C)\n\n    # validation errors\n    np.random.seed(999)\n    n_samples = 1000\n    x_val = joint.rvs(n_samples)\n    y_val = np.array([analytical_eigenvalues_2d(dim_out, x[0], x[1]) for x in x_val])\n    y_val_pce = pce_metamodel.predict(x_val)\n    errors.append(np.linalg.norm((y_val - y_val_pce) / y_val, ord=1, axis=0))\n    print('Relative absolute errors: ', errors[-1])\n    print('')"
      ]
    },
    {
      "cell_type": "markdown",
      "metadata": {},
      "source": [
        "Plot errors.\n\n"
      ]
    },
    {
      "cell_type": "code",
      "execution_count": null,
      "metadata": {
        "collapsed": false
      },
      "outputs": [],
      "source": [
        "errors = np.array(errors)\nplt.figure(1)\nfor i in range(np.shape(errors)[0]):\n    plt.semilogy(np.linspace(1, dim_out, dim_out), errors[i], '--o', label='pol. degree: {}'.format(i+1))\nplt.legend()\nplt.show()"
      ]
    },
    {
      "cell_type": "markdown",
      "metadata": {},
      "source": [
        "Moment estimation (directly estimated from the last PCE metamodel).\n\n"
      ]
    },
    {
      "cell_type": "code",
      "execution_count": null,
      "metadata": {
        "collapsed": false
      },
      "outputs": [],
      "source": [
        "print('Mean PCE estimate:', pce_metamodel.get_moments()[0])\nprint('')\nprint('Variance PCE estimate:', pce_metamodel.get_moments()[1])"
      ]
    }
  ],
  "metadata": {
    "kernelspec": {
      "display_name": "Python 3",
      "language": "python",
      "name": "python3"
    },
    "language_info": {
      "codemirror_mode": {
        "name": "ipython",
        "version": 3
      },
      "file_extension": ".py",
      "mimetype": "text/x-python",
      "name": "python",
      "nbconvert_exporter": "python",
      "pygments_lexer": "ipython3",
      "version": "3.12.11"
    }
  },
  "nbformat": 4,
  "nbformat_minor": 0
}