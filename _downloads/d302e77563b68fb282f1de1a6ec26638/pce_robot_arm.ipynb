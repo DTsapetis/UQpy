{
  "cells": [
    {
      "cell_type": "markdown",
      "metadata": {},
      "source": [
        "\n# Robot Arm function (8 random inputs, scalar output)\n\nIn this example, PCE is used to generate a surrogate model for a given set of 8D data.\n\n**Dimensions:** 8\n\n**Description:**  Models the position of a robot arm which has four segments.\n\n**Input Domain:**  The input variables and their usual input ranges are: $[0,1]$ for the $L_i$ inputs\nand $[0,2\\pi]$ for the $\u03b8_i$ inputs.\n\n**Function:**\n\n$f(x) = \\Big( \\sum_{i=1}^{4}L_i cos\\Big(\\sum_{j=1}^{i} \u03b8_j\\Big) \\Big)^{2} + \\Big( \\sum_{i=1}^{4}L_i sin\\Big(\\sum_{j=1}^{i} \u03b8_j\\Big) \\Big)^{2}$\n\n**Output:** The square distance from the end of the robot arm to the origin.\n\n**Reference:**  An, J., & Owen, A. (2001). Quasi-regression. Journal of Complexity, 17(4), 588-607.\n"
      ]
    },
    {
      "cell_type": "markdown",
      "metadata": {},
      "source": [
        "Import necessary libraries.\n\n"
      ]
    },
    {
      "cell_type": "code",
      "execution_count": null,
      "metadata": {
        "collapsed": false
      },
      "outputs": [],
      "source": [
        "import numpy as np\nimport matplotlib.pyplot as plt\nfrom UQpy.distributions import Uniform, JointIndependent\nfrom UQpy.surrogates import *"
      ]
    },
    {
      "cell_type": "markdown",
      "metadata": {},
      "source": [
        "Define the function.\n\n"
      ]
    },
    {
      "cell_type": "code",
      "execution_count": null,
      "metadata": {
        "collapsed": false
      },
      "outputs": [],
      "source": [
        "def function(x):\n    # without square root\n    u1 = x[:, 4] * np.cos(x[:, 0])\n    u2 = x[:, 4] * np.cos(x[:, 0]) + x[:, 5] * np.cos(np.sum(x[:, :2], axis=1))\n    u3 = x[:, 4] * np.cos(x[:, 0]) + x[:, 5] * np.cos(np.sum(x[:, :2], axis=1)) + x[:, 6] * np.cos(\n        np.sum(x[:, :3], axis=1))\n    u4 = x[:, 4] * np.cos(x[:, 0]) + x[:, 5] * np.cos(np.sum(x[:, :2], axis=1)) + x[:, 6] * np.cos(\n        np.sum(x[:, :3], axis=1)) + x[:, 7] * np.cos(np.sum(x[:, :4], axis=1))\n\n    v1 = x[:, 4] * np.sin(x[:, 0])\n    v2 = x[:, 4] * np.sin(x[:, 0]) + x[:, 5] * np.sin(np.sum(x[:, :2], axis=1))\n    v3 = x[:, 4] * np.sin(x[:, 0]) + x[:, 5] * np.sin(np.sum(x[:, :2], axis=1)) + x[:, 6] * np.sin(\n        np.sum(x[:, :3], axis=1))\n    v4 = x[:, 4] * np.sin(x[:, 0]) + x[:, 5] * np.sin(np.sum(x[:, :2], axis=1)) + x[:, 6] * np.sin(\n        np.sum(x[:, :3], axis=1)) + x[:, 7] * np.sin(np.sum(x[:, :4], axis=1))\n\n    return (u1 + u2 + u3 + u4) ** 2 + (v1 + v2 + v3 + v4) ** 2"
      ]
    },
    {
      "cell_type": "markdown",
      "metadata": {},
      "source": [
        "Create a distribution object, generate samples and evaluate the function at the samples.\n\n"
      ]
    },
    {
      "cell_type": "code",
      "execution_count": null,
      "metadata": {
        "collapsed": false
      },
      "outputs": [],
      "source": [
        "np.random.seed(1)\n\ndist_1 = Uniform(loc=0, scale=2*np.pi)\ndist_2 = Uniform(loc=0, scale=1)\n\nmarg = [dist_1]*4\nmarg_1 = [dist_2]*4\nmarg.extend(marg_1)\n\njoint = JointIndependent(marginals=marg)\n\nn_samples = 9000\nx = joint.rvs(n_samples)\ny = function(x)"
      ]
    },
    {
      "cell_type": "markdown",
      "metadata": {},
      "source": [
        "Create an object from the PCE class. Compute PCE coefficients using least squares regression.\n\n"
      ]
    },
    {
      "cell_type": "code",
      "execution_count": null,
      "metadata": {
        "collapsed": false
      },
      "outputs": [],
      "source": [
        "max_degree = 6\npolynomial_basis = TotalDegreeBasis(joint, max_degree)\nleast_squares = LeastSquareRegression()\npce = PolynomialChaosExpansion(polynomial_basis=polynomial_basis, regression_method=least_squares)\n\npce.fit(x,y)"
      ]
    },
    {
      "cell_type": "markdown",
      "metadata": {},
      "source": [
        "Compute PCE coefficients using Lasso regression.\n\n"
      ]
    },
    {
      "cell_type": "code",
      "execution_count": null,
      "metadata": {
        "collapsed": false
      },
      "outputs": [],
      "source": [
        "polynomial_basis = PolynomialBasis.create_total_degree_basis(joint, max_degree)\nlasso = LassoRegression()\npce2 = PolynomialChaosExpansion(polynomial_basis=polynomial_basis, regression_method=lasso)\n\npce2.fit(x,y)"
      ]
    },
    {
      "cell_type": "markdown",
      "metadata": {},
      "source": [
        "Compute PCE coefficients using Ridge regression.\n\n"
      ]
    },
    {
      "cell_type": "code",
      "execution_count": null,
      "metadata": {
        "collapsed": false
      },
      "outputs": [],
      "source": [
        "polynomial_basis = TotalDegreeBasis(joint, max_degree)\nridge = RidgeRegression()\npce3 = PolynomialChaosExpansion(polynomial_basis=polynomial_basis, regression_method=ridge)\n\npce3.fit(x,y)"
      ]
    },
    {
      "cell_type": "markdown",
      "metadata": {},
      "source": [
        "## Error Estimation\nValidation error.\n\n"
      ]
    },
    {
      "cell_type": "code",
      "execution_count": null,
      "metadata": {
        "collapsed": false
      },
      "outputs": [],
      "source": [
        "n_samples = 500\nx_val = joint.rvs(n_samples)\ny_val = function(x_val)\n\ny_pce = pce.predict(x_val).flatten()\ny_pce2 = pce2.predict(x_val).flatten()\ny_pce3 = pce3.predict(x_val).flatten()\n\nerror = np.sum(np.abs(y_pce - y_val)/np.abs(y_val))/n_samples\nerror2 = np.sum(np.abs(y_pce2 - y_val)/np.abs(y_val))/n_samples\nerror3 = np.sum(np.abs(y_pce3 - y_val)/np.abs(y_val))/n_samples\n\nprint('Validation error, LSTSQ-PCE:', error)\nprint('Validation error, LASSO-PCE:', error2)\nprint('Validation error, Ridge-PCE:', error3)"
      ]
    },
    {
      "cell_type": "markdown",
      "metadata": {},
      "source": [
        "## Moment Estimation\nReturns mean and variance of the PCE surrogate.\n\n"
      ]
    },
    {
      "cell_type": "code",
      "execution_count": null,
      "metadata": {
        "collapsed": false
      },
      "outputs": [],
      "source": [
        "n_mc = 1000000\nx_mc = joint.rvs(n_mc)\ny_mc = function(x_mc)\nmean_mc = np.mean(y_mc)\nvar_mc = np.var(y_mc)\n\nprint('Moments from least squares regression :', pce.get_moments())\nprint('Moments from LASSO regression :', pce2.get_moments())\nprint('Moments from Ridge regression :', pce3.get_moments())\nprint('Moments from MC integration: ', mean_mc, var_mc)"
      ]
    }
  ],
  "metadata": {
    "kernelspec": {
      "display_name": "Python 3",
      "language": "python",
      "name": "python3"
    },
    "language_info": {
      "codemirror_mode": {
        "name": "ipython",
        "version": 3
      },
      "file_extension": ".py",
      "mimetype": "text/x-python",
      "name": "python",
      "nbconvert_exporter": "python",
      "pygments_lexer": "ipython3",
      "version": "3.12.11"
    }
  },
  "nbformat": 4,
  "nbformat_minor": 0
}