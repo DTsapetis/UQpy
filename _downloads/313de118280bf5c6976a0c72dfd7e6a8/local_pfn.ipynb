{
  "cells": [
    {
      "cell_type": "markdown",
      "metadata": {},
      "source": [
        "\n# Auxiliary file\n"
      ]
    },
    {
      "cell_type": "code",
      "execution_count": null,
      "metadata": {
        "collapsed": false
      },
      "outputs": [],
      "source": [
        "import numpy as np\n\n\ndef cantilever_beam(samples=None):\n    \"\"\"Performance function from Chapter 7 Example 7.2 from Du 2005\"\"\"\n    elastic_modulus = 30e6\n    length = 100\n    width = 2\n    height = 4\n    d_0 = 3\n\n    g = np.zeros(samples.shape[0])\n    for i in range(samples.shape[0]):\n        x = (samples[i, 0] / width**2) ** 2\n        y = (samples[i, 1] / height**2) ** 2\n        d = ((4 * length**3) / (elastic_modulus * width * height)) * np.sqrt(x + y)\n        g[i] = d_0 - d\n    return g"
      ]
    }
  ],
  "metadata": {
    "kernelspec": {
      "display_name": "Python 3",
      "language": "python",
      "name": "python3"
    },
    "language_info": {
      "codemirror_mode": {
        "name": "ipython",
        "version": 3
      },
      "file_extension": ".py",
      "mimetype": "text/x-python",
      "name": "python",
      "nbconvert_exporter": "python",
      "pygments_lexer": "ipython3",
      "version": "3.12.11"
    }
  },
  "nbformat": 4,
  "nbformat_minor": 0
}