{
  "cells": [
    {
      "cell_type": "markdown",
      "metadata": {},
      "source": [
        "\n# Resonance Auxiliary File\n"
      ]
    },
    {
      "cell_type": "code",
      "execution_count": null,
      "metadata": {
        "collapsed": false
      },
      "outputs": [],
      "source": [
        "import numpy as np\n\n\nclass RunPythonModel:\n\n    def __init__(self, samples=None):\n\n        self.samples = samples\n        self.qoi = [0]*self.samples.shape[0]\n\n        self.omega = 6.\n        self.epsilon = 0.0001\n        \n        for i in range(self.samples.shape[0]):\n            add = self.samples[i][1] - self.samples[i][0]*(self.omega+self.epsilon)**2\n            diff = self.samples[i][0]*(self.omega-self.epsilon)**2 - self.samples[i][1]\n            self.qoi[i] = np.maximum(add, diff)"
      ]
    }
  ],
  "metadata": {
    "kernelspec": {
      "display_name": "Python 3",
      "language": "python",
      "name": "python3"
    },
    "language_info": {
      "codemirror_mode": {
        "name": "ipython",
        "version": 3
      },
      "file_extension": ".py",
      "mimetype": "text/x-python",
      "name": "python",
      "nbconvert_exporter": "python",
      "pygments_lexer": "ipython3",
      "version": "3.12.11"
    }
  },
  "nbformat": 4,
  "nbformat_minor": 0
}