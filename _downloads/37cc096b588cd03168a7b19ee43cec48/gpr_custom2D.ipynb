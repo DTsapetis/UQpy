{
  "cells": [
    {
      "cell_type": "markdown",
      "metadata": {},
      "source": [
        "\n# Gaussian Process of a custom 2D function\n"
      ]
    },
    {
      "cell_type": "markdown",
      "metadata": {},
      "source": [
        "In this example, Gaussian Process Regression is used to generate a surrogate model for a given data. In this data,\nsample points are generated using TrueStratifiedSampling class and functional value at sample points are estimated\nusing a model defined in python script ('python_model_function.py).\n\n"
      ]
    },
    {
      "cell_type": "markdown",
      "metadata": {},
      "source": [
        "Import the necessary libraries. Here we import standard libraries such as numpy and matplotlib, but also need to\nimport the TrueStratifiedSampling, RunModel and GaussianProcessRegression class from UQpy.\n\n"
      ]
    },
    {
      "cell_type": "code",
      "execution_count": null,
      "metadata": {
        "collapsed": false
      },
      "outputs": [],
      "source": [
        "import shutil\n\nfrom UQpy import PythonModel\nfrom UQpy.surrogates.gaussian_process.regression_models import ConstantRegression\nfrom UQpy.sampling import RectangularStrata\nfrom UQpy.sampling import TrueStratifiedSampling\nfrom UQpy.run_model.RunModel import RunModel\nfrom UQpy.distributions import Uniform\nimport numpy as np\nimport matplotlib.pyplot as plt\nfrom matplotlib import cm\nfrom matplotlib.ticker import LinearLocator, FormatStrFormatter\nfrom UQpy.surrogates import GaussianProcessRegression"
      ]
    },
    {
      "cell_type": "markdown",
      "metadata": {},
      "source": [
        "Create a distribution object.\n\n"
      ]
    },
    {
      "cell_type": "code",
      "execution_count": null,
      "metadata": {
        "collapsed": false
      },
      "outputs": [],
      "source": [
        "from UQpy.utilities import Matern\n\nmarginals = [Uniform(loc=0., scale=1.), Uniform(loc=0., scale=1.)]"
      ]
    },
    {
      "cell_type": "markdown",
      "metadata": {},
      "source": [
        "Create a strata object.\n\n"
      ]
    },
    {
      "cell_type": "code",
      "execution_count": null,
      "metadata": {
        "collapsed": false
      },
      "outputs": [],
      "source": [
        "strata = RectangularStrata(strata_number=[10, 10])"
      ]
    },
    {
      "cell_type": "markdown",
      "metadata": {},
      "source": [
        "Using UQpy TrueStratifiedSampling class to generate samples for two random variables,\nwhich are uniformly distributed between 0 and 1.\n\n"
      ]
    },
    {
      "cell_type": "code",
      "execution_count": null,
      "metadata": {
        "collapsed": false
      },
      "outputs": [],
      "source": [
        "x = TrueStratifiedSampling(distributions=marginals, strata_object=strata,\n                           nsamples_per_stratum=1, random_state=1)"
      ]
    },
    {
      "cell_type": "markdown",
      "metadata": {},
      "source": [
        "RunModel is used to evaluate function values at sample points. Model is defined as a function in python file\n'python_model_function.py'.\n\n"
      ]
    },
    {
      "cell_type": "code",
      "execution_count": null,
      "metadata": {
        "collapsed": false
      },
      "outputs": [],
      "source": [
        "model = PythonModel(model_script='local_python_model_function.py', model_object_name=\"y_func\")\nrmodel = RunModel(model=model)\n\nrmodel.run(samples=x.samples)"
      ]
    },
    {
      "cell_type": "markdown",
      "metadata": {},
      "source": [
        "Using UQpy GaussianProcessRegression class to generate a surrogate for generated data. In this illustration, Quadratic regression model and\nExponential correlation model are used.\n\n"
      ]
    },
    {
      "cell_type": "code",
      "execution_count": null,
      "metadata": {
        "collapsed": false
      },
      "outputs": [],
      "source": [
        "regression_model = ConstantRegression()\nkernel = Matern(nu=0.5)\n\nfrom UQpy.utilities.MinimizeOptimizer import MinimizeOptimizer\n\noptimizer = MinimizeOptimizer(method=\"L-BFGS-B\")\nK = GaussianProcessRegression(regression_model=regression_model, optimizer=optimizer,\n                              kernel=kernel,\n                              optimizations_number=20,\n                              hyperparameters=[1, 1, 0.1])\nK.fit(samples=x.samples, values=rmodel.qoi_list)\nprint(K.hyperparameters)"
      ]
    },
    {
      "cell_type": "markdown",
      "metadata": {},
      "source": [
        "This plot shows the actual model which is used to evaluate the samples to identify the function values.\n\n"
      ]
    },
    {
      "cell_type": "code",
      "execution_count": null,
      "metadata": {
        "collapsed": false
      },
      "outputs": [],
      "source": [
        "num = 25\nx1 = np.linspace(0, 1, num)\nx2 = np.linspace(0, 1, num)\n\nx1g, x2g = np.meshgrid(x1, x2)\nx1gv, x2gv = x1g.reshape(x1g.size, 1), x2g.reshape(x2g.size, 1)\n\ny2 = K.predict(np.concatenate([x1gv, x2gv], 1)).reshape(x1g.shape[0], x1g.shape[1])\nmodel = PythonModel(model_script='local_python_model_function.py', model_object_name=\"y_func\")\nr2model = RunModel(model=model)\nr2model.run(samples=np.concatenate([x1gv, x2gv], 1))\ny_act = np.array(r2model.qoi_list).reshape(x1g.shape[0], x1g.shape[1])\n\nfig1 = plt.figure()\nax = fig1.add_subplot(projection='3d')\nsurf = ax.plot_surface(x1g, x2g, y_act, cmap=cm.coolwarm, linewidth=0, antialiased=False)\nax.set_zlim(-1, 15)\nax.zaxis.set_major_locator(LinearLocator(10))\nax.zaxis.set_major_formatter(FormatStrFormatter('%.02f'))\n# Add a color bar which maps values to colors.\nfig1.colorbar(surf, shrink=0.5, aspect=5)\nplt.show()"
      ]
    },
    {
      "cell_type": "markdown",
      "metadata": {},
      "source": [
        "This plot shows the input data as red dot and green wireframe plot represent the kriging surrogate generated through\nKriging class.\n\n"
      ]
    },
    {
      "cell_type": "code",
      "execution_count": null,
      "metadata": {
        "collapsed": false
      },
      "outputs": [],
      "source": [
        "fig2 = plt.figure()\nax2 = plt.axes(projection='3d')\n# Plot for estimated values\nkr = ax2.plot_wireframe(x1g, x2g, y2, color='Green', label='Kriging interpolate')\n\n# Plot for scattered data\nID = ax2.scatter3D(x.samples[:, 0], x.samples[:, 1], np.array(rmodel.qoi_list), color='Red', label='Input data')\nplt.legend(handles=[kr, ID])\nplt.show()"
      ]
    }
  ],
  "metadata": {
    "kernelspec": {
      "display_name": "Python 3",
      "language": "python",
      "name": "python3"
    },
    "language_info": {
      "codemirror_mode": {
        "name": "ipython",
        "version": 3
      },
      "file_extension": ".py",
      "mimetype": "text/x-python",
      "name": "python",
      "nbconvert_exporter": "python",
      "pygments_lexer": "ipython3",
      "version": "3.12.11"
    }
  },
  "nbformat": 4,
  "nbformat_minor": 0
}