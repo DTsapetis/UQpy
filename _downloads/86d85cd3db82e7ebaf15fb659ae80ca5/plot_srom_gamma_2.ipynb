{
  "cells": [
    {
      "cell_type": "markdown",
      "metadata": {},
      "source": [
        "\n# SROM on a Gamma distribution 2\n\nIn this example, Stratified sampling is used to generate samples from Gamma distribution and weights are defined using\nStochastic Reduce Order Model (SROM). This example illustrate how to define same weights for each sample of a\nrandom variable.\n"
      ]
    },
    {
      "cell_type": "markdown",
      "metadata": {},
      "source": [
        "Import the necessary libraries. Here we import standard libraries such as numpy and matplotlib, but also need to\nimport the :class:`.TrueStratifiedSampling` and :class:`.SROM` class from UQpy.\n\n"
      ]
    },
    {
      "cell_type": "code",
      "execution_count": null,
      "metadata": {
        "collapsed": false
      },
      "outputs": [],
      "source": [
        "from UQpy.surrogates import SROM\nfrom UQpy.sampling import RectangularStrata\nfrom UQpy.sampling import TrueStratifiedSampling\nfrom UQpy.distributions import Gamma\nimport scipy.stats as stats\nimport matplotlib.pyplot as plt\nimport numpy as np"
      ]
    },
    {
      "cell_type": "markdown",
      "metadata": {},
      "source": [
        "Create a distribution object for :class:`.Gamma` distribution with shape, shift and scale parameters as $2$,\n$1$ and $3$.\n\n"
      ]
    },
    {
      "cell_type": "code",
      "execution_count": null,
      "metadata": {
        "collapsed": false
      },
      "outputs": [],
      "source": [
        "marginals = [Gamma(a=2., loc=1., scale=3.), Gamma(a=2., loc=1., scale=3.)]"
      ]
    },
    {
      "cell_type": "markdown",
      "metadata": {},
      "source": [
        "Create a strata object.\n\n"
      ]
    },
    {
      "cell_type": "code",
      "execution_count": null,
      "metadata": {
        "collapsed": false
      },
      "outputs": [],
      "source": [
        "strata = RectangularStrata(strata_number=[4, 4])"
      ]
    },
    {
      "cell_type": "markdown",
      "metadata": {},
      "source": [
        "Using UQpy :class:`.TrueStratifiedSampling` class to generate samples for two random variables having :class:`.Gamma`\ndistribution.\n\n"
      ]
    },
    {
      "cell_type": "code",
      "execution_count": null,
      "metadata": {
        "collapsed": false
      },
      "outputs": [],
      "source": [
        "x = TrueStratifiedSampling(distributions=marginals,\n                           strata_object=strata,\n                           nsamples_per_stratum=1)"
      ]
    },
    {
      "cell_type": "markdown",
      "metadata": {},
      "source": [
        "Run :class:`.SROM` using the defined Gamma distribution. Here we use the following parameters.\n\n- :class:`.Gamma` distribution with shape, shift and scale parameters as $2$, $1$ and $3$.\n- First and second order moments about origin are $6$ and $54$.\n- Notice that :code:`pdf_target` references the :class:`.Gamma` function directly and does not designate it as a string.\n- Samples are uncorrelated, i.e. also default value of correlation.\n\n"
      ]
    },
    {
      "cell_type": "code",
      "execution_count": null,
      "metadata": {
        "collapsed": false
      },
      "outputs": [],
      "source": [
        "y1 = SROM(samples=x.samples, target_distributions=marginals, moments=[[6., 6.], [54., 54.]],\n          properties=[True, True, True, False])"
      ]
    },
    {
      "cell_type": "markdown",
      "metadata": {},
      "source": [
        "In this case, sample_weights are generated using default values of :code:`weights_distribution`,\n:code:`weights_moments` and :code:`weights_correlation`. Default values are:\n\n"
      ]
    },
    {
      "cell_type": "code",
      "execution_count": null,
      "metadata": {
        "collapsed": false
      },
      "outputs": [],
      "source": [
        "print('weights_distribution', '\\n', y1.weights_distribution, '\\n', 'weights_moments', '\\n', y1.weights_moments, '\\n',\n      'weights_correlation', '\\n', y1.weights_correlation)\n\ny2 = SROM(samples=x.samples, target_distributions=marginals, moments=[[6., 6.], [54., 54.]],\n          properties=[True, True, True, False],\n          weights_distribution=[[0.4, 0.5]], weights_moments=[[0.2, 0.7]],\n          weights_correlation=[[0.3, 0.4], [0.4, 0.6]])"
      ]
    },
    {
      "cell_type": "markdown",
      "metadata": {},
      "source": [
        "In second case, :code:`weights_distribution` is modified by :class:`SROM` class. First, it defines an array of size\n$2\u00d716$ with all elements equal to $1$ and then multiply first column by $0.4$ and second column by\n$0.5$ . Similarly, :code:`weights_moments` and :code:`weights_correlation` are modified.\n\n"
      ]
    },
    {
      "cell_type": "code",
      "execution_count": null,
      "metadata": {
        "collapsed": false
      },
      "outputs": [],
      "source": [
        "print('weights_distribution', '\\n', y2.weights_distribution, '\\n', 'weights_moments', '\\n', y2.weights_moments, '\\n',\n      'weights_correlation', '\\n', y2.weights_correlation)"
      ]
    },
    {
      "cell_type": "markdown",
      "metadata": {},
      "source": [
        "Plot below shows the comparison of samples weights generated using two different weights with the actual CDF of\ngamma distribution.\n\n"
      ]
    },
    {
      "cell_type": "code",
      "execution_count": null,
      "metadata": {
        "collapsed": false
      },
      "outputs": [],
      "source": [
        "c1 = np.concatenate((y1.samples, y1.sample_weights.reshape(y1.sample_weights.shape[0], 1)), axis=1)\nd1 = c1[c1[:, 0].argsort()]\nc2 = np.concatenate((y2.samples, y2.sample_weights.reshape(y2.sample_weights.shape[0], 1)), axis=1)\nd2 = c2[c2[:, 0].argsort()]\nplt.plot(d1[:, 0], np.cumsum(d1[:, 2], axis=0), 'x')\nplt.plot(d2[:, 0], np.cumsum(d2[:, 2], axis=0), 'o')\nplt.plot(np.arange(1,15,0.1), stats.gamma.cdf(np.arange(1,15,0.1), 2, loc=1, scale=3))\nplt.legend(['Case 1','Case 2','CDF'])\nplt.title('1st random variable')\nplt.show()"
      ]
    },
    {
      "cell_type": "markdown",
      "metadata": {},
      "source": [
        "A note on the weights corresponding to distribution, moments and correlation of random variables:\n\n- For this illustration, default weights_moments are square of reciprocal of moments. Thus, moments should be of :any:'list[float]' type.\n\n"
      ]
    }
  ],
  "metadata": {
    "kernelspec": {
      "display_name": "Python 3",
      "language": "python",
      "name": "python3"
    },
    "language_info": {
      "codemirror_mode": {
        "name": "ipython",
        "version": 3
      },
      "file_extension": ".py",
      "mimetype": "text/x-python",
      "name": "python",
      "nbconvert_exporter": "python",
      "pygments_lexer": "ipython3",
      "version": "3.12.11"
    }
  },
  "nbformat": 4,
  "nbformat_minor": 0
}