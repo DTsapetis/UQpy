{
  "cells": [
    {
      "cell_type": "markdown",
      "metadata": {},
      "source": [
        "\n# Auxiliary File\n"
      ]
    },
    {
      "cell_type": "code",
      "execution_count": null,
      "metadata": {
        "collapsed": false
      },
      "outputs": [],
      "source": [
        "import numpy as np\n\n\nclass RunPythonModel:\n\n    def __init__(self, samples=None, dimension=None):\n\n        self.samples = samples\n        self.dimension = dimension\n        self.qoi = np.zeros_like(self.samples)\n        for i in range(self.samples.shape[0]):\n            p = np.array([[self.samples[i, 0]+self.samples[i, 1], -self.samples[i, 1], 0], \n                          [-self.samples[i, 1], self.samples[i, 1]+self.samples[i, 2], -self.samples[i, 2]], \n                          [0, -self.samples[i, 2], self.samples[i, 2]]])\n            w, v = np.linalg.eig(p)\n            self.qoi[i, :] = w"
      ]
    }
  ],
  "metadata": {
    "kernelspec": {
      "display_name": "Python 3",
      "language": "python",
      "name": "python3"
    },
    "language_info": {
      "codemirror_mode": {
        "name": "ipython",
        "version": 3
      },
      "file_extension": ".py",
      "mimetype": "text/x-python",
      "name": "python",
      "nbconvert_exporter": "python",
      "pygments_lexer": "ipython3",
      "version": "3.12.11"
    }
  },
  "nbformat": 4,
  "nbformat_minor": 0
}