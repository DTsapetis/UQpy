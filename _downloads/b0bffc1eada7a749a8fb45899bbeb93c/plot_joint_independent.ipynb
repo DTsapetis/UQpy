{
  "cells": [
    {
      "cell_type": "markdown",
      "metadata": {},
      "source": [
        "\n# Multivariate from independent marginals\n\nThis examples shows the use of the multivariate normal distribution class. In particular:\n"
      ]
    },
    {
      "cell_type": "markdown",
      "metadata": {},
      "source": [
        "- How to define one multivariate distribution from independent marginals supported by UQpy\n- How to plot the pdf of the distribution\n- How to extract the moments of the distribution\n- How to draw random samples from the distribution\n\n"
      ]
    },
    {
      "cell_type": "markdown",
      "metadata": {},
      "source": [
        "Import the necessary modules.\n\n"
      ]
    },
    {
      "cell_type": "code",
      "execution_count": null,
      "metadata": {
        "collapsed": false
      },
      "outputs": [],
      "source": [
        "from UQpy.distributions.collection import Normal, Lognormal, JointIndependent\nimport numpy as np\nimport matplotlib.pyplot as plt"
      ]
    },
    {
      "cell_type": "markdown",
      "metadata": {},
      "source": [
        "## Define a multivariate distribution from independent univariate marginals.\n\nIn order to define a JointIndependent distribution, a list of marginal distributions is initially created.\nThese marginals are then provided as input to the JointIndependent class of UQpy.\nRetrieving the multivariate distribution parameters is achieved using the get_parameters method.\n\n"
      ]
    },
    {
      "cell_type": "code",
      "execution_count": null,
      "metadata": {
        "collapsed": false
      },
      "outputs": [],
      "source": [
        "marginals = [Normal(loc=2., scale=2.),\n             Lognormal(s=1., loc=0., scale=np.exp(5))]\n\ndist = JointIndependent(marginals=marginals)\n\nprint(dist.get_parameters())"
      ]
    },
    {
      "cell_type": "markdown",
      "metadata": {},
      "source": [
        "## Sample the distribution  and plot the pdf of the distribution.\nIn a similar manner to univariate distributions, samples can be drawn from an JointIndependent distribution\nusing its rvs method.\n\n"
      ]
    },
    {
      "cell_type": "code",
      "execution_count": null,
      "metadata": {
        "collapsed": false
      },
      "outputs": [],
      "source": [
        "data = dist.rvs(nsamples=1000)\nfig, ax = plt.subplots(ncols=2, figsize=(10, 4))\nax[0].scatter(data[:, 0], data[:, 1], alpha=0.2)\nax[0].set_xlabel('dimension 1')\nax[0].set_ylabel('dimension 2')\nax[0].set_title('random samples')\nax[0].set_ylim([0, 500])\nax[0].set_xlim([-2, 6])\n\nx = np.arange(-2.0, 6.0, 0.2)\ny = np.arange(0.01, 500, 1)\nX, Y = np.meshgrid(x, y)\nZ = dist.pdf(x=np.concatenate([X.reshape((-1, 1)), Y.reshape((-1, 1))], axis=1))\nCS = ax[1].contour(X, Y, Z.reshape(X.shape))\nax[1].clabel(CS, inline=1, fontsize=10)\nax[1].set_xlabel('dimension 1')\nax[1].set_ylabel('dimension 2')\nax[1].set_title('Contour plot of pdf')\nax[0].set_ylim([0, 500])\nax[0].set_xlim([-2, 6])\nplt.show()"
      ]
    },
    {
      "cell_type": "markdown",
      "metadata": {},
      "source": [
        "## Print the moments of the distribution\nProviding a single or multiple consecutive initials of the following four distributions moments\n'm': mean, 'v': variance, 's': skewness, 'k': kurtosis\nallows the user to obtains the respective moments from all underlying univariate distributions.\nIn the following examples providing the string 'mv' to the moments function, returns the respective means and\nvariances.\n\n"
      ]
    },
    {
      "cell_type": "code",
      "execution_count": null,
      "metadata": {
        "collapsed": false
      },
      "outputs": [],
      "source": [
        "print(dist.moments())\nprint(dist.moments(moments2return='mv'))"
      ]
    },
    {
      "cell_type": "markdown",
      "metadata": {},
      "source": [
        "## Modify the parameters of the distribution.\n\nUse the update_parameters method.\n\n"
      ]
    },
    {
      "cell_type": "code",
      "execution_count": null,
      "metadata": {
        "collapsed": false
      },
      "outputs": [],
      "source": [
        "print(dist)\nprint()\nprint('Parameters of the marginals:')\nprint([m.parameters for m in marginals])\nprint('Parameters of the joint:')\nprint(dist.get_parameters())\nprint()\nprint('Update the location parameter of the second marginal and scale parameter of first marginal...')\ndist.update_parameters(loc_1=1., scale_0=3., )\nprint('Parameters of the marginals:')\nprint([m.parameters for m in marginals])\nprint('Parameters of the joint:')\nprint(dist.get_parameters())"
      ]
    }
  ],
  "metadata": {
    "kernelspec": {
      "display_name": "Python 3",
      "language": "python",
      "name": "python3"
    },
    "language_info": {
      "codemirror_mode": {
        "name": "ipython",
        "version": 3
      },
      "file_extension": ".py",
      "mimetype": "text/x-python",
      "name": "python",
      "nbconvert_exporter": "python",
      "pygments_lexer": "ipython3",
      "version": "3.12.11"
    }
  },
  "nbformat": 4,
  "nbformat_minor": 0
}