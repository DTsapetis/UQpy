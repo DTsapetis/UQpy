{
  "cells": [
    {
      "cell_type": "markdown",
      "metadata": {},
      "source": [
        "\n# 1. FORM - Linear function - Two Random variables\n\nIn the second example we have the limit state to be a linear function of two ($d=2$) independent Gaussian random\nvariables\n"
      ]
    },
    {
      "cell_type": "markdown",
      "metadata": {},
      "source": [
        "$g(U) = -\\frac{1}{\\sqrt{d}}\\sum_{i=1}^{d} u_i + \\beta$\n\nThe probability of failure in this case is $P(F) \u2248 10^{\u22123}$ for $\u03b2 = 3.0902$\n\nInitially we have to import the necessary modules.\n\n"
      ]
    },
    {
      "cell_type": "code",
      "execution_count": null,
      "metadata": {
        "collapsed": false
      },
      "outputs": [],
      "source": [
        "from UQpy.distributions import Normal\nfrom UQpy.reliability import FORM\nfrom UQpy.run_model.RunModel import RunModel\nfrom UQpy.run_model.model_execution.PythonModel import PythonModel\n\n\ndist1 = Normal(loc=0., scale=1.)\ndist2 = Normal(loc=0., scale=1.)\n\nmodel = PythonModel(model_script='local_pfn.py', model_object_name=\"example2\")\nRunModelObject2 = RunModel(model=model)\n\nZ = FORM(distributions=[dist1, dist2], runmodel_object=RunModelObject2)\nZ.run()\n\n# print results\nprint('Design point in standard normal space: %s' % Z.design_point_u)\nprint('Design point in original space: %s' % Z.design_point_x)\nprint('Hasofer-Lind reliability index: %s' % Z.beta)\nprint('FORM probability of failure: %s' % Z.failure_probability)"
      ]
    }
  ],
  "metadata": {
    "kernelspec": {
      "display_name": "Python 3",
      "language": "python",
      "name": "python3"
    },
    "language_info": {
      "codemirror_mode": {
        "name": "ipython",
        "version": 3
      },
      "file_extension": ".py",
      "mimetype": "text/x-python",
      "name": "python",
      "nbconvert_exporter": "python",
      "pygments_lexer": "ipython3",
      "version": "3.12.11"
    }
  },
  "nbformat": 4,
  "nbformat_minor": 0
}