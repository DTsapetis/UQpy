{
  "cells": [
    {
      "cell_type": "markdown",
      "metadata": {},
      "source": [
        "\n# Gaussian Process of a sinusoidal function\n"
      ]
    },
    {
      "cell_type": "markdown",
      "metadata": {},
      "source": [
        "In this example, Gaussian Process Regression is used to generate a surrogate model for a given data. In this data,\nsample points are generated using TrueStratifiedSampling class and functional value at sample points are estimated\nusing a model defined in python script ('python_model_function.py).\n\n"
      ]
    },
    {
      "cell_type": "markdown",
      "metadata": {},
      "source": [
        "Import the necessary libraries. Here we import standard libraries such as numpy and matplotlib, but also need to\nimport the TrueStratifiedSampling, RunModel and GaussianProcessRegression class from UQpy.\n\n"
      ]
    },
    {
      "cell_type": "code",
      "execution_count": null,
      "metadata": {
        "collapsed": false
      },
      "outputs": [],
      "source": [
        "import shutil\n\nfrom UQpy import PythonModel\nfrom UQpy.sampling.stratified_sampling.strata import RectangularStrata\nfrom UQpy.sampling import TrueStratifiedSampling\nfrom UQpy.run_model.RunModel import RunModel\nfrom UQpy.distributions import Gamma\nimport numpy as np\nimport matplotlib.pyplot as plt\nfrom UQpy.surrogates import GaussianProcessRegression"
      ]
    },
    {
      "cell_type": "markdown",
      "metadata": {},
      "source": [
        "Create a distribution object.\n\n"
      ]
    },
    {
      "cell_type": "code",
      "execution_count": null,
      "metadata": {
        "collapsed": false
      },
      "outputs": [],
      "source": [
        "from UQpy.utilities import RBF\n\nmarginals = [Gamma(a=2., loc=1., scale=3.)]"
      ]
    },
    {
      "cell_type": "markdown",
      "metadata": {},
      "source": [
        "Create a distribution object.\n\n"
      ]
    },
    {
      "cell_type": "code",
      "execution_count": null,
      "metadata": {
        "collapsed": false
      },
      "outputs": [],
      "source": [
        "strata = RectangularStrata(strata_number=[20])"
      ]
    },
    {
      "cell_type": "markdown",
      "metadata": {},
      "source": [
        "Run stratified sampling\n\n"
      ]
    },
    {
      "cell_type": "code",
      "execution_count": null,
      "metadata": {
        "collapsed": false
      },
      "outputs": [],
      "source": [
        "x = TrueStratifiedSampling(distributions=marginals, strata_object=strata,\n                           nsamples_per_stratum=1, random_state=2)"
      ]
    },
    {
      "cell_type": "markdown",
      "metadata": {},
      "source": [
        "RunModel is used to evaluate function values at sample points. Model is defined as a function in python file\n'python_model_function.py'.\n\n"
      ]
    },
    {
      "cell_type": "code",
      "execution_count": null,
      "metadata": {
        "collapsed": false
      },
      "outputs": [],
      "source": [
        "model = PythonModel(model_script='local_python_model_1Dfunction.py', model_object_name='y_func',\n                    delete_files=True)\nrmodel = RunModel(model=model)\nrmodel.run(samples=x.samples)\n\nfrom UQpy.surrogates.gaussian_process.regression_models import LinearRegression\nfrom UQpy.utilities.MinimizeOptimizer import MinimizeOptimizer\n\nbounds = [[10**(-3), 10**3], [10**(-3), 10**2]]\noptimizer = MinimizeOptimizer(method='L-BFGS-B', bounds=bounds)\n\nK = GaussianProcessRegression(regression_model=LinearRegression(), kernel=RBF(),\n                              optimizer=optimizer, optimizations_number=20, hyperparameters=[1, 0.1],\n                              random_state=2)\nK.fit(samples=x.samples, values=rmodel.qoi_list)\nprint(K.hyperparameters)"
      ]
    },
    {
      "cell_type": "markdown",
      "metadata": {},
      "source": [
        "RunModel is used to evaluate function values at sample points. Model is defined as a function in python file\n'python_model_function.py'.\n\n"
      ]
    },
    {
      "cell_type": "code",
      "execution_count": null,
      "metadata": {
        "collapsed": false
      },
      "outputs": [],
      "source": [
        "num = 1000\nx1 = np.linspace(min(x.samples), max(x.samples), num)\n\ny, y_sd = K.predict(x1.reshape([num, 1]), return_std=True)"
      ]
    },
    {
      "cell_type": "markdown",
      "metadata": {},
      "source": [
        "Actual model is evaluated at all points to compare it with kriging surrogate.\n\n"
      ]
    },
    {
      "cell_type": "code",
      "execution_count": null,
      "metadata": {
        "collapsed": false
      },
      "outputs": [],
      "source": [
        "rmodel.run(samples=x1, append_samples=False)"
      ]
    },
    {
      "cell_type": "markdown",
      "metadata": {},
      "source": [
        "This plot shows the input data as blue dot, blue curve is actual function and orange curve represents response curve.\nThis plot also shows the gradient and 95% confidence interval of the kriging surrogate.\n\n"
      ]
    },
    {
      "cell_type": "code",
      "execution_count": null,
      "metadata": {
        "collapsed": false
      },
      "outputs": [],
      "source": [
        "fig = plt.figure()\nax = plt.subplot(111)\nplt.plot(np.squeeze(x1), np.squeeze(rmodel.qoi_list), label='Sine')\nplt.plot(x1, y, label='Surrogate')\n# plt.plot(x1, y_grad, label='Gradient')\nplt.scatter(K.samples, K.values, label='Data')\nplt.fill(np.concatenate([x1, x1[::-1]]), np.concatenate([y - 1.9600 * y_sd,\n                                                         (y + 1.9600 * y_sd)[::-1]]),\n         alpha=.5, fc='y', ec='None', label='95% CI')\nbox = ax.get_position()\nax.set_position([box.x0, box.y0, box.width * 0.8, box.height])\n\n# Put a legend to the right of the current axis\nax.legend(loc='center left', bbox_to_anchor=(1, 0.5))\nplt.show()"
      ]
    }
  ],
  "metadata": {
    "kernelspec": {
      "display_name": "Python 3",
      "language": "python",
      "name": "python3"
    },
    "language_info": {
      "codemirror_mode": {
        "name": "ipython",
        "version": 3
      },
      "file_extension": ".py",
      "mimetype": "text/x-python",
      "name": "python",
      "nbconvert_exporter": "python",
      "pygments_lexer": "ipython3",
      "version": "3.12.11"
    }
  },
  "nbformat": 4,
  "nbformat_minor": 0
}