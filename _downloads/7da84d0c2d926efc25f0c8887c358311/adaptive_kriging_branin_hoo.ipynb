{
  "cells": [
    {
      "cell_type": "markdown",
      "metadata": {},
      "source": [
        "\n# Expected Improvement - Branin Hoo\n\nIn this example, Monte Carlo Sampling is used to generate samples from Uniform distribution and new samples are\ngenerated adaptively, using EIF (Expected Improvement Function) as the learning criteria.\n"
      ]
    },
    {
      "cell_type": "markdown",
      "metadata": {},
      "source": [
        "## Branin-Hoo function\nDecription:\n\n- Dimensions: 2\n- This function is usually evaluated on the square ;math:`x_1 \\in [-5, 10], \\ x_2 \\in [0, 15]`\n- The function has two local minima and one global minimum\n- Reference: Forrester, A., Sobester, A., & Keane, A. (2008). Engineering design via surrogate modelling: a\n  practical guide. Wiley.\n\n$f(x) = a(x_2-bx_1^2 + cx_1 -r)^2 + s(1-t)\\cos(x_1) + s + 5x_1$\n\n\nwhere the recommended values of $a, b, c, r, s$ and $t$ are:\n$a = 1,\\ b = 5.1/(4\\pi^2),\\ c = 5/\\pi, \\ r = 6, \\ s = 10, \\ t = 1/(8\\pi)$\n\n\n"
      ]
    },
    {
      "cell_type": "markdown",
      "metadata": {},
      "source": [
        "Import the necessary libraries. Here we import standard libraries such as numpy, matplotlib and other necessary\nlibrary for plots, but also need to import the :class:`.MonteCarloSampling`,\n:class:`.AdaptiveKriging`, :class:`.Kriging` and :class:`.RunModel` class from UQpy.\n\n"
      ]
    },
    {
      "cell_type": "code",
      "execution_count": null,
      "metadata": {
        "collapsed": false
      },
      "outputs": [],
      "source": [
        "import shutil\n\nimport numpy as np\nfrom matplotlib import pyplot as plt\n\nfrom UQpy import PythonModel\nfrom UQpy.surrogates import GaussianProcessRegression\nfrom UQpy.sampling import MonteCarloSampling, AdaptiveKriging\nfrom UQpy.run_model.RunModel import RunModel\nfrom UQpy.distributions import Uniform\nfrom local_BraninHoo import function\nimport time\nfrom UQpy.utilities.MinimizeOptimizer import MinimizeOptimizer"
      ]
    },
    {
      "cell_type": "markdown",
      "metadata": {},
      "source": [
        "Using UQpy :class:`MonteCarloSampling` class to generate samples for two random variables, which are uniformly\ndistributed\n\n"
      ]
    },
    {
      "cell_type": "code",
      "execution_count": null,
      "metadata": {
        "collapsed": false
      },
      "outputs": [],
      "source": [
        "marginals = [Uniform(loc=-5, scale=15), Uniform(loc=0, scale=15)]\nx = MonteCarloSampling(distributions=marginals, nsamples=20)"
      ]
    },
    {
      "cell_type": "markdown",
      "metadata": {},
      "source": [
        ":class:`.RunModel` class is used to define an object to evaluate the model at sample points.\n\n"
      ]
    },
    {
      "cell_type": "code",
      "execution_count": null,
      "metadata": {
        "collapsed": false
      },
      "outputs": [],
      "source": [
        "model = PythonModel(model_script='local_BraninHoo.py', model_object_name='function')\nrmodel = RunModel(model=model)"
      ]
    },
    {
      "cell_type": "markdown",
      "metadata": {},
      "source": [
        ":class:`.Kriging` class defines an object to generate a surrogate model for a given set of data.\n\n"
      ]
    },
    {
      "cell_type": "code",
      "execution_count": null,
      "metadata": {
        "collapsed": false
      },
      "outputs": [],
      "source": [
        "from UQpy.surrogates.gaussian_process.regression_models import LinearRegression\n# /Users/george/Documents/Main_Files/Scripts/UQpy/src/UQpy/utilities/kernels/euclidean_kernels/RBF.py\nfrom UQpy.utilities.kernels.euclidean_kernels import RBF\n\nbounds = [[10**(-3), 10**3], [10**(-3), 10**2], [10**(-3), 10**2]]\noptimizer = MinimizeOptimizer(method=\"L-BFGS-B\", bounds=bounds)\nK = GaussianProcessRegression(regression_model=LinearRegression(), kernel=RBF(), optimizer=optimizer,\n                              hyperparameters=[1, 1, 0.1], optimizations_number=10)"
      ]
    },
    {
      "cell_type": "markdown",
      "metadata": {},
      "source": [
        "Choose an appropriate learning function.\n\n"
      ]
    },
    {
      "cell_type": "code",
      "execution_count": null,
      "metadata": {
        "collapsed": false
      },
      "outputs": [],
      "source": [
        "from UQpy.sampling.adaptive_kriging_functions.ExpectedImprovement import ExpectedImprovement"
      ]
    },
    {
      "cell_type": "markdown",
      "metadata": {},
      "source": [
        ":class:`AdaptiveKriging` class is used to generate new sample using :class:`UFunction` as active learning function.\n\n"
      ]
    },
    {
      "cell_type": "code",
      "execution_count": null,
      "metadata": {
        "collapsed": false
      },
      "outputs": [],
      "source": [
        "start_time = time.time()\nlearning_function = ExpectedImprovement()\na = AdaptiveKriging(runmodel_object=rmodel, samples=x.samples, surrogate=K,\n                    learning_nsamples=10 ** 3, n_add=1,\n                    learning_function=learning_function, distributions=marginals)\na.run(nsamples=50)\nelapsed_time = time.time() - start_time"
      ]
    },
    {
      "cell_type": "markdown",
      "metadata": {},
      "source": [
        "Visualize initial and new samples on top of the Branin-Hoo surface.\n\n"
      ]
    },
    {
      "cell_type": "code",
      "execution_count": null,
      "metadata": {
        "collapsed": false
      },
      "outputs": [],
      "source": [
        "num = 200\nxlist = np.linspace(-6, 11, num)\nylist = np.linspace(-1, 16, num)\nX, Y = np.meshgrid(xlist, ylist)\n\nZ = np.zeros((num, num))\nfor i in range(num):\n    for j in range(num):\n        tem = np.array([[X[i, j], Y[i, j]]])\n        Z[i, j] = function(tem)\n\n\nfig, ax = plt.subplots(1, 1)\ncp = ax.contourf(X, Y, Z, 10)\nplt.xlabel('x1')\nplt.ylabel('x2')\nfig.colorbar(cp)\nnd = x.nsamples\nplt.scatter(a.samples[nd:, 0], a.samples[nd:, 1], color='pink', label='New samples')\nplt.scatter(x.samples[:nd, 0], x.samples[:nd, 1], color='Red', label='Initial samples')\nplt.title('Branin-Hoo function');\nplt.legend()"
      ]
    }
  ],
  "metadata": {
    "kernelspec": {
      "display_name": "Python 3",
      "language": "python",
      "name": "python3"
    },
    "language_info": {
      "codemirror_mode": {
        "name": "ipython",
        "version": 3
      },
      "file_extension": ".py",
      "mimetype": "text/x-python",
      "name": "python",
      "nbconvert_exporter": "python",
      "pygments_lexer": "ipython3",
      "version": "3.12.11"
    }
  },
  "nbformat": 4,
  "nbformat_minor": 0
}