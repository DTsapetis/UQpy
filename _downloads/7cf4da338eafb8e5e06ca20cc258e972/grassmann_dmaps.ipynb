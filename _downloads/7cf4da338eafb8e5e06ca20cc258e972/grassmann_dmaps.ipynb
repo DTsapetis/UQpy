{
  "cells": [
    {
      "cell_type": "markdown",
      "metadata": {},
      "source": [
        "\n# Grassmannian Diffusion Maps\n"
      ]
    },
    {
      "cell_type": "code",
      "execution_count": null,
      "metadata": {
        "collapsed": false
      },
      "outputs": [],
      "source": [
        "import numpy as np\nfrom UQpy.dimension_reduction.grassmann_manifold.projections.SVDProjection import SVDProjection\nfrom UQpy.dimension_reduction.grassmann_manifold import GrassmannOperations\nfrom UQpy.utilities.kernels import ProjectionKernel\nfrom UQpy.dimension_reduction.diffusion_maps.DiffusionMaps import DiffusionMaps\nimport sys\nimport matplotlib.pyplot as plt"
      ]
    },
    {
      "cell_type": "markdown",
      "metadata": {},
      "source": [
        "Create the data\n\n"
      ]
    },
    {
      "cell_type": "code",
      "execution_count": null,
      "metadata": {
        "collapsed": false
      },
      "outputs": [],
      "source": [
        "N = 3000\nr = 2 * np.random.rand(N)\nx = np.zeros((N, 3))\nc = np.zeros(N)\n\nphi = np.linspace(0, 2*np.pi, N)\ntheta = np.arcsin(np.cos(phi)**2)\n\nX = r * np.cos(phi) * np.sin(theta)\nY = r * np.sin(phi) * np.sin(theta)\nZ = r * np.cos(theta)\n\nc =X**2 + Y**2 + Z**2\n\nfig = plt.figure()\nplt.rcParams[\"figure.figsize\"] = (5, 5)\nplt.rcParams.update({'font.size': 18})\nax = fig.add_subplot(111, projection=\"3d\")\nax.scatter(X, Y, Z, c=c, cmap=plt.cm.Spectral,\n)\nax.set_xlabel(\"x\")\nax.set_ylabel(\"y\")\nax.set_zlabel(\"z\")\nax.set_title(\"data\")\n\nplt.show()"
      ]
    },
    {
      "cell_type": "code",
      "execution_count": null,
      "metadata": {
        "collapsed": false
      },
      "outputs": [],
      "source": [
        "# Recast the data into a matrix\ndata_matrix = np.concatenate([X.reshape(-1, 1), Y.reshape(-1, 1), Z.reshape(-1, 1)], axis=1)\n\n# Convert each data point into a 2d array with shape (1, 3)\ndata = [data2dArray.reshape(1, -1).T for data2dArray in data_matrix]"
      ]
    },
    {
      "cell_type": "markdown",
      "metadata": {},
      "source": [
        "Project each data point onto the Grassmann manifold using SVD. Use only 300 points from the origonal data.\nSelect the work with maximum rank (number of planes) from each data point (p=sys.maxsize).\nUse the matrix of left eigenvectors to calculate the kernel (KernelComposition.LEFT).\n\n"
      ]
    },
    {
      "cell_type": "code",
      "execution_count": null,
      "metadata": {
        "collapsed": false
      },
      "outputs": [],
      "source": [
        "Grassmann_projection = SVDProjection(data=data[::10], p=\"max\")\npsi = Grassmann_projection.u"
      ]
    },
    {
      "cell_type": "markdown",
      "metadata": {},
      "source": [
        "Plot the projected data on the Grassmann (3, 1) which is a unit sphere.\n\n"
      ]
    },
    {
      "cell_type": "code",
      "execution_count": null,
      "metadata": {
        "collapsed": false
      },
      "outputs": [],
      "source": [
        "Grassmann_data = np.zeros((len(psi), 3))\nfor i in range(len(psi)):\n    Grassmann_data[i, :] = psi[i].data.reshape(1, -1)\n\nfig = plt.figure()\nplt.rcParams[\"figure.figsize\"] = (8, 8)\nplt.rcParams.update({'font.size': 18})\nax = fig.add_subplot(111, projection=\"3d\")\n\nu, v = np.mgrid[0:2*np.pi:60j, 0:np.pi:60j]\nx = np.cos(u)*np.sin(v)\ny = np.sin(u)*np.sin(v)\nz = np.cos(v)\nax.plot_surface(\n    x, y, z,  rstride=1, cstride=1, color='c', alpha=0.2, linewidth=0)\nax.scatter(Grassmann_data[:, 0], Grassmann_data[:, 1], Grassmann_data[:, 2], c=c[:len(psi)], s=3, cmap=plt.cm.Spectral,\n)\nax.set_title(\"Grassmann (3, 1)\")\n\n\nplt.show()"
      ]
    },
    {
      "cell_type": "markdown",
      "metadata": {},
      "source": [
        "Diffusion maps with Grassmann kernel\n\n"
      ]
    },
    {
      "cell_type": "code",
      "execution_count": null,
      "metadata": {
        "collapsed": false
      },
      "outputs": [],
      "source": [
        "kernel = ProjectionKernel()\nkernel.calculate_kernel_matrix(psi)\n\n\nGdmaps_UQpy = DiffusionMaps(alpha=1.0, n_eigenvectors=5, is_sparse=True, n_neighbors=250,\n                            kernel_matrix=kernel.kernel_matrix)"
      ]
    },
    {
      "cell_type": "markdown",
      "metadata": {},
      "source": [
        "Plot the first and second eigenvectors\n\n"
      ]
    },
    {
      "cell_type": "code",
      "execution_count": null,
      "metadata": {
        "collapsed": false
      },
      "outputs": [],
      "source": [
        "DiffusionMaps._plot_eigen_pairs(Gdmaps_UQpy.eigenvectors, pair_indices=[1, 2], color=Gdmaps_UQpy.eigenvectors[:, 1],\n                                figure_size=[5, 5], font_size=18)\nDiffusionMaps._plot_eigen_pairs(Gdmaps_UQpy.eigenvectors, pair_indices=[1, 2], color=Gdmaps_UQpy.eigenvectors[:, 2],\n                                figure_size=[5, 5], font_size=18)"
      ]
    }
  ],
  "metadata": {
    "kernelspec": {
      "display_name": "Python 3",
      "language": "python",
      "name": "python3"
    },
    "language_info": {
      "codemirror_mode": {
        "name": "ipython",
        "version": 3
      },
      "file_extension": ".py",
      "mimetype": "text/x-python",
      "name": "python",
      "nbconvert_exporter": "python",
      "pygments_lexer": "ipython3",
      "version": "3.12.11"
    }
  },
  "nbformat": 4,
  "nbformat_minor": 0
}