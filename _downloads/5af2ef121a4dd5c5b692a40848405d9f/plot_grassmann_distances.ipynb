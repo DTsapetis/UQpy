{
  "cells": [
    {
      "cell_type": "markdown",
      "metadata": {},
      "source": [
        "\n# Compute distances between points\n\nThis example shows how to use the UQpy Grassmann class to compute distances\n"
      ]
    },
    {
      "cell_type": "markdown",
      "metadata": {},
      "source": [
        "Import the necessary libraries. Here we import standard libraries such as numpy and matplotlib, but also need to\nimport the Grassmann class from UQpy implemented in the DimensionReduction module.\n\n"
      ]
    },
    {
      "cell_type": "code",
      "execution_count": null,
      "metadata": {
        "collapsed": false
      },
      "outputs": [],
      "source": [
        "import matplotlib.pyplot as plt\nimport numpy as np\n\nfrom UQpy import SVDProjection\nfrom UQpy.utilities import GrassmannPoint\nfrom UQpy.utilities.distances.baseclass.GrassmannianDistance import GrassmannianDistance\nfrom UQpy.utilities.distances.grassmannian_distances.GeodesicDistance import GeodesicDistance"
      ]
    },
    {
      "cell_type": "markdown",
      "metadata": {},
      "source": [
        "Generate four random matrices with reduced rank corresponding to the different samples. The samples are stored in\n`matrices`.\n\n"
      ]
    },
    {
      "cell_type": "code",
      "execution_count": null,
      "metadata": {
        "collapsed": false
      },
      "outputs": [],
      "source": [
        "D1 = 6\nr0 = 2  # rank sample 0\nr1 = 3  # rank sample 1\nr2 = 4  # rank sample 2\nr3 = 3  # rank sample 2\n\nnp.random.seed(1111)  # For reproducibility.\n# Solutions: original space.\nSol0 = np.dot(np.random.rand(D1, r0), np.random.rand(r0, D1))\nSol1 = np.dot(np.random.rand(D1, r1), np.random.rand(r1, D1))\nSol2 = np.dot(np.random.rand(D1, r2), np.random.rand(r2, D1))\nSol3 = np.dot(np.random.rand(D1, r3), np.random.rand(r3, D1))\n\n# Creating a list of solutions.\nmatrices = [Sol0, Sol1, Sol2, Sol3]\n\n# Plot the solutions\nfig, (ax1, ax2, ax3, ax4) = plt.subplots(1, 4)\nax1.title.set_text('Matrix 0')\nax1.imshow(Sol0)\nax2.title.set_text('Matrix 1')\nax2.imshow(Sol1)\nax3.title.set_text('Matrix 2')\nax3.imshow(Sol2)\nax4.title.set_text('Matrix 3')\nax4.imshow(Sol3)\nplt.show()"
      ]
    },
    {
      "cell_type": "markdown",
      "metadata": {},
      "source": [
        "Instantiate the SvdProjection class that projects the raw data to the manifold.\n\n"
      ]
    },
    {
      "cell_type": "code",
      "execution_count": null,
      "metadata": {
        "collapsed": false
      },
      "outputs": [],
      "source": [
        "manifold_projection = SVDProjection(matrices, p=\"max\")"
      ]
    },
    {
      "cell_type": "markdown",
      "metadata": {},
      "source": [
        "Compute the pairwise distances for $\\Psi$ and $\\Phi$, the left and right -singular eigenvectors,\nrespectively, of singular value decomposition of each solution.\n\n"
      ]
    },
    {
      "cell_type": "code",
      "execution_count": null,
      "metadata": {
        "collapsed": false
      },
      "outputs": [],
      "source": [
        "p_dim = [manifold_projection.p] * len(manifold_projection.u)\npairwise_distance = GeodesicDistance().calculate_distance_matrix(points=manifold_projection.u,\n                                                                 p_dim=p_dim)\nprint(pairwise_distance)"
      ]
    },
    {
      "cell_type": "markdown",
      "metadata": {},
      "source": [
        "Compute the distance between 2 points.\n\n"
      ]
    },
    {
      "cell_type": "code",
      "execution_count": null,
      "metadata": {
        "collapsed": false
      },
      "outputs": [],
      "source": [
        "distance01 = GeodesicDistance().compute_distance(manifold_projection.u[0], manifold_projection.u[1])\nprint(distance01)"
      ]
    },
    {
      "cell_type": "markdown",
      "metadata": {},
      "source": [
        "Compute the pairwise distances for $\\Psi$ and $\\Phi$, the left and right -singular eigenvectors,\nrespectively, of singular value decomposition of each solution. In this case, use an user defined class\n`UserDistance`.\n\n"
      ]
    },
    {
      "cell_type": "code",
      "execution_count": null,
      "metadata": {
        "collapsed": false
      },
      "outputs": [],
      "source": [
        "class UserDistance(GrassmannianDistance):\n\n    def compute_distance(self, xi: GrassmannPoint, xj: GrassmannPoint):\n        GrassmannianDistance.check_rows(xi, xj)\n\n        rank_i = xi.data.shape[1]\n        rank_j = xj.data.shape[1]\n\n        r = np.dot(xi.data.T, xj.data)\n        (ui, si, vi) = np.linalg.svd(r, full_matrices=True)\n        si[np.where(si > 1)] = 1.0\n        theta = np.arccos(si)\n        return np.sqrt(abs(rank_i - rank_j) * np.pi ** 2 / 4 + np.sum(theta ** 2))\n\n\npairwise_distance_psi = UserDistance().calculate_distance_matrix(manifold_projection.u, p_dim=p_dim)\n\npairwise_distance_phi = UserDistance().calculate_distance_matrix(manifold_projection.v, p_dim=p_dim)\nprint(pairwise_distance_psi)\nprint(pairwise_distance_phi)"
      ]
    }
  ],
  "metadata": {
    "kernelspec": {
      "display_name": "Python 3",
      "language": "python",
      "name": "python3"
    },
    "language_info": {
      "codemirror_mode": {
        "name": "ipython",
        "version": 3
      },
      "file_extension": ".py",
      "mimetype": "text/x-python",
      "name": "python",
      "nbconvert_exporter": "python",
      "pygments_lexer": "ipython3",
      "version": "3.12.11"
    }
  },
  "nbformat": 4,
  "nbformat_minor": 0
}