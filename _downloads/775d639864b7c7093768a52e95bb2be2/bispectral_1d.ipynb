{
  "cells": [
    {
      "cell_type": "markdown",
      "metadata": {},
      "source": [
        "\n# BiSpectral Representation Method - 1D\n\nIn this example, the BiSpectral Representation Method is used to generate stochastic processes from a prescribed Power\nSpectrum and associated Bispectrum. This example illustrates how to use the BSRM class for one dimensional case and\ncompare the statistics of the generated stochastic processes with the expected values.\n"
      ]
    },
    {
      "cell_type": "markdown",
      "metadata": {},
      "source": [
        "Import the necessary libraries. Here we import standard libraries such as numpy and matplotlib, but also need to\nimport the :class:`.BispectralRepresentation` class from the :py:mod:`stochastic_processes` module of UQpy.\n\n"
      ]
    },
    {
      "cell_type": "code",
      "execution_count": null,
      "metadata": {
        "collapsed": false
      },
      "outputs": [],
      "source": [
        "from UQpy.stochastic_process import BispectralRepresentation\nimport numpy as np\nfrom scipy.stats import skew\nimport matplotlib.pyplot as plt\nplt.style.use('seaborn')"
      ]
    },
    {
      "cell_type": "markdown",
      "metadata": {},
      "source": [
        "The input parameters necessary for the generation of the stochastic processes are given below:\n\n"
      ]
    },
    {
      "cell_type": "code",
      "execution_count": null,
      "metadata": {
        "collapsed": false
      },
      "outputs": [],
      "source": [
        "n_sim = 10000  # Num of samples\n\nn = 1 # Num of dimensions\n\n# Input parameters\nT = 60  # Time(1 / T = dw)\nnt = 1200  # Num.of Discretized Time\nF = 1 / T * nt / 2  # Frequency.(Hz)\nnf = 600  # Num of Discretized Freq.\n\n# # Generation of Input Data(Stationary)\ndt = T / nt\nt = np.linspace(0, T - dt, nt)\ndf = F / nf\nf = np.linspace(0, F - df, nf)"
      ]
    },
    {
      "cell_type": "markdown",
      "metadata": {},
      "source": [
        "Defining the Power Spectral Density(S)\n\n"
      ]
    },
    {
      "cell_type": "code",
      "execution_count": null,
      "metadata": {
        "collapsed": false
      },
      "outputs": [],
      "source": [
        "S = 32 * 1 / np.sqrt(2 * np.pi) * np.exp(-1 / 2 * f ** 2)"
      ]
    },
    {
      "cell_type": "markdown",
      "metadata": {},
      "source": [
        "Generating the 2 dimensional mesh grid\n\n"
      ]
    },
    {
      "cell_type": "code",
      "execution_count": null,
      "metadata": {
        "collapsed": false
      },
      "outputs": [],
      "source": [
        "fx = f\nfy = f\nFx, Fy = np.meshgrid(f, f)\n\nb = 95 * 2 * 1 / (2 * np.pi) * np.exp(2 * (-1 / 2 * (Fx ** 2 + Fy ** 2)))\nB_Real = b\nB_Imag = b\n\nB_Real[0, :] = 0\nB_Real[:, 0] = 0\nB_Imag[0, :] = 0\nB_Imag[:, 0] = 0"
      ]
    },
    {
      "cell_type": "markdown",
      "metadata": {},
      "source": [
        "Defining the Bispectral Density(B)\n\n"
      ]
    },
    {
      "cell_type": "code",
      "execution_count": null,
      "metadata": {
        "collapsed": false
      },
      "outputs": [],
      "source": [
        "B_Complex = B_Real + 1j * B_Imag\nB_Ampl = np.absolute(B_Complex)"
      ]
    },
    {
      "cell_type": "markdown",
      "metadata": {},
      "source": [
        "Make sure that the input parameters are in order to prevent aliasing\n\n"
      ]
    },
    {
      "cell_type": "code",
      "execution_count": null,
      "metadata": {
        "collapsed": false
      },
      "outputs": [],
      "source": [
        "t_u = 2*np.pi/2/F\n\nif dt>t_u:\n    print('Error')\n\nBSRM_object = BispectralRepresentation(n_sim, S, B_Complex, [dt], [df], [nt], [nf])\nsamples = BSRM_object.samples\n\nfig, ax = plt.subplots()\nplt.title('Realisation of the BiSpectral Representation Method')\nplt.plot(t, samples[0, 0])\nax.yaxis.grid(True)\nax.xaxis.grid(True)\nplt.show()\n\nprint('The mean of the samples is ', np.mean(samples), 'whereas the expected mean is 0.000')\nprint('The variance of the samples is ', np.var(samples), 'whereas the expected variance is ', np.sum(S)*df*2)\nprint('The skewness of the samples is ', np.mean(skew(samples, axis=0)), 'whereas the expected skewness is ',\n      np.sum(B_Real)*df**2*6/(np.sum(S)*df*2)**(3/2))"
      ]
    }
  ],
  "metadata": {
    "kernelspec": {
      "display_name": "Python 3",
      "language": "python",
      "name": "python3"
    },
    "language_info": {
      "codemirror_mode": {
        "name": "ipython",
        "version": 3
      },
      "file_extension": ".py",
      "mimetype": "text/x-python",
      "name": "python",
      "nbconvert_exporter": "python",
      "pygments_lexer": "ipython3",
      "version": "3.12.11"
    }
  },
  "nbformat": 4,
  "nbformat_minor": 0
}