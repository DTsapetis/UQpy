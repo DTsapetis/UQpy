{
  "cells": [
    {
      "cell_type": "markdown",
      "metadata": {},
      "source": [
        "\n# Sobol function\n\nThe Sobol function is non-linear function that is commonly used to benchmark uncertainty \nand senstivity analysis methods. Unlike the ishigami function which has 3 input \nvariables, the Sobol function can have any number of input variables. \n\n\\begin{align}g(x_1, x_2, \\ldots, x_D) := \\prod_{i=1}^{D} \\frac{|4x_i - 2| + a_i}{1 + a_i},\\end{align}\n\nwhere,\n\n\\begin{align}x_i \\sim \\mathcal{U}(0, 1), \\quad a_i \\in \\mathbb{R}.\\end{align}\n\n\nThe function was also used in the Chatterjee indices section to demonstrate the \ncomputation of the Chatterjee indices. We can see clearly that the estimates are \nequivalent.\n"
      ]
    },
    {
      "cell_type": "code",
      "execution_count": null,
      "metadata": {
        "collapsed": false
      },
      "outputs": [],
      "source": [
        "import numpy as np\n\nfrom UQpy.run_model.RunModel import RunModel\nfrom UQpy.run_model.model_execution.PythonModel import PythonModel\nfrom UQpy.distributions import Uniform\nfrom UQpy.distributions.collection.JointIndependent import JointIndependent\nfrom UQpy.sensitivity.CramerVonMisesSensitivity import CramerVonMisesSensitivity as cvm\nfrom UQpy.sensitivity.PostProcess import *\n\nnp.random.seed(123)"
      ]
    },
    {
      "cell_type": "markdown",
      "metadata": {},
      "source": [
        "**Define the model and input distributions**\n\n"
      ]
    },
    {
      "cell_type": "code",
      "execution_count": null,
      "metadata": {
        "collapsed": false
      },
      "outputs": [],
      "source": [
        "# Create Model object\nnum_vars = 6\na_vals = np.arange(1, num_vars+1, 1)\n\nmodel = PythonModel(\n    model_script=\"local_sobol_func.py\",\n    model_object_name=\"evaluate\",\n    var_names=[r\"$X_1$\", \"$X_2$\"],\n    delete_files=True,\n    a_values=a_vals,\n)\n\nrunmodel_obj = RunModel(model=model)\n\n# Define distribution object\ndist_object = JointIndependent([Uniform(0, 1)] * num_vars)"
      ]
    },
    {
      "cell_type": "markdown",
      "metadata": {},
      "source": [
        "**Compute Cram\u00e9r-von Mises indices**\n\n"
      ]
    },
    {
      "cell_type": "code",
      "execution_count": null,
      "metadata": {
        "collapsed": false
      },
      "outputs": [],
      "source": [
        "SA = cvm(runmodel_obj, dist_object)\n\n# Compute Sobol indices using rank statistics\nSA.run(n_samples=50_000, estimate_sobol_indices=True)"
      ]
    },
    {
      "cell_type": "markdown",
      "metadata": {},
      "source": [
        "**Cram\u00e9r-von Mises indices**\n\n"
      ]
    },
    {
      "cell_type": "code",
      "execution_count": null,
      "metadata": {
        "collapsed": false
      },
      "outputs": [],
      "source": [
        "SA.first_order_CramerVonMises_indices\n\n# **Plot the CVM indices**\nfig1, ax1 = plot_sensitivity_index(\n    SA.first_order_CramerVonMises_indices[:, 0],\n    plot_title=\"Cram\u00e9r-von Mises indices\",\n    color=\"C4\",\n)"
      ]
    },
    {
      "cell_type": "markdown",
      "metadata": {},
      "source": [
        "**Estimated Sobol indices**\n\nExpected first order Sobol indices:\n\n$S_1$ = 0.46067666\n\n$S_2$ = 0.20474518\n\n$S_3$ = 0.11516917\n\n$S_4$ = 0.07370827\n\n$S_5$ = 0.0511863\n\n$S_6$ = 0.03760626\n\n"
      ]
    },
    {
      "cell_type": "code",
      "execution_count": null,
      "metadata": {
        "collapsed": false
      },
      "outputs": [],
      "source": [
        "SA.total_order_sobol_indices\n\n# **Plot the first order Sobol indices**\nfig2, ax2 = plot_sensitivity_index(\n    SA.total_order_sobol_indices[:, 0],\n    plot_title=\"First order Sobol indices\",\n    color=\"C0\",\n)"
      ]
    }
  ],
  "metadata": {
    "kernelspec": {
      "display_name": "Python 3",
      "language": "python",
      "name": "python3"
    },
    "language_info": {
      "codemirror_mode": {
        "name": "ipython",
        "version": 3
      },
      "file_extension": ".py",
      "mimetype": "text/x-python",
      "name": "python",
      "nbconvert_exporter": "python",
      "pygments_lexer": "ipython3",
      "version": "3.12.11"
    }
  },
  "nbformat": 4,
  "nbformat_minor": 0
}