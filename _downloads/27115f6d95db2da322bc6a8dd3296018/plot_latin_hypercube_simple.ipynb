{
  "cells": [
    {
      "cell_type": "markdown",
      "metadata": {},
      "source": [
        "\n# Latin Hypercube Sampling\n\nThis example shows the use of the Latin Hypercube sampling class. In particular:\n"
      ]
    },
    {
      "cell_type": "markdown",
      "metadata": {},
      "source": [
        "- How to define the Latin Hypercube sampling method supported by UQpy\n- How to use different sampling criteria\n- How to plot the 2D samples\n\n"
      ]
    },
    {
      "cell_type": "markdown",
      "metadata": {},
      "source": [
        "Initially we have to import the necessary modules.\n\n"
      ]
    },
    {
      "cell_type": "code",
      "execution_count": null,
      "metadata": {
        "collapsed": false
      },
      "outputs": [],
      "source": [
        "from UQpy.sampling import LatinHypercubeSampling\nimport matplotlib.pyplot as plt\nfrom UQpy.distributions import Uniform\nfrom UQpy.sampling.stratified_sampling.latin_hypercube_criteria import *"
      ]
    },
    {
      "cell_type": "markdown",
      "metadata": {},
      "source": [
        "## Define Latin Hypercube sampling class\nIn order to initialize the LatinHypercube sampling class, the user needs to define a list of distributions\nfor each one of the parameters that need to be sampled.\n\nApart from the distributions list, the number of samples  :code:`nsamples` to be drawn is required.\nThe :code:`random_state` parameter defines the seed of the random generator.\n\nFinally, the design criterion can be defined by the user. The default case is the :class:`.Random`.\nFor more details on the various criteria you can refer to the documentation of the criteria\n:class:`.Random`, :class:`.Centered`, :class:`.Maximin`, :class:`.MinCorrelation`\n\n"
      ]
    },
    {
      "cell_type": "code",
      "execution_count": null,
      "metadata": {
        "collapsed": false
      },
      "outputs": [],
      "source": [
        "dist1 = Uniform(loc=0., scale=1.)\ndist2 = Uniform(loc=0., scale=1.)\n\nlhs_random = LatinHypercubeSampling(distributions=[dist1, dist2], nsamples=5,\n                                    random_state=np.random.RandomState(789),\n                                    criterion=Random())\n\nlhs_centered = LatinHypercubeSampling(distributions=[dist1, dist2], criterion=Centered(),\n                                      random_state=np.random.RandomState(789),\n                                      nsamples=5)\n\nlhs_maximin = LatinHypercubeSampling(distributions=[dist1, dist2],\n                                     random_state=np.random.RandomState(789),\n                                     criterion=MaxiMin(metric=DistanceMetric.CHEBYSHEV),\n                                     nsamples=5)\n\nlhs_mincorrelate = LatinHypercubeSampling(distributions=[dist1, dist2],\n                                          random_state=np.random.RandomState(789),\n                                          criterion=MinCorrelation(iterations=100),\n                                          nsamples=5)"
      ]
    },
    {
      "cell_type": "markdown",
      "metadata": {},
      "source": [
        "## Plot the generated samples\nThe :code:`samples` attribute of the latin hypercube class is a numpy array of with shape\n:code:`(nsamples, len(distributions))`\nBoth :code:`samples` and :code:`samplesU01` are populated at the same time since the Latin Hypercube samples are\ninitially drawn in the unit hypercube, thus in contrast to Monte Carlo sampling no transformation is required.\nUsing the :py:meth:`run` method to generate samples replaces the previously created ones.\n\n"
      ]
    },
    {
      "cell_type": "code",
      "execution_count": null,
      "metadata": {
        "collapsed": false
      },
      "outputs": [],
      "source": [
        "# plot the samples\nfig, axs = plt.subplots(2, 2)\nfig.subplots_adjust(hspace=0.5)\naxs[0, 0].set_title('Random-LHS design')\naxs[0, 0].scatter(lhs_random._samples[:, 0], lhs_random._samples[:, 1])\naxs[0, 0].set_yticks([0.0, 0.2, 0.4, 0.6, 0.8, 1.0])\naxs[0, 0].set_xticks([0.0, 0.2, 0.4, 0.6, 0.8, 1.0])\naxs[0, 0].yaxis.grid(True)\naxs[0, 0].xaxis.grid(True)\n\n\naxs[0, 1].set_title('Centered-LHS design')\naxs[0, 1].scatter(lhs_centered._samples[:, 0], lhs_centered._samples[:, 1])\naxs[0, 1].set_yticks([0.0, 0.2, 0.4, 0.6, 0.8, 1.0])\naxs[0, 1].set_xticks([0.0, 0.2, 0.4, 0.6, 0.8, 1.0])\naxs[0, 1].yaxis.grid(True)\naxs[0, 1].xaxis.grid(True)\n\n\naxs[1, 0].set_title('Maximin-LHS design')\naxs[1, 0].scatter(lhs_maximin._samples[:, 0], lhs_maximin._samples[:, 1])\naxs[1, 0].set_yticks([0.0, 0.2, 0.4, 0.6, 0.8, 1.0])\naxs[1, 0].set_xticks([0.0, 0.2, 0.4, 0.6, 0.8, 1.0])\naxs[1, 0].yaxis.grid(True)\naxs[1, 0].xaxis.grid(True)\n\n\naxs[1, 1].set_title('MinCorrelation-LHS design')\naxs[1, 1].scatter(lhs_random._samples[:, 0], lhs_random._samples[:, 1])\naxs[1, 1].set_yticks([0.0, 0.2, 0.4, 0.6, 0.8, 1.0])\naxs[1, 1].set_xticks([0.0, 0.2, 0.4, 0.6, 0.8, 1.0])\naxs[1, 1].yaxis.grid(True)\naxs[1, 1].xaxis.grid(True)\n\nplt.ylim(0, 1)\nplt.xlim(0, 1)\nplt.show()"
      ]
    }
  ],
  "metadata": {
    "kernelspec": {
      "display_name": "Python 3",
      "language": "python",
      "name": "python3"
    },
    "language_info": {
      "codemirror_mode": {
        "name": "ipython",
        "version": 3
      },
      "file_extension": ".py",
      "mimetype": "text/x-python",
      "name": "python",
      "nbconvert_exporter": "python",
      "pygments_lexer": "ipython3",
      "version": "3.12.11"
    }
  },
  "nbformat": 4,
  "nbformat_minor": 0
}