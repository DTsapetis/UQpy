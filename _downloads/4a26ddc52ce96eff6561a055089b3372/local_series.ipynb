{
  "cells": [
    {
      "cell_type": "markdown",
      "metadata": {},
      "source": [
        "\n# Auxiliary File 1\n"
      ]
    },
    {
      "cell_type": "code",
      "execution_count": null,
      "metadata": {
        "collapsed": false
      },
      "outputs": [],
      "source": [
        "import numpy as np\n\n\ndef series(z, k=7):\n    t1 = 3 + 0.1 * (z[:, 1] - z[:, 0]) ** 2 - (z[:, 1] + z[:, 0]) / np.sqrt(2)\n    t2 = 3 + 0.1 * (z[:, 1] - z[:, 0]) ** 2 + (z[:, 1] + z[:, 0]) / np.sqrt(2)\n    t3 = z[:, 1] - z[:, 0] + k / np.sqrt(2)\n    t4 = z[:, 0] - z[:, 1] + k / np.sqrt(2)\n    return min([t1, t2, t3, t4])"
      ]
    }
  ],
  "metadata": {
    "kernelspec": {
      "display_name": "Python 3",
      "language": "python",
      "name": "python3"
    },
    "language_info": {
      "codemirror_mode": {
        "name": "ipython",
        "version": 3
      },
      "file_extension": ".py",
      "mimetype": "text/x-python",
      "name": "python",
      "nbconvert_exporter": "python",
      "pygments_lexer": "ipython3",
      "version": "3.12.11"
    }
  },
  "nbformat": 4,
  "nbformat_minor": 0
}