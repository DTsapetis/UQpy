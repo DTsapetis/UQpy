{
  "cells": [
    {
      "cell_type": "markdown",
      "metadata": {},
      "source": [
        "\n# Diffusion Equation File\n"
      ]
    },
    {
      "cell_type": "code",
      "execution_count": null,
      "metadata": {
        "collapsed": false
      },
      "outputs": [],
      "source": [
        "import numpy as np\ndef diffusion(w, h, dx, dy, D, Tcool, Thot, r, cx, cy, nsteps):\n    nx, ny = int(w/dx), int(h/dy)\n\n    dx2, dy2 = dx*dx, dy*dy\n    dt = dx2 * dy2 / (2 * D * (dx2 + dy2))\n\n    u0 = Tcool * np.ones((nx, ny))\n    u = u0.copy()\n\n    r2 = r**2\n    for i in range(nx):\n        for j in range(ny):\n            p2 = (i*dx-cx)**2 + (j*dy-cy)**2\n            if p2 < r2:\n                u0[i,j] = Thot\n\n    def do_timestep(u0, u):\n        # Propagate with forward-difference in time, central-difference in space\n        u[1:-1, 1:-1] = u0[1:-1, 1:-1] + D * dt * (\n              (u0[2:, 1:-1] - 2*u0[1:-1, 1:-1] + u0[:-2, 1:-1])/dx2\n              + (u0[1:-1, 2:] - 2*u0[1:-1, 1:-1] + u0[1:-1, :-2])/dy2 )\n\n        u0 = u.copy()\n        return u0, u\n\n    u_f = []\n    for m in range(nsteps):\n        u0, u = do_timestep(u0, u)\n        u_f.append(u0)\n    return u_f"
      ]
    }
  ],
  "metadata": {
    "kernelspec": {
      "display_name": "Python 3",
      "language": "python",
      "name": "python3"
    },
    "language_info": {
      "codemirror_mode": {
        "name": "ipython",
        "version": 3
      },
      "file_extension": ".py",
      "mimetype": "text/x-python",
      "name": "python",
      "nbconvert_exporter": "python",
      "pygments_lexer": "ipython3",
      "version": "3.12.11"
    }
  },
  "nbformat": 4,
  "nbformat_minor": 0
}