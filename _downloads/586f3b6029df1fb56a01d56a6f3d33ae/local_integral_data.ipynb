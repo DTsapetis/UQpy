{
  "cells": [
    {
      "cell_type": "markdown",
      "metadata": {},
      "source": [
        "\n# Data generation fuction for DeepONet examples\n"
      ]
    },
    {
      "cell_type": "code",
      "execution_count": null,
      "metadata": {
        "collapsed": false
      },
      "outputs": [],
      "source": [
        "import torch\nimport numpy as np\nfrom UQpy.stochastic_process import SpectralRepresentation\n\n\ndef srm_2d_samples(n_samples: int) -> tuple[torch.Tensor, torch.Tensor]:\n    \"\"\"Sample a 2D Gaussian process using the Spectral Representation Method\n\n    :param n_samples: Number of samples. Each sample is one row\n    :return: time, samples\n    \"\"\"\n    n_dimension = 2\n    max_time = np.array([1.0, 2.0])\n    n_time = np.array([50, 100])\n    max_frequency = np.array([8 * np.pi, 4 * np.pi])\n    n_frequency = np.array([64, 32])\n\n    delta_time = max_time / n_time\n    delta_frequency = max_frequency / n_frequency\n\n    frequency_vectors = [\n        np.linspace(0, max_frequency[i] - delta_frequency[i], n=n_frequency[i])\n        for i in range(n_dimension)\n    ]\n    frequency = np.array(np.meshgrid(*frequency_vectors, indexing=\"ij\"))\n    time_vectors = [\n        np.linspace(0, max_time[i] - delta_time[i], num=n_time[i])\n        for i in range(n_dimension)\n    ]\n    time = np.array(np.meshgrid(*time_vectors, indexing=\"ij\"))\n\n    power_spectrum = np.exp(-2 * np.linalg.norm(frequency, axis=0))\n    srm = SpectralRepresentation(\n        n_samples, power_spectrum, delta_time, delta_frequency, n_time, n_frequency\n    )\n    return (\n        torch.tensor(time, dtype=torch.float).reshape(-1, 2),\n        torch.tensor(srm.samples, dtype=torch.float),\n    )"
      ]
    }
  ],
  "metadata": {
    "kernelspec": {
      "display_name": "Python 3",
      "language": "python",
      "name": "python3"
    },
    "language_info": {
      "codemirror_mode": {
        "name": "ipython",
        "version": 3
      },
      "file_extension": ".py",
      "mimetype": "text/x-python",
      "name": "python",
      "nbconvert_exporter": "python",
      "pygments_lexer": "ipython3",
      "version": "3.12.11"
    }
  },
  "nbformat": 4,
  "nbformat_minor": 0
}