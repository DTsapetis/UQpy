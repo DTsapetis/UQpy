{
  "cells": [
    {
      "cell_type": "markdown",
      "metadata": {},
      "source": [
        "\n# SROM on the eigenvalues of a system\n\nIn this example, Uncertainty in eigenvalues of a system is studied using :class:`.SROM` and it is compared with the\nMonte Carlo Simulation results. Stiffness of each element (i.e. k1, k2 and k3) are treated as random variables which\nfollows gamma distribution. :class:`.SROM` is created for all three random variables and distribution of eigenvalues are\nidentified using :class:`.SROM`.\n"
      ]
    },
    {
      "cell_type": "markdown",
      "metadata": {},
      "source": [
        "Import the necessary libraries. Here we import standard libraries such as numpy and matplotlib, but also need to\nimport the :class:`.MonteCarloSampling`, :class:`.TrueStratifiedSampling` and :class:`.SROM` class from UQpy.\n\n"
      ]
    },
    {
      "cell_type": "code",
      "execution_count": null,
      "metadata": {
        "collapsed": false
      },
      "outputs": [],
      "source": [
        "import shutil\n\nfrom UQpy import PythonModel\nfrom UQpy.sampling import MonteCarloSampling, TrueStratifiedSampling\nfrom UQpy.sampling import RectangularStrata\nfrom UQpy.distributions import Gamma\nfrom UQpy.surrogates import SROM\nfrom UQpy.run_model.RunModel import RunModel\nfrom scipy.stats import gamma\nimport numpy as np\nimport matplotlib.pyplot as plt"
      ]
    },
    {
      "cell_type": "markdown",
      "metadata": {},
      "source": [
        "Create a distribution object for :class:`.Gamma` distribution with shape, shift and scale parameters as $2$,\n$1$ and $3$.\n\n"
      ]
    },
    {
      "cell_type": "code",
      "execution_count": null,
      "metadata": {
        "collapsed": false
      },
      "outputs": [],
      "source": [
        "marginals = [Gamma(a=2., loc=1., scale=3.), Gamma(a=2., loc=1., scale=3.), Gamma(a=2., loc=1., scale=3.)]"
      ]
    },
    {
      "cell_type": "markdown",
      "metadata": {},
      "source": [
        "Create a strata object.\n\n"
      ]
    },
    {
      "cell_type": "code",
      "execution_count": null,
      "metadata": {
        "collapsed": false
      },
      "outputs": [],
      "source": [
        "strata = RectangularStrata(strata_number=[3, 3, 3])"
      ]
    },
    {
      "cell_type": "markdown",
      "metadata": {},
      "source": [
        "Using UQpy :class:`.TrueStratifiedSampling` class to generate samples for two random variables having :class:`.Gamma`\ndistribution.\n\n"
      ]
    },
    {
      "cell_type": "code",
      "execution_count": null,
      "metadata": {
        "collapsed": false
      },
      "outputs": [],
      "source": [
        "x = TrueStratifiedSampling(distributions=marginals, strata_object=strata, nsamples_per_stratum=1)"
      ]
    },
    {
      "cell_type": "markdown",
      "metadata": {},
      "source": [
        "Run :class:`.SROM` to minimize the error in distribution, first order and second order moment about origin.\n\n"
      ]
    },
    {
      "cell_type": "code",
      "execution_count": null,
      "metadata": {
        "collapsed": false
      },
      "outputs": [],
      "source": [
        "y = SROM(samples=x.samples, target_distributions=marginals, moments=[[6, 6, 6], [54, 54, 54]],\n         weights_errors=[1, 1, 0], properties=[True, True, True, False])"
      ]
    },
    {
      "cell_type": "markdown",
      "metadata": {},
      "source": [
        "Plot the sample sets and weights from :class:`.SROM` class. Also, compared with the CDF of gamma distribution of k1.\n\n"
      ]
    },
    {
      "cell_type": "code",
      "execution_count": null,
      "metadata": {
        "collapsed": false
      },
      "outputs": [],
      "source": [
        "# Arrange samples in increasing order and sort samples accordingly\ncom = np.append(y.samples, np.transpose(np.matrix(y.sample_weights)), 1)\nsrt = com[np.argsort(com[:, 0].flatten())]\ns = np.array(srt[0, :, 0])\na = srt[0, :, 3]\na0 = np.array(np.cumsum(a))\n# Plot the SROM approximation and compare with actual gamma distribution\nl = 3\nfig = plt.figure()\nplt.rcParams.update({'font.size': 12})\nplt.plot(s[0], a0[0], linewidth=l)\nplt.plot(np.arange(3, 12, 0.05), gamma.cdf(np.arange(3, 12, 0.05), a=2, loc=3, scale=1), linewidth=l)\nplt.legend(['SROM Approximation', 'Gamma CDF'], loc=5, prop={'size': 12}, bbox_to_anchor=(1, 0.75))\nplt.show()"
      ]
    },
    {
      "cell_type": "markdown",
      "metadata": {},
      "source": [
        "Run the model 'eigenvalue_model.py' for each sample generated through :class:`.TrueStratifiedSampling` class. This\nmodel defines the stiffness matrix corresponding to each sample and estimate the eigenvalues of the matrix.\n\n"
      ]
    },
    {
      "cell_type": "code",
      "execution_count": null,
      "metadata": {
        "collapsed": false
      },
      "outputs": [],
      "source": [
        "m = PythonModel(model_script='local_eigenvalue_model.py',model_object_name=\"RunPythonModel\" )\nmodel = RunModel(model=m)\n# model = RunModel(model_script='local_eigenvalue_model.py')\nmodel.run(samples=y.samples)\nr_srom = model.qoi_list"
      ]
    },
    {
      "cell_type": "markdown",
      "metadata": {},
      "source": [
        ":class:`MonteCarloSampling` class is used to generate 1000 samples.\n\n"
      ]
    },
    {
      "cell_type": "code",
      "execution_count": null,
      "metadata": {
        "collapsed": false
      },
      "outputs": [],
      "source": [
        "x_mcs = MonteCarloSampling(distributions=marginals, nsamples=1000)"
      ]
    },
    {
      "cell_type": "markdown",
      "metadata": {},
      "source": [
        "Run the model 'eigenvalue_model.py' for each sample generated through :class:`.MonteCarloSampling` class.\n\n"
      ]
    },
    {
      "cell_type": "code",
      "execution_count": null,
      "metadata": {
        "collapsed": false
      },
      "outputs": [],
      "source": [
        "model.run(samples=x_mcs.samples, append_samples=False)\nr_mcs = model.qoi_list"
      ]
    },
    {
      "cell_type": "markdown",
      "metadata": {},
      "source": [
        "Plot the distribution of each eigenvalue, estimated using :class:`.SROM` and :class:`.MonteCarloSampling` weights.\n\n"
      ]
    },
    {
      "cell_type": "code",
      "execution_count": null,
      "metadata": {
        "collapsed": false
      },
      "outputs": [],
      "source": [
        "# Plot SROM and MCS approximation for first eigenvalue\nr = np.array([x[:,0] for x in r_srom])\nr_mcs = np.squeeze(np.array(r_mcs))\ncom = np.append(np.atleast_2d(r), np.transpose(np.matrix(y.sample_weights)), 1)\nsrt = com[np.argsort(com[:, 0].flatten())]\ns = np.array(srt[0, :, 0])\na = srt[0, :, 1]\na0 = np.array(np.cumsum(a))\nfig1 = plt.figure()\nplt.plot(s[0], a0[0], linewidth=l)\nr_mcs0 = r_mcs[np.argsort(r_mcs[:, 0].flatten())]\nplt.plot(r_mcs0[:, 0], np.cumsum(0.001*np.ones([1, 1000])), linewidth=l)\nplt.title('Eigenvalue, $\\lambda_1$')\nplt.legend(['SROM', 'MCS'], loc=1, prop={'size': 12}, bbox_to_anchor=(1, 0.92))\nplt.show()\n\n# Plot SROM and MCS approximation for second eigenvalue\nr = np.array([x[:,1] for x in r_srom])\ncom = np.append(np.atleast_2d(r), np.transpose(np.matrix(y.sample_weights)), 1)\nsrt = com[np.argsort(com[:, 0].flatten())]\ns = np.array(srt[0, :, 0])\na = srt[0, :, 1]\na0 = np.array(np.cumsum(a))\nfig2 = plt.figure()\nplt.plot(s[0], a0[0], linewidth=l)\nr_mcs0 = r_mcs[np.argsort(r_mcs[:, 1].flatten())]\nplt.plot(r_mcs0[:, 1], np.cumsum(0.001*np.ones([1, 1000])), linewidth=l)\nplt.title('Eigenvalue, $\\lambda_2$')\nplt.legend(['SROM', 'MCS'], loc=1, prop={'size': 12}, bbox_to_anchor=(1, 0.92))\nplt.show()\n\n# Plot SROM and MCS approximation for third eigenvalue\nr = np.array([x[:,2] for x in r_srom])\ncom = np.append(np.atleast_2d(r), np.transpose(np.matrix(y.sample_weights)), 1)\nsrt = com[np.argsort(com[:, 0].flatten())]\ns = np.array(srt[0, :, 0])\na = srt[0, :, 1]\na0 = np.array(np.cumsum(a))\nfig3 = plt.figure()\nplt.plot(s[0], a0[0], linewidth=l)\nr_mcs0 = r_mcs[np.argsort(r_mcs[:, 2].flatten())]\nplt.plot(r_mcs0[:, 2], np.cumsum(0.001*np.ones([1, 1000])), linewidth=l)\nplt.title('Eigenvalue, $\\lambda_3$')\nplt.legend(['SROM', 'MCS'], loc=1, prop={'size': 12}, bbox_to_anchor=(1, 0.92))\nplt.show()"
      ]
    },
    {
      "cell_type": "markdown",
      "metadata": {},
      "source": [
        "Note: Monte Carlo Simulation used 1000 samples, whereas SROM used 27 samples.\n\n"
      ]
    }
  ],
  "metadata": {
    "kernelspec": {
      "display_name": "Python 3",
      "language": "python",
      "name": "python3"
    },
    "language_info": {
      "codemirror_mode": {
        "name": "ipython",
        "version": 3
      },
      "file_extension": ".py",
      "mimetype": "text/x-python",
      "name": "python",
      "nbconvert_exporter": "python",
      "pygments_lexer": "ipython3",
      "version": "3.12.11"
    }
  },
  "nbformat": 4,
  "nbformat_minor": 0
}