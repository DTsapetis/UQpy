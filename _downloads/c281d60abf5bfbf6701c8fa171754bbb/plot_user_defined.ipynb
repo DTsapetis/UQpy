{
  "cells": [
    {
      "cell_type": "markdown",
      "metadata": {},
      "source": [
        "\n# User-defined Rosenbrock distribution\n\nThis examples shows the use of the multivariate normal distributions class. In particular:\n"
      ]
    },
    {
      "cell_type": "code",
      "execution_count": null,
      "metadata": {
        "collapsed": false
      },
      "outputs": [],
      "source": [
        "import numpy as np\nfrom UQpy.distributions import DistributionND\nimport matplotlib.pyplot as plt"
      ]
    },
    {
      "cell_type": "markdown",
      "metadata": {},
      "source": [
        "## Example with a custom distribution\nIn order to define a new distribution, the user must extend the one of the abstract base classes\n:class:`.DistributionContinuous1D`, :class:`.DistributionDiscrete1D` or :class:`.DistributionND`.\nFor the purpose of this example a\nnew multivariate Rosenbrock distribution is defined. Note that three methods are implemented, namely, the\n:code:`__init__`\nwhich allows the user to define custom distribution arguments, as well as the pdf and log_pdf of this new\ndistribution. Note that it is required for the user to call the :code:`__init__` method of the baseclass by providing\nall arguments names and values required in the custom distribution initializer. In our case, the parameter name\n:code:`p` and its values are provided to the :code:`super().__init__` method.\n\n"
      ]
    },
    {
      "cell_type": "code",
      "execution_count": null,
      "metadata": {
        "collapsed": false
      },
      "outputs": [],
      "source": [
        "class Rosenbrock(DistributionND):\n    def __init__(self, p=20.):\n        super().__init__(p=p)\n\n    def pdf(self, x):\n        return np.exp(-(100 * (x[:, 1] - x[:, 0] ** 2) ** 2 + (1 - x[:, 0]) ** 2) / self.parameters['p'])\n\n    def log_pdf(self, x):\n        return -(100 * (x[:, 1] - x[:, 0] ** 2) ** 2 + (1 - x[:, 0]) ** 2) / self.parameters['p']"
      ]
    },
    {
      "cell_type": "markdown",
      "metadata": {},
      "source": [
        "## Initialize custom distribution\nGiven the newly defined distribution class, a Rosenbrock distribution object can be defined by providing to the\ninitializer the user-defined argument :code:`p`. Since the Rosenbrock distribution extends the\n:class:`.DistributionND` class, methods\nand attributes of the baseclass are already available. For instance, the user can retrieve the already defined\nparameters using the :code:`parameters` attribute and subsequently update them using the :code:`update_parameters`\nmethod.\n\n"
      ]
    },
    {
      "cell_type": "code",
      "execution_count": null,
      "metadata": {
        "collapsed": false
      },
      "outputs": [],
      "source": [
        "dist = Rosenbrock(p=20)\nprint(dist.parameters)\ndist.update_parameters(p=40)\nprint(dist.parameters)\n\ndist = Rosenbrock(p=20)\nprint(dist.parameters)"
      ]
    },
    {
      "cell_type": "markdown",
      "metadata": {},
      "source": [
        "## Plot pdf of the user defined distribution\n\n\n"
      ]
    },
    {
      "cell_type": "code",
      "execution_count": null,
      "metadata": {
        "collapsed": false
      },
      "outputs": [],
      "source": [
        "fig, ax = plt.subplots(figsize=(8, 5))\nx = np.arange(-5, 8, 0.1)\ny = np.arange(-5, 50, 0.1)\nX, Y = np.meshgrid(x, y)\nZ = dist.pdf(x=np.concatenate([X.reshape((-1, 1)), Y.reshape((-1, 1))], axis=1))\nCS = ax.contour(X, Y, Z.reshape(X.shape))\nax.clabel(CS, inline=1, fontsize=10)\nax.set_title('Contour plot of custom pdf - Rosenbrock')\nplt.show()"
      ]
    },
    {
      "cell_type": "markdown",
      "metadata": {},
      "source": [
        "## Check if the user-defined distribution has rvs, pdf and update_parameters method\n\n\n"
      ]
    },
    {
      "cell_type": "code",
      "execution_count": null,
      "metadata": {
        "collapsed": false
      },
      "outputs": [],
      "source": [
        "print('Does the rosenbrock distribution have an rvs method?')\nprint(hasattr(dist, 'rvs'))\n\nprint('Does the rosenbrock distribution have an pdf method?')\nprint(hasattr(dist, 'pdf'))\n\nprint('Does the rosenbrock distribution have an update_parameters method?')\nprint(hasattr(dist, 'update_parameters'))"
      ]
    }
  ],
  "metadata": {
    "kernelspec": {
      "display_name": "Python 3",
      "language": "python",
      "name": "python3"
    },
    "language_info": {
      "codemirror_mode": {
        "name": "ipython",
        "version": 3
      },
      "file_extension": ".py",
      "mimetype": "text/x-python",
      "name": "python",
      "nbconvert_exporter": "python",
      "pygments_lexer": "ipython3",
      "version": "3.12.11"
    }
  },
  "nbformat": 4,
  "nbformat_minor": 0
}