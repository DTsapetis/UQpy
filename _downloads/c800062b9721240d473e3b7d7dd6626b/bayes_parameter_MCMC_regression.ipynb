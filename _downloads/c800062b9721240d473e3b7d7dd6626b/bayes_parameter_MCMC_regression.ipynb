{
  "cells": [
    {
      "cell_type": "markdown",
      "metadata": {},
      "source": [
        "\n# Parameter estimation using MCMC - Regression Model\n\nHere a model is defined that is of the form\n\n\\begin{align}y=f(\u03b8) + \\epsilon\\end{align}\n\nwhere $f$ consists in running RunModel. In particular, here $f(\u03b8)=\u03b8_{0} x + \u03b8_{1} x^{2}$ is a\nregression model.\n"
      ]
    },
    {
      "cell_type": "markdown",
      "metadata": {},
      "source": [
        "Initially we have to import the necessary modules.\n\n"
      ]
    },
    {
      "cell_type": "code",
      "execution_count": null,
      "metadata": {
        "collapsed": false
      },
      "outputs": [],
      "source": [
        "import shutil\n\nimport numpy as np\nimport matplotlib.pyplot as plt\n\nfrom UQpy import PythonModel\nfrom UQpy.sampling.mcmc.MetropolisHastings import MetropolisHastings\nfrom UQpy.inference.inference_models.ComputationalModel import ComputationalModel\nfrom UQpy.run_model.RunModel import RunModel\nfrom UQpy.inference import BayesParameterEstimation\nfrom sklearn.neighbors import KernelDensity  # for the plots\nfrom UQpy.distributions import JointIndependent, Normal\n\ndef pdf_from_kde(domain, samples1d):\n    bandwidth = 1.06 * np.std(samples1d) * samples1d.size ** (-1 / 5)\n    kde = KernelDensity(bandwidth=bandwidth).fit(samples1d.reshape((-1, 1)))\n    log_dens = kde.score_samples(domain)\n    return np.exp(log_dens)"
      ]
    },
    {
      "cell_type": "markdown",
      "metadata": {},
      "source": [
        "First we generate synthetic data, and add some noise to it.\n\n"
      ]
    },
    {
      "cell_type": "code",
      "execution_count": null,
      "metadata": {
        "collapsed": false
      },
      "outputs": [],
      "source": [
        "# Generate data\nparam_true = np.array([1.0, 2.0]).reshape((1, -1))\nprint('Shape of true parameter vector: {}'.format(param_true.shape))\n\nmodel = PythonModel(model_script='local_pfn_models.py', model_object_name='model_quadratic',\n                    var_names=['theta_0', 'theta_1'])\nh_func = RunModel(model=model)\nh_func.run(samples=param_true)\ndata_clean = np.array(h_func.qoi_list[0])\nprint(data_clean.shape)\n\n# Add noise, use a RandomState for reproducible results\nerror_covariance = 1.\nnoise = Normal(loc=0., scale=np.sqrt(error_covariance)).rvs(nsamples=50, random_state=123).reshape((50,))\ndata_3 = data_clean + noise\nprint('Shape of data: {}'.format(data_3.shape))\nprint(data_3[:4])\n\np0 = Normal()\np1 = Normal()\nprior = JointIndependent(marginals=[p0, p1])\n\ninference_model = ComputationalModel(n_parameters=2, runmodel_object=h_func, error_covariance=error_covariance,\n                                     prior=prior)\n\nproposal = JointIndependent([Normal(scale=0.1), Normal(scale=0.05)])\n\nmh1 = MetropolisHastings(jump=10, burn_length=0, proposal=proposal, seed=[0.5, 2.5],\n                         random_state=456)\n\nbayes_estimator = BayesParameterEstimation(inference_model=inference_model,\n                                           data=data_3,\n                                           sampling_class=mh1,\n                                           nsamples=500)\n\ns = bayes_estimator.sampler.samples\nplt.scatter(s[:, 0], s[:, 1])\nplt.scatter(1.0, 2.0, label='true value')\nplt.title('MCMC samples')\nplt.show()\n\nfig, ax = plt.subplots(1, 2, figsize=(10, 4))\n\ndomain = np.linspace(-4, 4, 200)[:, np.newaxis]\npdf_ = pdf_from_kde(domain, s[:, 0])\nax[0].plot(domain, pdf_, label='posterior')\nax[0].plot(domain, p0.pdf(domain), label='prior')\nax[0].set_title('posterior pdf of theta_{1}')\n\ndomain = np.linspace(-4, 4, 200)[:, np.newaxis]\npdf_ = pdf_from_kde(domain, s[:, 1])\nax[1].plot(domain, pdf_, label='posterior')\nax[1].plot(domain, p1.pdf(domain), label='prior')\nax[1].set_title('posterior pdf of theta_{2}')\n\nplt.show()\n\nprint(bayes_estimator.sampler.samples[:4])"
      ]
    }
  ],
  "metadata": {
    "kernelspec": {
      "display_name": "Python 3",
      "language": "python",
      "name": "python3"
    },
    "language_info": {
      "codemirror_mode": {
        "name": "ipython",
        "version": 3
      },
      "file_extension": ".py",
      "mimetype": "text/x-python",
      "name": "python",
      "nbconvert_exporter": "python",
      "pygments_lexer": "ipython3",
      "version": "3.12.11"
    }
  },
  "nbformat": 4,
  "nbformat_minor": 0
}