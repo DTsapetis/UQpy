{
  "cells": [
    {
      "cell_type": "markdown",
      "metadata": {},
      "source": [
        "\n# Physics-Informed PCE: Deterministic Wave Equation\n\nIn this example, we approximate a deterministic Wave Equation by Physics-informed Polynomial Chaos Expansion.\n"
      ]
    },
    {
      "cell_type": "markdown",
      "metadata": {},
      "source": [
        "Import necessary libraries.\n\n"
      ]
    },
    {
      "cell_type": "code",
      "execution_count": null,
      "metadata": {
        "collapsed": false
      },
      "outputs": [],
      "source": [
        "from UQpy.surrogates import *\nfrom UQpy.distributions import Uniform, JointIndependent\nfrom UQpy.sampling.stratified_sampling.latin_hypercube_criteria import *\nfrom UQpy.sampling import LatinHypercubeSampling\n\n# load PC^2\nfrom UQpy.surrogates.polynomial_chaos.physics_informed.ConstrainedPCE import ConstrainedPCE\nfrom UQpy.surrogates.polynomial_chaos.physics_informed.PdeData import PdeData\nfrom UQpy.surrogates.polynomial_chaos.physics_informed.PdePCE import PdePCE\nfrom UQpy.surrogates.polynomial_chaos.physics_informed.Utilities import *"
      ]
    },
    {
      "cell_type": "markdown",
      "metadata": {},
      "source": [
        "We then define functions used for construction of Physically Constrained PCE (PC $^2$)\n\n"
      ]
    },
    {
      "cell_type": "code",
      "execution_count": null,
      "metadata": {
        "collapsed": false
      },
      "outputs": [],
      "source": [
        "# Definition of PDE in context of PC^2\ndef pde_func(s, pce):\n    # function inputs must be input random vector in standardized space and pce object\n\n    # partial derivation according to the first input variable x (second order)\n    # derived basis must be multiplied by constant reflecting the difference between physical and standardized space\n    deriv_0_pce = derivative_basis(s, pce, derivative_order=2, leading_variable=0) * transformation_multiplier(pde_data,\n                                                                                                               leading_variable=0,\n                                                                                                               derivation_order=2)\n    deriv_1_pce = derivative_basis(s, pce, derivative_order=2, leading_variable=1) * transformation_multiplier(pde_data,\n                                                                                                               leading_variable=1,\n                                                                                                               derivation_order=2)\n    pde_basis = deriv_1_pce - 4 * deriv_0_pce\n\n    return pde_basis\n\n\n# Definition of the source term (zero in this example)\ndef pde_res(s):\n    return np.zeros(len(s))\n\n\n# Definition of the function for sampling of boundary conditions\ndef bc_sampling(nsim=1000):\n    # BC sampling\n\n    nsim_half = round(nsim / 2)\n    sample = np.zeros((nsim, 2))\n    real_ogrid_1d = ortho_grid(nsim_half, 1, 0.0, 2.0)[:, 0]\n\n    sample[:nsim_half, 0] = np.zeros(int(nsim / 2))\n    sample[:nsim_half, 1] = real_ogrid_1d\n\n    sample[nsim_half:, 0] = np.ones(nsim_half)\n    sample[nsim_half:, 1] = real_ogrid_1d\n\n    return sample\n\n\n# Definition of the function for sampling and evaluation of BC. Function is utilized for estimation of an error once\n# the PCE is created.\ndef bc_res(nsim, pce):\n    bc_x = bc_sampling(nsim)\n    bc_s = polynomial_chaos.Polynomials.standardize_sample(bc_x, pce.polynomial_basis.distributions)\n\n    der_order = 0\n    deriv_0_pce = np.sum(\n        derivative_basis(bc_s, pce, derivative_order=der_order, leading_variable=0) * ((2 / 1) ** der_order) * np.array(\n            pce.coefficients).T, axis=1)\n\n    bc_init_x, bc_init_y = init_sampling(nsim)\n    bc_init_s = polynomial_chaos.Polynomials.standardize_sample(bc_init_x, pce.polynomial_basis.distributions)\n\n    der_order = 0\n    deriv_0_init = np.sum(\n        derivative_basis(bc_init_s, pce, derivative_order=der_order, leading_variable=0) * (\n                (2 / 1) ** der_order) * np.array(\n            pce.coefficients).T, axis=1)\n\n    der_order = 1\n    deriv_1_init = np.sum(\n        derivative_basis(bc_init_s, pce, derivative_order=der_order, leading_variable=1) * (\n                (2 / 1) ** der_order) * np.array(\n            pce.coefficients).T, axis=1)\n\n    return deriv_0_pce + np.abs(deriv_0_init - bc_init_y[:, 0]) + deriv_1_init\n\n\n# Definition of the function for sampling of initial conditions\ndef init_sampling(nsim=1000):\n    init_x = joint.rvs(nsim)\n\n    init_x[:, 0] = ortho_grid(nsim, 1, 0.0, 1.0)[:, 0]\n\n    # initial conditions are defined for t=0\n    init_x[:, 1] = np.zeros(nsim)\n\n    init_y = np.sin(np.pi * init_x[:, 0:1])\n    return init_x, init_y\n\n\n#  Definition of the function for sampling of virtual points (PDE is satisfied in virtual points)\ndef virt_sampling(nsim=1000):\n    domain_samples = LatinHypercubeSampling(distributions=joint,\n                                            criterion=Centered(),\n                                            nsamples=nsim)._samples.reshape(-1, 2)\n\n    return domain_samples\n\n\n# Definition of the reference solution for an error estimation\ndef ref_sol(x):\n    return np.sin(np.pi * x[:, 0:1]) * np.cos(2 * np.pi * x[:, 1:])"
      ]
    },
    {
      "cell_type": "markdown",
      "metadata": {},
      "source": [
        "Wave equation is parametrized by two deterministic input variables (coordinate $x$ and time $t$)\nmodeled as Uniform random variables.\n\n"
      ]
    },
    {
      "cell_type": "code",
      "execution_count": null,
      "metadata": {
        "collapsed": false
      },
      "outputs": [],
      "source": [
        "# number of input random variables\nnvar = 2\n\n#   definition of a joint probability distribution\ndist1 = Uniform(loc=0, scale=1)\ndist2 = Uniform(loc=0, scale=2)\nmarg = [dist1, dist2]\njoint = JointIndependent(marginals=marg)"
      ]
    },
    {
      "cell_type": "markdown",
      "metadata": {},
      "source": [
        "The physical domain is defined by two variables $x \\in [0,1], t \\in [0,2]$\n\n"
      ]
    },
    {
      "cell_type": "code",
      "execution_count": null,
      "metadata": {
        "collapsed": false
      },
      "outputs": [],
      "source": [
        "# define geometry of physical space\n\ngeometry_xmin = [0, 0]\ngeometry_xmax = [1, 2]"
      ]
    },
    {
      "cell_type": "markdown",
      "metadata": {},
      "source": [
        "Boundary conditions are prescribed as\n\n\\begin{align}\\frac{d u(x,0)}{d t}=0, \\qquad u(0,t)=u(1,t) = 0, \\qquad u(x,0) =\\sin{(\\pi x)}\\end{align}\n\n"
      ]
    },
    {
      "cell_type": "code",
      "execution_count": null,
      "metadata": {
        "collapsed": false
      },
      "outputs": [],
      "source": [
        "# number of BC samples\nnbc = 2 * 10\nninit = 10\n\n# derivation orders of prescribed BCs\nder_orders = [0, 1, 0]\n# normals associated to prescribed BCs\nbc_normals = [0, 1, 1]\n# sampling of BC points\nbc_x = bc_sampling(nbc)\nbc_y = np.zeros(len(bc_x))\nbc_x_init, bc_y_init = init_sampling(ninit)\n\nbc_coord = [bc_x, bc_x_init, bc_x_init]\nbc_resy = [bc_y, np.zeros(len(bc_x_init)), bc_y_init[:, 0]]"
      ]
    },
    {
      "cell_type": "markdown",
      "metadata": {},
      "source": [
        "Here we construct an object containing general physical information (geometry, boundary conditions)\n\n"
      ]
    },
    {
      "cell_type": "code",
      "execution_count": null,
      "metadata": {
        "collapsed": false
      },
      "outputs": [],
      "source": [
        "pde_data = PdeData(geometry_xmax, geometry_xmin, der_orders, bc_normals, bc_coord, bc_resy)"
      ]
    },
    {
      "cell_type": "markdown",
      "metadata": {},
      "source": [
        "Further we construct an object containing PDE physical data and PC $^2$ definitions of PDE\n\n"
      ]
    },
    {
      "cell_type": "code",
      "execution_count": null,
      "metadata": {
        "collapsed": false
      },
      "outputs": [],
      "source": [
        "pde_pce = PdePCE(pde_data, pde_func, pde_source=pde_res, boundary_conditions_evaluate=bc_res,\n                 virtual_points_sampling=virt_sampling)"
      ]
    },
    {
      "cell_type": "markdown",
      "metadata": {},
      "source": [
        "Get dirichlet boundary conditions from PDE data object that are further used for construction of initial PCE object.\n\n"
      ]
    },
    {
      "cell_type": "code",
      "execution_count": null,
      "metadata": {
        "collapsed": false
      },
      "outputs": [],
      "source": [
        "# extract dirichlet BC\ndirichlet_bc = pde_data.dirichlet\nx_train = dirichlet_bc[:, :-1]\ny_train = dirichlet_bc[:, -1]"
      ]
    },
    {
      "cell_type": "markdown",
      "metadata": {},
      "source": [
        "Finally, p-adaptive PC $^2$ is constructed using Karush-Kuhn-Tucker normal equations solved by ordinary least squares:\n\n"
      ]
    },
    {
      "cell_type": "code",
      "execution_count": null,
      "metadata": {
        "collapsed": false
      },
      "outputs": [],
      "source": [
        "# construct PC^2\nleast_squares = LeastSquareRegression()\nerrors = []\nbest_err = 1000\nfor p in range(12, 15):\n    PCEorder = p\n    polynomial_basis = TotalDegreeBasis(joint, PCEorder, hyperbolic=1)\n\n    #  create initial PCE object containing basis, regression method and dirichlet BC\n    initpce = PolynomialChaosExpansion(polynomial_basis=polynomial_basis, regression_method=least_squares)\n    initpce.set_data(x_train, y_train)\n\n    # construct a PC^2 object combining pde_data, pde_pce and initial PCE objects\n    pcpc = ConstrainedPCE(pde_data, pde_pce, initpce)\n\n    # get coefficients of PC^2 by KKT-OLS\n    pcpc.ols(n_error_points=10000)\n\n    # get PC^2 error\n    err = pcpc.ols_err\n\n    errors.append(err)\n    if err < best_err:\n        best_p = p\n        best_err = err\n\n# construct the PC^2 with optimal polynomial order\npolynomial_basis = TotalDegreeBasis(joint, best_p, hyperbolic=1)\n\n#  create initial PCE object containing basis, regression method and dirichlet BC\ninitpce = PolynomialChaosExpansion(polynomial_basis=polynomial_basis, regression_method=least_squares)\ninitpce.set_data(x_train, y_train)\n\n# construct a PC^2 object combining pde_data, pde_pce and initial PCE objects\npcpc = ConstrainedPCE(pde_data, pde_pce, initpce)\n\n# get coefficients of PC^2 by KKT-OLS\npcpc.ols(n_error_points=10000)\nprint('\\np adaptive results: ')\nprint('Best polynomial order: ', best_p)\nprint('Sum of errors in PDE, BCs and training data: ', best_err)"
      ]
    },
    {
      "cell_type": "markdown",
      "metadata": {},
      "source": [
        "PC $^2$ can be further used for a fast evaluation of the Wave equation. Obtained results are compared to\nan analytical reference solution in the following plot.\n\n"
      ]
    },
    {
      "cell_type": "code",
      "execution_count": null,
      "metadata": {
        "collapsed": false
      },
      "outputs": [],
      "source": [
        "# plot the results and calculate absolute error\nreal_ogrid = ortho_grid(200, nvar, 0.0, 2.0)\nreal_ogrid[:, 0] = real_ogrid[:, 0] / 2\n\nyy_val_pce = pcpc.initial_pce.predict(real_ogrid).flatten()\nyy_val_true = ref_sol(real_ogrid).flatten()\nabs_err = np.abs(yy_val_true - yy_val_pce)\n\nprint('\\nComparison to the reference solution:')\nprint('Mean squared error of PC^2: ', np.mean(abs_err ** 2))\n\nimport matplotlib.pyplot as plt\n\nvmin = yy_val_pce.min()\nvmax = yy_val_pce.max()\nnorm = plt.Normalize(vmin=vmin, vmax=vmax)\ncmap = plt.cm.jet\n\nfig, ax = plt.subplots(1, 2, figsize=(9, 4))\ncolors = cmap(norm(yy_val_pce))\nax[0].scatter(real_ogrid[:, 0], real_ogrid[:, 1], c=colors)\n\nax[0].scatter(pcpc.virtual_x[:, 0], pcpc.virtual_x[:, 1], c='green')\nax[0].scatter(bc_x_init[:, 0], bc_x_init[:, 1], c='black')\nax[0].scatter(x_train[:, 0], x_train[:, 1], c='black')\n\ncmap_err = plt.cm.Reds\nabs_err = np.abs(yy_val_true - yy_val_pce)\nvmin_err = 0\nvmax_err = abs_err.max()\nnorm_err = plt.Normalize(vmin=vmin_err, vmax=vmax_err)\n\ncolors = cmap_err(norm_err(abs_err))\nax[1].scatter(real_ogrid[:, 0], real_ogrid[:, 1], c=colors)\n\nax[0].set_title('PC$^2$ approximation')\nax[0].set_xlabel('coordinate $x$')\nax[0].set_ylabel('time $t$')\n\nax[1].set_title('Absolute error')\nax[1].set_xlabel('coordinate $x$')\nfig.colorbar(plt.cm.ScalarMappable(norm=norm_err, cmap=cmap_err), ax=ax[1])\nplt.show()"
      ]
    }
  ],
  "metadata": {
    "kernelspec": {
      "display_name": "Python 3",
      "language": "python",
      "name": "python3"
    },
    "language_info": {
      "codemirror_mode": {
        "name": "ipython",
        "version": 3
      },
      "file_extension": ".py",
      "mimetype": "text/x-python",
      "name": "python",
      "nbconvert_exporter": "python",
      "pygments_lexer": "ipython3",
      "version": "3.12.11"
    }
  },
  "nbformat": 4,
  "nbformat_minor": 0
}