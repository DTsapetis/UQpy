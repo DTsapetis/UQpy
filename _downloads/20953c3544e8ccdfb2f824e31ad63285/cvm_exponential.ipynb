{
  "cells": [
    {
      "cell_type": "markdown",
      "metadata": {},
      "source": [
        "\n# Exponential function\n\nThe exponential function was used in [1]_ to demonstrate the \nCram\u00e9r-von Mises indices.\n\n\\begin{align}f(x) := \\exp(x_1 + 2x_2), \\quad x_1, x_2 \\sim \\mathcal{N}(0, 1)\\end{align}\n\n.. [1] Gamboa, F., Klein, T., & Lagnoux, A. (2018). Sensitivity Analysis Based on Cram\u00e9r-von Mises Distance. SIAM/ASA Journal on Uncertainty Quantification, 6(2), 522-548. doi:10.1137/15M1025621. ([Link](https://doi.org/10.1137/15M1025621))\n"
      ]
    },
    {
      "cell_type": "code",
      "execution_count": null,
      "metadata": {
        "collapsed": false
      },
      "outputs": [],
      "source": [
        "from UQpy.run_model.RunModel import RunModel\nfrom UQpy.run_model.model_execution.PythonModel import PythonModel\nfrom UQpy.distributions import Normal\nfrom UQpy.distributions.collection.JointIndependent import JointIndependent\nfrom UQpy.sensitivity.CramerVonMisesSensitivity import CramerVonMisesSensitivity as cvm\nfrom UQpy.sensitivity.PostProcess import *\n\nnp.random.seed(123)"
      ]
    },
    {
      "cell_type": "markdown",
      "metadata": {},
      "source": [
        "**Define the model and input distributions**\n\n"
      ]
    },
    {
      "cell_type": "code",
      "execution_count": null,
      "metadata": {
        "collapsed": false
      },
      "outputs": [],
      "source": [
        "# Create Model object\nmodel = PythonModel(\n    model_script=\"local_exponential.py\",\n    model_object_name=\"evaluate\",\n    var_names=[r\"$X_1$\", \"$X_2$\"],\n    delete_files=True,\n)\n\nrunmodel_obj = RunModel(model=model)\n\n# Define distribution object\ndist_object = JointIndependent([Normal(0, 1)] * 2)"
      ]
    },
    {
      "cell_type": "markdown",
      "metadata": {},
      "source": [
        "**Compute Cram\u00e9r-von Mises indices**\n\n"
      ]
    },
    {
      "cell_type": "code",
      "execution_count": null,
      "metadata": {
        "collapsed": false
      },
      "outputs": [],
      "source": [
        "SA = cvm(runmodel_obj, dist_object)\n\n# Compute CVM indices using the pick and freeze algorithm\nSA.run(n_samples=20_000, estimate_sobol_indices=True)"
      ]
    },
    {
      "cell_type": "markdown",
      "metadata": {},
      "source": [
        "**Cram\u00e9r-von Mises indices**\n\nExpected value of the sensitivity indices:\n\n$S^1_{CVM} = \\frac{6}{\\pi} \\operatorname{arctan}(2) - 2 \\approx 0.1145$\n\n$S^2_{CVM} = \\frac{6}{\\pi} \\operatorname{arctan}(\\sqrt{19}) - 2 \\approx 0.5693$\n\n"
      ]
    },
    {
      "cell_type": "code",
      "execution_count": null,
      "metadata": {
        "collapsed": false
      },
      "outputs": [],
      "source": [
        "SA.first_order_CramerVonMises_indices\n\n# **Plot the CVM indices**\nfig1, ax1 = plot_sensitivity_index(\n    SA.first_order_CramerVonMises_indices[:, 0],\n    plot_title=\"Cram\u00e9r-von Mises indices\",\n    color=\"C4\",\n)"
      ]
    },
    {
      "cell_type": "markdown",
      "metadata": {},
      "source": [
        "**Estimated first order Sobol indices**\n\nExpected first order Sobol indices:\n\n$S_1$ = 0.0118\n\n$S_2$ = 0.3738\n\n"
      ]
    },
    {
      "cell_type": "code",
      "execution_count": null,
      "metadata": {
        "collapsed": false
      },
      "outputs": [],
      "source": [
        "SA.first_order_sobol_indices\n\n# **Plot the first order Sobol indices**\nfig2, ax2 = plot_sensitivity_index(\n    SA.first_order_sobol_indices[:, 0],\n    plot_title=\"First order Sobol indices\",\n    color=\"C0\",\n)"
      ]
    },
    {
      "cell_type": "markdown",
      "metadata": {},
      "source": [
        "**Estimated total order Sobol indices**\n\n"
      ]
    },
    {
      "cell_type": "code",
      "execution_count": null,
      "metadata": {
        "collapsed": false
      },
      "outputs": [],
      "source": [
        "SA.total_order_sobol_indices\n\n# **Plot the first and total order sensitivity indices**\nfig3, ax3 = plot_index_comparison(\n    SA.first_order_sobol_indices[:, 0],\n    SA.total_order_sobol_indices[:, 0],\n    label_1=\"First order Sobol indices\",\n    label_2=\"Total order Sobol indices\",\n    plot_title=\"First and Total order Sobol indices\",\n)"
      ]
    }
  ],
  "metadata": {
    "kernelspec": {
      "display_name": "Python 3",
      "language": "python",
      "name": "python3"
    },
    "language_info": {
      "codemirror_mode": {
        "name": "ipython",
        "version": 3
      },
      "file_extension": ".py",
      "mimetype": "text/x-python",
      "name": "python",
      "nbconvert_exporter": "python",
      "pygments_lexer": "ipython3",
      "version": "3.12.11"
    }
  },
  "nbformat": 4,
  "nbformat_minor": 0
}