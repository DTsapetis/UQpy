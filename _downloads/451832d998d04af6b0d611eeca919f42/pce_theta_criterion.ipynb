{
  "cells": [
    {
      "cell_type": "markdown",
      "metadata": {},
      "source": [
        "\n# Polynomial Chaos Expansion example: Active Learning for Multiple Surrogate Models\n\nIn this example, we use active learning for construction of optimal experimental design with respect to exploration of\nthe design domain and exploitation of given surrogate models in form of Polynomial Chaos Expansion (PCE). Active learning is based on $\\Theta$ criterion recently proposed in\n\nL. Nov\u00e1k, M. Vo\u0159echovsk\u00fd, V. Sad\u00edlek, M. D. Shields, *Variance-based adaptive sequential sampling for polynomial chaos expansion*, 637 Computer Methods in Applied Mechanics and Engineering 386 (2021) 114105. doi:10.1016/j.cma.2021.114105.\n"
      ]
    },
    {
      "cell_type": "markdown",
      "metadata": {},
      "source": [
        "We start with the necessary imports.\n\n"
      ]
    },
    {
      "cell_type": "code",
      "execution_count": null,
      "metadata": {
        "collapsed": false
      },
      "outputs": [],
      "source": [
        "import numpy as np\nimport matplotlib.pyplot as plt\nfrom UQpy.sampling.ThetaCriterionPCE import *\n\nfrom UQpy.distributions import Uniform, JointIndependent, Normal\nfrom UQpy.surrogates import *\n\nfrom UQpy.sampling import LatinHypercubeSampling\nfrom UQpy.sampling.stratified_sampling.latin_hypercube_criteria import *"
      ]
    },
    {
      "cell_type": "markdown",
      "metadata": {},
      "source": [
        "The example involves a $2D$ function with mirrored quarter-circle arc line singularities. The form of the function is give by:\n\n\\begin{align}f(\\mathbf{X})=  \\frac{1}{ \\lvert 0.3-X_1^2 - X_2^2\\rvert + \\delta}- \\frac{1}{ \\lvert 0.3-(1-X_1)^2 - (1-X_2)^2\\rvert + \\delta}, \\quad \\mathbf{X} \\sim \\mathcal{U}[0,1]^2\\end{align}\n\nwhere the strength of the singularities is controlled by the parameter $\\delta$, which we set as $\\delta=0.01$.\n\n\n\n"
      ]
    },
    {
      "cell_type": "code",
      "execution_count": null,
      "metadata": {
        "collapsed": false
      },
      "outputs": [],
      "source": [
        "def Model2DComplete(X, delta=0.01):\n    Y = Model2D1(X) + Model2D2(X)\n    return Y"
      ]
    },
    {
      "cell_type": "markdown",
      "metadata": {},
      "source": [
        "In order to show the possibilities of active learning for multiple surrogate models, we split the function into the two parts as follows:\n\n\\begin{align}f_1(\\mathbf{X})= \\begin{cases} \\frac{1}{ \\lvert 0.3-X_1^2 - X_2^2\\rvert + \\delta}-\\frac{1}{ \\lvert 0.3-(1-X_1)^2 - (1-X_2)^2\\rvert + \\delta} \\quad \\text{for} \\quad X_1<X_2\\\\ 0 \\quad \\text{otherwise} \\end{cases}\\end{align}\n\nand\n\n\\begin{align}f_2(\\mathbf{X})= \\begin{cases} \\frac{1}{ \\lvert 0.3-X_1^2 - X_2^2\\rvert + \\delta}-\\frac{1}{ \\lvert 0.3-(1-X_1)^2 - (1-X_2)^2\\rvert + \\delta} \\quad \\text{for} \\quad X_1>X_2\\\\ 0 \\quad \\text{otherwise} \\end{cases}\\end{align}\n\n"
      ]
    },
    {
      "cell_type": "code",
      "execution_count": null,
      "metadata": {
        "collapsed": false
      },
      "outputs": [],
      "source": [
        "def Model2D1(X, delta=0.01):\n    M = X[:, 0] < X[:, 1]\n    Y = 1 / (np.abs(0.3 - X[:, 0] ** 2 - X[:, 1] ** 2) + delta) - 1 / (\n                np.abs(0.3 - (1 - X[:, 0]) ** 2 - (1 - X[:, 1]) ** 2) + delta)\n    Y[M] = 0\n    return Y\n\n\ndef Model2D2(X, delta=0.01):\n    M = X[:, 0] > X[:, 1]\n    Y = 1 / (np.abs(0.3 - X[:, 0] ** 2 - X[:, 1] ** 2) + delta) - 1 / (\n                np.abs(0.3 - (1 - X[:, 0]) ** 2 - (1 - X[:, 1]) ** 2) + delta)\n    Y[M] = 0\n    return Y"
      ]
    },
    {
      "cell_type": "markdown",
      "metadata": {},
      "source": [
        "The mathematical models have independent random inputs, which are uniformly distributed in interval $[0, 1]$.\n\n"
      ]
    },
    {
      "cell_type": "code",
      "execution_count": null,
      "metadata": {
        "collapsed": false
      },
      "outputs": [],
      "source": [
        "# input distributions\ndist1 = Uniform(loc=0, scale=1)\ndist2 = Uniform(loc=0, scale=1)\n\nmarg = [dist1, dist2]\njoint = JointIndependent(marginals=marg)"
      ]
    },
    {
      "cell_type": "markdown",
      "metadata": {},
      "source": [
        "We must now select a polynomial basis. Here we opt for a total-degree (TD) basis, such that the univariate polynomials have a maximum degree equal to $P$ and all multivariate polynomial have a total-degree (sum of degrees of corresponding univariate polynomials) at most equal to $P$. The size of the basis is then given by\n\n\\begin{align}\\frac{(N+P)!}{N! P!}\\end{align}\n\nwhere $N$ is the number of random inputs (here, $N=2$).\n\n\n"
      ]
    },
    {
      "cell_type": "code",
      "execution_count": null,
      "metadata": {
        "collapsed": false
      },
      "outputs": [],
      "source": [
        "# realizations of random inputs\n# training data\n# maximum polynomial degree\nP = 10\n# construct total-degree polynomial basis and use OLS for estimation of coefficients\npolynomial_basis = TotalDegreeBasis(joint, P)"
      ]
    },
    {
      "cell_type": "markdown",
      "metadata": {},
      "source": [
        "We must now compute the PCE coefficients. For that we first need a training sample of input random variable realizations and the corresponding model outputs. These two data sets form what is also known as an ''experimental design''. In case of adaptive construction of PCE by the best model selection algorithm, size of ED is given apriori and the most suitable basis functions are adaptively selected. Here we have two surrogate models with identical training samples of input random vector and two sets of corresponding mathematical models. This ED represents small initial ED, which will be further extended by active learning algorithm.\n\n"
      ]
    },
    {
      "cell_type": "code",
      "execution_count": null,
      "metadata": {
        "collapsed": false
      },
      "outputs": [],
      "source": [
        "# number of inital traning samples\nsample_size = 15\n\n# realizations of input random vector\nxx_train = joint.rvs(sample_size)\n\n# corresponding model outputs\nyy_train1 = Model2D1(xx_train)\nyy_train2 = Model2D2(xx_train)"
      ]
    },
    {
      "cell_type": "markdown",
      "metadata": {},
      "source": [
        "We now fit the PCE coefficients by solving a regression problem. Here we opt for the :code:`np.linalg.lstsq` method, which is based on the _dgelsd_ solver of LAPACK. This original PCE class will be used for further selection of the best basis functions. Once we have created the PCE containing all basis functions generated by TD algorithm, it is possible to reduce the number of basis functions by LAR algorithm. We create sparse PCE approximations for both mathematical models as follows.\n\n"
      ]
    },
    {
      "cell_type": "code",
      "execution_count": null,
      "metadata": {
        "collapsed": false
      },
      "outputs": [],
      "source": [
        "least_squares = LeastSquareRegression()\n\n# fit model 1\npce1 = PolynomialChaosExpansion(polynomial_basis=polynomial_basis, regression_method=least_squares)\npce1.fit(xx_train, yy_train1)\npceLAR1 = polynomial_chaos.regressions.LeastAngleRegression.model_selection(pce1)\n\n# fit model 2\npce2 = PolynomialChaosExpansion(polynomial_basis=polynomial_basis, regression_method=least_squares)\npce2.fit(xx_train, yy_train2)\npceLAR2 = polynomial_chaos.regressions.LeastAngleRegression.model_selection(pce2)"
      ]
    },
    {
      "cell_type": "markdown",
      "metadata": {},
      "source": [
        "The active learning algorithm based on $\\Theta$ criterion selects the best sample from given large set of candidates coverign uniformly the whole design domain. Here we set number of samples as $n_{cand}=10^4$ and use LHS-MaxiMin for sampling, though any sampling technique can be employed.\n\n"
      ]
    },
    {
      "cell_type": "code",
      "execution_count": null,
      "metadata": {
        "collapsed": false
      },
      "outputs": [],
      "source": [
        "# number of candidates for the active learning algorithm\nn_cand = 10000\n\n# MaxiMin LHS samples uniformly covering the whole input random space\nlhs_maximin_cand = LatinHypercubeSampling(distributions=[dist1, dist2],\n                                          criterion=MaxiMin(metric=DistanceMetric.CHEBYSHEV),\n                                          nsamples=n_cand)\n\n# candidates for active learning\nXaptive = lhs_maximin_cand._samples"
      ]
    },
    {
      "cell_type": "markdown",
      "metadata": {},
      "source": [
        "Start of the active learning algorithm interatively selecting $nsamples=400$ samples one-by-one. Note that the class :code:`ThetaCriterionPCE` takes a list of surrogate models as input, here we have 2 PCEs approximated 2 mathematical models. The active learning further selects the best candidate in each run by variance-based $\\Theta$ criterion.\n\n"
      ]
    },
    {
      "cell_type": "code",
      "execution_count": null,
      "metadata": {
        "collapsed": false
      },
      "outputs": [],
      "source": [
        "# total number of added points by the active learning algorithm\nnaddedsims = 400\n\n# loading of existing ED for both PCEs\nXadapted = xx_train\nYadapted1 = yy_train1\nYadapted2 = yy_train2\n\n# adaptive algorithm and reconstruction of PCE\n\nfor i in range(0, int(naddedsims)):\n    # create ThetaCriterion class for active learning\n    ThetaSampling = ThetaCriterionPCE([pceLAR1, pceLAR2])\n\n    # find the best candidate according to given criterium (variance and distance)\n    pos = ThetaSampling.run(Xadapted, Xaptive)\n    newpointX = np.array([Xaptive[pos, :]])\n\n    newpointres1 = Model2D1(newpointX)\n    newpointres2 = Model2D2(newpointX)\n\n    # add the best candidate to experimental design\n    Xadapted = np.append(Xadapted, newpointX, axis=0)\n    Yadapted1 = np.r_[Yadapted1, newpointres1]\n    Yadapted2 = np.r_[Yadapted2, newpointres2]\n\n    # reconstruct the PCE 1\n    pce1.fit(Xadapted, Yadapted1)\n    pceLAR1 = polynomial_chaos.regressions.LeastAngleRegression.model_selection(pce1)\n\n    # reconstruct the PCE 2\n    pce2.fit(Xadapted, Yadapted2)\n    pceLAR2 = polynomial_chaos.regressions.LeastAngleRegression.model_selection(pce2)\n\n    if i % 10 == 0:\n        print('\\nNumber of added simulations:', i)\n\n# plot final ED\nfig, ax_nstd = plt.subplots(figsize=(6, 6))\nax_nstd.plot(Xadapted[:, 0], Xadapted[:, 1], 'ro', label='Adapted ED')\nax_nstd.plot(xx_train[:, 0], xx_train[:, 1], 'bo', label='Original ED')\nax_nstd.set_ylabel(r'$X_2$')\nax_nstd.set_xlabel(r'$X_1$')\nax_nstd.legend(loc='upper left');"
      ]
    },
    {
      "cell_type": "markdown",
      "metadata": {},
      "source": [
        "For a comparison, we construct also a surrogate model of the full original mathematical model and further run active learning similarly as for the previous reduced models. Note that the final ED for this complete mathematical model should be almost identical as in the previous case with the two PCEs approximating reduced models.\n\n"
      ]
    },
    {
      "cell_type": "code",
      "execution_count": null,
      "metadata": {
        "collapsed": false
      },
      "outputs": [],
      "source": [
        "yy_train3 = Model2DComplete(xx_train)\npce3 = PolynomialChaosExpansion(polynomial_basis=polynomial_basis, regression_method=least_squares)\npce3.fit(xx_train, yy_train3)\npceLAR3 = polynomial_chaos.regressions.LeastAngleRegression.model_selection(pce3)\n\n\n\nXadapted3 = xx_train\nYadapted3 = yy_train3\n\n# adaptive algorithm and reconstruction of PCE\nfor i in range(0, int(400)):\n    # create ThetaCriterion class for active learning\n    ThetaSampling_complete = ThetaCriterionPCE([pceLAR3])\n\n    # find the best candidate according to given criterium (variance and distance)\n    pos = ThetaSampling_complete.run(Xadapted3, Xaptive)\n    newpointX = np.array([Xaptive[pos, :]])\n    newpointres = Model2DComplete(newpointX)\n\n    # add the best candidate to experimental design\n    Xadapted3 = np.append(Xadapted3, newpointX, axis=0)\n    Yadapted3 = np.r_[Yadapted3, newpointres]\n\n    pce3.fit(Xadapted3, Yadapted3)\n    pceLAR3 = polynomial_chaos.regressions.LeastAngleRegression.model_selection(pce3)\n\n    if i % 10 == 0:\n        print('\\nNumber of added simulations:', i)\n\n# plot final ED\nfig, ax_nstd = plt.subplots(figsize=(6, 6))\nax_nstd.plot(Xadapted3[:, 0], Xadapted3[:, 1], 'ro', label='Adapted ED')\nax_nstd.plot(xx_train[:, 0], xx_train[:, 1], 'bo', label='Original ED')\nax_nstd.set_ylabel(r'$X_2$')\nax_nstd.set_xlabel(r'$X_1$')\nax_nstd.legend(loc='upper left');"
      ]
    }
  ],
  "metadata": {
    "kernelspec": {
      "display_name": "Python 3",
      "language": "python",
      "name": "python3"
    },
    "language_info": {
      "codemirror_mode": {
        "name": "ipython",
        "version": 3
      },
      "file_extension": ".py",
      "mimetype": "text/x-python",
      "name": "python",
      "nbconvert_exporter": "python",
      "pygments_lexer": "ipython3",
      "version": "3.12.11"
    }
  },
  "nbformat": 4,
  "nbformat_minor": 0
}