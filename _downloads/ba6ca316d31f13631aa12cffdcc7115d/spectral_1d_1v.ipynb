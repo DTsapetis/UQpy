{
  "cells": [
    {
      "cell_type": "markdown",
      "metadata": {},
      "source": [
        "\n# One-dimensional & one variable\n\nIn this example, the Spectral Representation Method is used to generate stochastic processes from a prescribed Power\nSpectrum. This example illustrates how to use the SRM class for a one dimensional and one variable case and compare the\nstatistics of the generated stochastic processes with the expected values.\n"
      ]
    },
    {
      "cell_type": "markdown",
      "metadata": {},
      "source": [
        "Import the necessary libraries. Here we import standard libraries such as numpy and matplotlib, but also need to\nimport the SRM class from the StochasticProcesses module of UQpy.\n\n"
      ]
    },
    {
      "cell_type": "code",
      "execution_count": null,
      "metadata": {
        "collapsed": false
      },
      "outputs": [],
      "source": [
        "from UQpy.stochastic_process import SpectralRepresentation\nimport numpy as np\nimport matplotlib.pyplot as plt\nplt.style.use('seaborn')"
      ]
    },
    {
      "cell_type": "markdown",
      "metadata": {},
      "source": [
        "The input parameters necessary for the generation of the stochastic processes are given below:\n\n"
      ]
    },
    {
      "cell_type": "code",
      "execution_count": null,
      "metadata": {
        "collapsed": false
      },
      "outputs": [],
      "source": [
        "n_sim = 10000  # Num of samples\n\nn = 1 # Num of dimensions\n\nm = 1 # Num of variables\n\nT = 100  # Time(1 / T = dw)\nnt = 256  # Num.of Discretized Time\nF = 1 / T * nt / 2  # Frequency.(Hz)\nnw = 128  # Num of Discretized Freq.\n\n# # Generation of Input Data(Stationary)\ndt = T / nt\nt = np.linspace(0, T - dt, nt)\ndw = F / nw\nw = np.linspace(0, F - dw, nw)"
      ]
    },
    {
      "cell_type": "markdown",
      "metadata": {},
      "source": [
        "Make sure that the input parameters are in order to prevent aliasing.\n\n"
      ]
    },
    {
      "cell_type": "code",
      "execution_count": null,
      "metadata": {
        "collapsed": false
      },
      "outputs": [],
      "source": [
        "t_u = 2*np.pi/2/F\n\nif dt>t_u:\n    print('Error')"
      ]
    },
    {
      "cell_type": "markdown",
      "metadata": {},
      "source": [
        "Defining the Power Spectral Density Function.\n\n"
      ]
    },
    {
      "cell_type": "code",
      "execution_count": null,
      "metadata": {
        "collapsed": false
      },
      "outputs": [],
      "source": [
        "S = 125 / 4 * w ** 2 * np.exp(-5 * w)\n\nSRM_object = SpectralRepresentation(n_sim, S, dt, dw, nt, nw)\nsamples = SRM_object.samples\n\nfig, ax = plt.subplots()\nplt.title('Realisation of the Spectral Representation Method')\nplt.plot(t, samples[0, 0])\nax.yaxis.grid(True)\nax.xaxis.grid(True)\nplt.show()\n\nprint('The mean of the samples is ', np.mean(samples), 'whereas the expected mean is 0.000')\nprint('The variance of the samples is ', np.var(samples), 'whereas the expected variance is ', np.sum(S)*dw*2)"
      ]
    }
  ],
  "metadata": {
    "kernelspec": {
      "display_name": "Python 3",
      "language": "python",
      "name": "python3"
    },
    "language_info": {
      "codemirror_mode": {
        "name": "ipython",
        "version": 3
      },
      "file_extension": ".py",
      "mimetype": "text/x-python",
      "name": "python",
      "nbconvert_exporter": "python",
      "pygments_lexer": "ipython3",
      "version": "3.12.11"
    }
  },
  "nbformat": 4,
  "nbformat_minor": 0
}