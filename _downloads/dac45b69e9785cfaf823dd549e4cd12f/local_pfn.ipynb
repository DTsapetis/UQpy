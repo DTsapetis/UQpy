{
  "cells": [
    {
      "cell_type": "markdown",
      "metadata": {},
      "source": [
        "\n# Auxiliary file\n"
      ]
    },
    {
      "cell_type": "code",
      "execution_count": null,
      "metadata": {
        "collapsed": false
      },
      "outputs": [],
      "source": [
        "import numpy as np\n\n\ndef example1(samples=None):\n    g = np.zeros(samples.shape[0])\n    for i in range(samples.shape[0]):\n        R = samples[i, 0]\n        S = samples[i, 1]\n        g[i] = R - S\n    return g\n\n\ndef example2(samples=None):\n    import numpy as np\n    d = 2\n    beta = 3.0902\n    g = np.zeros(samples.shape[0])\n    for i in range(samples.shape[0]):\n        g[i] = -1 / np.sqrt(d) * (samples[i, 0] + samples[i, 1]) + beta\n    return g\n\n\ndef example3(samples=None):\n    g = np.zeros(samples.shape[0])\n    for i in range(samples.shape[0]):\n        g[i] = 6.2 * samples[i, 0] - samples[i, 1] * samples[i, 2] ** 2\n    return g"
      ]
    }
  ],
  "metadata": {
    "kernelspec": {
      "display_name": "Python 3",
      "language": "python",
      "name": "python3"
    },
    "language_info": {
      "codemirror_mode": {
        "name": "ipython",
        "version": 3
      },
      "file_extension": ".py",
      "mimetype": "text/x-python",
      "name": "python",
      "nbconvert_exporter": "python",
      "pygments_lexer": "ipython3",
      "version": "3.12.11"
    }
  },
  "nbformat": 4,
  "nbformat_minor": 0
}