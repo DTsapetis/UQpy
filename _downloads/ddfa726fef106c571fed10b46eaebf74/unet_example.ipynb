{
  "cells": [
    {
      "cell_type": "markdown",
      "metadata": {},
      "source": [
        "\n# Learning a Stress Field with U-Nets\n"
      ]
    },
    {
      "cell_type": "markdown",
      "metadata": {},
      "source": [
        "In this example we will approximate the mapping from one image to another using a U-Net.\nThe architecture in this example is based on the work of Pasparakis et al. :cite:`pasparakis2024bayesian`\nThe data for this example was provided by Bhaduri et al. :cite:`bhaduri2022unetdata`\nThis example\n\n1. Loads the training and validation data\n2. Defines and trains the U-net\n3. Visualizes the results\n\nFirst, import the necessary modules.\n\n"
      ]
    },
    {
      "cell_type": "code",
      "execution_count": null,
      "metadata": {
        "collapsed": false
      },
      "outputs": [],
      "source": [
        "import logging\nimport matplotlib.pyplot as plt\nfrom matplotlib import colors\nimport torch\nfrom torch.utils.data import DataLoader, Dataset, random_split\nimport UQpy.scientific_machine_learning as sml\n\nlogger = logging.getLogger(\"UQpy\")\nlogger.setLevel(logging.INFO)"
      ]
    },
    {
      "cell_type": "markdown",
      "metadata": {},
      "source": [
        "**Define the training and testing data**\n\nBelow we define a Dataset that loads the data saved as NumPy arrays and converts them to PyTorch tensors.\nWe plot the input-output pairs in the training data to get a sense for what our data looks like.\n\n"
      ]
    },
    {
      "cell_type": "code",
      "execution_count": null,
      "metadata": {
        "collapsed": false
      },
      "outputs": [],
      "source": [
        "class FiberDataset(Dataset):\n    def __init__(\n        self,\n        microstructure_filename: str = \"microstructure.pt\",\n        mask_filename: str = \"masks.pt\",\n    ):\n        \"\"\"Construct a Dataset to train a U-net\n\n        :param microstructure_filename: File containing a torch tensor of shape :math:`(N, C_\\text{in}, H, W)`\n        :param mask_filename: File containing a torch tensor of shape :math:`(N, C_\\text{out}, H, W)`\n        \"\"\"\n        self.x = torch.load(microstructure_filename)\n        self.y = torch.load(mask_filename)\n\n    def __len__(self):\n        return len(self.x)\n\n    def __getitem__(self, idx):\n        return self.x[idx], self.y[idx]\n\n\ndataset = FiberDataset()\ntrain_dataset, val_dataset = random_split(\n    dataset, [40, 10], generator=torch.Generator().manual_seed(0)\n)\ntrain_loader = DataLoader(train_dataset, batch_size=16, shuffle=True)\nval_loader = DataLoader(val_dataset)\n\n# Plot input-output pair\nfig, (ax0, ax1) = plt.subplots(ncols=2)\nfig.suptitle(\"U-net Training Data\")\nax0.imshow(dataset.x[0, 0])\nax0.set_title(\"Input: Microstructure\")\nax1.imshow(dataset.y[0, 0])\nax1.set_title(\"Output: Mask\")\nfig.tight_layout()"
      ]
    },
    {
      "cell_type": "markdown",
      "metadata": {},
      "source": [
        "**Train the U-net**\n\nWith our data ready, we can define and train the U-net!\nUQpy's U-net class assumes that we are working with 2D image data, so we just need to pass a list of filter sizes\nto the class, along with our desired kernel size and number of output channels.\n\n"
      ]
    },
    {
      "cell_type": "code",
      "execution_count": null,
      "metadata": {
        "collapsed": false
      },
      "outputs": [],
      "source": [
        "n_filters = [1, 16, 32, 64, 128]\nkernel_size = 3\nout_channels = 1\nunet = sml.Unet(n_filters, kernel_size, out_channels)\n\noptimizer = torch.optim.Adam(unet.parameters(), lr=1e-3)\nscheduler = torch.optim.lr_scheduler.StepLR(optimizer, step_size=10, gamma=0.5)\ntrainer = sml.Trainer(unet, optimizer, scheduler=scheduler)\ntrainer.run(train_data=train_loader, test_data=val_loader, epochs=50)"
      ]
    },
    {
      "cell_type": "markdown",
      "metadata": {},
      "source": [
        "**Visualize the results**\n\nFinally, we plot the loss history and the predictions made by the optimized network.\n\n"
      ]
    },
    {
      "cell_type": "code",
      "execution_count": null,
      "metadata": {
        "collapsed": false
      },
      "outputs": [],
      "source": [
        "fig, ax = plt.subplots()\nax.semilogy(trainer.history[\"train_loss\"], label=\"Train Loss\")\nax.semilogy(trainer.history[\"test_loss\"], label=\"Validation Loss\")\nax.set_title(\"U-Net Training History\")\nax.set(xlabel=\"Epoch\", ylabel=\"MSE Loss\")\nax.legend()\nfig.tight_layout()\n\ni = train_dataset.indices[0]\nx = dataset.x[i:i+1]\ny = dataset.y[i:i+1].squeeze()\nwith torch.no_grad():\n    prediction = unet(x).squeeze()\nerror = prediction - y\nfig, (ax0, ax1, ax2) = plt.subplots(ncols=3)\nax0.imshow(prediction)\nax1.imshow(y)\nax2.imshow((prediction - y).squeeze(), cmap=\"bwr\", norm=colors.TwoSlopeNorm(vcenter=0))\nax0.set_title(\"Prediction\")\nax1.set_title(\"Truth\")\nax2.set_title(\"Error\")\nfig.tight_layout()\n\nplt.show()"
      ]
    }
  ],
  "metadata": {
    "kernelspec": {
      "display_name": "Python 3",
      "language": "python",
      "name": "python3"
    },
    "language_info": {
      "codemirror_mode": {
        "name": "ipython",
        "version": 3
      },
      "file_extension": ".py",
      "mimetype": "text/x-python",
      "name": "python",
      "nbconvert_exporter": "python",
      "pygments_lexer": "ipython3",
      "version": "3.12.11"
    }
  },
  "nbformat": 4,
  "nbformat_minor": 0
}