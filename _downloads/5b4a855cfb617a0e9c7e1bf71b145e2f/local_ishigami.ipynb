{
  "cells": [
    {
      "cell_type": "markdown",
      "metadata": {},
      "source": [
        "\n# Auxiliary file\n"
      ]
    },
    {
      "cell_type": "code",
      "execution_count": null,
      "metadata": {
        "collapsed": false
      },
      "outputs": [],
      "source": [
        "import numpy as np\n\n\ndef evaluate(X, params=[7, 0.1]):\n    \"\"\"Non-monotonic Ishigami-Homma three parameter test function\"\"\"\n\n    a = params[0]\n    b = params[1]\n\n    Y = (\n        np.sin(X[:, 0])\n        + a * np.power(np.sin(X[:, 1]), 2)\n        + b * np.power(X[:, 2], 4) * np.sin(X[:, 0])\n    )\n\n    return Y"
      ]
    }
  ],
  "metadata": {
    "kernelspec": {
      "display_name": "Python 3",
      "language": "python",
      "name": "python3"
    },
    "language_info": {
      "codemirror_mode": {
        "name": "ipython",
        "version": 3
      },
      "file_extension": ".py",
      "mimetype": "text/x-python",
      "name": "python",
      "nbconvert_exporter": "python",
      "pygments_lexer": "ipython3",
      "version": "3.12.11"
    }
  },
  "nbformat": 4,
  "nbformat_minor": 0
}