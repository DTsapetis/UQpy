{
  "cells": [
    {
      "cell_type": "markdown",
      "metadata": {},
      "source": [
        "\n# Parameter estimation using MCMC - Probability Model\n\nIn the following we learn the mean and covariance of a univariate gaussian distribution from data.\n"
      ]
    },
    {
      "cell_type": "markdown",
      "metadata": {},
      "source": [
        "Initially we have to import the necessary modules.\n\n"
      ]
    },
    {
      "cell_type": "code",
      "execution_count": null,
      "metadata": {
        "collapsed": false
      },
      "outputs": [],
      "source": [
        "import numpy as np\nimport matplotlib.pyplot as plt\n\nfrom UQpy.inference import DistributionModel, BayesParameterEstimation\nfrom sklearn.neighbors import KernelDensity  # for the plots\nfrom UQpy.distributions import JointIndependent, Uniform, Lognormal, Normal\n\ndef pdf_from_kde(domain, samples1d):\n    bandwidth = 1.06 * np.std(samples1d) * samples1d.size ** (-1 / 5)\n    kde = KernelDensity(bandwidth=bandwidth).fit(samples1d.reshape((-1, 1)))\n    log_dens = kde.score_samples(domain)\n    return np.exp(log_dens)"
      ]
    },
    {
      "cell_type": "markdown",
      "metadata": {},
      "source": [
        "First, for the sake of this example, we generate fake data from a gaussian distribution with mean 10 and standard\ndeviation 1.\n\n"
      ]
    },
    {
      "cell_type": "code",
      "execution_count": null,
      "metadata": {
        "collapsed": false
      },
      "outputs": [],
      "source": [
        "np.random.seed(100)\nmu, sigma = 10, 1  # true mean and standard deviation\ndata_1 = np.random.normal(mu, sigma, 100).reshape((-1, 1))\nnp.random.seed()\n\n# plot the data and true distribution\ncount, bins, ignored = plt.hist(data_1, 30, density=True)\nplt.plot(bins, 1 / (sigma * np.sqrt(2 * np.pi)) * np.exp(- (bins - mu) ** 2 / (2 * sigma ** 2)),\n         linewidth=2, color='r')\nplt.title('data as histogram and true distribution to be estimated')\nplt.show()"
      ]
    },
    {
      "cell_type": "markdown",
      "metadata": {},
      "source": [
        "In a Bayesian setting, the definition of a prior pdf is a key point. The prior for the parameters must be defined in\nthe model. Note that if no prior is given, an improper, uninformative, prior is chosen, $p(\\theta)=1$ for all\n$\\theta$.\n\n"
      ]
    },
    {
      "cell_type": "code",
      "execution_count": null,
      "metadata": {
        "collapsed": false
      },
      "outputs": [],
      "source": [
        "p0 = Uniform(loc=0., scale=15)\np1 = Lognormal(s=1., loc=0., scale=1.)\nprior = JointIndependent(marginals=[p0, p1])\n\ncandidate_model = DistributionModel(distributions=Normal(loc=None, scale=None), n_parameters=2, prior=prior)\n\n# Learn the unknown parameters using MCMC\nfrom UQpy.sampling import MetropolisHastings\n\nmh1 = MetropolisHastings(jump=10, burn_length=10, seed=[1.0, 0.2], random_state=123)\n\nbayes_estimator = BayesParameterEstimation(inference_model=candidate_model,\n                                           data=data_1,\n                                           nsamples=500,\n                                           sampling_class=mh1)\n\n# print results\ns = bayes_estimator.sampler.samples\nplt.scatter(s[:, 0], s[:, 1])\nplt.scatter(10, 1, marker='+', label='true parameter')\nplt.title('MCMC samples')\nplt.legend()\nplt.show()\n\nfig, ax = plt.subplots(1, 2, figsize=(10, 4))\n\ndomain = np.linspace(0, 15, 200)[:, np.newaxis]\npdf = pdf_from_kde(domain, s[:, 0])\nax[0].plot(domain, p0.pdf(domain), label='prior')\nax[0].plot(domain, pdf, label='posterior')\nax[0].set_title('posterior pdf of theta=mu')\nax[0].legend()\n\ndomain = np.linspace(0, 2, 200)[:, np.newaxis]\npdf = pdf_from_kde(domain, s[:, 1])\nax[1].plot(domain, p1.pdf(domain), label='prior')\nax[1].plot(domain, pdf, label='posterior')\nax[1].set_title('posterior pdf of theta=sigma')\nax[1].legend()\n\nplt.show()"
      ]
    }
  ],
  "metadata": {
    "kernelspec": {
      "display_name": "Python 3",
      "language": "python",
      "name": "python3"
    },
    "language_info": {
      "codemirror_mode": {
        "name": "ipython",
        "version": 3
      },
      "file_extension": ".py",
      "mimetype": "text/x-python",
      "name": "python",
      "nbconvert_exporter": "python",
      "pygments_lexer": "ipython3",
      "version": "3.12.11"
    }
  },
  "nbformat": 4,
  "nbformat_minor": 0
}