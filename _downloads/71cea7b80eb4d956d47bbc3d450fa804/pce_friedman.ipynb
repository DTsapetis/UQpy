{
  "cells": [
    {
      "cell_type": "markdown",
      "metadata": {},
      "source": [
        "\n# Friedman function (5 random inputs, scalar output)\n\nIn this example, PCE is used to generate a surrogate model for a given set of 5D data.\n\n## Friedman function\n\n\\begin{align}f(x) = 10 sin(\\pi x_1x_2) + 20(x_3 - 0.5)^2 + 10x_4 + 5x_5\\end{align}\n\n**Description:**  Dimensions: 5\n\n**Input Domain:**  This function is evaluated on the hypercube $x_i \\in [0,1]$ for all i = 1, \u2026, 5.\n\n**Reference:**  Friedman, J. H. (1991). Multivariate adaptive regression splines. The annals of statistics, 19(1), 1-67.\n"
      ]
    },
    {
      "cell_type": "markdown",
      "metadata": {},
      "source": [
        "Import necessary libraries.\n\n"
      ]
    },
    {
      "cell_type": "code",
      "execution_count": null,
      "metadata": {
        "collapsed": false
      },
      "outputs": [],
      "source": [
        "import numpy as np\nimport matplotlib.pyplot as plt\nfrom UQpy.distributions import Uniform, JointIndependent\nfrom UQpy.surrogates import *"
      ]
    },
    {
      "cell_type": "markdown",
      "metadata": {},
      "source": [
        "Define the function.\n\n"
      ]
    },
    {
      "cell_type": "code",
      "execution_count": null,
      "metadata": {
        "collapsed": false
      },
      "outputs": [],
      "source": [
        "def function(x):\n    return 10*np.sin(np.pi*x[:,0]*x[:,1]) + 20*(x[:,2]-0.5)**2 + 10*x[:,3] + 5*x[:,4]"
      ]
    },
    {
      "cell_type": "markdown",
      "metadata": {},
      "source": [
        "Create a distribution object, generate samples and evaluate the function at the samples.\n\n"
      ]
    },
    {
      "cell_type": "code",
      "execution_count": null,
      "metadata": {
        "collapsed": false
      },
      "outputs": [],
      "source": [
        "np.random.seed(1)\n\ndist = Uniform(loc=0, scale=1)\n\nmarg = [dist]*5\njoint = JointIndependent(marginals=marg)\n\nn_samples = 200\nx = joint.rvs(n_samples)\ny = function(x)"
      ]
    },
    {
      "cell_type": "markdown",
      "metadata": {},
      "source": [
        "Create an object from the PCE class. Then compute PCE coefficients using least squares regression.\n\n"
      ]
    },
    {
      "cell_type": "code",
      "execution_count": null,
      "metadata": {
        "collapsed": false
      },
      "outputs": [],
      "source": [
        "max_degree = 3\n\npolynomial_basis = TotalDegreeBasis(joint, max_degree)\nleast_squares = LeastSquareRegression()\npce = PolynomialChaosExpansion(polynomial_basis=polynomial_basis, regression_method=least_squares)\npce.fit(x,y)"
      ]
    },
    {
      "cell_type": "markdown",
      "metadata": {},
      "source": [
        "Compute PCE coefficients using Lasso regression.\n\n"
      ]
    },
    {
      "cell_type": "code",
      "execution_count": null,
      "metadata": {
        "collapsed": false
      },
      "outputs": [],
      "source": [
        "polynomial_basis = TotalDegreeBasis(joint, max_degree)\nlasso = LassoRegression()\npce2 = PolynomialChaosExpansion(polynomial_basis=polynomial_basis, regression_method=lasso)\npce2.fit(x,y)"
      ]
    },
    {
      "cell_type": "markdown",
      "metadata": {},
      "source": [
        "Compute PCE coefficients using Ridge regression.\n\n"
      ]
    },
    {
      "cell_type": "code",
      "execution_count": null,
      "metadata": {
        "collapsed": false
      },
      "outputs": [],
      "source": [
        "polynomial_basis = TotalDegreeBasis(joint, max_degree)\nridge = RidgeRegression()\npce3 = PolynomialChaosExpansion(polynomial_basis=polynomial_basis, regression_method=ridge)\npce3.fit(x,y)"
      ]
    },
    {
      "cell_type": "markdown",
      "metadata": {},
      "source": [
        "## Error Estimation\nValidation error.\n\n"
      ]
    },
    {
      "cell_type": "code",
      "execution_count": null,
      "metadata": {
        "collapsed": false
      },
      "outputs": [],
      "source": [
        "n_samples = 100\nx_val = joint.rvs(n_samples)\ny_val = function(x_val)\n\ny_pce = pce.predict(x_val).flatten()\ny_pce2 = pce2.predict(x_val).flatten()\ny_pce3 = pce3.predict(x_val).flatten()\n\nerror = np.sum(np.abs(y_pce - y_val)/np.abs(y_val))/n_samples\nerror2 = np.sum(np.abs(y_pce2 - y_val)/np.abs(y_val))/n_samples\nerror3 = np.sum(np.abs(y_pce3 - y_val)/np.abs(y_val))/n_samples\n\nprint('Validation error, LSTSQ-PCE:', error)\nprint('Validation error, LASSO-PCE:', error2)\nprint('Validation error, Ridge-PCE:', error3)"
      ]
    },
    {
      "cell_type": "markdown",
      "metadata": {},
      "source": [
        "## Moment Estimation\nReturns mean and variance of the PCE surrogate.\n\n"
      ]
    },
    {
      "cell_type": "code",
      "execution_count": null,
      "metadata": {
        "collapsed": false
      },
      "outputs": [],
      "source": [
        "n_mc = 1000000\nx_mc = joint.rvs(n_mc)\ny_mc = function(x_mc)\nmean_mc = np.mean(y_mc)\nvar_mc = np.var(y_mc)\n\nprint('Moments from least squares regression :', pce.get_moments())\nprint('Moments from LASSO regression :', pce2.get_moments())\nprint('Moments from Ridge regression :', pce3.get_moments())\nprint('Moments from MC integration: ', mean_mc, var_mc)"
      ]
    }
  ],
  "metadata": {
    "kernelspec": {
      "display_name": "Python 3",
      "language": "python",
      "name": "python3"
    },
    "language_info": {
      "codemirror_mode": {
        "name": "ipython",
        "version": 3
      },
      "file_extension": ".py",
      "mimetype": "text/x-python",
      "name": "python",
      "nbconvert_exporter": "python",
      "pygments_lexer": "ipython3",
      "version": "3.12.11"
    }
  },
  "nbformat": 4,
  "nbformat_minor": 0
}