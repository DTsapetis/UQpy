{
  "cells": [
    {
      "cell_type": "markdown",
      "metadata": {},
      "source": [
        "\n# Voronoi Stratified Sampling\n\nIn this example, the stratified sampling method is employed to generate samples from an exponential distribution using\nVoronoi stratification.\n"
      ]
    },
    {
      "cell_type": "markdown",
      "metadata": {},
      "source": [
        "Import the necessary libraries. Here we import standard libraries such as numpy and matplotlib, but also need to\nimport the :class:`.TrueStratifiedSampling` class from :py:mod:`UQpy.sampling`.\n\n"
      ]
    },
    {
      "cell_type": "code",
      "execution_count": null,
      "metadata": {
        "collapsed": false
      },
      "outputs": [],
      "source": [
        "from UQpy.sampling.stratified_sampling.TrueStratifiedSampling import TrueStratifiedSampling\nfrom UQpy.sampling.stratified_sampling.strata import VoronoiStrata\nfrom UQpy.distributions import Exponential\nimport matplotlib.pyplot as plt\nfrom scipy.spatial import voronoi_plot_2d"
      ]
    },
    {
      "cell_type": "markdown",
      "metadata": {},
      "source": [
        "Run :class:`.TrueStratifiedSampling` for 25 samples.\n\n- 2 dimensions\n- Five strata in each dimension\n- Exponential distribution with location parameter = 1 and scale parameter = 1.\n\nCreate a distribution object.\n\n"
      ]
    },
    {
      "cell_type": "code",
      "execution_count": null,
      "metadata": {
        "collapsed": false
      },
      "outputs": [],
      "source": [
        "marginals = [Exponential(loc=1., scale=1.), Exponential(loc=1., scale=1.)]"
      ]
    },
    {
      "cell_type": "markdown",
      "metadata": {},
      "source": [
        "## Equal number of samples in each stratum\nCreate strata object using :class:`.VoronoiStrata` class.\n\n"
      ]
    },
    {
      "cell_type": "code",
      "execution_count": null,
      "metadata": {
        "collapsed": false
      },
      "outputs": [],
      "source": [
        "strata_obj = VoronoiStrata(seeds_number=8, dimension=2)\nsts_vor_obj = TrueStratifiedSampling(distributions=marginals, strata_object=strata_obj,  random_state=3)"
      ]
    },
    {
      "cell_type": "markdown",
      "metadata": {},
      "source": [
        "Figure shows the stratification of domain using randomly generated seed points\n\n"
      ]
    },
    {
      "cell_type": "code",
      "execution_count": null,
      "metadata": {
        "collapsed": false
      },
      "outputs": [],
      "source": [
        "strata_obj\n\nvoronoi_plot_2d(strata_obj.voronoi)\nplt.title('Stratified Sample - U(0,1)')\nplt.xlim([0, 1])\nplt.ylim([0, 1])\nplt.show()"
      ]
    },
    {
      "cell_type": "markdown",
      "metadata": {},
      "source": [
        "Run stratified sampling\n\n"
      ]
    },
    {
      "cell_type": "code",
      "execution_count": null,
      "metadata": {
        "collapsed": false
      },
      "outputs": [],
      "source": [
        "sts_vor_obj.run(nsamples_per_stratum=3)"
      ]
    },
    {
      "cell_type": "markdown",
      "metadata": {},
      "source": [
        "Plot the resulting stratified samples and the boundaries of the strata in the $U(0,1)$ space.\n\n"
      ]
    },
    {
      "cell_type": "code",
      "execution_count": null,
      "metadata": {
        "collapsed": false
      },
      "outputs": [],
      "source": [
        "voronoi_plot_2d(strata_obj.voronoi)\nplt.title('Stratified Sample - U(0,1)')\nplt.plot(sts_vor_obj.samplesU01[:, 0], sts_vor_obj.samplesU01[:, 1], 'dm')\nplt.xlim([0, 1])\nplt.ylim([0, 1])\nplt.show()\n\nsts_vor_obj.weights"
      ]
    },
    {
      "cell_type": "markdown",
      "metadata": {},
      "source": [
        "## Proportional Sampling\n:class:`.TrueStratifiedSampling` class can generate samples proportional to volume of each stratum.\n\n"
      ]
    },
    {
      "cell_type": "code",
      "execution_count": null,
      "metadata": {
        "collapsed": false
      },
      "outputs": [],
      "source": [
        "sts_vor_obj1 = TrueStratifiedSampling(distributions=marginals, strata_object=strata_obj, random_state=1)\nsts_vor_obj1.run(nsamples=10)"
      ]
    },
    {
      "cell_type": "markdown",
      "metadata": {},
      "source": [
        "It can be noticed that new sample in each stratum is proportional to volume\n\n"
      ]
    },
    {
      "cell_type": "code",
      "execution_count": null,
      "metadata": {
        "collapsed": false
      },
      "outputs": [],
      "source": [
        "print('Volume: ', sts_vor_obj1.strata_object.volume)\nprint('Number of samples in each stratum: ', sts_vor_obj1.nsamples_per_stratum)\n\n\nvoronoi_plot_2d(strata_obj.voronoi)\nplt.title('Stratified Sample - U(0,1)')\nplt.plot(sts_vor_obj1.samplesU01[:, 0], sts_vor_obj1.samplesU01[:, 1], 'dm')\nplt.xlim([0, 1])\nplt.ylim([0, 1])\nplt.show()"
      ]
    }
  ],
  "metadata": {
    "kernelspec": {
      "display_name": "Python 3",
      "language": "python",
      "name": "python3"
    },
    "language_info": {
      "codemirror_mode": {
        "name": "ipython",
        "version": 3
      },
      "file_extension": ".py",
      "mimetype": "text/x-python",
      "name": "python",
      "nbconvert_exporter": "python",
      "pygments_lexer": "ipython3",
      "version": "3.12.11"
    }
  },
  "nbformat": 4,
  "nbformat_minor": 0
}