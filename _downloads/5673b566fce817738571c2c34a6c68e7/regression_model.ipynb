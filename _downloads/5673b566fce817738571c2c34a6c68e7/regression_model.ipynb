{
  "cells": [
    {
      "cell_type": "markdown",
      "metadata": {},
      "source": [
        "\n# Regression model\n\nHere a model is defined that is of the form\n\n\\begin{align}y=f(\u03b8) + \\epsilon\\end{align}\n\nwhere f consists in running :class:`.RunModel`. In particular, here\n$f(\u03b8)=\u03b8_{0} x + \u03b8_{1} x^{2}$ is a\nregression model.\n"
      ]
    },
    {
      "cell_type": "markdown",
      "metadata": {},
      "source": [
        "Initially we have to import the necessary modules.\n\n"
      ]
    },
    {
      "cell_type": "code",
      "execution_count": null,
      "metadata": {
        "collapsed": false
      },
      "outputs": [],
      "source": [
        "import shutil\n\nimport numpy as np\n\nfrom UQpy import PythonModel\nfrom UQpy.inference import ComputationalModel, MLE\nfrom UQpy.distributions import Normal\nfrom UQpy.inference import MinimizeOptimizer\nfrom UQpy.run_model.RunModel import RunModel"
      ]
    },
    {
      "cell_type": "markdown",
      "metadata": {},
      "source": [
        "First we generate synthetic data, and add some noise to it.\n\n"
      ]
    },
    {
      "cell_type": "code",
      "execution_count": null,
      "metadata": {
        "collapsed": false
      },
      "outputs": [],
      "source": [
        "# Generate data\n\nparam_true = np.array([1.0, 2.0]).reshape((1, -1))\nprint('Shape of true parameter vector: {}'.format(param_true.shape))\n\nmodel = PythonModel(model_script='local_pfn_models.py', model_object_name='model_quadratic', delete_files=True,\n                    var_names=['theta_0', 'theta_1'])\nh_func = RunModel(model=model)\nh_func.run(samples=param_true)\n\n# Add noise\nerror_covariance = 1.\ndata_clean = np.array(h_func.qoi_list[0])\nnoise = Normal(loc=0., scale=np.sqrt(error_covariance)).rvs(nsamples=50).reshape((50,))\ndata_3 = data_clean + noise\nprint('Shape of data: {}'.format(data_3.shape))"
      ]
    },
    {
      "cell_type": "markdown",
      "metadata": {},
      "source": [
        "Then we create an instance of the Model class, using model_type='python', and we perform maximum likelihood estimation\nof the two parameters.\n\n"
      ]
    },
    {
      "cell_type": "code",
      "execution_count": null,
      "metadata": {
        "collapsed": false
      },
      "outputs": [],
      "source": [
        "candidate_model = ComputationalModel(n_parameters=2, runmodel_object=h_func, error_covariance=error_covariance)\n\noptimizer = MinimizeOptimizer(method='nelder-mead')\nml_estimator = MLE(inference_model=candidate_model, data=data_3, n_optimizations=1)\nprint('fitted parameters: theta_0={0:.3f} (true=1.), and theta_1={1:.3f} (true=2.)'.format(\n    ml_estimator.mle[0], ml_estimator.mle[1]))"
      ]
    }
  ],
  "metadata": {
    "kernelspec": {
      "display_name": "Python 3",
      "language": "python",
      "name": "python3"
    },
    "language_info": {
      "codemirror_mode": {
        "name": "ipython",
        "version": 3
      },
      "file_extension": ".py",
      "mimetype": "text/x-python",
      "name": "python",
      "nbconvert_exporter": "python",
      "pygments_lexer": "ipython3",
      "version": "3.12.11"
    }
  },
  "nbformat": 4,
  "nbformat_minor": 0
}